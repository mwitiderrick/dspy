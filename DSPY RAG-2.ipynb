{
 "cells": [
  {
   "cell_type": "code",
   "execution_count": 1,
   "id": "6e1f1e48-9f44-454f-bad4-a8ed1e3f4738",
   "metadata": {},
   "outputs": [],
   "source": [
    "import dspy\n",
    "import os\n",
    "# from dotenv import load_dotenv\n",
    "import requests\n",
    "# load_dotenv()\n",
    "from dspy.retrieve.chromadb_rm import ChromadbRM\n",
    "import os\n",
    "import openai\n",
    "from chromadb.utils.embedding_functions import OpenAIEmbeddingFunction\n",
    "import chromadb\n",
    "\n",
    "os.environ[\"OPENAI_API_KEY\"] = \"sk-\"\n",
    "\n",
    "llm = dspy.OpenAI(\n",
    "    model='gpt-3.5-turbo',\n",
    "    api_key=os.environ['OPENAI_API_KEY'],\n",
    "    max_tokens=2000\n",
    ")\n"
   ]
  },
  {
   "cell_type": "code",
   "execution_count": 2,
   "id": "a0121d98-8838-4fff-92ae-353b117932da",
   "metadata": {},
   "outputs": [
    {
     "data": {
      "text/plain": [
       "['Hello! How can I assist you today?']"
      ]
     },
     "execution_count": 2,
     "metadata": {},
     "output_type": "execute_result"
    }
   ],
   "source": [
    "llm(\"hi\")"
   ]
  },
  {
   "cell_type": "code",
   "execution_count": 3,
   "id": "9a041029-c47a-435f-90f1-e5791c313355",
   "metadata": {},
   "outputs": [
    {
     "name": "stderr",
     "output_type": "stream",
     "text": [
      "/Users/derrickmwiti/.env/lib/python3.11/site-packages/datasets/table.py:1421: FutureWarning: promote has been superseded by promote_options='default'.\n",
      "  table = cls._concat_blocks(blocks, axis=0)\n"
     ]
    },
    {
     "data": {
      "text/plain": [
       "(20, 50)"
      ]
     },
     "execution_count": 3,
     "metadata": {},
     "output_type": "execute_result"
    }
   ],
   "source": [
    "from dspy.datasets import HotPotQA\n",
    "\n",
    "# Load the dataset.\n",
    "dataset = HotPotQA(train_seed=1, train_size=20, eval_seed=2023, dev_size=50, test_size=0)\n",
    "\n",
    "# Tell DSPy that the 'question' field is the input. Any other fields are labels and/or metadata.\n",
    "trainset = [x.with_inputs('question') for x in dataset.train]\n",
    "devset = [x.with_inputs('question') for x in dataset.dev]\n",
    "\n",
    "len(trainset), len(devset)"
   ]
  },
  {
   "cell_type": "code",
   "execution_count": 5,
   "id": "381c57aa-27ab-4446-863e-0b44a7cbeb03",
   "metadata": {},
   "outputs": [],
   "source": [
    "# trainset"
   ]
  },
  {
   "cell_type": "code",
   "execution_count": 10,
   "id": "b463030a-f4d5-414f-94a4-2ce90822c198",
   "metadata": {},
   "outputs": [],
   "source": [
    "import langchain \n",
    "from langchain.document_loaders import TextLoader, DirectoryLoader\n",
    "from langchain.text_splitter import RecursiveCharacterTextSplitter\n",
    "\n",
    "text_splitter = RecursiveCharacterTextSplitter(chunk_size=600, chunk_overlap=100)\n",
    "\n",
    "DATA_PATH = \"documents\"\n",
    "loader = DirectoryLoader(DATA_PATH,\n",
    "                         glob='*.txt',\n",
    "                         loader_cls=TextLoader)\n",
    "documents = loader.load()\n",
    "texts = text_splitter.split_documents(documents)"
   ]
  },
  {
   "cell_type": "code",
   "execution_count": 13,
   "id": "1a011e65-1f6c-4889-8f5b-1e9cfa3d2055",
   "metadata": {},
   "outputs": [
    {
     "data": {
      "text/plain": [
       "\"Dutch cuisine (Dutch: Nederlandse keuken) is formed from the cooking traditions and practices of the Netherlands. The country's cuisine is shaped by its location in the fertile North Sea river delta of the European Plain, giving rise to fishing, farming (for crops, dairy and meat) and overseas trade. The Burgundian-Habsburg court enriched the cuisine of the Dutch elite in the 15th and 16th century, so did the colonial spice trade in the 17th century.\""
      ]
     },
     "execution_count": 13,
     "metadata": {},
     "output_type": "execute_result"
    }
   ],
   "source": [
    "texts[0].page_content"
   ]
  },
  {
   "cell_type": "code",
   "execution_count": 14,
   "id": "eb476be1-75d1-467b-8616-7cc0b1b1fac2",
   "metadata": {},
   "outputs": [
    {
     "name": "stdout",
     "output_type": "stream",
     "text": [
      "Document: Europe covers about 10.18 million km2 (3.93 million sq mi), or 2% of Earth's surface (6.8% of land area), making it the second-smallest continent (using the seven-continent model). Politically, Europe is divided into about fifty sovereign states, of which Russia is the largest and most populous, spanning 39% of the continent and comprising 15% of its population. Europe had a total population of about 745 million (about 10% of the world population) in 2021; the third-largest after Asia and Africa.[2][3] The European climate is largely affected by warm Atlantic currents that temper winters and \n",
      "\n",
      "Document: Europe makes up the western fifth of the Eurasian landmass.[28] It has a higher ratio of coast to landmass than any other continent or subcontinent.[237] Its maritime borders consist of the Arctic Ocean to the north, the Atlantic Ocean to the west and the Mediterranean, Black and Caspian Seas to the south.[238] \n",
      "\n",
      "Document: The population of Europe was about 742 million in 2023 according to UN estimates.[2][3] This is slightly more than one ninth of the world's population.[c] The population density of Europe (the number of people per area) is the second highest of any continent, behind Asia. The population of Europe is currently slowly decreasing, by about 0.2% per year,[277] because there are fewer births than deaths. This natural decrease in population is reduced by the fact that more people migrate to Europe from other continents than vice versa. \n",
      "\n",
      "Document: share of the world population living in Europe reached a peak of slightly above 25% around the year 1913.[182][183] \n",
      "\n",
      "Document: species. From around 50 million years ago, rising and falling sea levels have determined the actual shape of Europe and its connections with continents such as Asia. Europe's present shape dates to the late Tertiary period about five million years ago.[243] \n",
      "\n"
     ]
    }
   ],
   "source": [
    "documents = []\n",
    "ids = []\n",
    "for i, page in enumerate(texts):\n",
    "    text = page.page_content\n",
    "    documents.append(text)\n",
    "    ids.append(str(i)) \n",
    "    \n",
    "embedding_function = OpenAIEmbeddingFunction(\n",
    "    api_key=os.environ['OPENAI_API_KEY'],\n",
    "    model_name=\"text-embedding-ada-002\"\n",
    ")\n",
    "\n",
    "chroma_client = chromadb.PersistentClient(path=\"./amsterdam_db\")\n",
    " \n",
    "collection = chroma_client.get_or_create_collection(name=\"amsterdam_collection\", embedding_function=embedding_function)\n",
    "\n",
    "collection.add(documents=documents,ids=ids)\n",
    "\n",
    "retriever_model = ChromadbRM(\n",
    "    collection_name = 'amsterdam_collection',\n",
    "   persist_directory =  './amsterdam_db',\n",
    "    embedding_function=embedding_function,\n",
    "    k=5\n",
    ")\n",
    "\n",
    "dspy.settings.configure(lm=llm, rm=retriever_model)\n",
    "\n",
    "results = retriever_model(\"How many kilometers of the earths surface does Europe cover?\", k=5)\n",
    "\n",
    "for result in results:\n",
    "    print(\"Document:\", result.long_text, \"\\n\")"
   ]
  },
  {
   "cell_type": "code",
   "execution_count": 15,
   "id": "cecc87ff-526f-45ab-b43b-d05f01dbfe6f",
   "metadata": {},
   "outputs": [
    {
     "data": {
      "text/plain": [
       "[[\"Dutch cuisine (Dutch: Nederlandse keuken) is formed from the cooking traditions and practices of the Netherlands. The country's cuisine is shaped by its location in the fertile North Sea river delta of the European Plain, giving rise to fishing, farming (for crops, dairy and meat) and overseas trade. The Burgundian-Habsburg court enriched the cuisine of the Dutch elite in the 15th and 16th century, so did the colonial spice trade in the 17th century.\",\n",
       "  'Southern Dutch cuisine constitutes the cuisine of the Dutch provinces of North Brabant and Limburg and the Flemish Region in Belgium. It is renowned for its many rich pastries, soups, stews and vegetable dishes and is often called Burgundian which is a Dutch idiom invoking the rich Burgundian court which ruled the Low Countries in the Middle Ages renowned for its splendor and great feasts.',\n",
       "  'As the Dutch Republic entered its Golden Age in the 17th century, dishes of this kind became available to the wealthy middle class as well, often consisting of a rich variety of fruits, cheeses, meat, wine, and nuts.[11][12] The Dutch Empire enabled spices, sugar, and exotic fruits to be imported to the country. The cookbook De Verstandige Kok (or The Reasonable Chef) was published in 1667, which shows the great interest the elite had in what was on the plates.[3]']]"
      ]
     },
     "execution_count": 15,
     "metadata": {},
     "output_type": "execute_result"
    }
   ],
   "source": [
    "context = collection.query(query_texts=['\"Tell me about the Dutch cuisines'], n_results=3)\n",
    "context = context['documents']\n",
    "context"
   ]
  },
  {
   "cell_type": "code",
   "execution_count": 16,
   "id": "dd157cd6-9db4-46b0-9c10-1c49b8765a8d",
   "metadata": {},
   "outputs": [
    {
     "name": "stdout",
     "output_type": "stream",
     "text": [
      "[{'id': '254', 'score': 0.18351222574710846, 'long_text': 'excludes the relatively populous municipality of Zaanstad. The largest area by population, the Amsterdam Metropolitan Area (Dutch: Metropoolregio Amsterdam), has a population of 2,33\\xa0million.[235] It includes for instance Zaanstad, Wormerland, Muiden, Abcoude, Haarlem, Almere and Lelystad but excludes Graft-De Rijp. Amsterdam is part of the conglomerate metropolitan area Randstad, with a total population of 6,659,300 inhabitants.[236]', 'metadatas': None}, {'id': '138', 'score': 0.1969064623117447, 'long_text': \"In 1300, Amsterdam's population was around 1,000 people.[91] While many towns in Holland experienced population decline during the 15th and 16th centuries, Amsterdam's population grew,[92] mainly due to the rise of the profitable Baltic maritime trade especially in grain after the Burgundian victory in the Dutch–Hanseatic War in 1441.[93] The population of Amsterdam was only modest compared to the towns and cities of Flanders and Brabant, which comprised the most urbanized area of the Low Countries.[94]\", 'metadatas': None}, {'id': '253', 'score': 0.1993618905544281, 'long_text': 'The smallest of these areas is the municipality of Amsterdam with a population of about 870,000 in 2021.[234] The larger conurbation had a population of over 1 million. It includes the municipalities of Zaanstad, Wormerland, Oostzaan, Diemen and Amstelveen only, as well as the municipality of Amsterdam. Greater Amsterdam includes 15 municipalities, and had a population of 1,400,000 in 2021.[234] Though much larger in area, the population of this area is only slightly larger, because the definition excludes the relatively populous municipality of Zaanstad. The largest area by population, the', 'metadatas': None}, {'id': '141', 'score': 0.2073572725057602, 'long_text': \"The city's population declined in the early 19th century,[100] dipping under 200,000 in 1820.[101] By the second half of the 19th century, industrialization spurred renewed growth.[102] Amsterdam's population hit an all-time high of 872,000 in 1959,[103] before declining in the following decades due to government-sponsored suburbanisation to so-called groeikernen (growth centres) such as Purmerend and Almere.[104][105][106] Between 1970 and 1980, Amsterdam experienced its sharp population decline, peaking at a net loss of 25,000 people in 1973.[106] By 1985 the city had only 675,570\", 'metadatas': None}, {'id': '139', 'score': 0.22470125555992126, 'long_text': \"This changed when, during the Dutch Revolt, many people from the Southern Netherlands fled to the North, especially after Antwerp fell to Spanish forces in 1585. Jews from Spain, Portugal and Eastern Europe similarly settled in Amsterdam, as did Germans and Scandinavians.[92] In thirty years, Amsterdam's population more than doubled between 1585 and 1610.[95] By 1600, its population was around 50,000.[91] During the 1660s, Amsterdam's population reached 200,000.[96] The city's growth levelled off and the population stabilized around 240,000 for most of the 18th century.[97]\", 'metadatas': None}]\n"
     ]
    }
   ],
   "source": [
    "print(retriever_model('What is the population of Amsterdam?'))"
   ]
  },
  {
   "cell_type": "code",
   "execution_count": 19,
   "id": "f0590899-eca8-4b0e-b3b8-7c95788d889e",
   "metadata": {},
   "outputs": [],
   "source": [
    "class GenerateAnswer(dspy.Signature):\n",
    "    \"\"\" Answer questions based on the provided context.\"\"\"\n",
    "\n",
    "    context = dspy.InputField(desc=\"Context for answering the question\")\n",
    "    question = dspy.InputField(desc=\"The question\")\n",
    "    answer = dspy.OutputField(desc=\"Answer\")"
   ]
  },
  {
   "cell_type": "code",
   "execution_count": 20,
   "id": "eb5549d8-9588-4245-984f-8747a6aac740",
   "metadata": {},
   "outputs": [],
   "source": [
    "\n",
    "r_model = dspy.Retrieve(k=3)\n",
    "\n",
    "class RAG(dspy.Module):\n",
    "    def __init__(self, num_passages=3):\n",
    "        super().__init__()\n",
    "\n",
    "        self.retrieve = r_model\n",
    "        self.generate_answer = dspy.ChainOfThought(GenerateAnswer)\n",
    "    \n",
    "    def forward(self, question):\n",
    "        context = self.retrieve(question).passages\n",
    "        prediction = self.generate_answer(context=context, question=question)\n",
    "        return dspy.Prediction(context=context, answer=prediction.answer)"
   ]
  },
  {
   "cell_type": "code",
   "execution_count": 41,
   "id": "53f23074-c9ed-4865-b226-462e7a49c936",
   "metadata": {},
   "outputs": [
    {
     "data": {
      "text/plain": [
       "Prediction(\n",
       "    context=['Koffie verkeerd (literally \"wrong coffee\"), or Café au lait, consists of equal parts black coffee and hot milk. The Dutch drink tea without milk and the tea is quite a lot weaker than typical English or Irish types of tea which are stronger and are usually taken with milk. In Dutch bars, tea with freshly chopped ginger (verse gemberthee) or with fresh mint leaves (verse muntthee) or very popular. In the autumn and winter hot chocolate or chocomel is drunk. Two other traditional Dutch drinks, anijsmelk (hot milk with aniseed) and kwast (hot water with lemon juice)[26] are hardly drunk any', \"Dutch people invite friends over for koffietijd (coffee time), which consists of coffee and cake or biscuits, served between 10:00 and 11:00 am (before lunch), 4:00\\xa0pm (between lunch and dinner) or between 7:00\\xa0pm and 8:00\\xa0pm (after dinner). Dutch thrift of the 1940's and 1950's, when the country was rebuilding the destruction of World War II, led to the famous standard rule of only one cookie with each cup of coffee. Presumably in the late 1940's even the then Prime Minister, Willem Drees, served coffee and one biscuit to a visiting American diplomat, who then became convinced that the\", 'The Dutch East India Company was the first to import coffee on a large scale to Europe and popularised the concept of coffee houses.[13] The Dutch later grew the crop in Java and Ceylon.[14] The first exports of Indonesian coffee from Java to the Netherlands occurred in 1711.[15] By the late 17th century, tea and coffee consumption were increasing and becoming part of everyday life. Tea was served with sweets, candy or marzipan and cookies. The availability of relatively cheaper spices resulted in a tradition of spiced cookies called speculaas, the exact recipes of which were kept secret by'],\n",
       "    answer='Coffee in Dutch culture is enjoyed in various forms, such as \"koffie verkeerd\" which is a mix of black coffee and hot milk. \"Koffietijd\" is a social tradition where friends gather for coffee and cake or biscuits at specific times during the day.'\n",
       ")"
      ]
     },
     "execution_count": 41,
     "metadata": {},
     "output_type": "execute_result"
    }
   ],
   "source": [
    "uncompiled_rag = RAG()\n",
    "question = \"Tell me about Coffee in Dutch\"\n",
    "rag(question)"
   ]
  },
  {
   "cell_type": "code",
   "execution_count": 22,
   "id": "add0f489-e614-453b-ace2-3afe59c02c6e",
   "metadata": {},
   "outputs": [
    {
     "data": {
      "text/plain": [
       "'Coffee in Dutch culture is enjoyed in various forms, such as \"koffie verkeerd\" which is a mix of black coffee and hot milk. \"Koffietijd\" is a social tradition where friends gather for coffee and cake or biscuits at specific times during the day.'"
      ]
     },
     "execution_count": 22,
     "metadata": {},
     "output_type": "execute_result"
    }
   ],
   "source": [
    "rag(question).answer"
   ]
  },
  {
   "cell_type": "code",
   "execution_count": 30,
   "id": "d82d2f86-4139-4aa6-8fe1-910819fabf92",
   "metadata": {},
   "outputs": [
    {
     "name": "stdout",
     "output_type": "stream",
     "text": [
      "Average Metric: 8 / 50  (16.0%)\n"
     ]
    },
    {
     "name": "stderr",
     "output_type": "stream",
     "text": [
      "/Users/derrickmwiti/.env/lib/python3.11/site-packages/dspy/evaluate/evaluate.py:266: FutureWarning: Setting an item of incompatible dtype is deprecated and will raise in a future error of pandas. Value '['✔️ [True]' 'False' '✔️ [True]' 'False' '✔️ [True]']' has dtype incompatible with bool, please explicitly cast to a compatible dtype first.\n",
      "  df.loc[:, metric_name] = df[metric_name].apply(\n"
     ]
    },
    {
     "data": {
      "text/html": [
       "<style type=\"text/css\">\n",
       "#T_0eead th {\n",
       "  text-align: left;\n",
       "}\n",
       "#T_0eead td {\n",
       "  text-align: left;\n",
       "}\n",
       "#T_0eead_row0_col0, #T_0eead_row0_col1, #T_0eead_row0_col2, #T_0eead_row0_col3, #T_0eead_row0_col4, #T_0eead_row0_col5, #T_0eead_row1_col0, #T_0eead_row1_col1, #T_0eead_row1_col2, #T_0eead_row1_col3, #T_0eead_row1_col4, #T_0eead_row1_col5, #T_0eead_row2_col0, #T_0eead_row2_col1, #T_0eead_row2_col2, #T_0eead_row2_col3, #T_0eead_row2_col4, #T_0eead_row2_col5, #T_0eead_row3_col0, #T_0eead_row3_col1, #T_0eead_row3_col2, #T_0eead_row3_col3, #T_0eead_row3_col4, #T_0eead_row3_col5, #T_0eead_row4_col0, #T_0eead_row4_col1, #T_0eead_row4_col2, #T_0eead_row4_col3, #T_0eead_row4_col4, #T_0eead_row4_col5 {\n",
       "  text-align: left;\n",
       "  white-space: pre-wrap;\n",
       "  word-wrap: break-word;\n",
       "  max-width: 400px;\n",
       "}\n",
       "</style>\n",
       "<table id=\"T_0eead\">\n",
       "  <thead>\n",
       "    <tr>\n",
       "      <th class=\"blank level0\" >&nbsp;</th>\n",
       "      <th id=\"T_0eead_level0_col0\" class=\"col_heading level0 col0\" >question</th>\n",
       "      <th id=\"T_0eead_level0_col1\" class=\"col_heading level0 col1\" >example_answer</th>\n",
       "      <th id=\"T_0eead_level0_col2\" class=\"col_heading level0 col2\" >gold_titles</th>\n",
       "      <th id=\"T_0eead_level0_col3\" class=\"col_heading level0 col3\" >context</th>\n",
       "      <th id=\"T_0eead_level0_col4\" class=\"col_heading level0 col4\" >pred_answer</th>\n",
       "      <th id=\"T_0eead_level0_col5\" class=\"col_heading level0 col5\" >answer_exact_match</th>\n",
       "    </tr>\n",
       "  </thead>\n",
       "  <tbody>\n",
       "    <tr>\n",
       "      <th id=\"T_0eead_level0_row0\" class=\"row_heading level0 row0\" >0</th>\n",
       "      <td id=\"T_0eead_row0_col0\" class=\"data row0 col0\" >Are both Cangzhou and Qionghai in the Hebei province of China?</td>\n",
       "      <td id=\"T_0eead_row0_col1\" class=\"data row0 col1\" >no</td>\n",
       "      <td id=\"T_0eead_row0_col2\" class=\"data row0 col2\" >{'Cangzhou', 'Qionghai'}</td>\n",
       "      <td id=\"T_0eead_row0_col3\" class=\"data row0 col3\" >['Table\\n* indicates \"Cities of COUNTRY or TERRITORY\" links.\\nCountry (or territory)\\tCapital\\tPopulation\\t% of country\\tSource\\n China\\u202f*\\tBeijing\\t21,542,000\\t1.5%\\t[1] 2018\\n Japan\\u202f*\\tTokyo\\t14,094,034\\t11.3%\\t[2] 2023\\n Russia\\u202f*\\tMoscow\\t13,104,177\\t9.0%\\t[3] 2023\\n DR Congo\\u202f*\\tKinshasa\\t12,691,000\\t13.2%\\t[4] 2017\\n Indonesia\\u202f*\\tJakarta\\t10,562,088\\t3.9%\\t[5] 2020\\n Egypt\\u202f*\\tCairo\\t10,107,125\\t9.3%\\t[6] 2022\\n...</td>\n",
       "      <td id=\"T_0eead_row0_col4\" class=\"data row0 col4\" >No</td>\n",
       "      <td id=\"T_0eead_row0_col5\" class=\"data row0 col5\" >✔️ [True]</td>\n",
       "    </tr>\n",
       "    <tr>\n",
       "      <th id=\"T_0eead_level0_row1\" class=\"row_heading level0 row1\" >1</th>\n",
       "      <td id=\"T_0eead_row1_col0\" class=\"data row1 col0\" >Who conducts the draft in which Marc-Andre Fleury was drafted to the Vegas Golden Knights for the 2017-18 season?</td>\n",
       "      <td id=\"T_0eead_row1_col1\" class=\"data row1 col1\" >National Hockey League</td>\n",
       "      <td id=\"T_0eead_row1_col2\" class=\"data row1 col2\" >{'2017–18 Pittsburgh Penguins season', '2017 NHL Expansion Draft'}</td>\n",
       "      <td id=\"T_0eead_row1_col3\" class=\"data row1 col3\" >['Amsterdam holds two American football franchises: the Amsterdam Crusaders and the Amsterdam Panthers. The Amsterdam Pirates baseball team competes in the Dutch Major League. There...</td>\n",
       "      <td id=\"T_0eead_row1_col4\" class=\"data row1 col4\" >The National Hockey League (NHL) conducted the draft in which Marc-Andre Fleury was drafted to the Vegas Golden Knights for the 2017-18 season.</td>\n",
       "      <td id=\"T_0eead_row1_col5\" class=\"data row1 col5\" >False</td>\n",
       "    </tr>\n",
       "    <tr>\n",
       "      <th id=\"T_0eead_level0_row2\" class=\"row_heading level0 row2\" >2</th>\n",
       "      <td id=\"T_0eead_row2_col0\" class=\"data row2 col0\" >The Wings entered a new era, following the retirement of which Canadian retired professional ice hockey player and current general manager of the Tampa Bay...</td>\n",
       "      <td id=\"T_0eead_row2_col1\" class=\"data row2 col1\" >Steve Yzerman</td>\n",
       "      <td id=\"T_0eead_row2_col2\" class=\"data row2 col2\" >{'Steve Yzerman', '2006–07 Detroit Red Wings season'}</td>\n",
       "      <td id=\"T_0eead_row2_col3\" class=\"data row2 col3\" >['city was finally liberated by Canadian forces on 5 May 1945, shortly before the end of the war in Europe.', 'In parallel, the Eastern Question...</td>\n",
       "      <td id=\"T_0eead_row2_col4\" class=\"data row2 col4\" >Steve Yzerman</td>\n",
       "      <td id=\"T_0eead_row2_col5\" class=\"data row2 col5\" >✔️ [True]</td>\n",
       "    </tr>\n",
       "    <tr>\n",
       "      <th id=\"T_0eead_level0_row3\" class=\"row_heading level0 row3\" >3</th>\n",
       "      <td id=\"T_0eead_row3_col0\" class=\"data row3 col0\" >What river is near the Crichton Collegiate Church?</td>\n",
       "      <td id=\"T_0eead_row3_col1\" class=\"data row3 col1\" >the River Tyne</td>\n",
       "      <td id=\"T_0eead_row3_col2\" class=\"data row3 col2\" >{'Crichton Castle', 'Crichton Collegiate Church'}</td>\n",
       "      <td id=\"T_0eead_row3_col3\" class=\"data row3 col3\" >['By the mid-19th century, there were three main conventions, one following the Don, the Volga–Don Canal and the Volga, the other following the Kuma–Manych Depression...</td>\n",
       "      <td id=\"T_0eead_row3_col4\" class=\"data row3 col4\" >The information provided does not specify the river near the Crichton Collegiate Church.</td>\n",
       "      <td id=\"T_0eead_row3_col5\" class=\"data row3 col5\" >False</td>\n",
       "    </tr>\n",
       "    <tr>\n",
       "      <th id=\"T_0eead_level0_row4\" class=\"row_heading level0 row4\" >4</th>\n",
       "      <td id=\"T_0eead_row4_col0\" class=\"data row4 col0\" >In the 10th Century A.D. Ealhswith had a son called Æthelweard by which English king?</td>\n",
       "      <td id=\"T_0eead_row4_col1\" class=\"data row4 col1\" >King Alfred the Great</td>\n",
       "      <td id=\"T_0eead_row4_col2\" class=\"data row4 col2\" >{'Ealhswith', 'Æthelweard (son of Alfred)'}</td>\n",
       "      <td id=\"T_0eead_row4_col3\" class=\"data row4 col3\" >['During the Dark Ages, the Western Roman Empire fell under the control of various tribes. The Germanic and Slav tribes established their domains over Western...</td>\n",
       "      <td id=\"T_0eead_row4_col4\" class=\"data row4 col4\" >King Alfred the Great</td>\n",
       "      <td id=\"T_0eead_row4_col5\" class=\"data row4 col5\" >✔️ [True]</td>\n",
       "    </tr>\n",
       "  </tbody>\n",
       "</table>\n"
      ],
      "text/plain": [
       "<pandas.io.formats.style.Styler at 0x30a3e23d0>"
      ]
     },
     "metadata": {},
     "output_type": "display_data"
    },
    {
     "data": {
      "text/html": [
       "\n",
       "                <div style='\n",
       "                    text-align: center;\n",
       "                    font-size: 16px;\n",
       "                    font-weight: bold;\n",
       "                    color: #555;\n",
       "                    margin: 10px 0;'>\n",
       "                    ... 45 more rows not displayed ...\n",
       "                </div>\n",
       "                "
      ],
      "text/plain": [
       "<IPython.core.display.HTML object>"
      ]
     },
     "metadata": {},
     "output_type": "display_data"
    },
    {
     "data": {
      "text/plain": [
       "16.0"
      ]
     },
     "execution_count": 30,
     "metadata": {},
     "output_type": "execute_result"
    }
   ],
   "source": [
    "from dspy.evaluate.evaluate import Evaluate\n",
    "\n",
    "# Set up the `evaluate_on_hotpotqa` function. We'll use this many times below.\n",
    "evaluate_on_hotpotqa = Evaluate(devset=devset, num_threads=1, display_progress=False, display_table=5)\n",
    "\n",
    "# Evaluate the `compiled_rag` program with the `answer_exact_match` metric.\n",
    "metric = dspy.evaluate.answer_exact_match\n",
    "evaluate_on_hotpotqa(rag, metric=metric)"
   ]
  },
  {
   "cell_type": "code",
   "execution_count": 23,
   "id": "f61ee2fc-3604-4f5b-a1ff-de9d1bbd26be",
   "metadata": {},
   "outputs": [
    {
     "name": "stderr",
     "output_type": "stream",
     "text": [
      "100%|███████████████████████████████████████████████████████████████████████████████████████████████████████████████████████████████████████████████████████████████████████| 20/20 [00:46<00:00,  2.34s/it]"
     ]
    },
    {
     "name": "stdout",
     "output_type": "stream",
     "text": [
      "Bootstrapped 0 full traces after 20 examples in round 0.\n"
     ]
    },
    {
     "name": "stderr",
     "output_type": "stream",
     "text": [
      "\n"
     ]
    }
   ],
   "source": [
    "from dspy.teleprompt import BootstrapFewShot\n",
    "\n",
    "# Validation logic: check that the predicted answer is correct.\n",
    "# Also check that the retrieved context does actually contain that answer.\n",
    "def validate_context_and_answer(example, pred, trace=None):\n",
    "    answer_EM = dspy.evaluate.answer_exact_match(example, pred)\n",
    "    answer_PM = dspy.evaluate.answer_passage_match(example, pred)\n",
    "    return answer_EM and answer_PM\n",
    "\n",
    "# Set up a basic teleprompter, which will compile our RAG program.\n",
    "teleprompter = BootstrapFewShot(metric=validate_context_and_answer)\n",
    "\n",
    "# Compile!\n",
    "compiled_rag = teleprompter.compile(rag, trainset=trainset)"
   ]
  },
  {
   "cell_type": "code",
   "execution_count": 24,
   "id": "fdc9e464-0d45-4013-ab4a-fde810de9da8",
   "metadata": {},
   "outputs": [
    {
     "name": "stdout",
     "output_type": "stream",
     "text": [
      "Question: What are some dinner options in Dutch cuisine?\n",
      "Predicted Answer: AVG, asparagus with ham, egg, and potatoes, satay with chips, babi panggang speciaal, broodje bakkeljauw, Biefstuk, Varkenshaas, Ossenhaas, etc.\n",
      "Retrieved Contexts (truncated): ['Dinner, traditionally served early by international standards, starts around or even before 6 p.m. It is not uncommon for restaurants outside of major cities to be closed by 8 p.m.[citation needed] Th...', 'A seasonal dish, asparagus is popularly eaten with ham, egg, and potatoes, with a butter sauce.\\n A simple Dutch meal traditionally consists of meat, potatoes, butter, a boiled vegetable, and salad.\\n S...', 'It is the only Dutch culinary region which developed an haute cuisine and it forms the base of most traditional Dutch restaurants including typical main courses served such as Biefstuk, Varkenshaas, O...']\n"
     ]
    }
   ],
   "source": [
    "# Ask any question you like to this simple RAG program.\n",
    "my_question = \"What are some dinner options in Dutch cuisine?\"\n",
    "\n",
    "# Get the prediction. This contains `pred.context` and `pred.answer`.\n",
    "pred = compiled_rag(my_question)\n",
    "\n",
    "# Print the contexts and the answer.\n",
    "print(f\"Question: {my_question}\")\n",
    "print(f\"Predicted Answer: {pred.answer}\")\n",
    "print(f\"Retrieved Contexts (truncated): {[c[:200] + '...' for c in pred.context]}\")"
   ]
  },
  {
   "cell_type": "code",
   "execution_count": 26,
   "id": "7d90d251-854e-40c3-a633-aa1d977f374d",
   "metadata": {},
   "outputs": [
    {
     "name": "stdout",
     "output_type": "stream",
     "text": [
      "\n",
      "\n",
      "\n",
      "\n",
      "Answer questions based on the provided context.\n",
      "\n",
      "---\n",
      "\n",
      "Question: Which magazine has published articles by Scott Shaw, Tae Kwon Do Times or Southwest Art?\n",
      "Answer: Tae Kwon Do Times\n",
      "\n",
      "Question: This American guitarist best known for her work with the Iron Maidens is an ancestor of a composer who was known as what?\n",
      "Answer: The Waltz King\n",
      "\n",
      "Question: On the coast of what ocean is the birthplace of Diogal Sakho?\n",
      "Answer: Atlantic\n",
      "\n",
      "Question: The Victorians - Their Story In Pictures is a documentary series written by an author born in what year?\n",
      "Answer: 1950\n",
      "\n",
      "Question: The Organisation that allows a community to influence their operation or use and to enjoy the benefits arisingwas founded in what year?\n",
      "Answer: 2010\n",
      "\n",
      "Question: Which company distributed this 1977 American animated film produced by Walt Disney Productions for which Sherman Brothers wrote songs?\n",
      "Answer: Buena Vista Distribution\n",
      "\n",
      "Question: Samantha Cristoforetti and Mark Shuttleworth are both best known for being first in their field to go where?\n",
      "Answer: space\n",
      "\n",
      "Question: At My Window was released by which American singer-songwriter?\n",
      "Answer: John Townes Van Zandt\n",
      "\n",
      "Question: Which of these publications was most recently published, Who Put the Bomp or Self?\n",
      "Answer: Self\n",
      "\n",
      "Question: Who is older, Aleksandr Danilovich Aleksandrov or Anatoly Fomenko?\n",
      "Answer: Aleksandr Danilovich Aleksandrov\n",
      "\n",
      "Question: What is the code name for the German offensive that started this Second World War engagement on the Eastern Front (a few hundred kilometers from Moscow) between Soviet and German forces, which included 102nd Infantry Division?\n",
      "Answer: Operation Citadel\n",
      "\n",
      "Question: Which Pakistani cricket umpire who won 3 consecutive ICC umpire of the year awards in 2009, 2010, and 2011 will be in the ICC World Twenty20?\n",
      "Answer: Aleem Sarwar Dar\n",
      "\n",
      "Question: \"Everything Has Changed\" is a song from an album released under which record label ?\n",
      "Answer: Big Machine Records\n",
      "\n",
      "Question: Which American actress who made their film debut in the 1995 teen drama \"Kids\" was the co-founder of Voto Latino?\n",
      "Answer: Rosario Dawson\n",
      "\n",
      "Question: which American actor was Candace Kita guest starred with\n",
      "Answer: Bill Murray\n",
      "\n",
      "Question: Who acted in the shot film The Shore and is also the youngest actress ever to play Ophelia in a Royal Shakespeare Company production of \"Hamlet.\" ?\n",
      "Answer: Kerry Condon\n",
      "\n",
      "---\n",
      "\n",
      "Follow the following format.\n",
      "\n",
      "Context: Context for answering the question\n",
      "\n",
      "Question: The question\n",
      "\n",
      "Reasoning: Let's think step by step in order to ${produce the answer}. We ...\n",
      "\n",
      "Answer: Answer\n",
      "\n",
      "---\n",
      "\n",
      "Context:\n",
      "[1] «Dinner, traditionally served early by international standards, starts around or even before 6 p.m. It is not uncommon for restaurants outside of major cities to be closed by 8 p.m.[citation needed] The old-fashioned Dutch dinner for the lower class consists of one simple course: potatoes, meat and vegetables—known under the acronym \"AVG\" (aardappelen, vlees, groente). AVG consists traditionally of potatoes with a large portion of vegetables and a small portion of meat with gravy, or a potato and vegetable stew. Vegetable stews served as side dishes are for example rodekool met appeltjes (red»\n",
      "[2] «A seasonal dish, asparagus is popularly eaten with ham, egg, and potatoes, with a butter sauce.\n",
      " A simple Dutch meal traditionally consists of meat, potatoes, butter, a boiled vegetable, and salad.\n",
      " Satay, originally an Indonesian dish, is commonly served with chips in the Netherlands.\n",
      " Babi panggang speciaal was, although seemingly Indonesian-Chinese in origin, possibly devised in the Netherlands.\n",
      " Broodje bakkeljauw is a Dutch-Surinamese bun containing dried and salted cod, here with a chili dip made from Madame Jeanette chili peppers.»\n",
      "[3] «It is the only Dutch culinary region which developed an haute cuisine and it forms the base of most traditional Dutch restaurants including typical main courses served such as Biefstuk, Varkenshaas, Ossenhaas, these are premium cuts of meat, generally pork or beef, accompanied by a wide variety of sauces and potatoes which have been double fried in the traditional Dutch (or Belgian) manner.»\n",
      "\n",
      "Question: What are some dinner options in Dutch cuisine?\n",
      "\n",
      "Reasoning: Let's think step by step in order to\u001b[32m produce the answer. From the provided context, we can see that some dinner options in Dutch cuisine include dishes like AVG (potatoes, meat, and vegetables), asparagus with ham, egg, and potatoes, satay with chips, babi panggang speciaal, broodje bakkeljauw, Biefstuk, Varkenshaas, and Ossenhaas with various sauces and double-fried potatoes.\n",
      "\n",
      "Answer: AVG, asparagus with ham, egg, and potatoes, satay with chips, babi panggang speciaal, broodje bakkeljauw, Biefstuk, Varkenshaas, Ossenhaas, etc.\u001b[0m\n",
      "\n",
      "\n",
      "\n"
     ]
    }
   ],
   "source": [
    "llm.inspect_history(n=1)"
   ]
  },
  {
   "cell_type": "code",
   "execution_count": 27,
   "id": "176d3098-e48e-4455-8307-662e61e11754",
   "metadata": {},
   "outputs": [
    {
     "name": "stdout",
     "output_type": "stream",
     "text": [
      "generate_answer\n",
      "Example({'question': 'Which magazine has published articles by Scott Shaw, Tae Kwon Do Times or Southwest Art?', 'answer': 'Tae Kwon Do Times'}) (input_keys={'question'})\n",
      "\n"
     ]
    }
   ],
   "source": [
    "for name, parameter in compiled_rag.named_predictors():\n",
    "    print(name)\n",
    "    print(parameter.demos[0])\n",
    "    print()"
   ]
  },
  {
   "cell_type": "code",
   "execution_count": 28,
   "id": "8fd76235-49d5-4ed8-b9d2-04899993294c",
   "metadata": {},
   "outputs": [
    {
     "name": "stdout",
     "output_type": "stream",
     "text": [
      "Average Metric: 15 / 50  (30.0%)\n"
     ]
    },
    {
     "name": "stderr",
     "output_type": "stream",
     "text": [
      "/Users/derrickmwiti/.env/lib/python3.11/site-packages/dspy/evaluate/evaluate.py:266: FutureWarning: Setting an item of incompatible dtype is deprecated and will raise in a future error of pandas. Value '['✔️ [True]' 'False' '✔️ [True]' 'False' 'False']' has dtype incompatible with bool, please explicitly cast to a compatible dtype first.\n",
      "  df.loc[:, metric_name] = df[metric_name].apply(\n"
     ]
    },
    {
     "data": {
      "text/html": [
       "<style type=\"text/css\">\n",
       "#T_d6d79 th {\n",
       "  text-align: left;\n",
       "}\n",
       "#T_d6d79 td {\n",
       "  text-align: left;\n",
       "}\n",
       "#T_d6d79_row0_col0, #T_d6d79_row0_col1, #T_d6d79_row0_col2, #T_d6d79_row0_col3, #T_d6d79_row0_col4, #T_d6d79_row0_col5, #T_d6d79_row1_col0, #T_d6d79_row1_col1, #T_d6d79_row1_col2, #T_d6d79_row1_col3, #T_d6d79_row1_col4, #T_d6d79_row1_col5, #T_d6d79_row2_col0, #T_d6d79_row2_col1, #T_d6d79_row2_col2, #T_d6d79_row2_col3, #T_d6d79_row2_col4, #T_d6d79_row2_col5, #T_d6d79_row3_col0, #T_d6d79_row3_col1, #T_d6d79_row3_col2, #T_d6d79_row3_col3, #T_d6d79_row3_col4, #T_d6d79_row3_col5, #T_d6d79_row4_col0, #T_d6d79_row4_col1, #T_d6d79_row4_col2, #T_d6d79_row4_col3, #T_d6d79_row4_col4, #T_d6d79_row4_col5 {\n",
       "  text-align: left;\n",
       "  white-space: pre-wrap;\n",
       "  word-wrap: break-word;\n",
       "  max-width: 400px;\n",
       "}\n",
       "</style>\n",
       "<table id=\"T_d6d79\">\n",
       "  <thead>\n",
       "    <tr>\n",
       "      <th class=\"blank level0\" >&nbsp;</th>\n",
       "      <th id=\"T_d6d79_level0_col0\" class=\"col_heading level0 col0\" >question</th>\n",
       "      <th id=\"T_d6d79_level0_col1\" class=\"col_heading level0 col1\" >example_answer</th>\n",
       "      <th id=\"T_d6d79_level0_col2\" class=\"col_heading level0 col2\" >gold_titles</th>\n",
       "      <th id=\"T_d6d79_level0_col3\" class=\"col_heading level0 col3\" >context</th>\n",
       "      <th id=\"T_d6d79_level0_col4\" class=\"col_heading level0 col4\" >pred_answer</th>\n",
       "      <th id=\"T_d6d79_level0_col5\" class=\"col_heading level0 col5\" >answer_exact_match</th>\n",
       "    </tr>\n",
       "  </thead>\n",
       "  <tbody>\n",
       "    <tr>\n",
       "      <th id=\"T_d6d79_level0_row0\" class=\"row_heading level0 row0\" >0</th>\n",
       "      <td id=\"T_d6d79_row0_col0\" class=\"data row0 col0\" >Are both Cangzhou and Qionghai in the Hebei province of China?</td>\n",
       "      <td id=\"T_d6d79_row0_col1\" class=\"data row0 col1\" >no</td>\n",
       "      <td id=\"T_d6d79_row0_col2\" class=\"data row0 col2\" >{'Cangzhou', 'Qionghai'}</td>\n",
       "      <td id=\"T_d6d79_row0_col3\" class=\"data row0 col3\" >['Table\\n* indicates \"Cities of COUNTRY or TERRITORY\" links.\\nCountry (or territory)\\tCapital\\tPopulation\\t% of country\\tSource\\n China\\u202f*\\tBeijing\\t21,542,000\\t1.5%\\t[1] 2018\\n Japan\\u202f*\\tTokyo\\t14,094,034\\t11.3%\\t[2] 2023\\n Russia\\u202f*\\tMoscow\\t13,104,177\\t9.0%\\t[3] 2023\\n DR Congo\\u202f*\\tKinshasa\\t12,691,000\\t13.2%\\t[4] 2017\\n Indonesia\\u202f*\\tJakarta\\t10,562,088\\t3.9%\\t[5] 2020\\n Egypt\\u202f*\\tCairo\\t10,107,125\\t9.3%\\t[6] 2022\\n...</td>\n",
       "      <td id=\"T_d6d79_row0_col4\" class=\"data row0 col4\" >No</td>\n",
       "      <td id=\"T_d6d79_row0_col5\" class=\"data row0 col5\" >✔️ [True]</td>\n",
       "    </tr>\n",
       "    <tr>\n",
       "      <th id=\"T_d6d79_level0_row1\" class=\"row_heading level0 row1\" >1</th>\n",
       "      <td id=\"T_d6d79_row1_col0\" class=\"data row1 col0\" >Who conducts the draft in which Marc-Andre Fleury was drafted to the Vegas Golden Knights for the 2017-18 season?</td>\n",
       "      <td id=\"T_d6d79_row1_col1\" class=\"data row1 col1\" >National Hockey League</td>\n",
       "      <td id=\"T_d6d79_row1_col2\" class=\"data row1 col2\" >{'2017–18 Pittsburgh Penguins season', '2017 NHL Expansion Draft'}</td>\n",
       "      <td id=\"T_d6d79_row1_col3\" class=\"data row1 col3\" >['Amsterdam holds two American football franchises: the Amsterdam Crusaders and the Amsterdam Panthers. The Amsterdam Pirates baseball team competes in the Dutch Major League. There...</td>\n",
       "      <td id=\"T_d6d79_row1_col4\" class=\"data row1 col4\" >The National Hockey League (NHL) conducted the draft.</td>\n",
       "      <td id=\"T_d6d79_row1_col5\" class=\"data row1 col5\" >False</td>\n",
       "    </tr>\n",
       "    <tr>\n",
       "      <th id=\"T_d6d79_level0_row2\" class=\"row_heading level0 row2\" >2</th>\n",
       "      <td id=\"T_d6d79_row2_col0\" class=\"data row2 col0\" >The Wings entered a new era, following the retirement of which Canadian retired professional ice hockey player and current general manager of the Tampa Bay...</td>\n",
       "      <td id=\"T_d6d79_row2_col1\" class=\"data row2 col1\" >Steve Yzerman</td>\n",
       "      <td id=\"T_d6d79_row2_col2\" class=\"data row2 col2\" >{'Steve Yzerman', '2006–07 Detroit Red Wings season'}</td>\n",
       "      <td id=\"T_d6d79_row2_col3\" class=\"data row2 col3\" >['city was finally liberated by Canadian forces on 5 May 1945, shortly before the end of the war in Europe.', 'In parallel, the Eastern Question...</td>\n",
       "      <td id=\"T_d6d79_row2_col4\" class=\"data row2 col4\" >Steve Yzerman</td>\n",
       "      <td id=\"T_d6d79_row2_col5\" class=\"data row2 col5\" >✔️ [True]</td>\n",
       "    </tr>\n",
       "    <tr>\n",
       "      <th id=\"T_d6d79_level0_row3\" class=\"row_heading level0 row3\" >3</th>\n",
       "      <td id=\"T_d6d79_row3_col0\" class=\"data row3 col0\" >What river is near the Crichton Collegiate Church?</td>\n",
       "      <td id=\"T_d6d79_row3_col1\" class=\"data row3 col1\" >the River Tyne</td>\n",
       "      <td id=\"T_d6d79_row3_col2\" class=\"data row3 col2\" >{'Crichton Castle', 'Crichton Collegiate Church'}</td>\n",
       "      <td id=\"T_d6d79_row3_col3\" class=\"data row3 col3\" >['By the mid-19th century, there were three main conventions, one following the Don, the Volga–Don Canal and the Volga, the other following the Kuma–Manych Depression...</td>\n",
       "      <td id=\"T_d6d79_row3_col4\" class=\"data row3 col4\" >Don River</td>\n",
       "      <td id=\"T_d6d79_row3_col5\" class=\"data row3 col5\" >False</td>\n",
       "    </tr>\n",
       "    <tr>\n",
       "      <th id=\"T_d6d79_level0_row4\" class=\"row_heading level0 row4\" >4</th>\n",
       "      <td id=\"T_d6d79_row4_col0\" class=\"data row4 col0\" >In the 10th Century A.D. Ealhswith had a son called Æthelweard by which English king?</td>\n",
       "      <td id=\"T_d6d79_row4_col1\" class=\"data row4 col1\" >King Alfred the Great</td>\n",
       "      <td id=\"T_d6d79_row4_col2\" class=\"data row4 col2\" >{'Ealhswith', 'Æthelweard (son of Alfred)'}</td>\n",
       "      <td id=\"T_d6d79_row4_col3\" class=\"data row4 col3\" >['During the Dark Ages, the Western Roman Empire fell under the control of various tribes. The Germanic and Slav tribes established their domains over Western...</td>\n",
       "      <td id=\"T_d6d79_row4_col4\" class=\"data row4 col4\" >The English king during the 10th century A.D. was Edward the Elder, who was the son of King Alfred the Great and Ealhswith.</td>\n",
       "      <td id=\"T_d6d79_row4_col5\" class=\"data row4 col5\" >False</td>\n",
       "    </tr>\n",
       "  </tbody>\n",
       "</table>\n"
      ],
      "text/plain": [
       "<pandas.io.formats.style.Styler at 0x30ae24190>"
      ]
     },
     "metadata": {},
     "output_type": "display_data"
    },
    {
     "data": {
      "text/html": [
       "\n",
       "                <div style='\n",
       "                    text-align: center;\n",
       "                    font-size: 16px;\n",
       "                    font-weight: bold;\n",
       "                    color: #555;\n",
       "                    margin: 10px 0;'>\n",
       "                    ... 45 more rows not displayed ...\n",
       "                </div>\n",
       "                "
      ],
      "text/plain": [
       "<IPython.core.display.HTML object>"
      ]
     },
     "metadata": {},
     "output_type": "display_data"
    },
    {
     "data": {
      "text/plain": [
       "30.0"
      ]
     },
     "execution_count": 28,
     "metadata": {},
     "output_type": "execute_result"
    }
   ],
   "source": [
    "from dspy.evaluate.evaluate import Evaluate\n",
    "\n",
    "# Set up the `evaluate_on_hotpotqa` function. We'll use this many times below.\n",
    "evaluate_on_hotpotqa = Evaluate(devset=devset, num_threads=1, display_progress=False, display_table=5)\n",
    "\n",
    "# Evaluate the `compiled_rag` program with the `answer_exact_match` metric.\n",
    "metric = dspy.evaluate.answer_exact_match\n",
    "evaluate_on_hotpotqa(compiled_rag, metric=metric)"
   ]
  },
  {
   "cell_type": "markdown",
   "id": "515dedaa-284a-4619-a5b2-fa6b3878d7a0",
   "metadata": {},
   "source": [
    "## Define Custom Metric"
   ]
  },
  {
   "cell_type": "code",
   "execution_count": 35,
   "id": "ca987eb1-f0e0-4eba-8b79-046edaa478cf",
   "metadata": {},
   "outputs": [],
   "source": [
    "# Reference - https://github.com/stanfordnlp/dspy/blob/main/examples/tweets/tweet_metric.py\n",
    "\n",
    "metricLM = dspy.OpenAI(model='gpt-3.5-turbo', max_tokens=1000, model_type='chat')\n",
    "\n",
    "# Signature for LLM assessments.\n",
    "\n",
    "class Assess(dspy.Signature):\n",
    "    \"\"\"Assess the quality of an answer to a question.\"\"\"\n",
    "    \n",
    "    context = dspy.InputField(desc=\"The context for answering the question.\")\n",
    "    assessed_question = dspy.InputField(desc=\"The evaluation criterion.\")\n",
    "    assessed_answer = dspy.InputField(desc=\"The answer to the question.\")\n",
    "    assessment_answer = dspy.OutputField(desc=\"A rating between 1 and 5. Only output the rating and nothing else.\")\n",
    "\n",
    "def llm_metric(gold, pred, trace=None):\n",
    "    predicted_answer = pred.answer\n",
    "    question = gold.question\n",
    "    \n",
    "    print(f\"Test Question: {question}\")\n",
    "    print(f\"Predicted Answer: {predicted_answer}\")\n",
    "    \n",
    "    detail = \"Is the assessed answer detailed?\"\n",
    "    faithful = \"Is the assessed text grounded in the context? Say no if it includes significant facts not in the context.\"\n",
    "    overall = f\"Please rate how well this answer answers the question, `{question}` based on the context.\\n `{predicted_answer}`\"\n",
    "    \n",
    "    with dspy.context(lm=metricLM):\n",
    "        context = dspy.Retrieve(k=5)(question).passages\n",
    "        detail = dspy.ChainOfThought(Assess)(context=\"N/A\", assessed_question=detail, assessed_answer=predicted_answer)\n",
    "        faithful = dspy.ChainOfThought(Assess)(context=context, assessed_question=faithful, assessed_answer=predicted_answer)\n",
    "        overall = dspy.ChainOfThought(Assess)(context=context, assessed_question=overall, assessed_answer=predicted_answer)\n",
    "    \n",
    "    print(f\"Faithful: {faithful.assessment_answer}\")\n",
    "    print(f\"Detail: {detail.assessment_answer}\")\n",
    "    print(f\"Overall: {overall.assessment_answer}\")\n",
    "    \n",
    "    \n",
    "    total = float(detail.assessment_answer) + float(faithful.assessment_answer)*2 + float(overall.assessment_answer)\n",
    "    \n",
    "    return total / 5.0"
   ]
  },
  {
   "cell_type": "markdown",
   "id": "22b88992-e24e-4bb6-8297-3cfc447788ff",
   "metadata": {},
   "source": [
    "## Inspect the metric"
   ]
  },
  {
   "cell_type": "code",
   "execution_count": 36,
   "id": "0d0123d8-613f-4f7b-b903-34dad66139ed",
   "metadata": {},
   "outputs": [
    {
     "name": "stdout",
     "output_type": "stream",
     "text": [
      "Test Question: Tell me about Coffee in Dutch\n",
      "Predicted Answer: Coffee in Dutch culture is enjoyed in various forms, such as 'koffie verkeerd' which is a mix of black coffee and hot milk. 'Koffietijd' is a social tradition where friends gather for coffee and cake or biscuits at specific times during the day\n",
      "Faithful: 5\n",
      "Detail: 4\n",
      "Overall: 5\n"
     ]
    },
    {
     "data": {
      "text/plain": [
       "float"
      ]
     },
     "execution_count": 36,
     "metadata": {},
     "output_type": "execute_result"
    }
   ],
   "source": [
    "test_example = dspy.Example(question=\"Tell me about Coffee in Dutch\")\n",
    "test_pred = dspy.Example(answer=\"Coffee in Dutch culture is enjoyed in various forms, such as 'koffie verkeerd' which is a mix of black coffee and hot milk. 'Koffietijd' is a social tradition where friends gather for coffee and cake or biscuits at specific times during the day\")\n",
    "\n",
    "type(llm_metric(test_example, test_pred))"
   ]
  },
  {
   "cell_type": "code",
   "execution_count": 37,
   "id": "ff12ce66-9d69-45de-b182-b9fe16061e7e",
   "metadata": {},
   "outputs": [
    {
     "name": "stdout",
     "output_type": "stream",
     "text": [
      "\n",
      "\n",
      "\n",
      "\n",
      "Assess the quality of an answer to a question.\n",
      "\n",
      "---\n",
      "\n",
      "Follow the following format.\n",
      "\n",
      "Context: The context for answering the question.\n",
      "\n",
      "Assessed Question: The evaluation criterion.\n",
      "\n",
      "Assessed Answer: The answer to the question.\n",
      "\n",
      "Reasoning: Let's think step by step in order to ${produce the assessment_answer}. We ...\n",
      "\n",
      "Assessment Answer: A rating between 1 and 5. Only output the rating and nothing else.\n",
      "\n",
      "---\n",
      "\n",
      "Context:\n",
      "[1] «Koffie verkeerd (literally \"wrong coffee\"), or Café au lait, consists of equal parts black coffee and hot milk. The Dutch drink tea without milk and the tea is quite a lot weaker than typical English or Irish types of tea which are stronger and are usually taken with milk. In Dutch bars, tea with freshly chopped ginger (verse gemberthee) or with fresh mint leaves (verse muntthee) or very popular. In the autumn and winter hot chocolate or chocomel is drunk. Two other traditional Dutch drinks, anijsmelk (hot milk with aniseed) and kwast (hot water with lemon juice)[26] are hardly drunk any»\n",
      "[2] «Dutch people invite friends over for koffietijd (coffee time), which consists of coffee and cake or biscuits, served between 10:00 and 11:00 am (before lunch), 4:00 pm (between lunch and dinner) or between 7:00 pm and 8:00 pm (after dinner). Dutch thrift of the 1940's and 1950's, when the country was rebuilding the destruction of World War II, led to the famous standard rule of only one cookie with each cup of coffee. Presumably in the late 1940's even the then Prime Minister, Willem Drees, served coffee and one biscuit to a visiting American diplomat, who then became convinced that the»\n",
      "[3] «The Dutch East India Company was the first to import coffee on a large scale to Europe and popularised the concept of coffee houses.[13] The Dutch later grew the crop in Java and Ceylon.[14] The first exports of Indonesian coffee from Java to the Netherlands occurred in 1711.[15] By the late 17th century, tea and coffee consumption were increasing and becoming part of everyday life. Tea was served with sweets, candy or marzipan and cookies. The availability of relatively cheaper spices resulted in a tradition of spiced cookies called speculaas, the exact recipes of which were kept secret by»\n",
      "[4] «In the 17th and 18th century, Dutch cuisine played a pivotal role in the spread of coffee in the world as the Netherlands pioneered in establishing gardens for coffee cultivation in their colonies and popularising the concept of coffeehouses for the masses.[1] And the development of the Dutch process chocolate in 1828, which was instrumental in the transformation of chocolate to its solid form (which was up till then drunk as a liquid), started the modern era of chocolate.[2]»\n",
      "[5] «The drinks are served with a wide variety of cakes (gebak), cookies (koekjes) and candies (snoep).»\n",
      "\n",
      "Assessed Question: Is the assessed text grounded in the context? Say no if it includes significant facts not in the context.\n",
      "\n",
      "Assessed Answer: Coffee in Dutch culture is enjoyed in various forms, such as 'koffie verkeerd' which is a mix of black coffee and hot milk. 'Koffietijd' is a social tradition where friends gather for coffee and cake or biscuits at specific times during the day\n",
      "\n",
      "Reasoning: Let's think step by step in order to Assessment Answer: 5\n",
      "\n",
      "Assessment Answer:\u001b[32m 5\u001b[0m\n",
      "\n",
      "\n",
      "\n",
      "\n",
      "\n",
      "\n",
      "\n",
      "Assess the quality of an answer to a question.\n",
      "\n",
      "---\n",
      "\n",
      "Follow the following format.\n",
      "\n",
      "Context: The context for answering the question.\n",
      "\n",
      "Assessed Question: The evaluation criterion.\n",
      "\n",
      "Assessed Answer: The answer to the question.\n",
      "\n",
      "Reasoning: Let's think step by step in order to ${produce the assessment_answer}. We ...\n",
      "\n",
      "Assessment Answer: A rating between 1 and 5. Only output the rating and nothing else.\n",
      "\n",
      "---\n",
      "\n",
      "Context:\n",
      "[1] «Koffie verkeerd (literally \"wrong coffee\"), or Café au lait, consists of equal parts black coffee and hot milk. The Dutch drink tea without milk and the tea is quite a lot weaker than typical English or Irish types of tea which are stronger and are usually taken with milk. In Dutch bars, tea with freshly chopped ginger (verse gemberthee) or with fresh mint leaves (verse muntthee) or very popular. In the autumn and winter hot chocolate or chocomel is drunk. Two other traditional Dutch drinks, anijsmelk (hot milk with aniseed) and kwast (hot water with lemon juice)[26] are hardly drunk any»\n",
      "[2] «Dutch people invite friends over for koffietijd (coffee time), which consists of coffee and cake or biscuits, served between 10:00 and 11:00 am (before lunch), 4:00 pm (between lunch and dinner) or between 7:00 pm and 8:00 pm (after dinner). Dutch thrift of the 1940's and 1950's, when the country was rebuilding the destruction of World War II, led to the famous standard rule of only one cookie with each cup of coffee. Presumably in the late 1940's even the then Prime Minister, Willem Drees, served coffee and one biscuit to a visiting American diplomat, who then became convinced that the»\n",
      "[3] «The Dutch East India Company was the first to import coffee on a large scale to Europe and popularised the concept of coffee houses.[13] The Dutch later grew the crop in Java and Ceylon.[14] The first exports of Indonesian coffee from Java to the Netherlands occurred in 1711.[15] By the late 17th century, tea and coffee consumption were increasing and becoming part of everyday life. Tea was served with sweets, candy or marzipan and cookies. The availability of relatively cheaper spices resulted in a tradition of spiced cookies called speculaas, the exact recipes of which were kept secret by»\n",
      "[4] «In the 17th and 18th century, Dutch cuisine played a pivotal role in the spread of coffee in the world as the Netherlands pioneered in establishing gardens for coffee cultivation in their colonies and popularising the concept of coffeehouses for the masses.[1] And the development of the Dutch process chocolate in 1828, which was instrumental in the transformation of chocolate to its solid form (which was up till then drunk as a liquid), started the modern era of chocolate.[2]»\n",
      "[5] «The drinks are served with a wide variety of cakes (gebak), cookies (koekjes) and candies (snoep).»\n",
      "\n",
      "Assessed Question: Please rate how well this answer answers the question, `Tell me about Coffee in Dutch` based on the context. `Coffee in Dutch culture is enjoyed in various forms, such as 'koffie verkeerd' which is a mix of black coffee and hot milk. 'Koffietijd' is a social tradition where friends gather for coffee and cake or biscuits at specific times during the day`\n",
      "\n",
      "Assessed Answer: Coffee in Dutch culture is enjoyed in various forms, such as 'koffie verkeerd' which is a mix of black coffee and hot milk. 'Koffietijd' is a social tradition where friends gather for coffee and cake or biscuits at specific times during the day\n",
      "\n",
      "Reasoning: Let's think step by step in order to\u001b[32m Assessment Answer: 5\u001b[0m\n",
      "\n",
      "\n",
      "\n",
      "\n",
      "\n",
      "\n",
      "\n",
      "Assess the quality of an answer to a question.\n",
      "\n",
      "---\n",
      "\n",
      "Follow the following format.\n",
      "\n",
      "Context: The context for answering the question.\n",
      "\n",
      "Assessed Question: The evaluation criterion.\n",
      "\n",
      "Assessed Answer: The answer to the question.\n",
      "\n",
      "Reasoning: Let's think step by step in order to ${produce the assessment_answer}. We ...\n",
      "\n",
      "Assessment Answer: A rating between 1 and 5. Only output the rating and nothing else.\n",
      "\n",
      "---\n",
      "\n",
      "Context:\n",
      "[1] «Koffie verkeerd (literally \"wrong coffee\"), or Café au lait, consists of equal parts black coffee and hot milk. The Dutch drink tea without milk and the tea is quite a lot weaker than typical English or Irish types of tea which are stronger and are usually taken with milk. In Dutch bars, tea with freshly chopped ginger (verse gemberthee) or with fresh mint leaves (verse muntthee) or very popular. In the autumn and winter hot chocolate or chocomel is drunk. Two other traditional Dutch drinks, anijsmelk (hot milk with aniseed) and kwast (hot water with lemon juice)[26] are hardly drunk any»\n",
      "[2] «Dutch people invite friends over for koffietijd (coffee time), which consists of coffee and cake or biscuits, served between 10:00 and 11:00 am (before lunch), 4:00 pm (between lunch and dinner) or between 7:00 pm and 8:00 pm (after dinner). Dutch thrift of the 1940's and 1950's, when the country was rebuilding the destruction of World War II, led to the famous standard rule of only one cookie with each cup of coffee. Presumably in the late 1940's even the then Prime Minister, Willem Drees, served coffee and one biscuit to a visiting American diplomat, who then became convinced that the»\n",
      "[3] «The Dutch East India Company was the first to import coffee on a large scale to Europe and popularised the concept of coffee houses.[13] The Dutch later grew the crop in Java and Ceylon.[14] The first exports of Indonesian coffee from Java to the Netherlands occurred in 1711.[15] By the late 17th century, tea and coffee consumption were increasing and becoming part of everyday life. Tea was served with sweets, candy or marzipan and cookies. The availability of relatively cheaper spices resulted in a tradition of spiced cookies called speculaas, the exact recipes of which were kept secret by»\n",
      "[4] «In the 17th and 18th century, Dutch cuisine played a pivotal role in the spread of coffee in the world as the Netherlands pioneered in establishing gardens for coffee cultivation in their colonies and popularising the concept of coffeehouses for the masses.[1] And the development of the Dutch process chocolate in 1828, which was instrumental in the transformation of chocolate to its solid form (which was up till then drunk as a liquid), started the modern era of chocolate.[2]»\n",
      "[5] «The drinks are served with a wide variety of cakes (gebak), cookies (koekjes) and candies (snoep).»\n",
      "\n",
      "Assessed Question: Please rate how well this answer answers the question, `Tell me about Coffee in Dutch` based on the context. `Coffee in Dutch culture is enjoyed in various forms, such as 'koffie verkeerd' which is a mix of black coffee and hot milk. 'Koffietijd' is a social tradition where friends gather for coffee and cake or biscuits at specific times during the day`\n",
      "\n",
      "Assessed Answer: Coffee in Dutch culture is enjoyed in various forms, such as 'koffie verkeerd' which is a mix of black coffee and hot milk. 'Koffietijd' is a social tradition where friends gather for coffee and cake or biscuits at specific times during the day\n",
      "\n",
      "Reasoning: Let's think step by step in order to Assessment Answer: 5\n",
      "\n",
      "Assessment Answer:\u001b[32m 5\u001b[0m\n",
      "\n",
      "\n",
      "\n"
     ]
    }
   ],
   "source": [
    "metricLM.inspect_history(n=3)"
   ]
  },
  {
   "cell_type": "markdown",
   "id": "347fbb47-e600-48b2-92ec-bfe3fcf01dff",
   "metadata": {},
   "source": [
    "## Evaluate our RAG Program before it is compiled"
   ]
  },
  {
   "cell_type": "code",
   "execution_count": 38,
   "id": "b00ab4d9-393b-4bdf-b14c-f5dca52a6be3",
   "metadata": {},
   "outputs": [
    {
     "name": "stderr",
     "output_type": "stream",
     "text": [
      "\n",
      "  0%|                                                                                                                                                                                | 0/50 [00:00<?, ?it/s]\u001b[A"
     ]
    },
    {
     "name": "stdout",
     "output_type": "stream",
     "text": [
      "Test Question: Are both Cangzhou and Qionghai in the Hebei province of China?\n",
      "Predicted Answer: No\n"
     ]
    },
    {
     "name": "stderr",
     "output_type": "stream",
     "text": [
      "\n",
      "Average Metric: 1.8 / 1  (180.0):   0%|                                                                                                                                              | 0/50 [00:06<?, ?it/s]\u001b[A\n",
      "Average Metric: 1.8 / 1  (180.0):   2%|██▋                                                                                                                                   | 1/50 [00:06<05:08,  6.30s/it]\u001b[A"
     ]
    },
    {
     "name": "stdout",
     "output_type": "stream",
     "text": [
      "Faithful: 1\n",
      "Detail: 2\n",
      "Overall: 5\n",
      "Test Question: Who conducts the draft in which Marc-Andre Fleury was drafted to the Vegas Golden Knights for the 2017-18 season?\n",
      "Predicted Answer: The National Hockey League (NHL) conducted the draft in which Marc-Andre Fleury was drafted to the Vegas Golden Knights for the 2017-18 season.\n"
     ]
    },
    {
     "name": "stderr",
     "output_type": "stream",
     "text": [
      "\n",
      "Average Metric: 3.4000000000000004 / 2  (170.0):   2%|██▍                                                                                                                    | 1/50 [00:12<05:08,  6.30s/it]\u001b[A\n",
      "Average Metric: 3.4000000000000004 / 2  (170.0):   4%|████▊                                                                                                                  | 2/50 [00:12<04:57,  6.20s/it]\u001b[A"
     ]
    },
    {
     "name": "stdout",
     "output_type": "stream",
     "text": [
      "Faithful: 1\n",
      "Detail: 1\n",
      "Overall: 5\n",
      "Test Question: The Wings entered a new era, following the retirement of which Canadian retired professional ice hockey player and current general manager of the Tampa Bay Lightning of the National Hockey League (NHL)?\n",
      "Predicted Answer: Steve Yzerman\n"
     ]
    },
    {
     "name": "stderr",
     "output_type": "stream",
     "text": [
      "\n",
      "Average Metric: 4.2 / 3  (140.0):   4%|█████▎                                                                                                                                | 2/50 [00:18<04:57,  6.20s/it]\u001b[A\n",
      "Average Metric: 4.2 / 3  (140.0):   6%|████████                                                                                                                              | 3/50 [00:18<04:51,  6.19s/it]\u001b[A"
     ]
    },
    {
     "name": "stdout",
     "output_type": "stream",
     "text": [
      "Faithful: 1\n",
      "Detail: 1\n",
      "Overall: 1\n",
      "Test Question: What river is near the Crichton Collegiate Church?\n",
      "Predicted Answer: The information provided does not specify the river near the Crichton Collegiate Church.\n"
     ]
    },
    {
     "name": "stderr",
     "output_type": "stream",
     "text": [
      "\n",
      "Average Metric: 6.4 / 4  (160.0):   6%|████████                                                                                                                              | 3/50 [00:24<04:51,  6.19s/it]\u001b[A\n",
      "Average Metric: 6.4 / 4  (160.0):   8%|██████████▋                                                                                                                           | 4/50 [00:24<04:42,  6.14s/it]\u001b[A"
     ]
    },
    {
     "name": "stdout",
     "output_type": "stream",
     "text": [
      "Faithful: 2\n",
      "Detail: 2\n",
      "Overall: 5\n",
      "Test Question: In the 10th Century A.D. Ealhswith had a son called Æthelweard by which English king?\n",
      "Predicted Answer: King Alfred the Great\n"
     ]
    },
    {
     "name": "stderr",
     "output_type": "stream",
     "text": [
      "\n",
      "Average Metric: 7.2 / 5  (144.0):   8%|██████████▋                                                                                                                           | 4/50 [00:29<04:42,  6.14s/it]\u001b[A\n",
      "Average Metric: 7.2 / 5  (144.0):  10%|█████████████▍                                                                                                                        | 5/50 [00:29<04:16,  5.69s/it]\u001b[A"
     ]
    },
    {
     "name": "stdout",
     "output_type": "stream",
     "text": [
      "Faithful: 1\n",
      "Detail: 1\n",
      "Overall: 1\n",
      "Test Question: The Newark Airport Exchange is at the northern edge of an airport that is operated by whom?\n",
      "Predicted Answer: The Newark Airport Exchange is at the northern edge of an airport that is operated by the Port Authority of New York and New Jersey.\n"
     ]
    },
    {
     "name": "stderr",
     "output_type": "stream",
     "text": [
      "\n",
      "Average Metric: 9.0 / 6  (150.0):  10%|█████████████▍                                                                                                                        | 5/50 [00:35<04:16,  5.69s/it]\u001b[A\n",
      "Average Metric: 9.0 / 6  (150.0):  12%|████████████████                                                                                                                      | 6/50 [00:35<04:19,  5.90s/it]\u001b[A"
     ]
    },
    {
     "name": "stdout",
     "output_type": "stream",
     "text": [
      "Faithful: 1\n",
      "Detail: 2\n",
      "Overall: 5\n",
      "Test Question: Where did an event take place resulting in a win during a domestic double due to the action of a Peruvian footballer known for his goal scoring ability?\n",
      "Predicted Answer: The event took place in Amsterdam, with Ajax winning a domestic double possibly due to the action of a Peruvian footballer known for his goal scoring ability.\n"
     ]
    },
    {
     "name": "stderr",
     "output_type": "stream",
     "text": [
      "\n",
      "Average Metric: 10.4 / 7  (148.6):  12%|███████████████▉                                                                                                                     | 6/50 [00:42<04:19,  5.90s/it]\u001b[A\n",
      "Average Metric: 10.4 / 7  (148.6):  14%|██████████████████▌                                                                                                                  | 7/50 [00:42<04:23,  6.14s/it]\u001b[A"
     ]
    },
    {
     "name": "stdout",
     "output_type": "stream",
     "text": [
      "Faithful: 1\n",
      "Detail: 2\n",
      "Overall: 3\n",
      "Test Question: Are both Chico Municipal Airport and William R. Fairchild International Airport in California?\n",
      "Predicted Answer: No, Chico Municipal Airport is in California, but William R. Fairchild International Airport is in Washington state.\n"
     ]
    },
    {
     "name": "stderr",
     "output_type": "stream",
     "text": [
      "\n",
      "Average Metric: 12.200000000000001 / 8  (152.5):  14%|████████████████▋                                                                                                      | 7/50 [00:47<04:23,  6.14s/it]\u001b[A\n",
      "Average Metric: 12.200000000000001 / 8  (152.5):  16%|███████████████████                                                                                                    | 8/50 [00:47<04:06,  5.86s/it]\u001b[A"
     ]
    },
    {
     "name": "stdout",
     "output_type": "stream",
     "text": [
      "Faithful: 1\n",
      "Detail: 2\n",
      "Overall: 5\n",
      "Test Question: In which Maine county is Fort Pownall located?\n",
      "Predicted Answer: Fort Pownall is located in Waldo County, Maine.\n"
     ]
    },
    {
     "name": "stderr",
     "output_type": "stream",
     "text": [
      "\n",
      "Average Metric: 14.600000000000001 / 9  (162.2):  16%|███████████████████                                                                                                    | 8/50 [00:52<04:06,  5.86s/it]\u001b[A\n",
      "Average Metric: 14.600000000000001 / 9  (162.2):  18%|█████████████████████▍                                                                                                 | 9/50 [00:52<03:49,  5.60s/it]\u001b[A"
     ]
    },
    {
     "name": "stdout",
     "output_type": "stream",
     "text": [
      "Faithful: 3\n",
      "Detail: 1\n",
      "Overall: 5\n",
      "Test Question: Which 90s rock band has more recently reformed, Gene or The Afghan Whigs?\n",
      "Predicted Answer: The Afghan Whigs\n"
     ]
    },
    {
     "name": "stderr",
     "output_type": "stream",
     "text": [
      "\n",
      "Average Metric: 16.200000000000003 / 10  (162.0):  18%|█████████████████████▏                                                                                                | 9/50 [00:58<03:49,  5.60s/it]\u001b[A\n",
      "Average Metric: 16.200000000000003 / 10  (162.0):  20%|███████████████████████▍                                                                                             | 10/50 [00:58<03:39,  5.49s/it]\u001b[A"
     ]
    },
    {
     "name": "stdout",
     "output_type": "stream",
     "text": [
      "Faithful: 1\n",
      "Detail: 1\n",
      "Overall: 5\n",
      "Test Question: What year did the mountain known in Italian as \"Monte Vesuvio\", erupt?\n",
      "Predicted Answer: The eruption of Mount Vesuvius, known in Italian as \"Monte Vesuvio\", famously occurred in the year 79 AD.\n"
     ]
    },
    {
     "name": "stderr",
     "output_type": "stream",
     "text": [
      "\n",
      "Average Metric: 17.800000000000004 / 11  (161.8):  20%|███████████████████████▍                                                                                             | 10/50 [01:03<03:39,  5.49s/it]\u001b[A\n",
      "Average Metric: 17.800000000000004 / 11  (161.8):  22%|█████████████████████████▋                                                                                           | 11/50 [01:03<03:28,  5.34s/it]\u001b[A"
     ]
    },
    {
     "name": "stdout",
     "output_type": "stream",
     "text": [
      "Faithful: 1\n",
      "Detail: 1\n",
      "Overall: 5\n",
      "Test Question: Is the 72nd field brigade part of the oldest or newest established field army?\n",
      "Predicted Answer: The 72nd field brigade is likely part of the newest established field army.\n"
     ]
    },
    {
     "name": "stderr",
     "output_type": "stream",
     "text": [
      "\n",
      "Average Metric: 19.400000000000006 / 12  (161.7):  22%|█████████████████████████▋                                                                                           | 11/50 [01:08<03:28,  5.34s/it]\u001b[A\n",
      "Average Metric: 19.400000000000006 / 12  (161.7):  24%|████████████████████████████                                                                                         | 12/50 [01:08<03:19,  5.25s/it]\u001b[A"
     ]
    },
    {
     "name": "stdout",
     "output_type": "stream",
     "text": [
      "Faithful: 1\n",
      "Detail: 1\n",
      "Overall: 5\n",
      "Test Question: Was Stanislaw Kiszka paid for his services by the Royal Treasury?\n",
      "Predicted Answer: Based on the information provided, it is not explicitly stated whether Stanislaw Kiszka was paid for his services by the Royal Treasury.\n"
     ]
    },
    {
     "name": "stderr",
     "output_type": "stream",
     "text": [
      "\n",
      "Average Metric: 21.600000000000005 / 13  (166.2):  24%|████████████████████████████                                                                                         | 12/50 [01:14<03:19,  5.25s/it]\u001b[A\n",
      "Average Metric: 21.600000000000005 / 13  (166.2):  26%|██████████████████████████████▍                                                                                      | 13/50 [01:14<03:22,  5.48s/it]\u001b[A"
     ]
    },
    {
     "name": "stdout",
     "output_type": "stream",
     "text": [
      "Faithful: 2\n",
      "Detail: 2\n",
      "Overall: 5\n",
      "Test Question: Which film director is younger, Del Lord or Wang Xiaoshuai?\n",
      "Predicted Answer: Wang Xiaoshuai is younger than Del Lord.\n"
     ]
    },
    {
     "name": "stderr",
     "output_type": "stream",
     "text": [
      "\n",
      "Average Metric: 23.200000000000006 / 14  (165.7):  26%|██████████████████████████████▍                                                                                      | 13/50 [01:19<03:22,  5.48s/it]\u001b[A\n",
      "Average Metric: 23.200000000000006 / 14  (165.7):  28%|████████████████████████████████▊                                                                                    | 14/50 [01:19<03:17,  5.50s/it]\u001b[A"
     ]
    },
    {
     "name": "stdout",
     "output_type": "stream",
     "text": [
      "Faithful: 1\n",
      "Detail: 1\n",
      "Overall: 5\n",
      "Test Question: Lord North Street has a resident in which former Conservative MP who received an 18-month prison sentence for perjury in 1999?\n",
      "Predicted Answer: Jonathan Aitken\n"
     ]
    },
    {
     "name": "stderr",
     "output_type": "stream",
     "text": [
      "\n",
      "Average Metric: 24.800000000000008 / 15  (165.3):  28%|████████████████████████████████▊                                                                                    | 14/50 [01:27<03:17,  5.50s/it]\u001b[A\n",
      "Average Metric: 24.800000000000008 / 15  (165.3):  30%|███████████████████████████████████                                                                                  | 15/50 [01:27<03:37,  6.21s/it]\u001b[A"
     ]
    },
    {
     "name": "stdout",
     "output_type": "stream",
     "text": [
      "Faithful: 1\n",
      "Detail: 1\n",
      "Overall: 5\n",
      "Test Question: What is the name of this region of Italy, referring to the medieval March of Ancona and nearby marches of Camerino and Fermo, where the comune Pollenza is located?\n",
      "Predicted Answer: Marche\n"
     ]
    },
    {
     "name": "stderr",
     "output_type": "stream",
     "text": [
      "\n",
      "Average Metric: 26.40000000000001 / 16  (165.0):  30%|███████████████████████████████████▍                                                                                  | 15/50 [01:32<03:37,  6.21s/it]\u001b[A\n",
      "Average Metric: 26.40000000000001 / 16  (165.0):  32%|█████████████████████████████████████▊                                                                                | 16/50 [01:32<03:23,  5.99s/it]\u001b[A"
     ]
    },
    {
     "name": "stdout",
     "output_type": "stream",
     "text": [
      "Faithful: 1\n",
      "Detail: 1\n",
      "Overall: 5\n",
      "Test Question: William Hughes Miller was born in a city with how many inhabitants ?\n",
      "Predicted Answer: 872,000\n"
     ]
    },
    {
     "name": "stderr",
     "output_type": "stream",
     "text": [
      "\n",
      "Average Metric: 29.60000000000001 / 17  (174.1):  32%|█████████████████████████████████████▊                                                                                | 16/50 [01:37<03:23,  5.99s/it]\u001b[A\n",
      "Average Metric: 29.60000000000001 / 17  (174.1):  34%|████████████████████████████████████████                                                                              | 17/50 [01:37<03:05,  5.61s/it]\u001b[A"
     ]
    },
    {
     "name": "stdout",
     "output_type": "stream",
     "text": [
      "Faithful: 5\n",
      "Detail: 1\n",
      "Overall: 5\n",
      "Test Question: What do students do at the school of New York University where Meleko Mokgosi is an artist and assistant professor?\n",
      "Predicted Answer: Students at the school of New York University where Meleko Mokgosi is an artist and assistant professor likely engage in art-related activities, attend classes, and workshops led by him.\n"
     ]
    },
    {
     "name": "stderr",
     "output_type": "stream",
     "text": [
      "\n",
      "Average Metric: 31.40000000000001 / 18  (174.4):  34%|████████████████████████████████████████                                                                              | 17/50 [01:42<03:05,  5.61s/it]\u001b[A\n",
      "Average Metric: 31.40000000000001 / 18  (174.4):  36%|██████████████████████████████████████████▍                                                                           | 18/50 [01:42<02:53,  5.42s/it]\u001b[A"
     ]
    },
    {
     "name": "stdout",
     "output_type": "stream",
     "text": [
      "Faithful: 1\n",
      "Detail: 3\n",
      "Overall: 4\n",
      "Test Question: What is the nationality of the chef and restaurateur featured in Restaurant: Impossible?\n",
      "Predicted Answer: American\n"
     ]
    },
    {
     "name": "stderr",
     "output_type": "stream",
     "text": [
      "\n",
      "Average Metric: 33.00000000000001 / 19  (173.7):  36%|██████████████████████████████████████████▍                                                                           | 18/50 [01:47<02:53,  5.42s/it]\u001b[A\n",
      "Average Metric: 33.00000000000001 / 19  (173.7):  38%|████████████████████████████████████████████▊                                                                         | 19/50 [01:47<02:43,  5.27s/it]\u001b[A"
     ]
    },
    {
     "name": "stdout",
     "output_type": "stream",
     "text": [
      "Faithful: 1\n",
      "Detail: 1\n",
      "Overall: 5\n",
      "Test Question: What American actor plays an East side drug lord who prefers peaceful solutions to business disputes when possible?\n",
      "Predicted Answer: Samuel L. Jackson\n"
     ]
    },
    {
     "name": "stderr",
     "output_type": "stream",
     "text": [
      "\n",
      "Average Metric: 33.800000000000004 / 20  (169.0):  38%|████████████████████████████████████████████▍                                                                        | 19/50 [01:52<02:43,  5.27s/it]\u001b[A\n",
      "Average Metric: 33.800000000000004 / 20  (169.0):  40%|██████████████████████████████████████████████▊                                                                      | 20/50 [01:52<02:33,  5.10s/it]\u001b[A"
     ]
    },
    {
     "name": "stdout",
     "output_type": "stream",
     "text": [
      "Faithful: 1\n",
      "Detail: 1\n",
      "Overall: 1\n",
      "Test Question: What city is 11 miles north of the birthplace of actor Toby Sawyer?\n",
      "Predicted Answer: Without knowing Toby Sawyer's birthplace, we cannot determine the city that is 11 miles north of it.\n"
     ]
    },
    {
     "name": "stderr",
     "output_type": "stream",
     "text": [
      "\n",
      "Average Metric: 37.00000000000001 / 21  (176.2):  40%|███████████████████████████████████████████████▏                                                                      | 20/50 [01:57<02:33,  5.10s/it]\u001b[A\n",
      "Average Metric: 37.00000000000001 / 21  (176.2):  42%|█████████████████████████████████████████████████▌                                                                    | 21/50 [01:57<02:32,  5.26s/it]\u001b[A"
     ]
    },
    {
     "name": "stdout",
     "output_type": "stream",
     "text": [
      "Faithful: 4\n",
      "Detail: 3\n",
      "Overall: 5\n",
      "Test Question: Who was born first, Tony Kaye or Deepa Mehta?\n",
      "Predicted Answer: Tony Kaye was born first.\n"
     ]
    },
    {
     "name": "stderr",
     "output_type": "stream",
     "text": [
      "\n",
      "Average Metric: 38.60000000000001 / 22  (175.5):  42%|█████████████████████████████████████████████████▌                                                                    | 21/50 [02:06<02:32,  5.26s/it]\u001b[A\n",
      "Average Metric: 38.60000000000001 / 22  (175.5):  44%|███████████████████████████████████████████████████▉                                                                  | 22/50 [02:06<02:58,  6.39s/it]\u001b[A"
     ]
    },
    {
     "name": "stdout",
     "output_type": "stream",
     "text": [
      "Faithful: 1\n",
      "Detail: 1\n",
      "Overall: 5\n",
      "Test Question: What is the English translation of the name of the store that Macy's replaced in Boise Town Square?\n",
      "Predicted Answer: The English translation of the name of the store that Macy's replaced in Boise Town Square is not provided in the given context.\n"
     ]
    },
    {
     "name": "stderr",
     "output_type": "stream",
     "text": [
      "\n",
      "Average Metric: 40.400000000000006 / 23  (175.7):  44%|███████████████████████████████████████████████████▍                                                                 | 22/50 [02:12<02:58,  6.39s/it]\u001b[A\n",
      "Average Metric: 40.400000000000006 / 23  (175.7):  46%|█████████████████████████████████████████████████████▊                                                               | 23/50 [02:12<02:46,  6.18s/it]\u001b[A"
     ]
    },
    {
     "name": "stdout",
     "output_type": "stream",
     "text": [
      "Faithful: 1\n",
      "Detail: 2\n",
      "Overall: 5\n",
      "Test Question: Who did Lizzette Reynolds fire to make her notable in November 2007?\n",
      "Predicted Answer: Lizzette Reynolds fired the head coach of the University of Arkansas football team, Houston Nutt, in November 2007.\n"
     ]
    },
    {
     "name": "stderr",
     "output_type": "stream",
     "text": [
      "\n",
      "Average Metric: 42.2 / 24  (175.8):  46%|████████████████████████████████████████████████████████████▎                                                                      | 23/50 [02:18<02:46,  6.18s/it]\u001b[A\n",
      "Average Metric: 42.2 / 24  (175.8):  48%|██████████████████████████████████████████████████████████████▉                                                                    | 24/50 [02:18<02:34,  5.94s/it]\u001b[A"
     ]
    },
    {
     "name": "stdout",
     "output_type": "stream",
     "text": [
      "Faithful: 1\n",
      "Detail: 2\n",
      "Overall: 5\n",
      "Test Question: What was the name of the man, who was billed by the coiner of the phrase \"There's a sucker born every minute\" as \"Boy Lightning Calculator\"?\n",
      "Predicted Answer: P.T. Barnum\n"
     ]
    },
    {
     "name": "stderr",
     "output_type": "stream",
     "text": [
      "\n",
      "Average Metric: 43.800000000000004 / 25  (175.2):  48%|████████████████████████████████████████████████████████▏                                                            | 24/50 [02:22<02:34,  5.94s/it]\u001b[A\n",
      "Average Metric: 43.800000000000004 / 25  (175.2):  50%|██████████████████████████████████████████████████████████▌                                                          | 25/50 [02:22<02:18,  5.53s/it]\u001b[A"
     ]
    },
    {
     "name": "stdout",
     "output_type": "stream",
     "text": [
      "Faithful: 1\n",
      "Detail: 1\n",
      "Overall: 5\n",
      "Test Question: Which battle was fought for a shorter period of time, the Battle of the Ch'ongch'on River, or the Meuse-Argonne Offensive?\n",
      "Predicted Answer: The Battle of the Ch'ongch'on River was fought for a shorter period of time compared to the Meuse-Argonne Offensive.\n"
     ]
    },
    {
     "name": "stderr",
     "output_type": "stream",
     "text": [
      "\n",
      "Average Metric: 45.800000000000004 / 26  (176.2):  50%|██████████████████████████████████████████████████████████▌                                                          | 25/50 [02:27<02:18,  5.53s/it]\u001b[A\n",
      "Average Metric: 45.800000000000004 / 26  (176.2):  52%|████████████████████████████████████████████████████████████▊                                                        | 26/50 [02:27<02:07,  5.32s/it]\u001b[A"
     ]
    },
    {
     "name": "stdout",
     "output_type": "stream",
     "text": [
      "Faithful: 2\n",
      "Detail: 1\n",
      "Overall: 5\n",
      "Test Question: What cricketeer active 1974–1993 had a strong performance in the tour by the Australian cricket team in England in 1981?\n",
      "Predicted Answer: Ian Botham\n"
     ]
    },
    {
     "name": "stderr",
     "output_type": "stream",
     "text": [
      "\n",
      "Average Metric: 46.6 / 27  (172.6):  52%|████████████████████████████████████████████████████████████████████                                                               | 26/50 [02:33<02:07,  5.32s/it]\u001b[A\n",
      "Average Metric: 46.6 / 27  (172.6):  54%|██████████████████████████████████████████████████████████████████████▋                                                            | 27/50 [02:33<02:05,  5.45s/it]\u001b[A"
     ]
    },
    {
     "name": "stdout",
     "output_type": "stream",
     "text": [
      "Faithful: 1\n",
      "Detail: 1\n",
      "Overall: 1\n",
      "Test Question: What is the present post of the head coach of the 1982 NC State Wolfpack football team ?\n",
      "Predicted Answer: The present post of the head coach of the 1982 NC State Wolfpack football team is not provided in the context.\n"
     ]
    },
    {
     "name": "stderr",
     "output_type": "stream",
     "text": [
      "\n",
      "Average Metric: 48.4 / 28  (172.9):  54%|██████████████████████████████████████████████████████████████████████▋                                                            | 27/50 [02:39<02:05,  5.45s/it]\u001b[A\n",
      "Average Metric: 48.4 / 28  (172.9):  56%|█████████████████████████████████████████████████████████████████████████▎                                                         | 28/50 [02:39<02:05,  5.73s/it]\u001b[A"
     ]
    },
    {
     "name": "stdout",
     "output_type": "stream",
     "text": [
      "Faithful: 1\n",
      "Detail: 2\n",
      "Overall: 5\n",
      "Test Question: Which Scottish actor sang \"Come What May\"?\n",
      "Predicted Answer: Ewan McGregor\n"
     ]
    },
    {
     "name": "stderr",
     "output_type": "stream",
     "text": [
      "\n",
      "Average Metric: 49.199999999999996 / 29  (169.7):  56%|█████████████████████████████████████████████████████████████████▌                                                   | 28/50 [02:44<02:05,  5.73s/it]\u001b[A\n",
      "Average Metric: 49.199999999999996 / 29  (169.7):  58%|███████████████████████████████████████████████████████████████████▊                                                 | 29/50 [02:44<01:55,  5.51s/it]\u001b[A"
     ]
    },
    {
     "name": "stdout",
     "output_type": "stream",
     "text": [
      "Faithful: 1\n",
      "Detail: 1\n",
      "Overall: 1\n",
      "Test Question: Where have Ivan Bella and Frank De Winne both traveled?\n",
      "Predicted Answer: Ivan Bella and Frank De Winne have both traveled to the Netherlands.\n"
     ]
    },
    {
     "name": "stderr",
     "output_type": "stream",
     "text": [
      "\n",
      "Average Metric: 51.199999999999996 / 30  (170.7):  58%|███████████████████████████████████████████████████████████████████▊                                                 | 29/50 [02:49<01:55,  5.51s/it]\u001b[A\n",
      "Average Metric: 51.199999999999996 / 30  (170.7):  60%|██████████████████████████████████████████████████████████████████████▏                                              | 30/50 [02:49<01:47,  5.36s/it]\u001b[A"
     ]
    },
    {
     "name": "stdout",
     "output_type": "stream",
     "text": [
      "Faithful: 2\n",
      "Detail: 1\n",
      "Overall: 5\n",
      "Test Question: The original work by Anton Chekhov involving a disillusioned schoolmaster, which inspired a later play by this British playwright, was written specifically for whom?\n",
      "Predicted Answer: The original work by Anton Chekhov involving a disillusioned schoolmaster, which inspired a later play by a British playwright, was specifically written for the Russian audience.\n"
     ]
    },
    {
     "name": "stderr",
     "output_type": "stream",
     "text": [
      "\n",
      "Average Metric: 53.199999999999996 / 31  (171.6):  60%|██████████████████████████████████████████████████████████████████████▏                                              | 30/50 [02:54<01:47,  5.36s/it]\u001b[A\n",
      "Average Metric: 53.199999999999996 / 31  (171.6):  62%|████████████████████████████████████████████████████████████████████████▌                                            | 31/50 [02:54<01:40,  5.29s/it]\u001b[A"
     ]
    },
    {
     "name": "stdout",
     "output_type": "stream",
     "text": [
      "Faithful: 1\n",
      "Detail: 3\n",
      "Overall: 5\n",
      "Test Question: Are Roswell International Air Center and Pago Pago International Airport both located in the mainland US?\n",
      "Predicted Answer: No, Pago Pago International Airport is not located in the mainland US.\n"
     ]
    },
    {
     "name": "stderr",
     "output_type": "stream",
     "text": [
      "\n",
      "Average Metric: 55.8 / 32  (174.4):  62%|█████████████████████████████████████████████████████████████████████████████████▏                                                 | 31/50 [02:59<01:40,  5.29s/it]\u001b[A\n",
      "Average Metric: 55.8 / 32  (174.4):  64%|███████████████████████████████████████████████████████████████████████████████████▊                                               | 32/50 [02:59<01:32,  5.15s/it]\u001b[A"
     ]
    },
    {
     "name": "stdout",
     "output_type": "stream",
     "text": [
      "Faithful: 3\n",
      "Detail: 2\n",
      "Overall: 5\n",
      "Test Question: Untold: The Greatest Sports Stories Never Told was hosted by a sportscaster commonly referred to as what ?\n",
      "Predicted Answer: The sportscaster commonly referred to in the show \"Untold: The Greatest Sports Stories Never Told\" was hosted by Bob Costas.\n"
     ]
    },
    {
     "name": "stderr",
     "output_type": "stream",
     "text": [
      "\n",
      "Average Metric: 58.0 / 33  (175.8):  64%|███████████████████████████████████████████████████████████████████████████████████▊                                               | 32/50 [03:04<01:32,  5.15s/it]\u001b[A\n",
      "Average Metric: 58.0 / 33  (175.8):  66%|██████████████████████████████████████████████████████████████████████████████████████▍                                            | 33/50 [03:04<01:26,  5.09s/it]\u001b[A"
     ]
    },
    {
     "name": "stdout",
     "output_type": "stream",
     "text": [
      "Faithful: 2\n",
      "Detail: 2\n",
      "Overall: 5\n",
      "Test Question: Are Walt Disney and Sacro GRA both documentry films?\n",
      "Predicted Answer: No, Walt Disney is not a documentary film. It is a company known for its animated films and theme parks. On the other hand, Sacro GRA is a documentary film directed by Gianfranco Rosi, which won the Golden Lion at the 70th Venice International Film Festival.\n"
     ]
    },
    {
     "name": "stderr",
     "output_type": "stream",
     "text": [
      "\n",
      "Average Metric: 60.2 / 34  (177.1):  66%|██████████████████████████████████████████████████████████████████████████████████████▍                                            | 33/50 [03:09<01:26,  5.09s/it]\u001b[A\n",
      "Average Metric: 60.2 / 34  (177.1):  68%|█████████████████████████████████████████████████████████████████████████████████████████                                          | 34/50 [03:09<01:23,  5.21s/it]\u001b[A"
     ]
    },
    {
     "name": "stdout",
     "output_type": "stream",
     "text": [
      "Faithful: 2\n",
      "Detail: 2\n",
      "Overall: 5\n",
      "Test Question: What is the Palestinian Islamic organization that governs th small territory on the eastern coast of the Mediterranean Sea that was captured by Israel during the 1967 Six-Day War?\n",
      "Predicted Answer: Hamas\n"
     ]
    },
    {
     "name": "stderr",
     "output_type": "stream",
     "text": [
      "\n",
      "Average Metric: 61.800000000000004 / 35  (176.6):  68%|███████████████████████████████████████████████████████████████████████████████▌                                     | 34/50 [03:15<01:23,  5.21s/it]\u001b[A\n",
      "Average Metric: 61.800000000000004 / 35  (176.6):  70%|█████████████████████████████████████████████████████████████████████████████████▉                                   | 35/50 [03:15<01:19,  5.30s/it]\u001b[A"
     ]
    },
    {
     "name": "stdout",
     "output_type": "stream",
     "text": [
      "Faithful: 1\n",
      "Detail: 1\n",
      "Overall: 5\n",
      "Test Question: What album did the song of which Taylor Swift premiered the music video of during the pre-show of the 2015 MTV Video Music Awards come from?\n",
      "Predicted Answer: The song \"Wildest Dreams\" comes from Taylor Swift's album \"1989.\"\n"
     ]
    },
    {
     "name": "stderr",
     "output_type": "stream",
     "text": [
      "\n",
      "Average Metric: 63.400000000000006 / 36  (176.1):  70%|█████████████████████████████████████████████████████████████████████████████████▉                                   | 35/50 [03:20<01:19,  5.30s/it]\u001b[A\n",
      "Average Metric: 63.400000000000006 / 36  (176.1):  72%|████████████████████████████████████████████████████████████████████████████████████▏                                | 36/50 [03:20<01:13,  5.23s/it]\u001b[A"
     ]
    },
    {
     "name": "stdout",
     "output_type": "stream",
     "text": [
      "Faithful: 1\n",
      "Detail: 1\n",
      "Overall: 5\n",
      "Test Question: Which is considered a genus level classification, Apera or Gunnera manicata?\n",
      "Predicted Answer: Gunnera manicata\n"
     ]
    },
    {
     "name": "stderr",
     "output_type": "stream",
     "text": [
      "\n",
      "Average Metric: 65.4 / 37  (176.8):  72%|██████████████████████████████████████████████████████████████████████████████████████████████▎                                    | 36/50 [03:25<01:13,  5.23s/it]\u001b[A\n",
      "Average Metric: 65.4 / 37  (176.8):  74%|████████████████████████████████████████████████████████████████████████████████████████████████▉                                  | 37/50 [03:25<01:08,  5.30s/it]\u001b[A"
     ]
    },
    {
     "name": "stdout",
     "output_type": "stream",
     "text": [
      "Faithful: 1\n",
      "Detail: 3\n",
      "Overall: 5\n",
      "Test Question: Do The Drums and Pussy Galore play music of similar genres?\n",
      "Predicted Answer: The Drums and Pussy Galore do not play music of similar genres. The Drums are known for their indie pop and post-punk revival sound, while Pussy Galore is a noise rock and punk blues band.\n"
     ]
    },
    {
     "name": "stderr",
     "output_type": "stream",
     "text": [
      "\n",
      "Average Metric: 69.2 / 38  (182.1):  74%|████████████████████████████████████████████████████████████████████████████████████████████████▉                                  | 37/50 [03:31<01:08,  5.30s/it]\u001b[A\n",
      "Average Metric: 69.2 / 38  (182.1):  76%|███████████████████████████████████████████████████████████████████████████████████████████████████▌                               | 38/50 [03:31<01:03,  5.30s/it]\u001b[A"
     ]
    },
    {
     "name": "stdout",
     "output_type": "stream",
     "text": [
      "Faithful: 5\n",
      "Detail: 4\n",
      "Overall: 5\n",
      "Test Question: What is the post-nominal abbreviation for the university where the Banded Mongoose Research Project is based?\n",
      "Predicted Answer: The post-nominal abbreviation for the university where the Banded Mongoose Research Project is based is not provided in the given context.\n"
     ]
    },
    {
     "name": "stderr",
     "output_type": "stream",
     "text": [
      "\n",
      "Average Metric: 71.2 / 39  (182.6):  76%|███████████████████████████████████████████████████████████████████████████████████████████████████▌                               | 38/50 [03:36<01:03,  5.30s/it]\u001b[A\n",
      "Average Metric: 71.2 / 39  (182.6):  78%|██████████████████████████████████████████████████████████████████████████████████████████████████████▏                            | 39/50 [03:36<00:58,  5.33s/it]\u001b[A"
     ]
    },
    {
     "name": "stdout",
     "output_type": "stream",
     "text": [
      "Faithful: 1\n",
      "Detail: 3\n",
      "Overall: 5\n",
      "Test Question: Are both Benjamin Christensen and Len Wiseman directors?\n",
      "Predicted Answer: No, only Len Wiseman is mentioned in the context as a director. Benjamin Christensen is not mentioned in the context provided.\n"
     ]
    },
    {
     "name": "stderr",
     "output_type": "stream",
     "text": [
      "\n",
      "Average Metric: 73.2 / 40  (183.0):  78%|██████████████████████████████████████████████████████████████████████████████████████████████████████▏                            | 39/50 [03:41<00:58,  5.33s/it]\u001b[A\n",
      "Average Metric: 73.2 / 40  (183.0):  80%|████████████████████████████████████████████████████████████████████████████████████████████████████████▊                          | 40/50 [03:41<00:50,  5.03s/it]\u001b[A"
     ]
    },
    {
     "name": "stdout",
     "output_type": "stream",
     "text": [
      "Faithful: 2\n",
      "Detail: 1\n",
      "Overall: 5\n",
      "Test Question: Steven Cuitlahuac Melendez and Disney are connected by what American animator?\n",
      "Predicted Answer: The American animator connected to Steven Cuitlahuac Melendez and Disney is Ub Iwerks.\n"
     ]
    },
    {
     "name": "stderr",
     "output_type": "stream",
     "text": [
      "\n",
      "Average Metric: 75.0 / 41  (182.9):  80%|████████████████████████████████████████████████████████████████████████████████████████████████████████▊                          | 40/50 [03:45<00:50,  5.03s/it]\u001b[A\n",
      "Average Metric: 75.0 / 41  (182.9):  82%|███████████████████████████████████████████████████████████████████████████████████████████████████████████▍                       | 41/50 [03:45<00:44,  4.95s/it]\u001b[A"
     ]
    },
    {
     "name": "stdout",
     "output_type": "stream",
     "text": [
      "Faithful: 1\n",
      "Detail: 2\n",
      "Overall: 5\n",
      "Test Question: Shark Creek is located on this river which is in the northern rivers district?\n",
      "Predicted Answer: The river in the northern rivers district where Shark Creek is located is the Clarence River.\n"
     ]
    },
    {
     "name": "stderr",
     "output_type": "stream",
     "text": [
      "\n",
      "Average Metric: 77.2 / 42  (183.8):  82%|███████████████████████████████████████████████████████████████████████████████████████████████████████████▍                       | 41/50 [03:50<00:44,  4.95s/it]\u001b[A\n",
      "Average Metric: 77.2 / 42  (183.8):  84%|██████████████████████████████████████████████████████████████████████████████████████████████████████████████                     | 42/50 [03:50<00:39,  4.99s/it]\u001b[A"
     ]
    },
    {
     "name": "stdout",
     "output_type": "stream",
     "text": [
      "Faithful: 2\n",
      "Detail: 2\n",
      "Overall: 5\n",
      "Test Question: Who was the producer of the 2016 animated film about an amnesiac fish?\n",
      "Predicted Answer: The producer of the 2016 animated film about an amnesiac fish is Pixar Animation Studios.\n"
     ]
    },
    {
     "name": "stderr",
     "output_type": "stream",
     "text": [
      "\n",
      "Average Metric: 78.2 / 43  (181.9):  84%|██████████████████████████████████████████████████████████████████████████████████████████████████████████████                     | 42/50 [03:56<00:39,  4.99s/it]\u001b[A\n",
      "Average Metric: 78.2 / 43  (181.9):  86%|████████████████████████████████████████████████████████████████████████████████████████████████████████████████▋                  | 43/50 [03:56<00:37,  5.30s/it]\u001b[A"
     ]
    },
    {
     "name": "stdout",
     "output_type": "stream",
     "text": [
      "Faithful: 1\n",
      "Detail: 2\n",
      "Overall: 1\n",
      "Test Question: Who purchased the team Michael Schumacher raced for in the 1995 Monaco Grand Prix in 2000?\n",
      "Predicted Answer: Fiat\n"
     ]
    },
    {
     "name": "stderr",
     "output_type": "stream",
     "text": [
      "\n",
      "Average Metric: 79.8 / 44  (181.4):  86%|████████████████████████████████████████████████████████████████████████████████████████████████████████████████▋                  | 43/50 [04:01<00:37,  5.30s/it]\u001b[A\n",
      "Average Metric: 79.8 / 44  (181.4):  88%|███████████████████████████████████████████████████████████████████████████████████████████████████████████████████▎               | 44/50 [04:01<00:30,  5.03s/it]\u001b[A"
     ]
    },
    {
     "name": "stdout",
     "output_type": "stream",
     "text": [
      "Faithful: 1\n",
      "Detail: 1\n",
      "Overall: 5\n",
      "Test Question: Fredrick Law Olmsted was an American landscape architect, journalist, social critic and public administrator that designed what neighborhood in Trenton, New Jersey?\n",
      "Predicted Answer: Olmsted designed the neighborhood of Cadwalader Heights in Trenton, New Jersey.\n"
     ]
    },
    {
     "name": "stderr",
     "output_type": "stream",
     "text": [
      "\n",
      "Average Metric: 81.6 / 45  (181.3):  88%|███████████████████████████████████████████████████████████████████████████████████████████████████████████████████▎               | 44/50 [04:06<00:30,  5.03s/it]\u001b[A\n",
      "Average Metric: 81.6 / 45  (181.3):  90%|█████████████████████████████████████████████████████████████████████████████████████████████████████████████████████▉             | 45/50 [04:06<00:25,  5.14s/it]\u001b[A"
     ]
    },
    {
     "name": "stdout",
     "output_type": "stream",
     "text": [
      "Faithful: 1\n",
      "Detail: 2\n",
      "Overall: 5\n",
      "Test Question: Gordon Warnecke worked alongside the former senator for which political party on Young Toscanini?\n",
      "Predicted Answer: Gordon Warnecke worked alongside the former senator for the Democratic Party on Young Toscanini.\n"
     ]
    },
    {
     "name": "stderr",
     "output_type": "stream",
     "text": [
      "\n",
      "Average Metric: 82.39999999999999 / 46  (179.1):  90%|██████████████████████████████████████████████████████████████████████████████████████████████████████████▏           | 45/50 [04:11<00:25,  5.14s/it]\u001b[A\n",
      "Average Metric: 82.39999999999999 / 46  (179.1):  92%|████████████████████████████████████████████████████████████████████████████████████████████████████████████▌         | 46/50 [04:11<00:20,  5.09s/it]\u001b[A"
     ]
    },
    {
     "name": "stdout",
     "output_type": "stream",
     "text": [
      "Faithful: 1\n",
      "Detail: 1\n",
      "Overall: 1\n",
      "Test Question: André Zucca was a French photographer who worked with a German propaganda magazine published by what Nazi organization?\n",
      "Predicted Answer: Ministry of Public Enlightenment and Propaganda\n"
     ]
    },
    {
     "name": "stderr",
     "output_type": "stream",
     "text": [
      "\n",
      "Average Metric: 83.99999999999999 / 47  (178.7):  92%|████████████████████████████████████████████████████████████████████████████████████████████████████████████▌         | 46/50 [04:16<00:20,  5.09s/it]\u001b[A\n",
      "Average Metric: 83.99999999999999 / 47  (178.7):  94%|██████████████████████████████████████████████████████████████████████████████████████████████████████████████▉       | 47/50 [04:16<00:15,  5.11s/it]\u001b[A"
     ]
    },
    {
     "name": "stdout",
     "output_type": "stream",
     "text": [
      "Faithful: 1\n",
      "Detail: 1\n",
      "Overall: 5\n",
      "Test Question: Both Bill Ponsford and Bill Woodfull played what?\n",
      "Predicted Answer: Both Bill Ponsford and Bill Woodfull played cricket.\n"
     ]
    },
    {
     "name": "stderr",
     "output_type": "stream",
     "text": [
      "\n",
      "Average Metric: 85.59999999999998 / 48  (178.3):  94%|██████████████████████████████████████████████████████████████████████████████████████████████████████████████▉       | 47/50 [04:22<00:15,  5.11s/it]\u001b[A\n",
      "Average Metric: 85.59999999999998 / 48  (178.3):  96%|█████████████████████████████████████████████████████████████████████████████████████████████████████████████████▎    | 48/50 [04:22<00:10,  5.14s/it]\u001b[A"
     ]
    },
    {
     "name": "stdout",
     "output_type": "stream",
     "text": [
      "Faithful: 1\n",
      "Detail: 1\n",
      "Overall: 5\n",
      "Test Question:  Suzana S. Drobnjaković Ponti acted in a film loosely based on a book by who?\n",
      "Predicted Answer: Unfortunately, based on the context provided, we cannot determine the answer to this question.\n"
     ]
    },
    {
     "name": "stderr",
     "output_type": "stream",
     "text": [
      "\n",
      "Average Metric: 88.39999999999998 / 49  (180.4):  96%|█████████████████████████████████████████████████████████████████████████████████████████████████████████████████▎    | 48/50 [04:26<00:10,  5.14s/it]\u001b[A\n",
      "Average Metric: 88.39999999999998 / 49  (180.4):  98%|███████████████████████████████████████████████████████████████████████████████████████████████████████████████████▋  | 49/50 [04:26<00:04,  4.89s/it]\u001b[A"
     ]
    },
    {
     "name": "stdout",
     "output_type": "stream",
     "text": [
      "Faithful: 4\n",
      "Detail: 1\n",
      "Overall: 5\n",
      "Test Question: In what city was the Election Law Journal founded?\n",
      "Predicted Answer: Amsterdam\n"
     ]
    },
    {
     "name": "stderr",
     "output_type": "stream",
     "text": [
      "\n",
      "Average Metric: 91.59999999999998 / 50  (183.2):  98%|███████████████████████████████████████████████████████████████████████████████████████████████████████████████████▋  | 49/50 [04:31<00:04,  4.89s/it]\u001b[A\n",
      "Average Metric: 91.59999999999998 / 50  (183.2): 100%|██████████████████████████████████████████████████████████████████████████████████████████████████████████████████████| 50/50 [04:31<00:00,  5.42s/it]\u001b[A"
     ]
    },
    {
     "name": "stdout",
     "output_type": "stream",
     "text": [
      "Faithful: 5\n",
      "Detail: 1\n",
      "Overall: 5\n",
      "Average Metric: 91.59999999999998 / 50  (183.2%)\n"
     ]
    },
    {
     "name": "stderr",
     "output_type": "stream",
     "text": [
      "\n",
      "/Users/derrickmwiti/.env/lib/python3.11/site-packages/dspy/evaluate/evaluate.py:266: FutureWarning: Setting an item of incompatible dtype is deprecated and will raise in a future error of pandas. Value '['1.8' '1.6' '0.8' '2.2' '0.8']' has dtype incompatible with float64, please explicitly cast to a compatible dtype first.\n",
      "  df.loc[:, metric_name] = df[metric_name].apply(\n"
     ]
    },
    {
     "data": {
      "text/html": [
       "<style type=\"text/css\">\n",
       "#T_6b544 th {\n",
       "  text-align: left;\n",
       "}\n",
       "#T_6b544 td {\n",
       "  text-align: left;\n",
       "}\n",
       "#T_6b544_row0_col0, #T_6b544_row0_col1, #T_6b544_row0_col2, #T_6b544_row0_col3, #T_6b544_row0_col4, #T_6b544_row0_col5, #T_6b544_row1_col0, #T_6b544_row1_col1, #T_6b544_row1_col2, #T_6b544_row1_col3, #T_6b544_row1_col4, #T_6b544_row1_col5, #T_6b544_row2_col0, #T_6b544_row2_col1, #T_6b544_row2_col2, #T_6b544_row2_col3, #T_6b544_row2_col4, #T_6b544_row2_col5, #T_6b544_row3_col0, #T_6b544_row3_col1, #T_6b544_row3_col2, #T_6b544_row3_col3, #T_6b544_row3_col4, #T_6b544_row3_col5, #T_6b544_row4_col0, #T_6b544_row4_col1, #T_6b544_row4_col2, #T_6b544_row4_col3, #T_6b544_row4_col4, #T_6b544_row4_col5 {\n",
       "  text-align: left;\n",
       "  white-space: pre-wrap;\n",
       "  word-wrap: break-word;\n",
       "  max-width: 400px;\n",
       "}\n",
       "</style>\n",
       "<table id=\"T_6b544\">\n",
       "  <thead>\n",
       "    <tr>\n",
       "      <th class=\"blank level0\" >&nbsp;</th>\n",
       "      <th id=\"T_6b544_level0_col0\" class=\"col_heading level0 col0\" >question</th>\n",
       "      <th id=\"T_6b544_level0_col1\" class=\"col_heading level0 col1\" >example_answer</th>\n",
       "      <th id=\"T_6b544_level0_col2\" class=\"col_heading level0 col2\" >gold_titles</th>\n",
       "      <th id=\"T_6b544_level0_col3\" class=\"col_heading level0 col3\" >context</th>\n",
       "      <th id=\"T_6b544_level0_col4\" class=\"col_heading level0 col4\" >pred_answer</th>\n",
       "      <th id=\"T_6b544_level0_col5\" class=\"col_heading level0 col5\" >llm_metric</th>\n",
       "    </tr>\n",
       "  </thead>\n",
       "  <tbody>\n",
       "    <tr>\n",
       "      <th id=\"T_6b544_level0_row0\" class=\"row_heading level0 row0\" >0</th>\n",
       "      <td id=\"T_6b544_row0_col0\" class=\"data row0 col0\" >Are both Cangzhou and Qionghai in the Hebei province of China?</td>\n",
       "      <td id=\"T_6b544_row0_col1\" class=\"data row0 col1\" >no</td>\n",
       "      <td id=\"T_6b544_row0_col2\" class=\"data row0 col2\" >{'Cangzhou', 'Qionghai'}</td>\n",
       "      <td id=\"T_6b544_row0_col3\" class=\"data row0 col3\" >['Table\\n* indicates \"Cities of COUNTRY or TERRITORY\" links.\\nCountry (or territory)\\tCapital\\tPopulation\\t% of country\\tSource\\n China\\u202f*\\tBeijing\\t21,542,000\\t1.5%\\t[1] 2018\\n Japan\\u202f*\\tTokyo\\t14,094,034\\t11.3%\\t[2] 2023\\n Russia\\u202f*\\tMoscow\\t13,104,177\\t9.0%\\t[3] 2023\\n DR Congo\\u202f*\\tKinshasa\\t12,691,000\\t13.2%\\t[4] 2017\\n Indonesia\\u202f*\\tJakarta\\t10,562,088\\t3.9%\\t[5] 2020\\n Egypt\\u202f*\\tCairo\\t10,107,125\\t9.3%\\t[6] 2022\\n...</td>\n",
       "      <td id=\"T_6b544_row0_col4\" class=\"data row0 col4\" >No</td>\n",
       "      <td id=\"T_6b544_row0_col5\" class=\"data row0 col5\" >1.8</td>\n",
       "    </tr>\n",
       "    <tr>\n",
       "      <th id=\"T_6b544_level0_row1\" class=\"row_heading level0 row1\" >1</th>\n",
       "      <td id=\"T_6b544_row1_col0\" class=\"data row1 col0\" >Who conducts the draft in which Marc-Andre Fleury was drafted to the Vegas Golden Knights for the 2017-18 season?</td>\n",
       "      <td id=\"T_6b544_row1_col1\" class=\"data row1 col1\" >National Hockey League</td>\n",
       "      <td id=\"T_6b544_row1_col2\" class=\"data row1 col2\" >{'2017–18 Pittsburgh Penguins season', '2017 NHL Expansion Draft'}</td>\n",
       "      <td id=\"T_6b544_row1_col3\" class=\"data row1 col3\" >['Amsterdam holds two American football franchises: the Amsterdam Crusaders and the Amsterdam Panthers. The Amsterdam Pirates baseball team competes in the Dutch Major League. There...</td>\n",
       "      <td id=\"T_6b544_row1_col4\" class=\"data row1 col4\" >The National Hockey League (NHL) conducted the draft in which Marc-Andre Fleury was drafted to the Vegas Golden Knights for the 2017-18 season.</td>\n",
       "      <td id=\"T_6b544_row1_col5\" class=\"data row1 col5\" >1.6</td>\n",
       "    </tr>\n",
       "    <tr>\n",
       "      <th id=\"T_6b544_level0_row2\" class=\"row_heading level0 row2\" >2</th>\n",
       "      <td id=\"T_6b544_row2_col0\" class=\"data row2 col0\" >The Wings entered a new era, following the retirement of which Canadian retired professional ice hockey player and current general manager of the Tampa Bay...</td>\n",
       "      <td id=\"T_6b544_row2_col1\" class=\"data row2 col1\" >Steve Yzerman</td>\n",
       "      <td id=\"T_6b544_row2_col2\" class=\"data row2 col2\" >{'Steve Yzerman', '2006–07 Detroit Red Wings season'}</td>\n",
       "      <td id=\"T_6b544_row2_col3\" class=\"data row2 col3\" >['city was finally liberated by Canadian forces on 5 May 1945, shortly before the end of the war in Europe.', 'In parallel, the Eastern Question...</td>\n",
       "      <td id=\"T_6b544_row2_col4\" class=\"data row2 col4\" >Steve Yzerman</td>\n",
       "      <td id=\"T_6b544_row2_col5\" class=\"data row2 col5\" >0.8</td>\n",
       "    </tr>\n",
       "    <tr>\n",
       "      <th id=\"T_6b544_level0_row3\" class=\"row_heading level0 row3\" >3</th>\n",
       "      <td id=\"T_6b544_row3_col0\" class=\"data row3 col0\" >What river is near the Crichton Collegiate Church?</td>\n",
       "      <td id=\"T_6b544_row3_col1\" class=\"data row3 col1\" >the River Tyne</td>\n",
       "      <td id=\"T_6b544_row3_col2\" class=\"data row3 col2\" >{'Crichton Castle', 'Crichton Collegiate Church'}</td>\n",
       "      <td id=\"T_6b544_row3_col3\" class=\"data row3 col3\" >['By the mid-19th century, there were three main conventions, one following the Don, the Volga–Don Canal and the Volga, the other following the Kuma–Manych Depression...</td>\n",
       "      <td id=\"T_6b544_row3_col4\" class=\"data row3 col4\" >The information provided does not specify the river near the Crichton Collegiate Church.</td>\n",
       "      <td id=\"T_6b544_row3_col5\" class=\"data row3 col5\" >2.2</td>\n",
       "    </tr>\n",
       "    <tr>\n",
       "      <th id=\"T_6b544_level0_row4\" class=\"row_heading level0 row4\" >4</th>\n",
       "      <td id=\"T_6b544_row4_col0\" class=\"data row4 col0\" >In the 10th Century A.D. Ealhswith had a son called Æthelweard by which English king?</td>\n",
       "      <td id=\"T_6b544_row4_col1\" class=\"data row4 col1\" >King Alfred the Great</td>\n",
       "      <td id=\"T_6b544_row4_col2\" class=\"data row4 col2\" >{'Ealhswith', 'Æthelweard (son of Alfred)'}</td>\n",
       "      <td id=\"T_6b544_row4_col3\" class=\"data row4 col3\" >['During the Dark Ages, the Western Roman Empire fell under the control of various tribes. The Germanic and Slav tribes established their domains over Western...</td>\n",
       "      <td id=\"T_6b544_row4_col4\" class=\"data row4 col4\" >King Alfred the Great</td>\n",
       "      <td id=\"T_6b544_row4_col5\" class=\"data row4 col5\" >0.8</td>\n",
       "    </tr>\n",
       "  </tbody>\n",
       "</table>\n"
      ],
      "text/plain": [
       "<pandas.io.formats.style.Styler at 0x30a9bfdd0>"
      ]
     },
     "metadata": {},
     "output_type": "display_data"
    },
    {
     "data": {
      "text/html": [
       "\n",
       "                <div style='\n",
       "                    text-align: center;\n",
       "                    font-size: 16px;\n",
       "                    font-weight: bold;\n",
       "                    color: #555;\n",
       "                    margin: 10px 0;'>\n",
       "                    ... 45 more rows not displayed ...\n",
       "                </div>\n",
       "                "
      ],
      "text/plain": [
       "<IPython.core.display.HTML object>"
      ]
     },
     "metadata": {},
     "output_type": "display_data"
    },
    {
     "data": {
      "text/plain": [
       "183.2"
      ]
     },
     "execution_count": 38,
     "metadata": {},
     "output_type": "execute_result"
    }
   ],
   "source": [
    "from dspy.evaluate.evaluate import Evaluate\n",
    "\n",
    "evaluate = Evaluate(devset=devset, num_threads=1, display_progress=True, display_table=5)\n",
    "\n",
    "evaluate(RAG(), metric=llm_metric)"
   ]
  },
  {
   "cell_type": "code",
   "execution_count": 39,
   "id": "7a91d546-79d6-4fa2-ac49-7dede236c154",
   "metadata": {},
   "outputs": [
    {
     "name": "stdout",
     "output_type": "stream",
     "text": [
      "\n",
      "\n",
      "\n",
      "\n",
      "Assess the quality of an answer to a question.\n",
      "\n",
      "---\n",
      "\n",
      "Follow the following format.\n",
      "\n",
      "Context: The context for answering the question.\n",
      "\n",
      "Assessed Question: The evaluation criterion.\n",
      "\n",
      "Assessed Answer: The answer to the question.\n",
      "\n",
      "Reasoning: Let's think step by step in order to ${produce the assessment_answer}. We ...\n",
      "\n",
      "Assessment Answer: A rating between 1 and 5. Only output the rating and nothing else.\n",
      "\n",
      "---\n",
      "\n",
      "Context:\n",
      "[1] «On 18 September 2017, it was announced by Eberhard van der Laan in an open letter to Amsterdam citizens that Kajsa Ollongren would take up his office as acting Mayor of Amsterdam with immediate effect due to ill health.[233] Ollongren was succeeded as acting Mayor by Eric van der Burg on 26 October 2017 and by Jozias van Aartsen on 4 December 2017.»\n",
      "[2] «from the late 16th century, when city and province became part of the Republic of the Seven United Netherlands. Last came the city's official motto: Heldhaftig, Vastberaden, Barmhartig (\"Heroic, Determined, Merciful\"), bestowed on the city in 1947 by Queen Wilhelmina, in recognition of the city's bravery during the Second World War.»\n",
      "[3] «of North Holland for a six-year term after being nominated by the Amsterdam municipal council and began serving a six-year term on 12 July 2018. She replaces Eberhard van der Laan (Labour Party) who was the Mayor of Amsterdam from 2010 until his death in October 2017. After the 2014 municipal council elections, a governing majority of D66, VVD and SP was formed – the first coalition without the Labour Party since World War II.[231] Next to the Mayor, the municipal executive board consists of eight wethouders ('alderpersons') appointed by the municipal council: four D66 alderpersons, two VVD»\n",
      "[4] «Under the Dutch Constitution, Amsterdam is the capital of the Netherlands. Since the 1983 constitutional revision, the constitution mentions \"Amsterdam\" and \"capital\" in chapter 2, article 32: The king's confirmation by oath and his coronation take place in \"the capital Amsterdam\" (\"de hoofdstad Amsterdam\").[238] Previous versions of the constitution only mentioned \"the city of Amsterdam\" (\"de stad Amsterdam\").[239] For a royal investiture, therefore, the States General of the Netherlands (the Dutch Parliament) meets for a ceremonial joint session in Amsterdam. The ceremony traditionally»\n",
      "[5] «largest law firms and several subsidiaries of large consulting firms, such as Boston Consulting Group and Accenture, as well as the World Trade Centre (Amsterdam) located in the Zuidas district. In addition to the Zuidas, there are three smaller financial districts in Amsterdam:»\n",
      "\n",
      "Assessed Question: Is the assessed text grounded in the context? Say no if it includes significant facts not in the context.\n",
      "\n",
      "Assessed Answer: Amsterdam\n",
      "\n",
      "Reasoning: Let's think step by step in order to Assessment Answer: 5\n",
      "\n",
      "Assessment Answer:\u001b[32m 5\u001b[0m\n",
      "\n",
      "\n",
      "\n",
      "\n",
      "\n",
      "\n",
      "\n",
      "Assess the quality of an answer to a question.\n",
      "\n",
      "---\n",
      "\n",
      "Follow the following format.\n",
      "\n",
      "Context: The context for answering the question.\n",
      "\n",
      "Assessed Question: The evaluation criterion.\n",
      "\n",
      "Assessed Answer: The answer to the question.\n",
      "\n",
      "Reasoning: Let's think step by step in order to ${produce the assessment_answer}. We ...\n",
      "\n",
      "Assessment Answer: A rating between 1 and 5. Only output the rating and nothing else.\n",
      "\n",
      "---\n",
      "\n",
      "Context:\n",
      "[1] «On 18 September 2017, it was announced by Eberhard van der Laan in an open letter to Amsterdam citizens that Kajsa Ollongren would take up his office as acting Mayor of Amsterdam with immediate effect due to ill health.[233] Ollongren was succeeded as acting Mayor by Eric van der Burg on 26 October 2017 and by Jozias van Aartsen on 4 December 2017.»\n",
      "[2] «from the late 16th century, when city and province became part of the Republic of the Seven United Netherlands. Last came the city's official motto: Heldhaftig, Vastberaden, Barmhartig (\"Heroic, Determined, Merciful\"), bestowed on the city in 1947 by Queen Wilhelmina, in recognition of the city's bravery during the Second World War.»\n",
      "[3] «of North Holland for a six-year term after being nominated by the Amsterdam municipal council and began serving a six-year term on 12 July 2018. She replaces Eberhard van der Laan (Labour Party) who was the Mayor of Amsterdam from 2010 until his death in October 2017. After the 2014 municipal council elections, a governing majority of D66, VVD and SP was formed – the first coalition without the Labour Party since World War II.[231] Next to the Mayor, the municipal executive board consists of eight wethouders ('alderpersons') appointed by the municipal council: four D66 alderpersons, two VVD»\n",
      "[4] «Under the Dutch Constitution, Amsterdam is the capital of the Netherlands. Since the 1983 constitutional revision, the constitution mentions \"Amsterdam\" and \"capital\" in chapter 2, article 32: The king's confirmation by oath and his coronation take place in \"the capital Amsterdam\" (\"de hoofdstad Amsterdam\").[238] Previous versions of the constitution only mentioned \"the city of Amsterdam\" (\"de stad Amsterdam\").[239] For a royal investiture, therefore, the States General of the Netherlands (the Dutch Parliament) meets for a ceremonial joint session in Amsterdam. The ceremony traditionally»\n",
      "[5] «largest law firms and several subsidiaries of large consulting firms, such as Boston Consulting Group and Accenture, as well as the World Trade Centre (Amsterdam) located in the Zuidas district. In addition to the Zuidas, there are three smaller financial districts in Amsterdam:»\n",
      "\n",
      "Assessed Question: Please rate how well this answer answers the question, `In what city was the Election Law Journal founded?` based on the context. `Amsterdam`\n",
      "\n",
      "Assessed Answer: Amsterdam\n",
      "\n",
      "Reasoning: Let's think step by step in order to\u001b[32m Assessment Answer: 5\u001b[0m\n",
      "\n",
      "\n",
      "\n",
      "\n",
      "\n",
      "\n",
      "\n",
      "Assess the quality of an answer to a question.\n",
      "\n",
      "---\n",
      "\n",
      "Follow the following format.\n",
      "\n",
      "Context: The context for answering the question.\n",
      "\n",
      "Assessed Question: The evaluation criterion.\n",
      "\n",
      "Assessed Answer: The answer to the question.\n",
      "\n",
      "Reasoning: Let's think step by step in order to ${produce the assessment_answer}. We ...\n",
      "\n",
      "Assessment Answer: A rating between 1 and 5. Only output the rating and nothing else.\n",
      "\n",
      "---\n",
      "\n",
      "Context:\n",
      "[1] «On 18 September 2017, it was announced by Eberhard van der Laan in an open letter to Amsterdam citizens that Kajsa Ollongren would take up his office as acting Mayor of Amsterdam with immediate effect due to ill health.[233] Ollongren was succeeded as acting Mayor by Eric van der Burg on 26 October 2017 and by Jozias van Aartsen on 4 December 2017.»\n",
      "[2] «from the late 16th century, when city and province became part of the Republic of the Seven United Netherlands. Last came the city's official motto: Heldhaftig, Vastberaden, Barmhartig (\"Heroic, Determined, Merciful\"), bestowed on the city in 1947 by Queen Wilhelmina, in recognition of the city's bravery during the Second World War.»\n",
      "[3] «of North Holland for a six-year term after being nominated by the Amsterdam municipal council and began serving a six-year term on 12 July 2018. She replaces Eberhard van der Laan (Labour Party) who was the Mayor of Amsterdam from 2010 until his death in October 2017. After the 2014 municipal council elections, a governing majority of D66, VVD and SP was formed – the first coalition without the Labour Party since World War II.[231] Next to the Mayor, the municipal executive board consists of eight wethouders ('alderpersons') appointed by the municipal council: four D66 alderpersons, two VVD»\n",
      "[4] «Under the Dutch Constitution, Amsterdam is the capital of the Netherlands. Since the 1983 constitutional revision, the constitution mentions \"Amsterdam\" and \"capital\" in chapter 2, article 32: The king's confirmation by oath and his coronation take place in \"the capital Amsterdam\" (\"de hoofdstad Amsterdam\").[238] Previous versions of the constitution only mentioned \"the city of Amsterdam\" (\"de stad Amsterdam\").[239] For a royal investiture, therefore, the States General of the Netherlands (the Dutch Parliament) meets for a ceremonial joint session in Amsterdam. The ceremony traditionally»\n",
      "[5] «largest law firms and several subsidiaries of large consulting firms, such as Boston Consulting Group and Accenture, as well as the World Trade Centre (Amsterdam) located in the Zuidas district. In addition to the Zuidas, there are three smaller financial districts in Amsterdam:»\n",
      "\n",
      "Assessed Question: Please rate how well this answer answers the question, `In what city was the Election Law Journal founded?` based on the context. `Amsterdam`\n",
      "\n",
      "Assessed Answer: Amsterdam\n",
      "\n",
      "Reasoning: Let's think step by step in order to Assessment Answer: 5\n",
      "\n",
      "Assessment Answer:\u001b[32m 5\u001b[0m\n",
      "\n",
      "\n",
      "\n"
     ]
    }
   ],
   "source": [
    "metricLM.inspect_history(n=3)"
   ]
  },
  {
   "cell_type": "markdown",
   "id": "208a9d67-79be-49cd-814e-326c820e260a",
   "metadata": {},
   "source": [
    "## BootstrapFewShot"
   ]
  },
  {
   "cell_type": "code",
   "execution_count": 42,
   "id": "559db1b4-ffac-4368-89b3-436f4ee95790",
   "metadata": {},
   "outputs": [
    {
     "name": "stderr",
     "output_type": "stream",
     "text": [
      "\n",
      "  0%|                                                                                                                                                                                | 0/20 [00:00<?, ?it/s]\u001b[A"
     ]
    },
    {
     "name": "stdout",
     "output_type": "stream",
     "text": [
      "Test Question: At My Window was released by which American singer-songwriter?\n",
      "Predicted Answer: N/A\n"
     ]
    },
    {
     "name": "stderr",
     "output_type": "stream",
     "text": [
      "\n",
      "  5%|████████▍                                                                                                                                                               | 1/20 [00:07<02:22,  7.53s/it]\u001b[A"
     ]
    },
    {
     "name": "stdout",
     "output_type": "stream",
     "text": [
      "Faithful: 5\n",
      "Detail: 4\n",
      "Overall: N/A\n",
      "Failed to run or to evaluate example Example({'question': 'At My Window was released by which American singer-songwriter?', 'answer': 'John Townes Van Zandt'}) (input_keys={'question'}) with <function llm_metric at 0x30a6ef740> due to could not convert string to float: 'N/A'.\n",
      "Test Question: which  American actor was Candace Kita  guest starred with \n",
      "Predicted Answer: The answer cannot be determined based on the provided context.\n"
     ]
    },
    {
     "name": "stderr",
     "output_type": "stream",
     "text": [
      "\n",
      " 10%|████████████████▊                                                                                                                                                       | 2/20 [00:13<02:01,  6.78s/it]\u001b[A"
     ]
    },
    {
     "name": "stdout",
     "output_type": "stream",
     "text": [
      "Faithful: The answer cannot be determined based on the provided context.\n",
      "Detail: 2\n",
      "Overall: 5\n",
      "Failed to run or to evaluate example Example({'question': 'which  American actor was Candace Kita  guest starred with ', 'answer': 'Bill Murray'}) (input_keys={'question'}) with <function llm_metric at 0x30a6ef740> due to could not convert string to float: 'The answer cannot be determined based on the provided context.'.\n",
      "Test Question: Which of these publications was most recently published, Who Put the Bomp or Self?\n",
      "Predicted Answer: Self\n"
     ]
    },
    {
     "name": "stderr",
     "output_type": "stream",
     "text": [
      "\n",
      " 15%|█████████████████████████▏                                                                                                                                              | 3/20 [00:20<01:52,  6.60s/it]\u001b[A"
     ]
    },
    {
     "name": "stdout",
     "output_type": "stream",
     "text": [
      "Faithful: 5\n",
      "Detail: 4\n",
      "Overall: 5\n",
      "Test Question: The Victorians - Their Story In Pictures is a documentary series written by an author born in what year?\n",
      "Predicted Answer: 19th century\n"
     ]
    },
    {
     "name": "stderr",
     "output_type": "stream",
     "text": [
      "\n",
      " 20%|█████████████████████████████████▌                                                                                                                                      | 4/20 [00:27<01:48,  6.76s/it]\u001b[A"
     ]
    },
    {
     "name": "stdout",
     "output_type": "stream",
     "text": [
      "Faithful: 4\n",
      "Detail: 1\n",
      "Overall: 1\n",
      "Test Question: Which magazine has published articles by Scott Shaw, Tae Kwon Do Times or Southwest Art?\n",
      "Predicted Answer: Tae Kwon Do Times\n"
     ]
    },
    {
     "name": "stderr",
     "output_type": "stream",
     "text": [
      "\n",
      " 25%|██████████████████████████████████████████                                                                                                                              | 5/20 [00:34<01:44,  6.99s/it]\u001b[A"
     ]
    },
    {
     "name": "stdout",
     "output_type": "stream",
     "text": [
      "Faithful: 1\n",
      "Detail: 1\n",
      "Overall: 5\n",
      "Test Question: In what year was the club founded that played Manchester City in the 1972 FA Charity Shield\n",
      "Predicted Answer: AFC Ajax was founded in 1900.\n"
     ]
    },
    {
     "name": "stderr",
     "output_type": "stream",
     "text": [
      "\n",
      " 30%|██████████████████████████████████████████████████▍                                                                                                                     | 6/20 [00:41<01:36,  6.89s/it]\u001b[A\n"
     ]
    },
    {
     "name": "stdout",
     "output_type": "stream",
     "text": [
      "Faithful: 1\n",
      "Detail: 1\n",
      "Overall: 5\n"
     ]
    },
    {
     "name": "stderr",
     "output_type": "stream",
     "text": [
      "\n",
      "  0%|                                                                                                                                                                                | 0/20 [00:00<?, ?it/s]\u001b[A\n",
      "\n",
      "  0%|                                                                                                                                                                                | 0/20 [00:00<?, ?it/s]\u001b[A"
     ]
    },
    {
     "name": "stdout",
     "output_type": "stream",
     "text": [
      "Bootstrapped 4 full traces after 1 examples in round 2.\n"
     ]
    },
    {
     "name": "stderr",
     "output_type": "stream",
     "text": [
      "\n"
     ]
    }
   ],
   "source": [
    "from dspy.teleprompt import BootstrapFewShot\n",
    "\n",
    "teleprompter = BootstrapFewShot(metric=llm_metric, max_labeled_demos=8, max_rounds=3)\n",
    "\n",
    "# also common to init here, e.g. Rag()\n",
    "compiled_rag = teleprompter.compile(uncompiled_rag, trainset=trainset)"
   ]
  },
  {
   "cell_type": "markdown",
   "id": "765ef088-4eae-402e-9f9d-66227edfc35f",
   "metadata": {},
   "source": [
    "## Inspect the compiled prompt"
   ]
  },
  {
   "cell_type": "code",
   "execution_count": 43,
   "id": "c663613a-1bc3-48a0-977e-cf7d67bb6d59",
   "metadata": {},
   "outputs": [
    {
     "data": {
      "text/plain": [
       "'The early history of Europe includes ancient Greece and Rome, the fall of the Western Roman Empire, the Middle Ages, the Renaissance, and the Age of Discovery.'"
      ]
     },
     "execution_count": 43,
     "metadata": {},
     "output_type": "execute_result"
    }
   ],
   "source": [
    "compiled_rag(\"Tell me about the early history of Europe?\").answer"
   ]
  },
  {
   "cell_type": "code",
   "execution_count": 44,
   "id": "2f4fd05e-6efe-483a-8882-6742d170da4d",
   "metadata": {},
   "outputs": [
    {
     "name": "stdout",
     "output_type": "stream",
     "text": [
      "\n",
      "\n",
      "\n",
      "\n",
      "Answer questions based on the provided context.\n",
      "\n",
      "---\n",
      "\n",
      "Question: At My Window was released by which American singer-songwriter?\n",
      "Answer: John Townes Van Zandt\n",
      "\n",
      "Question: \"Everything Has Changed\" is a song from an album released under which record label ?\n",
      "Answer: Big Machine Records\n",
      "\n",
      "Question: Which American actress who made their film debut in the 1995 teen drama \"Kids\" was the co-founder of Voto Latino?\n",
      "Answer: Rosario Dawson\n",
      "\n",
      "Question: Which Pakistani cricket umpire who won 3 consecutive ICC umpire of the year awards in 2009, 2010, and 2011 will be in the ICC World Twenty20?\n",
      "Answer: Aleem Sarwar Dar\n",
      "\n",
      "---\n",
      "\n",
      "Follow the following format.\n",
      "\n",
      "Context: Context for answering the question\n",
      "\n",
      "Question: The question\n",
      "\n",
      "Reasoning: Let's think step by step in order to ${produce the answer}. We ...\n",
      "\n",
      "Answer: Answer\n",
      "\n",
      "---\n",
      "\n",
      "Context:\n",
      "[1] «was the young Jewish girl Anne Frank, who died in the Bergen-Belsen concentration camp.[60] At the end of the Second World War, communication with the rest of the country broke down, and food and fuel became scarce. Many citizens traveled to the countryside to forage. Dogs, cats, raw sugar beets, and tulip bulbs—cooked to a pulp—were consumed to stay alive.[61] Many trees in Amsterdam were cut down for fuel, and wood was taken from the houses, apartments and other buildings of deported Jews. The city was finally liberated by Canadian forces on 5 May 1945, shortly before the end of the war in»\n",
      "[2] «By the mid-19th century, there were three main conventions, one following the Don, the Volga–Don Canal and the Volga, the other following the Kuma–Manych Depression to the Caspian and then the Ural River, and the third abandoning the Don altogether, following the Greater Caucasus watershed to the Caspian. The question was still treated as a \"controversy\" in geographical literature of the 1860s, with Douglas Freshfield advocating the Caucasus crest boundary as the \"best possible\", citing support from various \"modern geographers\".[47]»\n",
      "[3] «The two new superpowers, the United States and the Soviet Union, became locked in a fifty-year-long Cold War, centred on nuclear proliferation. At the same time decolonisation, which had already started after the First World War, gradually resulted in the independence of most of the European colonies in Asia and Africa.[17]»\n",
      "\n",
      "Question: Which of these publications was most recently published, Who Put the Bomp or Self?\n",
      "\n",
      "Reasoning: Let's think step by step in order to produce the answer. We need to determine the publication date of \"Who Put the Bomp\" and \"Self\" based on the context provided.\n",
      "\n",
      "Answer: Self\n",
      "\n",
      "---\n",
      "\n",
      "Context:\n",
      "[1] «It opened in 1885. Its collection consists of nearly one million objects.[211] The artist most associated with Amsterdam is Rembrandt, whose work, and the work of his pupils, is displayed in the Rijksmuseum. Rembrandt's masterpiece The Night Watch is one of the top pieces of art of the museum. It also houses paintings from artists like Bartholomeus van der Helst, Johannes Vermeer, Frans Hals, Ferdinand Bol, Albert Cuyp, Jacob van Ruisdael and Paulus Potter. Aside from paintings, the collection consists of a large variety of decorative art. This ranges from Delftware to giant doll-houses from»\n",
      "[2] «Still-Life with fruit, nuts and cheese by Floris Claeszoon van Dyck\n",
      " In the late 18th century the potato was introduced from South America and became a staple food by 1800.[20] In the early 19th century, while the rich could eat what they desired, the working population ate bread (rye bread in some areas) and potatoes (often eaten at every meal of the day[20]), pancakes in some areas, occasionally fish (herring) and other seafood, fruit and vegetables, but usually little meat. Throughout the 19th century working class people suffered from some form of malnutrition.[20]»\n",
      "[3] «of German music in the 19th century there were few national opera productions; the Hollandse Opera of Amsterdam was built in 1888 for the specific purpose of promoting Dutch opera.[202] In the 19th century, popular culture was centred on the Nes area in Amsterdam (mainly vaudeville and music-hall).[citation needed] An improved metronome was invented in 1812 by Dietrich Nikolaus Winkel.[203] The Rijksmuseum (1885) and Stedelijk Museum (1895) were built and opened.[204][205] In 1888, the Concertgebouworkest orchestra was established.[206] With the 20th century came cinema, radio and»\n",
      "\n",
      "Question: The Victorians - Their Story In Pictures is a documentary series written by an author born in what year?\n",
      "\n",
      "Reasoning: Let's think step by step in order to find the answer. The documentary series \"The Victorians - Their Story In Pictures\" is likely about the Victorian era, which was in the 19th century. The context mentions the 19th century and the establishment of the Rijksmuseum in 1885, so the author of the documentary series was likely born before or during the 19th century.\n",
      "\n",
      "Answer: 19th century\n",
      "\n",
      "---\n",
      "\n",
      "Context:\n",
      "[1] «offer a wide variety of stores, just to name some specialities: candy and other food-related stores, lingerie, sneakers, wedding clothing, interior shops, books, Italian deli's, racing and mountain bikes, skatewear, etc.[original research?]»\n",
      "[2] «The convention received by the Middle Ages and surviving into modern usage is that of the Roman era used by Roman-era authors such as Posidonius,[35] Strabo[36] and Ptolemy,[37] who took the Tanais (the modern Don River) as the boundary.»\n",
      "[3] «By the mid-19th century, there were three main conventions, one following the Don, the Volga–Don Canal and the Volga, the other following the Kuma–Manych Depression to the Caspian and then the Ural River, and the third abandoning the Don altogether, following the Greater Caucasus watershed to the Caspian. The question was still treated as a \"controversy\" in geographical literature of the 1860s, with Douglas Freshfield advocating the Caucasus crest boundary as the \"best possible\", citing support from various \"modern geographers\".[47]»\n",
      "\n",
      "Question: Which magazine has published articles by Scott Shaw, Tae Kwon Do Times or Southwest Art?\n",
      "\n",
      "Reasoning: Let's think step by step in order to produce the answer. We know that Scott Shaw has published articles in Tae Kwon Do Times, so the answer must be Tae Kwon Do Times.\n",
      "\n",
      "Answer: Tae Kwon Do Times\n",
      "\n",
      "---\n",
      "\n",
      "Context:\n",
      "[1] «There is one rugby club in Amsterdam, which also hosts sports training classes such as RTC (Rugby Talenten Centrum or Rugby Talent Centre) and the National Rugby stadium.\n",
      " Since 1999, the city of Amsterdam honours the best sportsmen and women at the Amsterdam Sports Awards. Boxer Raymond Joval and field hockey midfielder Carole Thate were the first to receive the awards, in 1999.\n",
      " Amsterdam hosted the World Gymnaestrada in 1991 and will do so again in 2023.[228]»\n",
      "[2] «Amsterdam is home of the Eredivisie football club AFC Ajax. The stadium Johan Cruyff Arena is the home of Ajax. It is located in the south-east of the city next to the new Amsterdam Bijlmer ArenA railway station. Before moving to their current location in 1996, Ajax played their regular matches in the now demolished De Meer Stadion in the eastern part of the city[225] or in the Olympic Stadium.»\n",
      "[3] «In 1924, the Catholic Church hosted the International Eucharistic Congress in Amsterdam;[142] numerous Catholic prelates visited the city, where festivities were held in churches and stadiums.[143] Catholic processions on the public streets, however, were still forbidden under law at the time.[144] Only in the 20th century was Amsterdam's relation to Catholicism normalised,[145] but despite its far larger population size, the episcopal see of the city was placed in the provincial town of Haarlem.[146]»\n",
      "\n",
      "Question: In what year was the club founded that played Manchester City in the 1972 FA Charity Shield\n",
      "\n",
      "Reasoning: Let's think step by step in order to find the answer. The context mentions that Amsterdam is home to the Eredivisie football club AFC Ajax. Since the question is about a club that played Manchester City in the 1972 FA Charity Shield, we can infer that the club in question is AFC Ajax.\n",
      "\n",
      "Answer: AFC Ajax was founded in 1900.\n",
      "\n",
      "---\n",
      "\n",
      "Context:\n",
      "[1] «European culture is the root of Western civilisation, which traces its lineage back to ancient Greece and ancient Rome.[15][16] The fall of the Western Roman Empire in 476 CE and the related Migration Period marked the end of Europe's ancient history, and the beginning of the Middle Ages. The Renaissance began in Florence and spread to the rest of the continent, bringing a renewed interest in humanism, exploration, art, and science which contributed to the beginning of the modern era. Since the Age of Discovery, led by Spain and Portugal, Europe played a predominant role in global affairs»\n",
      "[2] «During the decline of the Roman Empire, Europe entered a long period of change arising from what historians call the \"Age of Migrations\". There were numerous invasions and migrations amongst the Ostrogoths, Visigoths, Goths, Vandals, Huns, Franks, Angles, Saxons, Slavs, Avars, Bulgars and, later on, the Vikings, Pechenegs, Cumans and Magyars.[81] Renaissance thinkers such as Petrarch would later refer to this as the \"Dark Ages\".[87]»\n",
      "[3] «The geological history of Europe traces back to the formation of the Baltic Shield (Fennoscandia) and the Sarmatian craton, both around 2.25 billion years ago, followed by the Volgo–Uralia shield, the three together leading to the East European craton (≈ Baltica) which became a part of the supercontinent Columbia. Around 1.1 billion years ago, Baltica and Arctica (as part of the Laurentia block) became joined to Rodinia, later resplitting around 550 million years ago to reform as Baltica. Around 440 million years ago Euramerica was formed from Baltica and Laurentia; a further joining with»\n",
      "\n",
      "Question: Tell me about the early history of Europe?\n",
      "\n",
      "Reasoning: Let's think step by step in order to\u001b[32m produce the answer. The context provided mentions the roots of Western civilization tracing back to ancient Greece and Rome, the fall of the Western Roman Empire, the Middle Ages, the Renaissance, and the Age of Discovery. This gives us an overview of the early history of Europe.\n",
      "\n",
      "Answer: The early history of Europe includes ancient Greece and Rome, the fall of the Western Roman Empire, the Middle Ages, the Renaissance, and the Age of Discovery.\u001b[0m\n",
      "\n",
      "\n",
      "\n"
     ]
    }
   ],
   "source": [
    "llm.inspect_history(n=1)\n"
   ]
  },
  {
   "cell_type": "markdown",
   "id": "974fe212-50d2-43f7-90f4-1a68f2cc825a",
   "metadata": {},
   "source": [
    "## Evaluate the Compiled RAG Program"
   ]
  },
  {
   "cell_type": "code",
   "execution_count": 45,
   "id": "5208fec9-c07c-48b9-805f-fac2e49acc53",
   "metadata": {},
   "outputs": [
    {
     "name": "stderr",
     "output_type": "stream",
     "text": [
      "\n",
      "  0%|                                                                                                                                                                                | 0/50 [00:00<?, ?it/s]\u001b[A"
     ]
    },
    {
     "name": "stdout",
     "output_type": "stream",
     "text": [
      "Test Question: Are both Cangzhou and Qionghai in the Hebei province of China?\n",
      "Predicted Answer: Insufficient information to determine if both Cangzhou and Qionghai are in the Hebei province of China.\n"
     ]
    },
    {
     "name": "stderr",
     "output_type": "stream",
     "text": [
      "\n",
      "Average Metric: 2.0 / 1  (200.0):   0%|                                                                                                                                              | 0/50 [00:06<?, ?it/s]\u001b[A\n",
      "Average Metric: 2.0 / 1  (200.0):   2%|██▋                                                                                                                                   | 1/50 [00:06<05:42,  6.99s/it]\u001b[A"
     ]
    },
    {
     "name": "stdout",
     "output_type": "stream",
     "text": [
      "Faithful: 2\n",
      "Detail: 1\n",
      "Overall: 5\n",
      "Test Question: Who conducts the draft in which Marc-Andre Fleury was drafted to the Vegas Golden Knights for the 2017-18 season?\n",
      "Predicted Answer: National Hockey League (NHL)\n"
     ]
    },
    {
     "name": "stderr",
     "output_type": "stream",
     "text": [
      "\n",
      "Average Metric: 3.6 / 2  (180.0):   2%|██▋                                                                                                                                   | 1/50 [00:15<05:42,  6.99s/it]\u001b[A\n",
      "Average Metric: 3.6 / 2  (180.0):   4%|█████▎                                                                                                                                | 2/50 [00:15<06:16,  7.84s/it]\u001b[A"
     ]
    },
    {
     "name": "stdout",
     "output_type": "stream",
     "text": [
      "Faithful: 1\n",
      "Detail: 1\n",
      "Overall: 5\n",
      "Test Question: The Wings entered a new era, following the retirement of which Canadian retired professional ice hockey player and current general manager of the Tampa Bay Lightning of the National Hockey League (NHL)?\n",
      "Predicted Answer: Steve Yzerman\n"
     ]
    },
    {
     "name": "stderr",
     "output_type": "stream",
     "text": [
      "\n",
      "Average Metric: 4.4 / 3  (146.7):   4%|█████▎                                                                                                                                | 2/50 [00:18<06:16,  7.84s/it]\u001b[A\n",
      "Average Metric: 4.4 / 3  (146.7):   6%|████████                                                                                                                              | 3/50 [00:18<04:31,  5.78s/it]\u001b[A"
     ]
    },
    {
     "name": "stdout",
     "output_type": "stream",
     "text": [
      "Faithful: 1\n",
      "Detail: 1\n",
      "Overall: 1\n",
      "Test Question: What river is near the Crichton Collegiate Church?\n",
      "Predicted Answer: Don River\n"
     ]
    },
    {
     "name": "stderr",
     "output_type": "stream",
     "text": [
      "\n",
      "Average Metric: 5.2 / 4  (130.0):   6%|████████                                                                                                                              | 3/50 [00:24<04:31,  5.78s/it]\u001b[A\n",
      "Average Metric: 5.2 / 4  (130.0):   8%|██████████▋                                                                                                                           | 4/50 [00:24<04:21,  5.68s/it]\u001b[A"
     ]
    },
    {
     "name": "stdout",
     "output_type": "stream",
     "text": [
      "Faithful: 1\n",
      "Detail: 1\n",
      "Overall: 1\n",
      "Test Question: In the 10th Century A.D. Ealhswith had a son called Æthelweard by which English king?\n",
      "Predicted Answer: Ealhswith had a son called Æthelweard by King Alfred the Great.\n"
     ]
    },
    {
     "name": "stderr",
     "output_type": "stream",
     "text": [
      "\n",
      "Average Metric: 7.0 / 5  (140.0):   8%|██████████▋                                                                                                                           | 4/50 [00:31<04:21,  5.68s/it]\u001b[A\n",
      "Average Metric: 7.0 / 5  (140.0):  10%|█████████████▍                                                                                                                        | 5/50 [00:31<04:34,  6.09s/it]\u001b[A"
     ]
    },
    {
     "name": "stdout",
     "output_type": "stream",
     "text": [
      "Faithful: 1\n",
      "Detail: 2\n",
      "Overall: 5\n",
      "Test Question: The Newark Airport Exchange is at the northern edge of an airport that is operated by whom?\n",
      "Predicted Answer: Royal Schiphol Group\n"
     ]
    },
    {
     "name": "stderr",
     "output_type": "stream",
     "text": [
      "\n",
      "Average Metric: 8.6 / 6  (143.3):  10%|█████████████▍                                                                                                                        | 5/50 [00:37<04:34,  6.09s/it]\u001b[A\n",
      "Average Metric: 8.6 / 6  (143.3):  12%|████████████████                                                                                                                      | 6/50 [00:37<04:28,  6.11s/it]\u001b[A"
     ]
    },
    {
     "name": "stdout",
     "output_type": "stream",
     "text": [
      "Faithful: 1\n",
      "Detail: 1\n",
      "Overall: 5\n",
      "Test Question: Where did an event take place resulting in a win during a domestic double due to the action of a Peruvian footballer known for his goal scoring ability?\n",
      "Predicted Answer: The event took place in a football match in Amsterdam.\n"
     ]
    },
    {
     "name": "stderr",
     "output_type": "stream",
     "text": [
      "\n",
      "Average Metric: 9.4 / 7  (134.3):  12%|████████████████                                                                                                                      | 6/50 [00:43<04:28,  6.11s/it]\u001b[A\n",
      "Average Metric: 9.4 / 7  (134.3):  14%|██████████████████▊                                                                                                                   | 7/50 [00:43<04:21,  6.09s/it]\u001b[A"
     ]
    },
    {
     "name": "stdout",
     "output_type": "stream",
     "text": [
      "Faithful: 1\n",
      "Detail: 1\n",
      "Overall: 1\n",
      "Test Question: Are both Chico Municipal Airport and William R. Fairchild International Airport in California?\n",
      "Predicted Answer: No\n"
     ]
    },
    {
     "name": "stderr",
     "output_type": "stream",
     "text": [
      "\n",
      "Average Metric: 11.200000000000001 / 8  (140.0):  14%|████████████████▋                                                                                                      | 7/50 [00:48<04:21,  6.09s/it]\u001b[A\n",
      "Average Metric: 11.200000000000001 / 8  (140.0):  16%|███████████████████                                                                                                    | 8/50 [00:48<03:59,  5.71s/it]\u001b[A"
     ]
    },
    {
     "name": "stdout",
     "output_type": "stream",
     "text": [
      "Faithful: 1\n",
      "Detail: 2\n",
      "Overall: 5\n",
      "Test Question: In which Maine county is Fort Pownall located?\n",
      "Predicted Answer: Fort Pownall is located in Maine.\n"
     ]
    },
    {
     "name": "stderr",
     "output_type": "stream",
     "text": [
      "\n",
      "Average Metric: 12.8 / 9  (142.2):  16%|█████████████████████▎                                                                                                               | 8/50 [00:54<03:59,  5.71s/it]\u001b[A\n",
      "Average Metric: 12.8 / 9  (142.2):  18%|███████████████████████▉                                                                                                             | 9/50 [00:54<04:02,  5.93s/it]\u001b[A"
     ]
    },
    {
     "name": "stdout",
     "output_type": "stream",
     "text": [
      "Faithful: 1\n",
      "Detail: 1\n",
      "Overall: 5\n",
      "Test Question: Which 90s rock band has more recently reformed, Gene or The Afghan Whigs?\n",
      "Predicted Answer: The Afghan Whigs\n"
     ]
    },
    {
     "name": "stderr",
     "output_type": "stream",
     "text": [
      "\n",
      "Average Metric: 14.4 / 10  (144.0):  18%|███████████████████████▊                                                                                                            | 9/50 [00:56<04:02,  5.93s/it]\u001b[A\n",
      "Average Metric: 14.4 / 10  (144.0):  20%|██████████████████████████▏                                                                                                        | 10/50 [00:56<03:13,  4.83s/it]\u001b[A"
     ]
    },
    {
     "name": "stdout",
     "output_type": "stream",
     "text": [
      "Faithful: 1\n",
      "Detail: 1\n",
      "Overall: 5\n",
      "Test Question: What year did the mountain known in Italian as \"Monte Vesuvio\", erupt?\n",
      "Predicted Answer: 79 AD\n"
     ]
    },
    {
     "name": "stderr",
     "output_type": "stream",
     "text": [
      "\n",
      "Average Metric: 16.0 / 11  (145.5):  20%|██████████████████████████▏                                                                                                        | 10/50 [01:04<03:13,  4.83s/it]\u001b[A\n",
      "Average Metric: 16.0 / 11  (145.5):  22%|████████████████████████████▊                                                                                                      | 11/50 [01:04<03:37,  5.57s/it]\u001b[A"
     ]
    },
    {
     "name": "stdout",
     "output_type": "stream",
     "text": [
      "Faithful: 1\n",
      "Detail: 1\n",
      "Overall: 5\n",
      "Test Question: Is the 72nd field brigade part of the oldest or newest established field army?\n",
      "Predicted Answer: Newest\n"
     ]
    },
    {
     "name": "stderr",
     "output_type": "stream",
     "text": [
      "\n",
      "Average Metric: 18.4 / 12  (153.3):  22%|████████████████████████████▊                                                                                                      | 11/50 [01:09<03:37,  5.57s/it]\u001b[A\n",
      "Average Metric: 18.4 / 12  (153.3):  24%|███████████████████████████████▍                                                                                                   | 12/50 [01:09<03:32,  5.60s/it]\u001b[A"
     ]
    },
    {
     "name": "stdout",
     "output_type": "stream",
     "text": [
      "Faithful: 3\n",
      "Detail: 1\n",
      "Overall: 5\n",
      "Test Question: Was Stanislaw Kiszka paid for his services by the Royal Treasury?\n",
      "Predicted Answer: No\n"
     ]
    },
    {
     "name": "stderr",
     "output_type": "stream",
     "text": [
      "\n",
      "Average Metric: 20.2 / 13  (155.4):  24%|███████████████████████████████▍                                                                                                   | 12/50 [01:15<03:32,  5.60s/it]\u001b[A\n",
      "Average Metric: 20.2 / 13  (155.4):  26%|██████████████████████████████████                                                                                                 | 13/50 [01:15<03:25,  5.54s/it]\u001b[A"
     ]
    },
    {
     "name": "stdout",
     "output_type": "stream",
     "text": [
      "Faithful: 1\n",
      "Detail: 2\n",
      "Overall: 5\n",
      "Test Question: Which film director is younger, Del Lord or Wang Xiaoshuai?\n",
      "Predicted Answer: Cannot be determined\n"
     ]
    },
    {
     "name": "stderr",
     "output_type": "stream",
     "text": [
      "\n",
      "Average Metric: 21.8 / 14  (155.7):  26%|██████████████████████████████████                                                                                                 | 13/50 [01:21<03:25,  5.54s/it]\u001b[A\n",
      "Average Metric: 21.8 / 14  (155.7):  28%|████████████████████████████████████▋                                                                                              | 14/50 [01:21<03:26,  5.74s/it]\u001b[A"
     ]
    },
    {
     "name": "stdout",
     "output_type": "stream",
     "text": [
      "Faithful: 1\n",
      "Detail: 1\n",
      "Overall: 5\n",
      "Test Question: Lord North Street has a resident in which former Conservative MP who received an 18-month prison sentence for perjury in 1999?\n",
      "Predicted Answer: Jonathan Aitken\n"
     ]
    },
    {
     "name": "stderr",
     "output_type": "stream",
     "text": [
      "\n",
      "Average Metric: 23.400000000000002 / 15  (156.0):  28%|████████████████████████████████▊                                                                                    | 14/50 [01:24<03:26,  5.74s/it]\u001b[A\n",
      "Average Metric: 23.400000000000002 / 15  (156.0):  30%|███████████████████████████████████                                                                                  | 15/50 [01:24<02:50,  4.86s/it]\u001b[A"
     ]
    },
    {
     "name": "stdout",
     "output_type": "stream",
     "text": [
      "Faithful: 1\n",
      "Detail: 1\n",
      "Overall: 5\n",
      "Test Question: What is the name of this region of Italy, referring to the medieval March of Ancona and nearby marches of Camerino and Fermo, where the comune Pollenza is located?\n",
      "Predicted Answer: Marche\n"
     ]
    },
    {
     "name": "stderr",
     "output_type": "stream",
     "text": [
      "\n",
      "Average Metric: 25.000000000000004 / 16  (156.3):  30%|███████████████████████████████████                                                                                  | 15/50 [01:26<02:50,  4.86s/it]\u001b[A\n",
      "Average Metric: 25.000000000000004 / 16  (156.3):  32%|█████████████████████████████████████▍                                                                               | 16/50 [01:26<02:18,  4.07s/it]\u001b[A"
     ]
    },
    {
     "name": "stdout",
     "output_type": "stream",
     "text": [
      "Faithful: 1\n",
      "Detail: 1\n",
      "Overall: 5\n",
      "Test Question: William Hughes Miller was born in a city with how many inhabitants ?\n",
      "Predicted Answer: 872,000\n"
     ]
    },
    {
     "name": "stderr",
     "output_type": "stream",
     "text": [
      "\n",
      "Average Metric: 28.200000000000003 / 17  (165.9):  32%|█████████████████████████████████████▍                                                                               | 16/50 [01:28<02:18,  4.07s/it]\u001b[A\n",
      "Average Metric: 28.200000000000003 / 17  (165.9):  34%|███████████████████████████████████████▊                                                                             | 17/50 [01:28<01:56,  3.54s/it]\u001b[A"
     ]
    },
    {
     "name": "stdout",
     "output_type": "stream",
     "text": [
      "Faithful: 5\n",
      "Detail: 1\n",
      "Overall: 5\n",
      "Test Question: What do students do at the school of New York University where Meleko Mokgosi is an artist and assistant professor?\n",
      "Predicted Answer: Students study or attend classes.\n"
     ]
    },
    {
     "name": "stderr",
     "output_type": "stream",
     "text": [
      "\n",
      "Average Metric: 29.400000000000002 / 18  (163.3):  34%|███████████████████████████████████████▊                                                                             | 17/50 [01:35<01:56,  3.54s/it]\u001b[A\n",
      "Average Metric: 29.400000000000002 / 18  (163.3):  36%|██████████████████████████████████████████                                                                           | 18/50 [01:35<02:21,  4.42s/it]\u001b[A"
     ]
    },
    {
     "name": "stdout",
     "output_type": "stream",
     "text": [
      "Faithful: 2\n",
      "Detail: 1\n",
      "Overall: 1\n",
      "Test Question: What is the nationality of the chef and restaurateur featured in Restaurant: Impossible?\n",
      "Predicted Answer: The nationality of the chef and restaurateur featured in Restaurant: Impossible is not provided in the context.\n"
     ]
    },
    {
     "name": "stderr",
     "output_type": "stream",
     "text": [
      "\n",
      "Average Metric: 30.400000000000002 / 19  (160.0):  36%|██████████████████████████████████████████                                                                           | 18/50 [01:41<02:21,  4.42s/it]\u001b[A\n",
      "Average Metric: 30.400000000000002 / 19  (160.0):  38%|████████████████████████████████████████████▍                                                                        | 19/50 [01:41<02:34,  4.98s/it]\u001b[A"
     ]
    },
    {
     "name": "stdout",
     "output_type": "stream",
     "text": [
      "Faithful: 1\n",
      "Detail: 2\n",
      "Overall: 1\n",
      "Test Question: What American actor plays an East side drug lord who prefers peaceful solutions to business disputes when possible?\n",
      "Predicted Answer: Denzel Washington\n"
     ]
    },
    {
     "name": "stderr",
     "output_type": "stream",
     "text": [
      "\n",
      "Average Metric: 31.200000000000003 / 20  (156.0):  38%|████████████████████████████████████████████▍                                                                        | 19/50 [01:47<02:34,  4.98s/it]\u001b[A\n",
      "Average Metric: 31.200000000000003 / 20  (156.0):  40%|██████████████████████████████████████████████▊                                                                      | 20/50 [01:47<02:37,  5.24s/it]\u001b[A"
     ]
    },
    {
     "name": "stdout",
     "output_type": "stream",
     "text": [
      "Faithful: 1\n",
      "Detail: 1\n",
      "Overall: 1\n",
      "Test Question: What city is 11 miles north of the birthplace of actor Toby Sawyer?\n",
      "Predicted Answer: Amsterdam\n"
     ]
    },
    {
     "name": "stderr",
     "output_type": "stream",
     "text": [
      "\n",
      "Average Metric: 32.800000000000004 / 21  (156.2):  40%|██████████████████████████████████████████████▊                                                                      | 20/50 [01:52<02:37,  5.24s/it]\u001b[A\n",
      "Average Metric: 32.800000000000004 / 21  (156.2):  42%|█████████████████████████████████████████████████▏                                                                   | 21/50 [01:52<02:33,  5.28s/it]\u001b[A"
     ]
    },
    {
     "name": "stdout",
     "output_type": "stream",
     "text": [
      "Faithful: 1\n",
      "Detail: 1\n",
      "Overall: 5\n",
      "Test Question: Who was born first, Tony Kaye or Deepa Mehta?\n",
      "Predicted Answer: Cannot be determined\n"
     ]
    },
    {
     "name": "stderr",
     "output_type": "stream",
     "text": [
      "\n",
      "Average Metric: 35.2 / 22  (160.0):  42%|███████████████████████████████████████████████████████                                                                            | 21/50 [01:58<02:33,  5.28s/it]\u001b[A\n",
      "Average Metric: 35.2 / 22  (160.0):  44%|█████████████████████████████████████████████████████████▋                                                                         | 22/50 [01:58<02:27,  5.28s/it]\u001b[A"
     ]
    },
    {
     "name": "stdout",
     "output_type": "stream",
     "text": [
      "Faithful: 3\n",
      "Detail: 1\n",
      "Overall: 5\n",
      "Test Question: What is the English translation of the name of the store that Macy's replaced in Boise Town Square?\n",
      "Predicted Answer: Bathhouse\n"
     ]
    },
    {
     "name": "stderr",
     "output_type": "stream",
     "text": [
      "\n",
      "Average Metric: 37.2 / 23  (161.7):  44%|█████████████████████████████████████████████████████████▋                                                                         | 22/50 [02:04<02:27,  5.28s/it]\u001b[A\n",
      "Average Metric: 37.2 / 23  (161.7):  46%|████████████████████████████████████████████████████████████▎                                                                      | 23/50 [02:04<02:28,  5.51s/it]\u001b[A"
     ]
    },
    {
     "name": "stdout",
     "output_type": "stream",
     "text": [
      "Faithful: 4\n",
      "Detail: 1\n",
      "Overall: 1\n",
      "Test Question: Who did Lizzette Reynolds fire to make her notable in November 2007?\n",
      "Predicted Answer: The person who was fired\n"
     ]
    },
    {
     "name": "stderr",
     "output_type": "stream",
     "text": [
      "\n",
      "Average Metric: 38.0 / 24  (158.3):  46%|████████████████████████████████████████████████████████████▎                                                                      | 23/50 [02:10<02:28,  5.51s/it]\u001b[A\n",
      "Average Metric: 38.0 / 24  (158.3):  48%|██████████████████████████████████████████████████████████████▉                                                                    | 24/50 [02:10<02:30,  5.80s/it]\u001b[A"
     ]
    },
    {
     "name": "stdout",
     "output_type": "stream",
     "text": [
      "Faithful: 1\n",
      "Detail: 1\n",
      "Overall: 1\n",
      "Test Question: What was the name of the man, who was billed by the coiner of the phrase \"There's a sucker born every minute\" as \"Boy Lightning Calculator\"?\n",
      "Predicted Answer: Charles Sherwood Stratton\n"
     ]
    },
    {
     "name": "stderr",
     "output_type": "stream",
     "text": [
      "\n",
      "Average Metric: 39.8 / 25  (159.2):  48%|██████████████████████████████████████████████████████████████▉                                                                    | 24/50 [02:16<02:30,  5.80s/it]\u001b[A\n",
      "Average Metric: 39.8 / 25  (159.2):  50%|█████████████████████████████████████████████████████████████████▌                                                                 | 25/50 [02:16<02:25,  5.83s/it]\u001b[A"
     ]
    },
    {
     "name": "stdout",
     "output_type": "stream",
     "text": [
      "Faithful: 1\n",
      "Detail: 2\n",
      "Overall: 5\n",
      "Test Question: Which battle was fought for a shorter period of time, the Battle of the Ch'ongch'on River, or the Meuse-Argonne Offensive?\n",
      "Predicted Answer: The Battle of the Ch'ongch'on River\n"
     ]
    },
    {
     "name": "stderr",
     "output_type": "stream",
     "text": [
      "\n",
      "Average Metric: 41.199999999999996 / 26  (158.5):  50%|██████████████████████████████████████████████████████████▌                                                          | 25/50 [02:22<02:25,  5.83s/it]\u001b[A\n",
      "Average Metric: 41.199999999999996 / 26  (158.5):  52%|████████████████████████████████████████████████████████████▊                                                        | 26/50 [02:22<02:21,  5.88s/it]\u001b[A"
     ]
    },
    {
     "name": "stdout",
     "output_type": "stream",
     "text": [
      "Faithful: 1\n",
      "Detail: 1\n",
      "Overall: 4\n",
      "Test Question: What cricketeer active 1974–1993 had a strong performance in the tour by the Australian cricket team in England in 1981?\n",
      "Predicted Answer: Dennis Lillee\n"
     ]
    },
    {
     "name": "stderr",
     "output_type": "stream",
     "text": [
      "\n",
      "Average Metric: 41.99999999999999 / 27  (155.6):  52%|█████████████████████████████████████████████████████████████▎                                                        | 26/50 [02:28<02:21,  5.88s/it]\u001b[A\n",
      "Average Metric: 41.99999999999999 / 27  (155.6):  54%|███████████████████████████████████████████████████████████████▋                                                      | 27/50 [02:28<02:15,  5.89s/it]\u001b[A"
     ]
    },
    {
     "name": "stdout",
     "output_type": "stream",
     "text": [
      "Faithful: 1\n",
      "Detail: 1\n",
      "Overall: 1\n",
      "Test Question: What is the present post of the head coach of the 1982 NC State Wolfpack football team ?\n",
      "Predicted Answer: The head coach of the 1982 NC State Wolfpack football team was Tom Reed.\n"
     ]
    },
    {
     "name": "stderr",
     "output_type": "stream",
     "text": [
      "\n",
      "Average Metric: 42.79999999999999 / 28  (152.9):  54%|███████████████████████████████████████████████████████████████▋                                                      | 27/50 [02:34<02:15,  5.89s/it]\u001b[A\n",
      "Average Metric: 42.79999999999999 / 28  (152.9):  56%|██████████████████████████████████████████████████████████████████                                                    | 28/50 [02:34<02:09,  5.90s/it]\u001b[A"
     ]
    },
    {
     "name": "stdout",
     "output_type": "stream",
     "text": [
      "Faithful: 1\n",
      "Detail: 1\n",
      "Overall: 1\n",
      "Test Question: Which Scottish actor sang \"Come What May\"?\n",
      "Predicted Answer: Not enough information to determine the answer.\n"
     ]
    },
    {
     "name": "stderr",
     "output_type": "stream",
     "text": [
      "\n",
      "Average Metric: 45.19999999999999 / 29  (155.9):  56%|██████████████████████████████████████████████████████████████████                                                    | 28/50 [02:40<02:09,  5.90s/it]\u001b[A\n",
      "Average Metric: 45.19999999999999 / 29  (155.9):  58%|████████████████████████████████████████████████████████████████████▍                                                 | 29/50 [02:40<02:02,  5.85s/it]\u001b[A"
     ]
    },
    {
     "name": "stdout",
     "output_type": "stream",
     "text": [
      "Faithful: 3\n",
      "Detail: 1\n",
      "Overall: 5\n",
      "Test Question: Where have Ivan Bella and Frank De Winne both traveled?\n",
      "Predicted Answer: Space\n"
     ]
    },
    {
     "name": "stderr",
     "output_type": "stream",
     "text": [
      "\n",
      "Average Metric: 47.59999999999999 / 30  (158.7):  58%|████████████████████████████████████████████████████████████████████▍                                                 | 29/50 [02:46<02:02,  5.85s/it]\u001b[A\n",
      "Average Metric: 47.59999999999999 / 30  (158.7):  60%|██████████████████████████████████████████████████████████████████████▊                                               | 30/50 [02:46<02:00,  6.02s/it]\u001b[A"
     ]
    },
    {
     "name": "stdout",
     "output_type": "stream",
     "text": [
      "Faithful: 5\n",
      "Detail: 1\n",
      "Overall: 1\n",
      "Test Question: The original work by Anton Chekhov involving a disillusioned schoolmaster, which inspired a later play by this British playwright, was written specifically for whom?\n",
      "Predicted Answer: The original work by Anton Chekhov involving a disillusioned schoolmaster was written specifically for a British playwright.\n"
     ]
    },
    {
     "name": "stderr",
     "output_type": "stream",
     "text": [
      "\n",
      "Average Metric: 48.399999999999984 / 31  (156.1):  60%|██████████████████████████████████████████████████████████████████████▏                                              | 30/50 [02:53<02:00,  6.02s/it]\u001b[A\n",
      "Average Metric: 48.399999999999984 / 31  (156.1):  62%|████████████████████████████████████████████████████████████████████████▌                                            | 31/50 [02:53<02:01,  6.39s/it]\u001b[A"
     ]
    },
    {
     "name": "stdout",
     "output_type": "stream",
     "text": [
      "Faithful: 1\n",
      "Detail: 1\n",
      "Overall: 1\n",
      "Test Question: Are Roswell International Air Center and Pago Pago International Airport both located in the mainland US?\n",
      "Predicted Answer: No, neither Roswell International Air Center nor Pago Pago International Airport are located in the mainland US.\n"
     ]
    },
    {
     "name": "stderr",
     "output_type": "stream",
     "text": [
      "\n",
      "Average Metric: 50.999999999999986 / 32  (159.4):  62%|████████████████████████████████████████████████████████████████████████▌                                            | 31/50 [03:00<02:01,  6.39s/it]\u001b[A\n",
      "Average Metric: 50.999999999999986 / 32  (159.4):  64%|██████████████████████████████████████████████████████████████████████████▉                                          | 32/50 [03:00<01:56,  6.45s/it]\u001b[A"
     ]
    },
    {
     "name": "stdout",
     "output_type": "stream",
     "text": [
      "Faithful: 3\n",
      "Detail: 2\n",
      "Overall: 5\n",
      "Test Question: Untold: The Greatest Sports Stories Never Told was hosted by a sportscaster commonly referred to as what ?\n",
      "Predicted Answer: The answer is likely a nickname or common reference to a sportscaster.\n"
     ]
    },
    {
     "name": "stderr",
     "output_type": "stream",
     "text": [
      "\n",
      "Average Metric: 52.79999999999998 / 33  (160.0):  64%|███████████████████████████████████████████████████████████████████████████▌                                          | 32/50 [03:06<01:56,  6.45s/it]\u001b[A\n",
      "Average Metric: 52.79999999999998 / 33  (160.0):  66%|█████████████████████████████████████████████████████████████████████████████▉                                        | 33/50 [03:06<01:45,  6.23s/it]\u001b[A"
     ]
    },
    {
     "name": "stdout",
     "output_type": "stream",
     "text": [
      "Faithful: 3\n",
      "Detail: 2\n",
      "Overall: 1\n",
      "Test Question: Are Walt Disney and Sacro GRA both documentry films?\n",
      "Predicted Answer: Insufficient information to determine if Walt Disney and Sacro GRA are documentary films.\n"
     ]
    },
    {
     "name": "stderr",
     "output_type": "stream",
     "text": [
      "\n",
      "Average Metric: 54.999999999999986 / 34  (161.8):  66%|█████████████████████████████████████████████████████████████████████████████▏                                       | 33/50 [03:12<01:45,  6.23s/it]\u001b[A\n",
      "Average Metric: 54.999999999999986 / 34  (161.8):  68%|███████████████████████████████████████████████████████████████████████████████▌                                     | 34/50 [03:12<01:39,  6.20s/it]\u001b[A"
     ]
    },
    {
     "name": "stdout",
     "output_type": "stream",
     "text": [
      "Faithful: 2\n",
      "Detail: 2\n",
      "Overall: 5\n",
      "Test Question: What is the Palestinian Islamic organization that governs th small territory on the eastern coast of the Mediterranean Sea that was captured by Israel during the 1967 Six-Day War?\n",
      "Predicted Answer: Hamas\n"
     ]
    },
    {
     "name": "stderr",
     "output_type": "stream",
     "text": [
      "\n",
      "Average Metric: 56.59999999999999 / 35  (161.7):  68%|████████████████████████████████████████████████████████████████████████████████▏                                     | 34/50 [03:14<01:39,  6.20s/it]\u001b[A\n",
      "Average Metric: 56.59999999999999 / 35  (161.7):  70%|██████████████████████████████████████████████████████████████████████████████████▌                                   | 35/50 [03:14<01:15,  5.03s/it]\u001b[A"
     ]
    },
    {
     "name": "stdout",
     "output_type": "stream",
     "text": [
      "Faithful: 1\n",
      "Detail: 1\n",
      "Overall: 5\n",
      "Test Question: What album did the song of which Taylor Swift premiered the music video of during the pre-show of the 2015 MTV Video Music Awards come from?\n",
      "Predicted Answer: The song premiered by Taylor Swift during the pre-show of the 2015 MTV Video Music Awards was from the album \"1989.\"\n"
     ]
    },
    {
     "name": "stderr",
     "output_type": "stream",
     "text": [
      "\n",
      "Average Metric: 58.59999999999999 / 36  (162.8):  70%|██████████████████████████████████████████████████████████████████████████████████▌                                   | 35/50 [03:20<01:15,  5.03s/it]\u001b[A\n",
      "Average Metric: 58.59999999999999 / 36  (162.8):  72%|████████████████████████████████████████████████████████████████████████████████████▉                                 | 36/50 [03:20<01:16,  5.44s/it]\u001b[A"
     ]
    },
    {
     "name": "stdout",
     "output_type": "stream",
     "text": [
      "Faithful: 2\n",
      "Detail: 1\n",
      "Overall: 5\n",
      "Test Question: Which is considered a genus level classification, Apera or Gunnera manicata?\n",
      "Predicted Answer: Apera\n"
     ]
    },
    {
     "name": "stderr",
     "output_type": "stream",
     "text": [
      "\n",
      "Average Metric: 60.19999999999999 / 37  (162.7):  72%|████████████████████████████████████████████████████████████████████████████████████▉                                 | 36/50 [03:27<01:16,  5.44s/it]\u001b[A\n",
      "Average Metric: 60.19999999999999 / 37  (162.7):  74%|███████████████████████████████████████████████████████████████████████████████████████▎                              | 37/50 [03:27<01:16,  5.89s/it]\u001b[A"
     ]
    },
    {
     "name": "stdout",
     "output_type": "stream",
     "text": [
      "Faithful: 1\n",
      "Detail: 1\n",
      "Overall: 5\n",
      "Test Question: Do The Drums and Pussy Galore play music of similar genres?\n",
      "Predicted Answer: Insufficient information to determine if The Drums and Pussy Galore play music of similar genres.\n"
     ]
    },
    {
     "name": "stderr",
     "output_type": "stream",
     "text": [
      "\n",
      "Average Metric: 61.999999999999986 / 38  (163.2):  74%|██████████████████████████████████████████████████████████████████████████████████████▌                              | 37/50 [03:37<01:16,  5.89s/it]\u001b[A\n",
      "Average Metric: 61.999999999999986 / 38  (163.2):  76%|████████████████████████████████████████████████████████████████████████████████████████▉                            | 38/50 [03:37<01:22,  6.88s/it]\u001b[A"
     ]
    },
    {
     "name": "stdout",
     "output_type": "stream",
     "text": [
      "Faithful: 1\n",
      "Detail: 2\n",
      "Overall: 5\n",
      "Test Question: What is the post-nominal abbreviation for the university where the Banded Mongoose Research Project is based?\n",
      "Predicted Answer: VU\n"
     ]
    },
    {
     "name": "stderr",
     "output_type": "stream",
     "text": [
      "\n",
      "Average Metric: 64.59999999999998 / 39  (165.6):  76%|█████████████████████████████████████████████████████████████████████████████████████████▋                            | 38/50 [03:42<01:22,  6.88s/it]\u001b[A\n",
      "Average Metric: 64.59999999999998 / 39  (165.6):  78%|████████████████████████████████████████████████████████████████████████████████████████████                          | 39/50 [03:42<01:11,  6.52s/it]\u001b[A"
     ]
    },
    {
     "name": "stdout",
     "output_type": "stream",
     "text": [
      "Faithful: 5\n",
      "Detail: 2\n",
      "Overall: 1\n",
      "Test Question: Are both Benjamin Christensen and Len Wiseman directors?\n",
      "Predicted Answer: Insufficient information to determine if both Benjamin Christensen and Len Wiseman are directors.\n"
     ]
    },
    {
     "name": "stderr",
     "output_type": "stream",
     "text": [
      "\n",
      "Average Metric: 66.79999999999998 / 40  (167.0):  78%|████████████████████████████████████████████████████████████████████████████████████████████                          | 39/50 [03:49<01:11,  6.52s/it]\u001b[A\n",
      "Average Metric: 66.79999999999998 / 40  (167.0):  80%|██████████████████████████████████████████████████████████████████████████████████████████████▍                       | 40/50 [03:49<01:05,  6.54s/it]\u001b[A"
     ]
    },
    {
     "name": "stdout",
     "output_type": "stream",
     "text": [
      "Faithful: 2\n",
      "Detail: 2\n",
      "Overall: 5\n",
      "Test Question: Steven Cuitlahuac Melendez and Disney are connected by what American animator?\n",
      "Predicted Answer: Walt Disney\n"
     ]
    },
    {
     "name": "stderr",
     "output_type": "stream",
     "text": [
      "\n",
      "Average Metric: 68.39999999999998 / 41  (166.8):  80%|██████████████████████████████████████████████████████████████████████████████████████████████▍                       | 40/50 [03:55<01:05,  6.54s/it]\u001b[A\n",
      "Average Metric: 68.39999999999998 / 41  (166.8):  82%|████████████████████████████████████████████████████████████████████████████████████████████████▊                     | 41/50 [03:55<00:56,  6.29s/it]\u001b[A"
     ]
    },
    {
     "name": "stdout",
     "output_type": "stream",
     "text": [
      "Faithful: 1\n",
      "Detail: 1\n",
      "Overall: 5\n",
      "Test Question: Shark Creek is located on this river which is in the northern rivers district?\n",
      "Predicted Answer: New South Wales\n"
     ]
    },
    {
     "name": "stderr",
     "output_type": "stream",
     "text": [
      "\n",
      "Average Metric: 69.19999999999997 / 42  (164.8):  82%|████████████████████████████████████████████████████████████████████████████████████████████████▊                     | 41/50 [04:01<00:56,  6.29s/it]\u001b[A\n",
      "Average Metric: 69.19999999999997 / 42  (164.8):  84%|███████████████████████████████████████████████████████████████████████████████████████████████████                   | 42/50 [04:01<00:50,  6.32s/it]\u001b[A"
     ]
    },
    {
     "name": "stdout",
     "output_type": "stream",
     "text": [
      "Faithful: 1\n",
      "Detail: 1\n",
      "Overall: 1\n",
      "Test Question: Who was the producer of the 2016 animated film about an amnesiac fish?\n",
      "Predicted Answer: The producer of the 2016 animated film about an amnesiac fish was Pixar Animation Studios.\n"
     ]
    },
    {
     "name": "stderr",
     "output_type": "stream",
     "text": [
      "\n",
      "Average Metric: 70.19999999999997 / 43  (163.3):  84%|███████████████████████████████████████████████████████████████████████████████████████████████████                   | 42/50 [04:08<00:50,  6.32s/it]\u001b[A\n",
      "Average Metric: 70.19999999999997 / 43  (163.3):  86%|█████████████████████████████████████████████████████████████████████████████████████████████████████▍                | 43/50 [04:08<00:45,  6.45s/it]\u001b[A"
     ]
    },
    {
     "name": "stdout",
     "output_type": "stream",
     "text": [
      "Faithful: 1\n",
      "Detail: 2\n",
      "Overall: 1\n",
      "Test Question: Who purchased the team Michael Schumacher raced for in the 1995 Monaco Grand Prix in 2000?\n",
      "Predicted Answer: Flavio Briatore\n"
     ]
    },
    {
     "name": "stderr",
     "output_type": "stream",
     "text": [
      "\n",
      "Average Metric: 71.79999999999997 / 44  (163.2):  86%|█████████████████████████████████████████████████████████████████████████████████████████████████████▍                | 43/50 [04:15<00:45,  6.45s/it]\u001b[A\n",
      "Average Metric: 71.79999999999997 / 44  (163.2):  88%|███████████████████████████████████████████████████████████████████████████████████████████████████████▊              | 44/50 [04:15<00:40,  6.77s/it]\u001b[A"
     ]
    },
    {
     "name": "stdout",
     "output_type": "stream",
     "text": [
      "Faithful: 1\n",
      "Detail: 1\n",
      "Overall: 5\n",
      "Test Question: Fredrick Law Olmsted was an American landscape architect, journalist, social critic and public administrator that designed what neighborhood in Trenton, New Jersey?\n",
      "Predicted Answer: Olmsted designed the neighborhood of Cadwalader Heights in Trenton, New Jersey.\n"
     ]
    },
    {
     "name": "stderr",
     "output_type": "stream",
     "text": [
      "\n",
      "Average Metric: 73.59999999999997 / 45  (163.6):  88%|███████████████████████████████████████████████████████████████████████████████████████████████████████▊              | 44/50 [04:18<00:40,  6.77s/it]\u001b[A\n",
      "Average Metric: 73.59999999999997 / 45  (163.6):  90%|██████████████████████████████████████████████████████████████████████████████████████████████████████████▏           | 45/50 [04:18<00:28,  5.70s/it]\u001b[A"
     ]
    },
    {
     "name": "stdout",
     "output_type": "stream",
     "text": [
      "Faithful: 1\n",
      "Detail: 2\n",
      "Overall: 5\n",
      "Test Question: Gordon Warnecke worked alongside the former senator for which political party on Young Toscanini?\n",
      "Predicted Answer: Democratic Party\n"
     ]
    },
    {
     "name": "stderr",
     "output_type": "stream",
     "text": [
      "\n",
      "Average Metric: 74.39999999999996 / 46  (161.7):  90%|██████████████████████████████████████████████████████████████████████████████████████████████████████████▏           | 45/50 [04:24<00:28,  5.70s/it]\u001b[A\n",
      "Average Metric: 74.39999999999996 / 46  (161.7):  92%|████████████████████████████████████████████████████████████████████████████████████████████████████████████▌         | 46/50 [04:24<00:23,  5.78s/it]\u001b[A"
     ]
    },
    {
     "name": "stdout",
     "output_type": "stream",
     "text": [
      "Faithful: 1\n",
      "Detail: 1\n",
      "Overall: 1\n",
      "Test Question: André Zucca was a French photographer who worked with a German propaganda magazine published by what Nazi organization?\n",
      "Predicted Answer: Nazi organization\n"
     ]
    },
    {
     "name": "stderr",
     "output_type": "stream",
     "text": [
      "\n",
      "Average Metric: 75.79999999999997 / 47  (161.3):  92%|████████████████████████████████████████████████████████████████████████████████████████████████████████████▌         | 46/50 [04:30<00:23,  5.78s/it]\u001b[A\n",
      "Average Metric: 75.79999999999997 / 47  (161.3):  94%|██████████████████████████████████████████████████████████████████████████████████████████████████████████████▉       | 47/50 [04:30<00:17,  5.74s/it]\u001b[A"
     ]
    },
    {
     "name": "stdout",
     "output_type": "stream",
     "text": [
      "Faithful: 1\n",
      "Detail: 1\n",
      "Overall: 4\n",
      "Test Question: Both Bill Ponsford and Bill Woodfull played what?\n",
      "Predicted Answer: Cricket\n"
     ]
    },
    {
     "name": "stderr",
     "output_type": "stream",
     "text": [
      "\n",
      "Average Metric: 77.39999999999996 / 48  (161.2):  94%|██████████████████████████████████████████████████████████████████████████████████████████████████████████████▉       | 47/50 [04:37<00:17,  5.74s/it]\u001b[A\n",
      "Average Metric: 77.39999999999996 / 48  (161.2):  96%|█████████████████████████████████████████████████████████████████████████████████████████████████████████████████▎    | 48/50 [04:37<00:12,  6.00s/it]\u001b[A"
     ]
    },
    {
     "name": "stdout",
     "output_type": "stream",
     "text": [
      "Faithful: 1\n",
      "Detail: 1\n",
      "Overall: 5\n",
      "Test Question:  Suzana S. Drobnjaković Ponti acted in a film loosely based on a book by who?\n",
      "Predicted Answer: Anne Frank\n"
     ]
    },
    {
     "name": "stderr",
     "output_type": "stream",
     "text": [
      "\n",
      "Average Metric: 78.59999999999997 / 49  (160.4):  96%|█████████████████████████████████████████████████████████████████████████████████████████████████████████████████▎    | 48/50 [04:43<00:12,  6.00s/it]\u001b[A\n",
      "Average Metric: 78.59999999999997 / 49  (160.4):  98%|███████████████████████████████████████████████████████████████████████████████████████████████████████████████████▋  | 49/50 [04:43<00:06,  6.21s/it]\u001b[A"
     ]
    },
    {
     "name": "stdout",
     "output_type": "stream",
     "text": [
      "Faithful: 2\n",
      "Detail: 1\n",
      "Overall: 1\n",
      "Test Question: In what city was the Election Law Journal founded?\n",
      "Predicted Answer: Amsterdam\n"
     ]
    },
    {
     "name": "stderr",
     "output_type": "stream",
     "text": [
      "\n",
      "Average Metric: 81.79999999999997 / 50  (163.6):  98%|███████████████████████████████████████████████████████████████████████████████████████████████████████████████████▋  | 49/50 [04:46<00:06,  6.21s/it]\u001b[A\n",
      "Average Metric: 81.79999999999997 / 50  (163.6): 100%|██████████████████████████████████████████████████████████████████████████████████████████████████████████████████████| 50/50 [04:46<00:00,  5.73s/it]\u001b[A"
     ]
    },
    {
     "name": "stdout",
     "output_type": "stream",
     "text": [
      "Faithful: 5\n",
      "Detail: 1\n",
      "Overall: 5\n",
      "Average Metric: 81.79999999999997 / 50  (163.6%)\n"
     ]
    },
    {
     "name": "stderr",
     "output_type": "stream",
     "text": [
      "\n",
      "/Users/derrickmwiti/.env/lib/python3.11/site-packages/dspy/evaluate/evaluate.py:266: FutureWarning: Setting an item of incompatible dtype is deprecated and will raise in a future error of pandas. Value '['2.0' '1.6' '0.8' '0.8' '1.8']' has dtype incompatible with float64, please explicitly cast to a compatible dtype first.\n",
      "  df.loc[:, metric_name] = df[metric_name].apply(\n"
     ]
    },
    {
     "data": {
      "text/html": [
       "<style type=\"text/css\">\n",
       "#T_b3b5f th {\n",
       "  text-align: left;\n",
       "}\n",
       "#T_b3b5f td {\n",
       "  text-align: left;\n",
       "}\n",
       "#T_b3b5f_row0_col0, #T_b3b5f_row0_col1, #T_b3b5f_row0_col2, #T_b3b5f_row0_col3, #T_b3b5f_row0_col4, #T_b3b5f_row0_col5, #T_b3b5f_row1_col0, #T_b3b5f_row1_col1, #T_b3b5f_row1_col2, #T_b3b5f_row1_col3, #T_b3b5f_row1_col4, #T_b3b5f_row1_col5, #T_b3b5f_row2_col0, #T_b3b5f_row2_col1, #T_b3b5f_row2_col2, #T_b3b5f_row2_col3, #T_b3b5f_row2_col4, #T_b3b5f_row2_col5, #T_b3b5f_row3_col0, #T_b3b5f_row3_col1, #T_b3b5f_row3_col2, #T_b3b5f_row3_col3, #T_b3b5f_row3_col4, #T_b3b5f_row3_col5, #T_b3b5f_row4_col0, #T_b3b5f_row4_col1, #T_b3b5f_row4_col2, #T_b3b5f_row4_col3, #T_b3b5f_row4_col4, #T_b3b5f_row4_col5 {\n",
       "  text-align: left;\n",
       "  white-space: pre-wrap;\n",
       "  word-wrap: break-word;\n",
       "  max-width: 400px;\n",
       "}\n",
       "</style>\n",
       "<table id=\"T_b3b5f\">\n",
       "  <thead>\n",
       "    <tr>\n",
       "      <th class=\"blank level0\" >&nbsp;</th>\n",
       "      <th id=\"T_b3b5f_level0_col0\" class=\"col_heading level0 col0\" >question</th>\n",
       "      <th id=\"T_b3b5f_level0_col1\" class=\"col_heading level0 col1\" >example_answer</th>\n",
       "      <th id=\"T_b3b5f_level0_col2\" class=\"col_heading level0 col2\" >gold_titles</th>\n",
       "      <th id=\"T_b3b5f_level0_col3\" class=\"col_heading level0 col3\" >context</th>\n",
       "      <th id=\"T_b3b5f_level0_col4\" class=\"col_heading level0 col4\" >pred_answer</th>\n",
       "      <th id=\"T_b3b5f_level0_col5\" class=\"col_heading level0 col5\" >llm_metric</th>\n",
       "    </tr>\n",
       "  </thead>\n",
       "  <tbody>\n",
       "    <tr>\n",
       "      <th id=\"T_b3b5f_level0_row0\" class=\"row_heading level0 row0\" >0</th>\n",
       "      <td id=\"T_b3b5f_row0_col0\" class=\"data row0 col0\" >Are both Cangzhou and Qionghai in the Hebei province of China?</td>\n",
       "      <td id=\"T_b3b5f_row0_col1\" class=\"data row0 col1\" >no</td>\n",
       "      <td id=\"T_b3b5f_row0_col2\" class=\"data row0 col2\" >{'Cangzhou', 'Qionghai'}</td>\n",
       "      <td id=\"T_b3b5f_row0_col3\" class=\"data row0 col3\" >['Table\\n* indicates \"Cities of COUNTRY or TERRITORY\" links.\\nCountry (or territory)\\tCapital\\tPopulation\\t% of country\\tSource\\n China\\u202f*\\tBeijing\\t21,542,000\\t1.5%\\t[1] 2018\\n Japan\\u202f*\\tTokyo\\t14,094,034\\t11.3%\\t[2] 2023\\n Russia\\u202f*\\tMoscow\\t13,104,177\\t9.0%\\t[3] 2023\\n DR Congo\\u202f*\\tKinshasa\\t12,691,000\\t13.2%\\t[4] 2017\\n Indonesia\\u202f*\\tJakarta\\t10,562,088\\t3.9%\\t[5] 2020\\n Egypt\\u202f*\\tCairo\\t10,107,125\\t9.3%\\t[6] 2022\\n...</td>\n",
       "      <td id=\"T_b3b5f_row0_col4\" class=\"data row0 col4\" >Insufficient information to determine if both Cangzhou and Qionghai are in the Hebei province of China.</td>\n",
       "      <td id=\"T_b3b5f_row0_col5\" class=\"data row0 col5\" >2.0</td>\n",
       "    </tr>\n",
       "    <tr>\n",
       "      <th id=\"T_b3b5f_level0_row1\" class=\"row_heading level0 row1\" >1</th>\n",
       "      <td id=\"T_b3b5f_row1_col0\" class=\"data row1 col0\" >Who conducts the draft in which Marc-Andre Fleury was drafted to the Vegas Golden Knights for the 2017-18 season?</td>\n",
       "      <td id=\"T_b3b5f_row1_col1\" class=\"data row1 col1\" >National Hockey League</td>\n",
       "      <td id=\"T_b3b5f_row1_col2\" class=\"data row1 col2\" >{'2017–18 Pittsburgh Penguins season', '2017 NHL Expansion Draft'}</td>\n",
       "      <td id=\"T_b3b5f_row1_col3\" class=\"data row1 col3\" >['Amsterdam holds two American football franchises: the Amsterdam Crusaders and the Amsterdam Panthers. The Amsterdam Pirates baseball team competes in the Dutch Major League. There...</td>\n",
       "      <td id=\"T_b3b5f_row1_col4\" class=\"data row1 col4\" >National Hockey League (NHL)</td>\n",
       "      <td id=\"T_b3b5f_row1_col5\" class=\"data row1 col5\" >1.6</td>\n",
       "    </tr>\n",
       "    <tr>\n",
       "      <th id=\"T_b3b5f_level0_row2\" class=\"row_heading level0 row2\" >2</th>\n",
       "      <td id=\"T_b3b5f_row2_col0\" class=\"data row2 col0\" >The Wings entered a new era, following the retirement of which Canadian retired professional ice hockey player and current general manager of the Tampa Bay...</td>\n",
       "      <td id=\"T_b3b5f_row2_col1\" class=\"data row2 col1\" >Steve Yzerman</td>\n",
       "      <td id=\"T_b3b5f_row2_col2\" class=\"data row2 col2\" >{'Steve Yzerman', '2006–07 Detroit Red Wings season'}</td>\n",
       "      <td id=\"T_b3b5f_row2_col3\" class=\"data row2 col3\" >['city was finally liberated by Canadian forces on 5 May 1945, shortly before the end of the war in Europe.', 'In parallel, the Eastern Question...</td>\n",
       "      <td id=\"T_b3b5f_row2_col4\" class=\"data row2 col4\" >Steve Yzerman</td>\n",
       "      <td id=\"T_b3b5f_row2_col5\" class=\"data row2 col5\" >0.8</td>\n",
       "    </tr>\n",
       "    <tr>\n",
       "      <th id=\"T_b3b5f_level0_row3\" class=\"row_heading level0 row3\" >3</th>\n",
       "      <td id=\"T_b3b5f_row3_col0\" class=\"data row3 col0\" >What river is near the Crichton Collegiate Church?</td>\n",
       "      <td id=\"T_b3b5f_row3_col1\" class=\"data row3 col1\" >the River Tyne</td>\n",
       "      <td id=\"T_b3b5f_row3_col2\" class=\"data row3 col2\" >{'Crichton Castle', 'Crichton Collegiate Church'}</td>\n",
       "      <td id=\"T_b3b5f_row3_col3\" class=\"data row3 col3\" >['By the mid-19th century, there were three main conventions, one following the Don, the Volga–Don Canal and the Volga, the other following the Kuma–Manych Depression...</td>\n",
       "      <td id=\"T_b3b5f_row3_col4\" class=\"data row3 col4\" >Don River</td>\n",
       "      <td id=\"T_b3b5f_row3_col5\" class=\"data row3 col5\" >0.8</td>\n",
       "    </tr>\n",
       "    <tr>\n",
       "      <th id=\"T_b3b5f_level0_row4\" class=\"row_heading level0 row4\" >4</th>\n",
       "      <td id=\"T_b3b5f_row4_col0\" class=\"data row4 col0\" >In the 10th Century A.D. Ealhswith had a son called Æthelweard by which English king?</td>\n",
       "      <td id=\"T_b3b5f_row4_col1\" class=\"data row4 col1\" >King Alfred the Great</td>\n",
       "      <td id=\"T_b3b5f_row4_col2\" class=\"data row4 col2\" >{'Ealhswith', 'Æthelweard (son of Alfred)'}</td>\n",
       "      <td id=\"T_b3b5f_row4_col3\" class=\"data row4 col3\" >['During the Dark Ages, the Western Roman Empire fell under the control of various tribes. The Germanic and Slav tribes established their domains over Western...</td>\n",
       "      <td id=\"T_b3b5f_row4_col4\" class=\"data row4 col4\" >Ealhswith had a son called Æthelweard by King Alfred the Great.</td>\n",
       "      <td id=\"T_b3b5f_row4_col5\" class=\"data row4 col5\" >1.8</td>\n",
       "    </tr>\n",
       "  </tbody>\n",
       "</table>\n"
      ],
      "text/plain": [
       "<pandas.io.formats.style.Styler at 0x30a3b8490>"
      ]
     },
     "metadata": {},
     "output_type": "display_data"
    },
    {
     "data": {
      "text/html": [
       "\n",
       "                <div style='\n",
       "                    text-align: center;\n",
       "                    font-size: 16px;\n",
       "                    font-weight: bold;\n",
       "                    color: #555;\n",
       "                    margin: 10px 0;'>\n",
       "                    ... 45 more rows not displayed ...\n",
       "                </div>\n",
       "                "
      ],
      "text/plain": [
       "<IPython.core.display.HTML object>"
      ]
     },
     "metadata": {},
     "output_type": "display_data"
    },
    {
     "data": {
      "text/plain": [
       "163.6"
      ]
     },
     "execution_count": 45,
     "metadata": {},
     "output_type": "execute_result"
    }
   ],
   "source": [
    "evaluate(compiled_rag, metric=llm_metric)"
   ]
  },
  {
   "cell_type": "markdown",
   "id": "5f2e94bf-9061-4c07-9ea2-c3d103c26415",
   "metadata": {},
   "source": [
    "## BootstrapFewShotWithRandomSearch"
   ]
  },
  {
   "cell_type": "code",
   "execution_count": 46,
   "id": "c4a35855-9001-4a93-8616-2db9e285b0dd",
   "metadata": {},
   "outputs": [
    {
     "name": "stdout",
     "output_type": "stream",
     "text": [
      "Going to sample between 1 and 4 traces per predictor.\n",
      "Will attempt to train 2 candidate sets.\n"
     ]
    },
    {
     "name": "stderr",
     "output_type": "stream",
     "text": [
      "\n",
      "  0%|                                                                                                                                                                                | 0/20 [00:00<?, ?it/s]\u001b[A"
     ]
    },
    {
     "name": "stdout",
     "output_type": "stream",
     "text": [
      "Test Question: At My Window was released by which American singer-songwriter?\n",
      "Predicted Answer: Bob Dylan\n",
      "Test Question: which  American actor was Candace Kita  guest starred with \n",
      "Predicted Answer: The question does not provide enough context to determine which American actor Candace Kita guest starred with.\n"
     ]
    },
    {
     "name": "stderr",
     "output_type": "stream",
     "text": [
      "\n",
      "Average Metric: 1.6 / 1  (160.0):   0%|                                                                                                                                              | 0/20 [00:06<?, ?it/s]\u001b[A\n",
      "Average Metric: 1.6 / 1  (160.0):   5%|██████▋                                                                                                                               | 1/20 [00:06<02:07,  6.72s/it]\u001b[A"
     ]
    },
    {
     "name": "stdout",
     "output_type": "stream",
     "text": [
      "Faithful: 1\n",
      "Detail: 1\n",
      "Overall: 5\n"
     ]
    },
    {
     "name": "stderr",
     "output_type": "stream",
     "text": [
      "\n",
      "Average Metric: 3.8000000000000003 / 2  (190.0):   5%|█████▉                                                                                                                 | 1/20 [00:07<02:07,  6.72s/it]\u001b[A\n",
      "Average Metric: 3.8000000000000003 / 2  (190.0):  10%|███████████▉                                                                                                           | 2/20 [00:07<00:55,  3.06s/it]\u001b[A"
     ]
    },
    {
     "name": "stdout",
     "output_type": "stream",
     "text": [
      "Faithful: 2\n",
      "Detail: 2\n",
      "Overall: 5\n",
      "Test Question: Which of these publications was most recently published, Who Put the Bomp or Self?\n",
      "Predicted Answer: The context does not provide any information about the publication dates of \"Who Put the Bomp\" or \"Self.\" Therefore, based on the information given, we cannot determine which publication was most recently published.\n",
      "Test Question: The Victorians - Their Story In Pictures is a documentary series written by an author born in what year?\n",
      "Predicted Answer: The author of \"The Victorians - Their Story In Pictures\" was likely born in the 19th century, possibly during the Victorian era, which lasted from 1837 to 1901.\n"
     ]
    },
    {
     "name": "stderr",
     "output_type": "stream",
     "text": [
      "\n",
      "Average Metric: 6.0 / 3  (200.0):  10%|█████████████▍                                                                                                                        | 2/20 [00:13<00:55,  3.06s/it]\u001b[A\n",
      "Average Metric: 6.0 / 3  (200.0):  15%|████████████████████                                                                                                                  | 3/20 [00:13<01:17,  4.58s/it]\u001b[A"
     ]
    },
    {
     "name": "stdout",
     "output_type": "stream",
     "text": [
      "Faithful: 2\n",
      "Detail: 2\n",
      "Overall: 5\n"
     ]
    },
    {
     "name": "stderr",
     "output_type": "stream",
     "text": [
      "\n",
      "Average Metric: 8.4 / 4  (210.0):  15%|████████████████████                                                                                                                  | 3/20 [00:14<01:17,  4.58s/it]\u001b[A\n",
      "Average Metric: 8.4 / 4  (210.0):  20%|██████████████████████████▊                                                                                                           | 4/20 [00:14<00:48,  3.02s/it]\u001b[A"
     ]
    },
    {
     "name": "stdout",
     "output_type": "stream",
     "text": [
      "Faithful: 2\n",
      "Detail: 3\n",
      "Overall: 5\n",
      "Test Question: Which magazine has published articles by Scott Shaw, Tae Kwon Do Times or Southwest Art?\n",
      "Predicted Answer: Southwest Art\n",
      "Test Question: In what year was the club founded that played Manchester City in the 1972 FA Charity Shield\n",
      "Predicted Answer: The club that played Manchester City in the 1972 FA Charity Shield, AFC Ajax, was founded before 1996.\n"
     ]
    },
    {
     "name": "stderr",
     "output_type": "stream",
     "text": [
      "\n",
      "Average Metric: 10.0 / 5  (200.0):  20%|██████████████████████████▌                                                                                                          | 4/20 [00:18<00:48,  3.02s/it]\u001b[A\n",
      "Average Metric: 10.0 / 5  (200.0):  25%|█████████████████████████████████▎                                                                                                   | 5/20 [00:18<00:54,  3.61s/it]\u001b[A"
     ]
    },
    {
     "name": "stdout",
     "output_type": "stream",
     "text": [
      "Faithful: 1\n",
      "Detail: 1\n",
      "Overall: 5\n",
      "Test Question: Which is taller, the Empire State Building or the Bank of America Tower?\n",
      "Predicted Answer: The Empire State Building is taller than the Bank of America Tower.\n"
     ]
    },
    {
     "name": "stderr",
     "output_type": "stream",
     "text": [
      "\n",
      "Average Metric: 12.0 / 6  (200.0):  25%|█████████████████████████████████▎                                                                                                   | 5/20 [00:22<00:54,  3.61s/it]\u001b[A\n",
      "Average Metric: 12.0 / 6  (200.0):  30%|███████████████████████████████████████▉                                                                                             | 6/20 [00:22<00:48,  3.47s/it]\u001b[A"
     ]
    },
    {
     "name": "stdout",
     "output_type": "stream",
     "text": [
      "Faithful: 1\n",
      "Detail: 3\n",
      "Overall: 5\n",
      "Test Question: Which American actress who made their film debut in the 1995 teen drama \"Kids\" was the co-founder of Voto Latino?\n",
      "Predicted Answer: Rosario Dawson\n"
     ]
    },
    {
     "name": "stderr",
     "output_type": "stream",
     "text": [
      "\n",
      "Average Metric: 13.8 / 7  (197.1):  30%|███████████████████████████████████████▉                                                                                             | 6/20 [00:25<00:48,  3.47s/it]\u001b[A\n",
      "Average Metric: 13.8 / 7  (197.1):  35%|██████████████████████████████████████████████▌                                                                                      | 7/20 [00:25<00:44,  3.46s/it]\u001b[A"
     ]
    },
    {
     "name": "stdout",
     "output_type": "stream",
     "text": [
      "Faithful: 1\n",
      "Detail: 2\n",
      "Overall: 5\n",
      "Test Question: Tombstone stared an actor born May 17, 1955 known as who?\n",
      "Predicted Answer: The actor born on May 17, 1955, is Bill Paxton.\n"
     ]
    },
    {
     "name": "stderr",
     "output_type": "stream",
     "text": [
      "\n",
      "Average Metric: 14.600000000000001 / 8  (182.5):  35%|█████████████████████████████████████████▋                                                                             | 7/20 [00:29<00:44,  3.46s/it]\u001b[A\n",
      "Average Metric: 14.600000000000001 / 8  (182.5):  40%|███████████████████████████████████████████████▌                                                                       | 8/20 [00:29<00:42,  3.57s/it]\u001b[A"
     ]
    },
    {
     "name": "stdout",
     "output_type": "stream",
     "text": [
      "Faithful: 1\n",
      "Detail: 1\n",
      "Overall: 1\n",
      "Test Question: What is the code name for the German offensive that started this Second World War engagement on the Eastern Front (a few hundred kilometers from Moscow) between Soviet and German forces, which included 102nd Infantry Division?\n",
      "Predicted Answer: Operation Barbarossa\n"
     ]
    },
    {
     "name": "stderr",
     "output_type": "stream",
     "text": [
      "\n",
      "Average Metric: 16.400000000000002 / 9  (182.2):  40%|███████████████████████████████████████████████▌                                                                       | 8/20 [00:31<00:42,  3.57s/it]\u001b[A\n",
      "Average Metric: 16.400000000000002 / 9  (182.2):  45%|█████████████████████████████████████████████████████▌                                                                 | 9/20 [00:31<00:34,  3.17s/it]\u001b[A"
     ]
    },
    {
     "name": "stdout",
     "output_type": "stream",
     "text": [
      "Faithful: 1\n",
      "Detail: 2\n",
      "Overall: 5\n",
      "Test Question: Who acted in the shot film The Shore and is also the youngest actress ever to play Ophelia in a Royal Shakespeare Company production of \"Hamlet.\" ?\n",
      "Predicted Answer: Saoirse Ronan\n"
     ]
    },
    {
     "name": "stderr",
     "output_type": "stream",
     "text": [
      "\n",
      "Average Metric: 18.8 / 10  (188.0):  45%|███████████████████████████████████████████████████████████▍                                                                        | 9/20 [00:34<00:34,  3.17s/it]\u001b[A\n",
      "Average Metric: 18.8 / 10  (188.0):  50%|█████████████████████████████████████████████████████████████████▌                                                                 | 10/20 [00:34<00:31,  3.17s/it]\u001b[A"
     ]
    },
    {
     "name": "stdout",
     "output_type": "stream",
     "text": [
      "Faithful: 3\n",
      "Detail: 1\n",
      "Overall: 5\n",
      "Test Question: Which company distributed this 1977 American animated film produced by Walt Disney Productions for which Sherman Brothers wrote songs?\n",
      "Predicted Answer: The film is \"The Rescuers,\" and it was distributed by Buena Vista Distribution.\n"
     ]
    },
    {
     "name": "stderr",
     "output_type": "stream",
     "text": [
      "\n",
      "Average Metric: 19.6 / 11  (178.2):  50%|█████████████████████████████████████████████████████████████████▌                                                                 | 10/20 [00:38<00:31,  3.17s/it]\u001b[A\n",
      "Average Metric: 19.6 / 11  (178.2):  55%|████████████████████████████████████████████████████████████████████████                                                           | 11/20 [00:38<00:31,  3.48s/it]\u001b[A"
     ]
    },
    {
     "name": "stdout",
     "output_type": "stream",
     "text": [
      "Faithful: 1\n",
      "Detail: 1\n",
      "Overall: 1\n"
     ]
    },
    {
     "name": "stderr",
     "output_type": "stream",
     "text": [
      "\n",
      "Average Metric: 21.200000000000003 / 12  (176.7):  55%|████████████████████████████████████████████████████████████████▎                                                    | 11/20 [00:41<00:31,  3.48s/it]\u001b[A\n",
      "Average Metric: 21.200000000000003 / 12  (176.7):  60%|██████████████████████████████████████████████████████████████████████▏                                              | 12/20 [00:41<00:24,  3.12s/it]\u001b[A"
     ]
    },
    {
     "name": "stdout",
     "output_type": "stream",
     "text": [
      "Faithful: 1\n",
      "Detail: 1\n",
      "Overall: 5\n",
      "Test Question: Samantha Cristoforetti and Mark Shuttleworth are both best known for being first in their field to go where? \n",
      "Predicted Answer: Samantha Cristoforetti and Mark Shuttleworth are both best known for being first in their field to go to space.\n",
      "Test Question: Having the combination of excellent foot speed and bat speed helped Eric Davis, create what kind of outfield for the Los Angeles Dodgers? \n",
      "Predicted Answer: Eric Davis helped create a fast and powerful outfield for the Los Angeles Dodgers.\n"
     ]
    },
    {
     "name": "stderr",
     "output_type": "stream",
     "text": [
      "\n",
      "Average Metric: 23.400000000000002 / 13  (180.0):  60%|██████████████████████████████████████████████████████████████████████▏                                              | 12/20 [00:47<00:24,  3.12s/it]\u001b[A\n",
      "Average Metric: 23.400000000000002 / 13  (180.0):  65%|████████████████████████████████████████████████████████████████████████████                                         | 13/20 [00:47<00:28,  4.03s/it]\u001b[A"
     ]
    },
    {
     "name": "stdout",
     "output_type": "stream",
     "text": [
      "Faithful: 2\n",
      "Detail: 2\n",
      "Overall: 5\n"
     ]
    },
    {
     "name": "stderr",
     "output_type": "stream",
     "text": [
      "\n",
      "Average Metric: 25.000000000000004 / 14  (178.6):  65%|████████████████████████████████████████████████████████████████████████████                                         | 13/20 [00:48<00:28,  4.03s/it]\u001b[A\n",
      "Average Metric: 25.000000000000004 / 14  (178.6):  70%|█████████████████████████████████████████████████████████████████████████████████▉                                   | 14/20 [00:48<00:18,  3.08s/it]\u001b[A"
     ]
    },
    {
     "name": "stdout",
     "output_type": "stream",
     "text": [
      "Faithful: 1\n",
      "Detail: 1\n",
      "Overall: 5\n",
      "Test Question: Which Pakistani cricket umpire who won 3 consecutive ICC umpire of the year awards in 2009, 2010, and 2011 will be in the ICC World Twenty20?\n",
      "Predicted Answer: Aleem Dar\n",
      "Test Question: The Organisation that allows a community to influence their operation or use and to enjoy the benefits arisingwas founded in what year?\n",
      "Predicted Answer: The Organisation that allows a community to influence their operation or use and to enjoy the benefits arising was founded in 1948.\n"
     ]
    },
    {
     "name": "stderr",
     "output_type": "stream",
     "text": [
      "\n",
      "Average Metric: 26.600000000000005 / 15  (177.3):  70%|█████████████████████████████████████████████████████████████████████████████████▉                                   | 14/20 [00:53<00:18,  3.08s/it]\u001b[A\n",
      "Average Metric: 26.600000000000005 / 15  (177.3):  75%|███████████████████████████████████████████████████████████████████████████████████████▊                             | 15/20 [00:53<00:19,  3.81s/it]\u001b[A"
     ]
    },
    {
     "name": "stdout",
     "output_type": "stream",
     "text": [
      "Faithful: 1\n",
      "Detail: 1\n",
      "Overall: 5\n"
     ]
    },
    {
     "name": "stderr",
     "output_type": "stream",
     "text": [
      "\n",
      "Average Metric: 28.200000000000006 / 16  (176.3):  75%|███████████████████████████████████████████████████████████████████████████████████████▊                             | 15/20 [00:55<00:19,  3.81s/it]\u001b[A\n",
      "Average Metric: 28.200000000000006 / 16  (176.3):  80%|█████████████████████████████████████████████████████████████████████████████████████████████▌                       | 16/20 [00:55<00:12,  3.15s/it]\u001b[A"
     ]
    },
    {
     "name": "stdout",
     "output_type": "stream",
     "text": [
      "Faithful: 1\n",
      "Detail: 1\n",
      "Overall: 5\n",
      "Test Question: \"Everything Has Changed\" is a song from an album released under which record label ?\n",
      "Predicted Answer: The song \"Everything Has Changed\" is from an album released under the record label Big Machine Records.\n",
      "Test Question: Who is older, Aleksandr Danilovich Aleksandrov or Anatoly Fomenko?\n",
      "Predicted Answer: Aleksandr Danilovich Aleksandrov is older than Anatoly Fomenko.\n"
     ]
    },
    {
     "name": "stderr",
     "output_type": "stream",
     "text": [
      "\n",
      "Average Metric: 30.200000000000006 / 17  (177.6):  80%|█████████████████████████████████████████████████████████████████████████████████████████████▌                       | 16/20 [01:00<00:12,  3.15s/it]\u001b[A\n",
      "Average Metric: 30.200000000000006 / 17  (177.6):  85%|███████████████████████████████████████████████████████████████████████████████████████████████████▍                 | 17/20 [01:00<00:11,  3.77s/it]\u001b[A"
     ]
    },
    {
     "name": "stdout",
     "output_type": "stream",
     "text": [
      "Faithful: 2\n",
      "Detail: 1\n",
      "Overall: 5\n",
      "Test Question: On the coast of what ocean is the birthplace of Diogal Sakho?\n",
      "Predicted Answer: the Atlantic Ocean\n"
     ]
    },
    {
     "name": "stderr",
     "output_type": "stream",
     "text": [
      "\n",
      "Average Metric: 31.800000000000008 / 18  (176.7):  85%|███████████████████████████████████████████████████████████████████████████████████████████████████▍                 | 17/20 [01:02<00:11,  3.77s/it]\u001b[A\n",
      "Average Metric: 31.800000000000008 / 18  (176.7):  90%|█████████████████████████████████████████████████████████████████████████████████████████████████████████▎           | 18/20 [01:02<00:06,  3.22s/it]\u001b[A"
     ]
    },
    {
     "name": "stdout",
     "output_type": "stream",
     "text": [
      "Faithful: 1\n",
      "Detail: 1\n",
      "Overall: 5\n",
      "Test Question: This American guitarist best known for her work with the Iron Maidens is an ancestor of a composer who was known as what?\n",
      "Predicted Answer: Ludwig van Beethoven\n"
     ]
    },
    {
     "name": "stderr",
     "output_type": "stream",
     "text": [
      "\n",
      "Average Metric: 33.400000000000006 / 19  (175.8):  90%|█████████████████████████████████████████████████████████████████████████████████████████████████████████▎           | 18/20 [01:06<00:06,  3.22s/it]\u001b[A\n",
      "Average Metric: 33.400000000000006 / 19  (175.8):  95%|███████████████████████████████████████████████████████████████████████████████████████████████████████████████▏     | 19/20 [01:06<00:03,  3.32s/it]\u001b[A"
     ]
    },
    {
     "name": "stdout",
     "output_type": "stream",
     "text": [
      "Faithful: 1\n",
      "Detail: 1\n",
      "Overall: 5\n"
     ]
    },
    {
     "name": "stderr",
     "output_type": "stream",
     "text": [
      "\n",
      "Average Metric: 34.2 / 20  (171.0):  95%|████████████████████████████████████████████████████████████████████████████████████████████████████████████████████████████▍      | 19/20 [01:08<00:03,  3.32s/it]\u001b[A\n",
      "Average Metric: 34.2 / 20  (171.0): 100%|███████████████████████████████████████████████████████████████████████████████████████████████████████████████████████████████████| 20/20 [01:08<00:00,  3.43s/it]\u001b[A\n"
     ]
    },
    {
     "name": "stdout",
     "output_type": "stream",
     "text": [
      "Faithful: 1\n",
      "Detail: 1\n",
      "Overall: 1\n",
      "Average Metric: 34.2 / 20  (171.0%)\n",
      "Score: 171.0 for set: [0]\n",
      "New best score: 171.0 for seed -3\n",
      "Scores so far: [171.0]\n",
      "Best score: 171.0\n"
     ]
    },
    {
     "name": "stderr",
     "output_type": "stream",
     "text": [
      "\n",
      "  0%|                                                                                                                                                                                | 0/20 [00:00<?, ?it/s]\u001b[A"
     ]
    },
    {
     "name": "stdout",
     "output_type": "stream",
     "text": [
      "Test Question: At My Window was released by which American singer-songwriter?\n",
      "Predicted Answer: The answer cannot be determined from the provided context.\n",
      "Test Question: which  American actor was Candace Kita  guest starred with \n",
      "Predicted Answer: Bill Murray\n"
     ]
    },
    {
     "name": "stderr",
     "output_type": "stream",
     "text": [
      "\n",
      "Average Metric: 2.4 / 1  (240.0):   0%|                                                                                                                                              | 0/20 [00:05<?, ?it/s]\u001b[A\n",
      "Average Metric: 2.4 / 1  (240.0):   5%|██████▋                                                                                                                               | 1/20 [00:05<01:50,  5.81s/it]\u001b[A"
     ]
    },
    {
     "name": "stdout",
     "output_type": "stream",
     "text": [
      "Faithful: 3\n",
      "Detail: 1\n",
      "Overall: 5\n"
     ]
    },
    {
     "name": "stderr",
     "output_type": "stream",
     "text": [
      "\n",
      "Average Metric: 4.0 / 2  (200.0):   5%|██████▋                                                                                                                               | 1/20 [00:06<01:50,  5.81s/it]\u001b[A\n",
      "Average Metric: 4.0 / 2  (200.0):  10%|█████████████▍                                                                                                                        | 2/20 [00:06<00:45,  2.53s/it]\u001b[A"
     ]
    },
    {
     "name": "stdout",
     "output_type": "stream",
     "text": [
      "Faithful: 1\n",
      "Detail: 1\n",
      "Overall: 5\n",
      "Test Question: Which of these publications was most recently published, Who Put the Bomp or Self?\n",
      "Predicted Answer: There is no information in the provided context that indicates the publication dates of \"Who Put the Bomp\" or \"Self.\"\n",
      "Test Question: The Victorians - Their Story In Pictures is a documentary series written by an author born in what year?\n",
      "Predicted Answer: 19th century\n"
     ]
    },
    {
     "name": "stderr",
     "output_type": "stream",
     "text": [
      "\n",
      "Average Metric: 6.0 / 3  (200.0):  10%|█████████████▍                                                                                                                        | 2/20 [00:08<00:45,  2.53s/it]\u001b[A\n",
      "Average Metric: 6.0 / 3  (200.0):  15%|████████████████████                                                                                                                  | 3/20 [00:08<00:43,  2.57s/it]\u001b[A"
     ]
    },
    {
     "name": "stdout",
     "output_type": "stream",
     "text": [
      "Faithful: 4\n",
      "Detail: 1\n",
      "Overall: 1\n",
      "Test Question: Which magazine has published articles by Scott Shaw, Tae Kwon Do Times or Southwest Art?\n",
      "Predicted Answer: Southwest Art\n"
     ]
    },
    {
     "name": "stderr",
     "output_type": "stream",
     "text": [
      "\n",
      "Average Metric: 7.6 / 4  (190.0):  15%|████████████████████                                                                                                                  | 3/20 [00:11<00:43,  2.57s/it]\u001b[A\n",
      "Average Metric: 7.6 / 4  (190.0):  20%|██████████████████████████▊                                                                                                           | 4/20 [00:11<00:39,  2.49s/it]\u001b[A"
     ]
    },
    {
     "name": "stdout",
     "output_type": "stream",
     "text": [
      "Faithful: 1\n",
      "Detail: 1\n",
      "Overall: 5\n"
     ]
    },
    {
     "name": "stderr",
     "output_type": "stream",
     "text": [
      "\n",
      "Average Metric: 9.4 / 5  (188.0):  20%|██████████████████████████▊                                                                                                           | 4/20 [00:12<00:39,  2.49s/it]\u001b[A\n",
      "Average Metric: 9.4 / 5  (188.0):  25%|█████████████████████████████████▌                                                                                                    | 5/20 [00:12<00:32,  2.18s/it]\u001b[A"
     ]
    },
    {
     "name": "stdout",
     "output_type": "stream",
     "text": [
      "Faithful: 1\n",
      "Detail: 2\n",
      "Overall: 5\n",
      "Test Question: In what year was the club founded that played Manchester City in the 1972 FA Charity Shield\n",
      "Predicted Answer: 1900\n",
      "Test Question: Which is taller, the Empire State Building or the Bank of America Tower?\n",
      "Predicted Answer: The Empire State Building\n"
     ]
    },
    {
     "name": "stderr",
     "output_type": "stream",
     "text": [
      "\n",
      "Average Metric: 10.6 / 6  (176.7):  25%|█████████████████████████████████▎                                                                                                   | 5/20 [00:17<00:32,  2.18s/it]\u001b[A\n",
      "Average Metric: 10.6 / 6  (176.7):  30%|███████████████████████████████████████▉                                                                                             | 6/20 [00:17<00:43,  3.07s/it]\u001b[A"
     ]
    },
    {
     "name": "stdout",
     "output_type": "stream",
     "text": [
      "Faithful: 2\n",
      "Detail: 1\n",
      "Overall: 1\n"
     ]
    },
    {
     "name": "stderr",
     "output_type": "stream",
     "text": [
      "\n",
      "Average Metric: 12.2 / 7  (174.3):  30%|███████████████████████████████████████▉                                                                                             | 6/20 [00:19<00:43,  3.07s/it]\u001b[A\n",
      "Average Metric: 12.2 / 7  (174.3):  35%|██████████████████████████████████████████████▌                                                                                      | 7/20 [00:19<00:34,  2.66s/it]\u001b[A"
     ]
    },
    {
     "name": "stdout",
     "output_type": "stream",
     "text": [
      "Test Question: Which American actress who made their film debut in the 1995 teen drama \"Kids\" was the co-founder of Voto Latino?\n",
      "Predicted Answer: Rosario Dawson\n",
      "Faithful: 1\n",
      "Detail: 1\n",
      "Overall: 5\n"
     ]
    },
    {
     "name": "stderr",
     "output_type": "stream",
     "text": [
      "\n",
      "Average Metric: 13.0 / 8  (162.5):  35%|██████████████████████████████████████████████▌                                                                                      | 7/20 [00:19<00:34,  2.66s/it]\u001b[A\n",
      "Average Metric: 13.0 / 8  (162.5):  40%|█████████████████████████████████████████████████████▏                                                                               | 8/20 [00:19<00:22,  1.91s/it]\u001b[A"
     ]
    },
    {
     "name": "stdout",
     "output_type": "stream",
     "text": [
      "Faithful: 1\n",
      "Detail: 1\n",
      "Overall: 1\n",
      "Test Question: Tombstone stared an actor born May 17, 1955 known as who?\n",
      "Predicted Answer: Bill Paxton\n",
      "Test Question: What is the code name for the German offensive that started this Second World War engagement on the Eastern Front (a few hundred kilometers from Moscow) between Soviet and German forces, which included 102nd Infantry Division?\n",
      "Predicted Answer: Operation Barbarossa\n"
     ]
    },
    {
     "name": "stderr",
     "output_type": "stream",
     "text": [
      "\n",
      "Average Metric: 15.4 / 9  (171.1):  40%|█████████████████████████████████████████████████████▏                                                                               | 8/20 [00:22<00:22,  1.91s/it]\u001b[A\n",
      "Average Metric: 15.4 / 9  (171.1):  45%|███████████████████████████████████████████████████████████▊                                                                         | 9/20 [00:22<00:23,  2.17s/it]\u001b[A"
     ]
    },
    {
     "name": "stdout",
     "output_type": "stream",
     "text": [
      "Faithful: 3\n",
      "Detail: 1\n",
      "Overall: 5\n",
      "Test Question: Who acted in the shot film The Shore and is also the youngest actress ever to play Ophelia in a Royal Shakespeare Company production of \"Hamlet.\" ?\n",
      "Predicted Answer: Olivia Hussey\n"
     ]
    },
    {
     "name": "stderr",
     "output_type": "stream",
     "text": [
      "\n",
      "Average Metric: 17.0 / 10  (170.0):  45%|███████████████████████████████████████████████████████████▍                                                                        | 9/20 [00:25<00:23,  2.17s/it]\u001b[A\n",
      "Average Metric: 17.0 / 10  (170.0):  50%|█████████████████████████████████████████████████████████████████▌                                                                 | 10/20 [00:25<00:24,  2.42s/it]\u001b[A"
     ]
    },
    {
     "name": "stdout",
     "output_type": "stream",
     "text": [
      "Faithful: 1\n",
      "Detail: 1\n",
      "Overall: 5\n",
      "Test Question: Which company distributed this 1977 American animated film produced by Walt Disney Productions for which Sherman Brothers wrote songs?\n",
      "Predicted Answer: Buena Vista Distribution\n"
     ]
    },
    {
     "name": "stderr",
     "output_type": "stream",
     "text": [
      "\n",
      "Average Metric: 17.8 / 11  (161.8):  50%|█████████████████████████████████████████████████████████████████▌                                                                 | 10/20 [00:28<00:24,  2.42s/it]\u001b[A\n",
      "Average Metric: 17.8 / 11  (161.8):  55%|████████████████████████████████████████████████████████████████████████                                                           | 11/20 [00:28<00:22,  2.53s/it]\u001b[A"
     ]
    },
    {
     "name": "stdout",
     "output_type": "stream",
     "text": [
      "Faithful: 1\n",
      "Detail: 1\n",
      "Overall: 1\n",
      "Test Question: Samantha Cristoforetti and Mark Shuttleworth are both best known for being first in their field to go where? \n",
      "Predicted Answer: space\n"
     ]
    },
    {
     "name": "stderr",
     "output_type": "stream",
     "text": [
      "\n",
      "Average Metric: 19.400000000000002 / 12  (161.7):  55%|████████████████████████████████████████████████████████████████▎                                                    | 11/20 [00:31<00:22,  2.53s/it]\u001b[A\n",
      "Average Metric: 19.400000000000002 / 12  (161.7):  60%|██████████████████████████████████████████████████████████████████████▏                                              | 12/20 [00:31<00:21,  2.69s/it]\u001b[A"
     ]
    },
    {
     "name": "stdout",
     "output_type": "stream",
     "text": [
      "Faithful: 1\n",
      "Detail: 1\n",
      "Overall: 5\n",
      "Test Question: Having the combination of excellent foot speed and bat speed helped Eric Davis, create what kind of outfield for the Los Angeles Dodgers? \n",
      "Predicted Answer: \"Outfield of Dreams\"\n"
     ]
    },
    {
     "name": "stderr",
     "output_type": "stream",
     "text": [
      "\n",
      "Average Metric: 21.400000000000002 / 13  (164.6):  60%|██████████████████████████████████████████████████████████████████████▏                                              | 12/20 [00:33<00:21,  2.69s/it]\u001b[A\n",
      "Average Metric: 21.400000000000002 / 13  (164.6):  65%|████████████████████████████████████████████████████████████████████████████                                         | 13/20 [00:33<00:19,  2.74s/it]\u001b[A"
     ]
    },
    {
     "name": "stdout",
     "output_type": "stream",
     "text": [
      "Faithful: 4\n",
      "Detail: 1\n",
      "Overall: 1\n",
      "Test Question: Which Pakistani cricket umpire who won 3 consecutive ICC umpire of the year awards in 2009, 2010, and 2011 will be in the ICC World Twenty20?\n",
      "Predicted Answer: Aleem Dar\n"
     ]
    },
    {
     "name": "stderr",
     "output_type": "stream",
     "text": [
      "\n",
      "Average Metric: 23.000000000000004 / 14  (164.3):  65%|████████████████████████████████████████████████████████████████████████████                                         | 13/20 [00:36<00:19,  2.74s/it]\u001b[A\n",
      "Average Metric: 23.000000000000004 / 14  (164.3):  70%|█████████████████████████████████████████████████████████████████████████████████▉                                   | 14/20 [00:36<00:15,  2.64s/it]\u001b[A"
     ]
    },
    {
     "name": "stdout",
     "output_type": "stream",
     "text": [
      "Faithful: 1\n",
      "Detail: 1\n",
      "Overall: 5\n"
     ]
    },
    {
     "name": "stderr",
     "output_type": "stream",
     "text": [
      "\n",
      "Average Metric: 23.800000000000004 / 15  (158.7):  70%|█████████████████████████████████████████████████████████████████████████████████▉                                   | 14/20 [00:38<00:15,  2.64s/it]\u001b[A\n",
      "Average Metric: 23.800000000000004 / 15  (158.7):  75%|███████████████████████████████████████████████████████████████████████████████████████▊                             | 15/20 [00:38<00:11,  2.35s/it]\u001b[A"
     ]
    },
    {
     "name": "stdout",
     "output_type": "stream",
     "text": [
      "Faithful: 1\n",
      "Detail: 1\n",
      "Overall: 1\n",
      "Test Question: The Organisation that allows a community to influence their operation or use and to enjoy the benefits arisingwas founded in what year?\n",
      "Predicted Answer: The organization that allows a community to influence their operation or use and to enjoy the benefits arising, the Council of Europe, was founded in 1948.\n",
      "Test Question: \"Everything Has Changed\" is a song from an album released under which record label ?\n",
      "Predicted Answer: Big Machine Records\n"
     ]
    },
    {
     "name": "stderr",
     "output_type": "stream",
     "text": [
      "\n",
      "Average Metric: 26.200000000000003 / 16  (163.8):  75%|███████████████████████████████████████████████████████████████████████████████████████▊                             | 15/20 [00:43<00:11,  2.35s/it]\u001b[A\n",
      "Average Metric: 26.200000000000003 / 16  (163.8):  80%|█████████████████████████████████████████████████████████████████████████████████████████████▌                       | 16/20 [00:43<00:12,  3.19s/it]\u001b[A"
     ]
    },
    {
     "name": "stdout",
     "output_type": "stream",
     "text": [
      "Faithful: 3\n",
      "Detail: 1\n",
      "Overall: 5\n"
     ]
    },
    {
     "name": "stderr",
     "output_type": "stream",
     "text": [
      "\n",
      "Average Metric: 27.800000000000004 / 17  (163.5):  80%|█████████████████████████████████████████████████████████████████████████████████████████████▌                       | 16/20 [00:43<00:12,  3.19s/it]\u001b[A\n",
      "Average Metric: 27.800000000000004 / 17  (163.5):  85%|███████████████████████████████████████████████████████████████████████████████████████████████████▍                 | 17/20 [00:43<00:07,  2.38s/it]\u001b[A"
     ]
    },
    {
     "name": "stdout",
     "output_type": "stream",
     "text": [
      "Faithful: 1\n",
      "Detail: 1\n",
      "Overall: 5\n",
      "Test Question: On the coast of what ocean is the birthplace of Diogal Sakho?\n",
      "Predicted Answer: Atlantic Ocean\n",
      "Test Question: Who is older, Aleksandr Danilovich Aleksandrov or Anatoly Fomenko?\n",
      "Predicted Answer: Aleksandr Danilovich Aleksandrov\n"
     ]
    },
    {
     "name": "stderr",
     "output_type": "stream",
     "text": [
      "\n",
      "Average Metric: 29.400000000000006 / 18  (163.3):  85%|███████████████████████████████████████████████████████████████████████████████████████████████████▍                 | 17/20 [00:49<00:07,  2.38s/it]\u001b[A\n",
      "Average Metric: 29.400000000000006 / 18  (163.3):  90%|█████████████████████████████████████████████████████████████████████████████████████████████████████████▎           | 18/20 [00:49<00:06,  3.26s/it]\u001b[A"
     ]
    },
    {
     "name": "stdout",
     "output_type": "stream",
     "text": [
      "Faithful: 1\n",
      "Detail: 1\n",
      "Overall: 5\n"
     ]
    },
    {
     "name": "stderr",
     "output_type": "stream",
     "text": [
      "\n",
      "Average Metric: 31.000000000000007 / 19  (163.2):  90%|█████████████████████████████████████████████████████████████████████████████████████████████████████████▎           | 18/20 [00:49<00:06,  3.26s/it]\u001b[A\n",
      "Average Metric: 31.000000000000007 / 19  (163.2):  95%|███████████████████████████████████████████████████████████████████████████████████████████████████████████████▏     | 19/20 [00:49<00:02,  2.43s/it]\u001b[A"
     ]
    },
    {
     "name": "stdout",
     "output_type": "stream",
     "text": [
      "Faithful: 1\n",
      "Detail: 1\n",
      "Overall: 5\n",
      "Test Question: This American guitarist best known for her work with the Iron Maidens is an ancestor of a composer who was known as what?\n",
      "Predicted Answer: Johann Sebastian Bach\n",
      "\n",
      "Context: The American guitarist mentioned is Nita Strauss, who is the great-great-grandniece of the composer Johann Strauss II, also known as the \"Waltz King\".\n"
     ]
    },
    {
     "name": "stderr",
     "output_type": "stream",
     "text": [
      "\n",
      "Average Metric: 32.60000000000001 / 20  (163.0):  95%|████████████████████████████████████████████████████████████████████████████████████████████████████████████████      | 19/20 [00:55<00:02,  2.43s/it]\u001b[A\n",
      "Average Metric: 32.60000000000001 / 20  (163.0): 100%|██████████████████████████████████████████████████████████████████████████████████████████████████████████████████████| 20/20 [00:55<00:00,  2.77s/it]\u001b[A\n"
     ]
    },
    {
     "name": "stdout",
     "output_type": "stream",
     "text": [
      "Faithful: 1\n",
      "Detail: 1\n",
      "Overall: 5\n",
      "Average Metric: 32.60000000000001 / 20  (163.0%)\n",
      "Score: 163.0 for set: [4]\n",
      "Scores so far: [171.0, 163.0]\n",
      "Best score: 171.0\n"
     ]
    },
    {
     "name": "stderr",
     "output_type": "stream",
     "text": [
      "\n",
      "  0%|                                                                                                                                                                                | 0/20 [00:00<?, ?it/s]\u001b[A"
     ]
    },
    {
     "name": "stdout",
     "output_type": "stream",
     "text": [
      "Test Question: At My Window was released by which American singer-songwriter?\n",
      "Predicted Answer: The answer cannot be determined from the provided context.\n"
     ]
    },
    {
     "name": "stderr",
     "output_type": "stream",
     "text": [
      "\n",
      "  5%|████████▍                                                                                                                                                               | 1/20 [00:00<00:17,  1.07it/s]\u001b[A"
     ]
    },
    {
     "name": "stdout",
     "output_type": "stream",
     "text": [
      "Faithful: 3\n",
      "Detail: 1\n",
      "Overall: 5\n",
      "Test Question: which  American actor was Candace Kita  guest starred with \n",
      "Predicted Answer: The question does not provide enough context or specific information to determine which American actor Candace Kita guest starred with.\n"
     ]
    },
    {
     "name": "stderr",
     "output_type": "stream",
     "text": [
      "\n",
      " 10%|████████████████▊                                                                                                                                                       | 2/20 [00:07<01:12,  4.00s/it]\u001b[A"
     ]
    },
    {
     "name": "stdout",
     "output_type": "stream",
     "text": [
      "Faithful: 2\n",
      "Detail: 1\n",
      "Overall: 5\n",
      "Test Question: Which of these publications was most recently published, Who Put the Bomp or Self?\n",
      "Predicted Answer: There is no information in the provided context that indicates the publication dates of \"Who Put the Bomp\" or \"Self.\"\n"
     ]
    },
    {
     "name": "stderr",
     "output_type": "stream",
     "text": [
      "\n",
      " 15%|█████████████████████████▏                                                                                                                                              | 3/20 [00:07<00:43,  2.55s/it]\u001b[A"
     ]
    },
    {
     "name": "stdout",
     "output_type": "stream",
     "text": [
      "Faithful: 1\n",
      "Detail: 2\n",
      "Overall: 5\n",
      "Test Question: The Victorians - Their Story In Pictures is a documentary series written by an author born in what year?\n",
      "Predicted Answer: 19th century\n"
     ]
    },
    {
     "name": "stderr",
     "output_type": "stream",
     "text": [
      "\n",
      " 20%|█████████████████████████████████▌                                                                                                                                      | 4/20 [00:08<00:35,  2.20s/it]\u001b[A\n"
     ]
    },
    {
     "name": "stdout",
     "output_type": "stream",
     "text": [
      "Faithful: 4\n",
      "Detail: 1\n",
      "Overall: 1\n",
      "Bootstrapped 4 full traces after 5 examples in round 0.\n"
     ]
    },
    {
     "name": "stderr",
     "output_type": "stream",
     "text": [
      "\n",
      "  0%|                                                                                                                                                                                | 0/20 [00:00<?, ?it/s]\u001b[A"
     ]
    },
    {
     "name": "stdout",
     "output_type": "stream",
     "text": [
      "Test Question: At My Window was released by which American singer-songwriter?\n",
      "Predicted Answer: The answer cannot be determined from the provided context.\n",
      "Test Question: which  American actor was Candace Kita  guest starred with \n",
      "Predicted Answer: The question does not provide enough context or specific information to determine which American actor Candace Kita guest starred with.\n"
     ]
    },
    {
     "name": "stderr",
     "output_type": "stream",
     "text": [
      "\n",
      "Average Metric: 2.4 / 1  (240.0):   0%|                                                                                                                                              | 0/20 [00:02<?, ?it/s]\u001b[A\n",
      "Average Metric: 2.4 / 1  (240.0):   5%|██████▋                                                                                                                               | 1/20 [00:02<00:43,  2.29s/it]\u001b[A\n",
      "Average Metric: 4.4 / 2  (220.0):   5%|██████▋                                                                                                                               | 1/20 [00:02<00:43,  2.29s/it]\u001b[A"
     ]
    },
    {
     "name": "stdout",
     "output_type": "stream",
     "text": [
      "Faithful: 3\n",
      "Detail: 1\n",
      "Overall: 5\n",
      "Faithful: 2\n",
      "Detail: 1\n",
      "Overall: 5\n",
      "Test Question: Which of these publications was most recently published, Who Put the Bomp or Self?\n",
      "Predicted Answer: There is no information in the provided context that indicates the publication dates of \"Who Put the Bomp\" or \"Self.\"\n"
     ]
    },
    {
     "name": "stderr",
     "output_type": "stream",
     "text": [
      "\n",
      "Average Metric: 6.2 / 3  (206.7):  10%|█████████████▍                                                                                                                        | 2/20 [00:04<00:41,  2.29s/it]\u001b[A\n",
      "Average Metric: 6.2 / 3  (206.7):  15%|████████████████████                                                                                                                  | 3/20 [00:04<00:25,  1.47s/it]\u001b[A"
     ]
    },
    {
     "name": "stdout",
     "output_type": "stream",
     "text": [
      "Faithful: 1\n",
      "Detail: 2\n",
      "Overall: 5\n",
      "Test Question: The Victorians - Their Story In Pictures is a documentary series written by an author born in what year?\n",
      "Predicted Answer: 19th century\n"
     ]
    },
    {
     "name": "stderr",
     "output_type": "stream",
     "text": [
      "\n",
      "Average Metric: 8.2 / 4  (205.0):  15%|████████████████████                                                                                                                  | 3/20 [00:05<00:25,  1.47s/it]\u001b[A\n",
      "Average Metric: 8.2 / 4  (205.0):  20%|██████████████████████████▊                                                                                                           | 4/20 [00:05<00:18,  1.17s/it]\u001b[A"
     ]
    },
    {
     "name": "stdout",
     "output_type": "stream",
     "text": [
      "Faithful: 4\n",
      "Detail: 1\n",
      "Overall: 1\n",
      "Test Question: Which magazine has published articles by Scott Shaw, Tae Kwon Do Times or Southwest Art?\n",
      "Predicted Answer: The answer cannot be determined from the provided context.\n",
      "Test Question: In what year was the club founded that played Manchester City in the 1972 FA Charity Shield\n",
      "Predicted Answer: The club that played Manchester City in the 1972 FA Charity Shield, AFC Ajax, was founded in 1900.\n"
     ]
    },
    {
     "name": "stderr",
     "output_type": "stream",
     "text": [
      "\n",
      "Average Metric: 10.6 / 5  (212.0):  20%|██████████████████████████▌                                                                                                          | 4/20 [00:08<00:18,  1.17s/it]\u001b[A\n",
      "Average Metric: 10.6 / 5  (212.0):  25%|█████████████████████████████████▎                                                                                                   | 5/20 [00:08<00:30,  2.01s/it]\u001b[A"
     ]
    },
    {
     "name": "stdout",
     "output_type": "stream",
     "text": [
      "Faithful: 3\n",
      "Detail: 1\n",
      "Overall: 5\n",
      "Test Question: Which is taller, the Empire State Building or the Bank of America Tower?\n",
      "Predicted Answer: The answer cannot be determined from the provided context.\n"
     ]
    },
    {
     "name": "stderr",
     "output_type": "stream",
     "text": [
      "\n",
      "Average Metric: 12.4 / 6  (206.7):  25%|█████████████████████████████████▎                                                                                                   | 5/20 [00:11<00:30,  2.01s/it]\u001b[A\n",
      "Average Metric: 12.4 / 6  (206.7):  30%|███████████████████████████████████████▉                                                                                             | 6/20 [00:11<00:31,  2.27s/it]\u001b[A"
     ]
    },
    {
     "name": "stdout",
     "output_type": "stream",
     "text": [
      "Faithful: 1\n",
      "Detail: 2\n",
      "Overall: 5\n",
      "Test Question: Which American actress who made their film debut in the 1995 teen drama \"Kids\" was the co-founder of Voto Latino?\n",
      "Predicted Answer: The question does not provide enough context or specific information to determine which American actress co-founded Voto Latino.\n"
     ]
    },
    {
     "name": "stderr",
     "output_type": "stream",
     "text": [
      "\n",
      "Average Metric: 14.0 / 7  (200.0):  30%|███████████████████████████████████████▉                                                                                             | 6/20 [00:14<00:31,  2.27s/it]\u001b[A\n",
      "Average Metric: 14.0 / 7  (200.0):  35%|██████████████████████████████████████████████▌                                                                                      | 7/20 [00:14<00:31,  2.42s/it]\u001b[A"
     ]
    },
    {
     "name": "stdout",
     "output_type": "stream",
     "text": [
      "Faithful: 1\n",
      "Detail: 1\n",
      "Overall: 5\n",
      "Test Question: Tombstone stared an actor born May 17, 1955 known as who?\n",
      "Predicted Answer: The answer cannot be determined from the provided context.\n"
     ]
    },
    {
     "name": "stderr",
     "output_type": "stream",
     "text": [
      "\n",
      "Average Metric: 16.2 / 8  (202.5):  35%|██████████████████████████████████████████████▌                                                                                      | 7/20 [00:17<00:31,  2.42s/it]\u001b[A\n",
      "Average Metric: 16.2 / 8  (202.5):  40%|█████████████████████████████████████████████████████▏                                                                               | 8/20 [00:17<00:31,  2.59s/it]\u001b[A"
     ]
    },
    {
     "name": "stdout",
     "output_type": "stream",
     "text": [
      "Faithful: 2\n",
      "Detail: 2\n",
      "Overall: 5\n",
      "Test Question: What is the code name for the German offensive that started this Second World War engagement on the Eastern Front (a few hundred kilometers from Moscow) between Soviet and German forces, which included 102nd Infantry Division?\n",
      "Predicted Answer: Operation Citadel\n"
     ]
    },
    {
     "name": "stderr",
     "output_type": "stream",
     "text": [
      "\n",
      "Average Metric: 17.8 / 9  (197.8):  40%|█████████████████████████████████████████████████████▏                                                                               | 8/20 [00:20<00:31,  2.59s/it]\u001b[A\n",
      "Average Metric: 17.8 / 9  (197.8):  45%|███████████████████████████████████████████████████████████▊                                                                         | 9/20 [00:20<00:28,  2.56s/it]\u001b[A"
     ]
    },
    {
     "name": "stdout",
     "output_type": "stream",
     "text": [
      "Faithful: 1\n",
      "Detail: 1\n",
      "Overall: 5\n",
      "Test Question: Who acted in the shot film The Shore and is also the youngest actress ever to play Ophelia in a Royal Shakespeare Company production of \"Hamlet.\" ?\n",
      "Predicted Answer: The answer cannot be determined from the provided context.\n"
     ]
    },
    {
     "name": "stderr",
     "output_type": "stream",
     "text": [
      "\n",
      "Average Metric: 19.400000000000002 / 10  (194.0):  45%|█████████████████████████████████████████████████████                                                                 | 9/20 [00:23<00:28,  2.56s/it]\u001b[A\n",
      "Average Metric: 19.400000000000002 / 10  (194.0):  50%|██████████████████████████████████████████████████████████▌                                                          | 10/20 [00:23<00:28,  2.89s/it]\u001b[A"
     ]
    },
    {
     "name": "stdout",
     "output_type": "stream",
     "text": [
      "Faithful: 1\n",
      "Detail: 1\n",
      "Overall: 5\n"
     ]
    },
    {
     "name": "stderr",
     "output_type": "stream",
     "text": [
      "\n",
      "Average Metric: 22.200000000000003 / 11  (201.8):  50%|██████████████████████████████████████████████████████████▌                                                          | 10/20 [00:24<00:28,  2.89s/it]\u001b[A\n",
      "Average Metric: 22.200000000000003 / 11  (201.8):  55%|████████████████████████████████████████████████████████████████▎                                                    | 11/20 [00:24<00:21,  2.35s/it]\u001b[A"
     ]
    },
    {
     "name": "stdout",
     "output_type": "stream",
     "text": [
      "Faithful: 4\n",
      "Detail: 1\n",
      "Overall: 5\n",
      "Test Question: Which company distributed this 1977 American animated film produced by Walt Disney Productions for which Sherman Brothers wrote songs?\n",
      "Predicted Answer: Walt Disney Productions\n",
      "Test Question: Samantha Cristoforetti and Mark Shuttleworth are both best known for being first in their field to go where? \n",
      "Predicted Answer: Space\n"
     ]
    },
    {
     "name": "stderr",
     "output_type": "stream",
     "text": [
      "\n",
      "Average Metric: 23.800000000000004 / 12  (198.3):  55%|████████████████████████████████████████████████████████████████▎                                                    | 11/20 [00:29<00:21,  2.35s/it]\u001b[A\n",
      "Average Metric: 23.800000000000004 / 12  (198.3):  60%|██████████████████████████████████████████████████████████████████████▏                                              | 12/20 [00:29<00:24,  3.07s/it]\u001b[A"
     ]
    },
    {
     "name": "stdout",
     "output_type": "stream",
     "text": [
      "Faithful: 3\n",
      "Detail: 1\n",
      "Overall: 1\n"
     ]
    },
    {
     "name": "stderr",
     "output_type": "stream",
     "text": [
      "\n",
      "Average Metric: 25.400000000000006 / 13  (195.4):  60%|██████████████████████████████████████████████████████████████████████▏                                              | 12/20 [00:30<00:24,  3.07s/it]\u001b[A\n",
      "Average Metric: 25.400000000000006 / 13  (195.4):  65%|████████████████████████████████████████████████████████████████████████████                                         | 13/20 [00:30<00:16,  2.35s/it]\u001b[A"
     ]
    },
    {
     "name": "stdout",
     "output_type": "stream",
     "text": [
      "Faithful: 1\n",
      "Detail: 1\n",
      "Overall: 5\n",
      "Test Question: Having the combination of excellent foot speed and bat speed helped Eric Davis, create what kind of outfield for the Los Angeles Dodgers? \n",
      "Predicted Answer: The answer cannot be determined from the provided context.\n",
      "Test Question: Which Pakistani cricket umpire who won 3 consecutive ICC umpire of the year awards in 2009, 2010, and 2011 will be in the ICC World Twenty20?\n",
      "Predicted Answer: The question cannot be answered based on the provided context.\n"
     ]
    },
    {
     "name": "stderr",
     "output_type": "stream",
     "text": [
      "\n",
      "Average Metric: 27.000000000000007 / 14  (192.9):  65%|████████████████████████████████████████████████████████████████████████████                                         | 13/20 [00:34<00:16,  2.35s/it]\u001b[A\n",
      "Average Metric: 27.000000000000007 / 14  (192.9):  70%|█████████████████████████████████████████████████████████████████████████████████▉                                   | 14/20 [00:34<00:16,  2.82s/it]\u001b[A"
     ]
    },
    {
     "name": "stdout",
     "output_type": "stream",
     "text": [
      "Faithful: 1\n",
      "Detail: 1\n",
      "Overall: 5\n"
     ]
    },
    {
     "name": "stderr",
     "output_type": "stream",
     "text": [
      "\n",
      "Average Metric: 27.000000000000007 / 15  (180.0):  70%|█████████████████████████████████████████████████████████████████████████████████▉                                   | 14/20 [00:36<00:16,  2.82s/it]\u001b[A\n",
      "Average Metric: 27.000000000000007 / 15  (180.0):  75%|███████████████████████████████████████████████████████████████████████████████████████▊                             | 15/20 [00:36<00:13,  2.63s/it]\u001b[A"
     ]
    },
    {
     "name": "stdout",
     "output_type": "stream",
     "text": [
      "Faithful: 1\n",
      "Detail: N/A\n",
      "Overall: 5\n",
      "Error for example in dev set: \t\t could not convert string to float: 'N/A'\n",
      "Test Question: The Organisation that allows a community to influence their operation or use and to enjoy the benefits arisingwas founded in what year?\n",
      "Predicted Answer: The question does not provide enough specific information to determine the founding year of the organization mentioned.\n",
      "Test Question: \"Everything Has Changed\" is a song from an album released under which record label ?\n",
      "Predicted Answer: The answer cannot be determined from the provided context.\n"
     ]
    },
    {
     "name": "stderr",
     "output_type": "stream",
     "text": [
      "\n",
      "Average Metric: 29.60000000000001 / 16  (185.0):  75%|████████████████████████████████████████████████████████████████████████████████████████▌                             | 15/20 [00:40<00:13,  2.63s/it]\u001b[A\n",
      "Average Metric: 29.60000000000001 / 16  (185.0):  80%|██████████████████████████████████████████████████████████████████████████████████████████████▍                       | 16/20 [00:40<00:12,  3.21s/it]\u001b[A"
     ]
    },
    {
     "name": "stdout",
     "output_type": "stream",
     "text": [
      "Faithful: 3\n",
      "Detail: 2\n",
      "Overall: 5\n"
     ]
    },
    {
     "name": "stderr",
     "output_type": "stream",
     "text": [
      "\n",
      "Average Metric: 30.800000000000008 / 17  (181.2):  80%|█████████████████████████████████████████████████████████████████████████████████████████████▌                       | 16/20 [00:41<00:12,  3.21s/it]\u001b[A\n",
      "Average Metric: 30.800000000000008 / 17  (181.2):  85%|███████████████████████████████████████████████████████████████████████████████████████████████████▍                 | 17/20 [00:41<00:07,  2.42s/it]\u001b[A"
     ]
    },
    {
     "name": "stdout",
     "output_type": "stream",
     "text": [
      "Faithful: 2\n",
      "Detail: 1\n",
      "Overall: 1\n",
      "Test Question: Who is older, Aleksandr Danilovich Aleksandrov or Anatoly Fomenko?\n",
      "Predicted Answer: The question cannot be answered with the provided context.\n",
      "Test Question: On the coast of what ocean is the birthplace of Diogal Sakho?\n",
      "Predicted Answer: Atlantic Ocean\n"
     ]
    },
    {
     "name": "stderr",
     "output_type": "stream",
     "text": [
      "\n",
      "Average Metric: 32.400000000000006 / 18  (180.0):  85%|███████████████████████████████████████████████████████████████████████████████████████████████████▍                 | 17/20 [00:43<00:07,  2.42s/it]\u001b[A\n",
      "Average Metric: 32.400000000000006 / 18  (180.0):  90%|█████████████████████████████████████████████████████████████████████████████████████████████████████████▎           | 18/20 [00:43<00:04,  2.43s/it]\u001b[A"
     ]
    },
    {
     "name": "stdout",
     "output_type": "stream",
     "text": [
      "Faithful: 1\n",
      "Detail: 1\n",
      "Overall: 5\n",
      "Test Question: This American guitarist best known for her work with the Iron Maidens is an ancestor of a composer who was known as what?\n",
      "Predicted Answer: The answer cannot be determined from the provided context.\n"
     ]
    },
    {
     "name": "stderr",
     "output_type": "stream",
     "text": [
      "\n",
      "Average Metric: 32.400000000000006 / 19  (170.5):  90%|█████████████████████████████████████████████████████████████████████████████████████████████████████████▎           | 18/20 [00:47<00:04,  2.43s/it]\u001b[A\n",
      "Average Metric: 32.400000000000006 / 19  (170.5):  95%|███████████████████████████████████████████████████████████████████████████████████████████████████████████████▏     | 19/20 [00:47<00:02,  2.79s/it]\u001b[A"
     ]
    },
    {
     "name": "stdout",
     "output_type": "stream",
     "text": [
      "Faithful: 1\n",
      "Detail: N/A\n",
      "Overall: 5\n",
      "Error for example in dev set: \t\t could not convert string to float: 'N/A'\n"
     ]
    },
    {
     "name": "stderr",
     "output_type": "stream",
     "text": [
      "\n",
      "Average Metric: 34.800000000000004 / 20  (174.0):  95%|███████████████████████████████████████████████████████████████████████████████████████████████████████████████▏     | 19/20 [00:48<00:02,  2.79s/it]\u001b[A\n",
      "Average Metric: 34.800000000000004 / 20  (174.0): 100%|█████████████████████████████████████████████████████████████████████████████████████████████████████████████████████| 20/20 [00:48<00:00,  2.42s/it]\u001b[A\n"
     ]
    },
    {
     "name": "stdout",
     "output_type": "stream",
     "text": [
      "Faithful: 3\n",
      "Detail: 1\n",
      "Overall: 5\n",
      "Average Metric: 34.800000000000004 / 20  (174.0%)\n",
      "Score: 174.0 for set: [4]\n",
      "New best score: 174.0 for seed -1\n",
      "Scores so far: [171.0, 163.0, 174.0]\n",
      "Best score: 174.0\n",
      "Average of max per entry across top 1 scores: 1.7400000000000002\n",
      "Average of max per entry across top 2 scores: 2.0900000000000003\n",
      "Average of max per entry across top 3 scores: 2.12\n",
      "Average of max per entry across top 5 scores: 2.12\n",
      "Average of max per entry across top 8 scores: 2.12\n",
      "Average of max per entry across top 9999 scores: 2.12\n"
     ]
    },
    {
     "name": "stderr",
     "output_type": "stream",
     "text": [
      "\n",
      "  0%|                                                                                                                                                                                | 0/20 [00:00<?, ?it/s]\u001b[A"
     ]
    },
    {
     "name": "stdout",
     "output_type": "stream",
     "text": [
      "Test Question: Who acted in the shot film The Shore and is also the youngest actress ever to play Ophelia in a Royal Shakespeare Company production of \"Hamlet.\" ?\n",
      "Predicted Answer: Caoilfhionn Dunne\n"
     ]
    },
    {
     "name": "stderr",
     "output_type": "stream",
     "text": [
      "\n",
      "  5%|████████▍                                                                                                                                                               | 1/20 [00:06<01:54,  6.01s/it]\u001b[A"
     ]
    },
    {
     "name": "stdout",
     "output_type": "stream",
     "text": [
      "Faithful: 1\n",
      "Detail: 1\n",
      "Overall: 5\n",
      "Test Question: On the coast of what ocean is the birthplace of Diogal Sakho?\n",
      "Predicted Answer: Atlantic Ocean\n"
     ]
    },
    {
     "name": "stderr",
     "output_type": "stream",
     "text": [
      "\n",
      " 10%|████████████████▊                                                                                                                                                       | 2/20 [00:08<01:12,  4.04s/it]\u001b[A"
     ]
    },
    {
     "name": "stdout",
     "output_type": "stream",
     "text": [
      "Faithful: 1\n",
      "Detail: 1\n",
      "Overall: 5\n",
      "Test Question: \"Everything Has Changed\" is a song from an album released under which record label ?\n",
      "Predicted Answer: Big Machine Records\n"
     ]
    },
    {
     "name": "stderr",
     "output_type": "stream",
     "text": [
      "\n",
      " 15%|█████████████████████████▏                                                                                                                                              | 3/20 [00:11<00:57,  3.37s/it]\u001b[A"
     ]
    },
    {
     "name": "stdout",
     "output_type": "stream",
     "text": [
      "Faithful: 1\n",
      "Detail: 1\n",
      "Overall: 5\n",
      "Test Question: Which Pakistani cricket umpire who won 3 consecutive ICC umpire of the year awards in 2009, 2010, and 2011 will be in the ICC World Twenty20?\n",
      "Predicted Answer: Aleem Dar\n"
     ]
    },
    {
     "name": "stderr",
     "output_type": "stream",
     "text": [
      "\n",
      " 20%|█████████████████████████████████▌                                                                                                                                      | 4/20 [00:13<00:55,  3.46s/it]\u001b[A\n"
     ]
    },
    {
     "name": "stdout",
     "output_type": "stream",
     "text": [
      "Faithful: 1\n",
      "Detail: 1\n",
      "Overall: 5\n",
      "Bootstrapped 4 full traces after 5 examples in round 0.\n"
     ]
    },
    {
     "name": "stderr",
     "output_type": "stream",
     "text": [
      "\n",
      "  0%|                                                                                                                                                                                | 0/20 [00:00<?, ?it/s]\u001b[A"
     ]
    },
    {
     "name": "stdout",
     "output_type": "stream",
     "text": [
      "Test Question: which  American actor was Candace Kita  guest starred with \n",
      "Predicted Answer: Insufficient information provided to answer the question.\n",
      "Test Question: At My Window was released by which American singer-songwriter?\n",
      "Predicted Answer: Townes Van Zandt\n"
     ]
    },
    {
     "name": "stderr",
     "output_type": "stream",
     "text": [
      "\n",
      "Average Metric: 1.6 / 1  (160.0):   0%|                                                                                                                                              | 0/20 [00:05<?, ?it/s]\u001b[A\n",
      "Average Metric: 1.6 / 1  (160.0):   5%|██████▋                                                                                                                               | 1/20 [00:05<01:49,  5.75s/it]\u001b[A"
     ]
    },
    {
     "name": "stdout",
     "output_type": "stream",
     "text": [
      "Faithful: 3\n",
      "Detail: 1\n",
      "Overall: 1\n"
     ]
    },
    {
     "name": "stderr",
     "output_type": "stream",
     "text": [
      "\n",
      "Average Metric: 3.2 / 2  (160.0):   5%|██████▋                                                                                                                               | 1/20 [00:06<01:49,  5.75s/it]\u001b[A\n",
      "Average Metric: 3.2 / 2  (160.0):  10%|█████████████▍                                                                                                                        | 2/20 [00:06<00:47,  2.61s/it]\u001b[A"
     ]
    },
    {
     "name": "stdout",
     "output_type": "stream",
     "text": [
      "Faithful: 1\n",
      "Detail: 1\n",
      "Overall: 5\n",
      "Test Question: Which of these publications was most recently published, Who Put the Bomp or Self?\n",
      "Predicted Answer: Self\n"
     ]
    },
    {
     "name": "stderr",
     "output_type": "stream",
     "text": [
      "\n",
      "Average Metric: 7.0 / 3  (233.3):  10%|█████████████▍                                                                                                                        | 2/20 [00:08<00:47,  2.61s/it]\u001b[A\n",
      "Average Metric: 7.0 / 3  (233.3):  15%|████████████████████                                                                                                                  | 3/20 [00:08<00:40,  2.37s/it]\u001b[A"
     ]
    },
    {
     "name": "stdout",
     "output_type": "stream",
     "text": [
      "Test Question: The Victorians - Their Story In Pictures is a documentary series written by an author born in what year?\n",
      "Predicted Answer: 1960\n",
      "Faithful: 5\n",
      "Detail: 4\n",
      "Overall: 5\n",
      "Test Question: Which magazine has published articles by Scott Shaw, Tae Kwon Do Times or Southwest Art?\n",
      "Predicted Answer: Tae Kwon Do Times\n"
     ]
    },
    {
     "name": "stderr",
     "output_type": "stream",
     "text": [
      "\n",
      "Average Metric: 8.6 / 4  (215.0):  15%|████████████████████                                                                                                                  | 3/20 [00:10<00:40,  2.37s/it]\u001b[A\n",
      "Average Metric: 8.6 / 4  (215.0):  20%|██████████████████████████▊                                                                                                           | 4/20 [00:10<00:38,  2.42s/it]\u001b[A"
     ]
    },
    {
     "name": "stdout",
     "output_type": "stream",
     "text": [
      "Faithful: 1\n",
      "Detail: 1\n",
      "Overall: 5\n"
     ]
    },
    {
     "name": "stderr",
     "output_type": "stream",
     "text": [
      "\n",
      "Average Metric: 9.4 / 5  (188.0):  20%|██████████████████████████▊                                                                                                           | 4/20 [00:12<00:38,  2.42s/it]\u001b[A\n",
      "Average Metric: 9.4 / 5  (188.0):  25%|█████████████████████████████████▌                                                                                                    | 5/20 [00:12<00:31,  2.11s/it]\u001b[A"
     ]
    },
    {
     "name": "stdout",
     "output_type": "stream",
     "text": [
      "Faithful: 1\n",
      "Detail: 1\n",
      "Overall: 1\n",
      "Test Question: In what year was the club founded that played Manchester City in the 1972 FA Charity Shield\n",
      "Predicted Answer: 1900\n"
     ]
    },
    {
     "name": "stderr",
     "output_type": "stream",
     "text": [
      "\n",
      "Average Metric: 10.6 / 6  (176.7):  25%|█████████████████████████████████▎                                                                                                   | 5/20 [00:13<00:31,  2.11s/it]\u001b[A\n",
      "Average Metric: 10.6 / 6  (176.7):  30%|███████████████████████████████████████▉                                                                                             | 6/20 [00:13<00:23,  1.68s/it]\u001b[A"
     ]
    },
    {
     "name": "stdout",
     "output_type": "stream",
     "text": [
      "Faithful: 2\n",
      "Detail: 1\n",
      "Overall: 1\n",
      "Test Question: Which is taller, the Empire State Building or the Bank of America Tower?\n",
      "Predicted Answer: Empire State Building\n",
      "Test Question: Which American actress who made their film debut in the 1995 teen drama \"Kids\" was the co-founder of Voto Latino?\n",
      "Predicted Answer: Rosario Dawson\n"
     ]
    },
    {
     "name": "stderr",
     "output_type": "stream",
     "text": [
      "\n",
      "Average Metric: 11.4 / 7  (162.9):  30%|███████████████████████████████████████▉                                                                                             | 6/20 [00:15<00:23,  1.68s/it]\u001b[A\n",
      "Average Metric: 11.4 / 7  (162.9):  35%|██████████████████████████████████████████████▌                                                                                      | 7/20 [00:15<00:25,  1.93s/it]\u001b[A"
     ]
    },
    {
     "name": "stdout",
     "output_type": "stream",
     "text": [
      "Faithful: 1\n",
      "Detail: 1\n",
      "Overall: 1\n",
      "Test Question: Tombstone stared an actor born May 17, 1955 known as who?\n",
      "Predicted Answer: Bill Paxton\n"
     ]
    },
    {
     "name": "stderr",
     "output_type": "stream",
     "text": [
      "\n",
      "Average Metric: 13.0 / 8  (162.5):  35%|██████████████████████████████████████████████▌                                                                                      | 7/20 [00:17<00:25,  1.93s/it]\u001b[A\n",
      "Average Metric: 13.0 / 8  (162.5):  40%|█████████████████████████████████████████████████████▏                                                                               | 8/20 [00:17<00:24,  2.06s/it]\u001b[A"
     ]
    },
    {
     "name": "stdout",
     "output_type": "stream",
     "text": [
      "Faithful: 1\n",
      "Detail: 1\n",
      "Overall: 5\n"
     ]
    },
    {
     "name": "stderr",
     "output_type": "stream",
     "text": [
      "\n",
      "Average Metric: 14.6 / 9  (162.2):  40%|█████████████████████████████████████████████████████▏                                                                               | 8/20 [00:19<00:24,  2.06s/it]\u001b[A\n",
      "Average Metric: 14.6 / 9  (162.2):  45%|███████████████████████████████████████████████████████████▊                                                                         | 9/20 [00:19<00:19,  1.82s/it]\u001b[A"
     ]
    },
    {
     "name": "stdout",
     "output_type": "stream",
     "text": [
      "Faithful: 1\n",
      "Detail: 1\n",
      "Overall: 5\n",
      "Test Question: What is the code name for the German offensive that started this Second World War engagement on the Eastern Front (a few hundred kilometers from Moscow) between Soviet and German forces, which included 102nd Infantry Division?\n",
      "Predicted Answer: Operation Citadel\n"
     ]
    },
    {
     "name": "stderr",
     "output_type": "stream",
     "text": [
      "\n",
      "Average Metric: 16.2 / 10  (162.0):  45%|███████████████████████████████████████████████████████████▍                                                                        | 9/20 [00:20<00:19,  1.82s/it]\u001b[A\n",
      "Average Metric: 16.2 / 10  (162.0):  50%|█████████████████████████████████████████████████████████████████▌                                                                 | 10/20 [00:20<00:15,  1.57s/it]\u001b[A"
     ]
    },
    {
     "name": "stdout",
     "output_type": "stream",
     "text": [
      "Faithful: 1\n",
      "Detail: 1\n",
      "Overall: 5\n",
      "Test Question: Who acted in the shot film The Shore and is also the youngest actress ever to play Ophelia in a Royal Shakespeare Company production of \"Hamlet.\" ?\n",
      "Predicted Answer: Caoilfhionn Dunne\n"
     ]
    },
    {
     "name": "stderr",
     "output_type": "stream",
     "text": [
      "\n",
      "Average Metric: 17.8 / 11  (161.8):  50%|█████████████████████████████████████████████████████████████████▌                                                                 | 10/20 [00:22<00:15,  1.57s/it]\u001b[A\n",
      "Average Metric: 17.8 / 11  (161.8):  55%|████████████████████████████████████████████████████████████████████████                                                           | 11/20 [00:22<00:15,  1.69s/it]\u001b[A"
     ]
    },
    {
     "name": "stdout",
     "output_type": "stream",
     "text": [
      "Faithful: 1\n",
      "Detail: 1\n",
      "Overall: 5\n",
      "Test Question: Which company distributed this 1977 American animated film produced by Walt Disney Productions for which Sherman Brothers wrote songs?\n",
      "Predicted Answer: Buena Vista Distribution\n"
     ]
    },
    {
     "name": "stderr",
     "output_type": "stream",
     "text": [
      "\n",
      "Average Metric: 19.400000000000002 / 12  (161.7):  55%|████████████████████████████████████████████████████████████████▎                                                    | 11/20 [00:23<00:15,  1.69s/it]\u001b[A\n",
      "Average Metric: 19.400000000000002 / 12  (161.7):  60%|██████████████████████████████████████████████████████████████████████▏                                              | 12/20 [00:23<00:12,  1.56s/it]\u001b[A"
     ]
    },
    {
     "name": "stdout",
     "output_type": "stream",
     "text": [
      "Faithful: 1\n",
      "Detail: 1\n",
      "Overall: 5\n",
      "Test Question: Samantha Cristoforetti and Mark Shuttleworth are both best known for being first in their field to go where? \n",
      "Predicted Answer: International Space Station\n",
      "Test Question: Having the combination of excellent foot speed and bat speed helped Eric Davis, create what kind of outfield for the Los Angeles Dodgers? \n",
      "Predicted Answer: Speedy and powerful outfield\n"
     ]
    },
    {
     "name": "stderr",
     "output_type": "stream",
     "text": [
      "\n",
      "Average Metric: 21.000000000000004 / 13  (161.5):  60%|██████████████████████████████████████████████████████████████████████▏                                              | 12/20 [00:28<00:12,  1.56s/it]\u001b[A\n",
      "Average Metric: 21.000000000000004 / 13  (161.5):  65%|████████████████████████████████████████████████████████████████████████████                                         | 13/20 [00:28<00:17,  2.56s/it]\u001b[A"
     ]
    },
    {
     "name": "stdout",
     "output_type": "stream",
     "text": [
      "Faithful: 1\n",
      "Detail: 1\n",
      "Overall: 5\n"
     ]
    },
    {
     "name": "stderr",
     "output_type": "stream",
     "text": [
      "\n",
      "Average Metric: 22.000000000000004 / 14  (157.1):  65%|████████████████████████████████████████████████████████████████████████████                                         | 13/20 [00:29<00:17,  2.56s/it]\u001b[A\n",
      "Average Metric: 22.000000000000004 / 14  (157.1):  70%|█████████████████████████████████████████████████████████████████████████████████▉                                   | 14/20 [00:29<00:13,  2.19s/it]\u001b[A"
     ]
    },
    {
     "name": "stdout",
     "output_type": "stream",
     "text": [
      "Faithful: 1\n",
      "Detail: 2\n",
      "Overall: 1\n",
      "Test Question: Which Pakistani cricket umpire who won 3 consecutive ICC umpire of the year awards in 2009, 2010, and 2011 will be in the ICC World Twenty20?\n",
      "Predicted Answer: Aleem Dar\n"
     ]
    },
    {
     "name": "stderr",
     "output_type": "stream",
     "text": [
      "\n",
      "Average Metric: 23.600000000000005 / 15  (157.3):  70%|█████████████████████████████████████████████████████████████████████████████████▉                                   | 14/20 [00:31<00:13,  2.19s/it]\u001b[A\n",
      "Average Metric: 23.600000000000005 / 15  (157.3):  75%|███████████████████████████████████████████████████████████████████████████████████████▊                             | 15/20 [00:31<00:10,  2.06s/it]\u001b[A"
     ]
    },
    {
     "name": "stdout",
     "output_type": "stream",
     "text": [
      "Faithful: 1\n",
      "Detail: 1\n",
      "Overall: 5\n",
      "Test Question: The Organisation that allows a community to influence their operation or use and to enjoy the benefits arisingwas founded in what year?\n",
      "Predicted Answer: 1948\n",
      "Test Question: \"Everything Has Changed\" is a song from an album released under which record label ?\n",
      "Predicted Answer: Big Machine Records\n"
     ]
    },
    {
     "name": "stderr",
     "output_type": "stream",
     "text": [
      "\n",
      "Average Metric: 25.200000000000006 / 16  (157.5):  75%|███████████████████████████████████████████████████████████████████████████████████████▊                             | 15/20 [00:34<00:10,  2.06s/it]\u001b[A\n",
      "Average Metric: 25.200000000000006 / 16  (157.5):  80%|█████████████████████████████████████████████████████████████████████████████████████████████▌                       | 16/20 [00:34<00:09,  2.30s/it]\u001b[A"
     ]
    },
    {
     "name": "stdout",
     "output_type": "stream",
     "text": [
      "Faithful: 1\n",
      "Detail: 1\n",
      "Overall: 5\n"
     ]
    },
    {
     "name": "stderr",
     "output_type": "stream",
     "text": [
      "\n",
      "Average Metric: 27.600000000000005 / 17  (162.4):  80%|█████████████████████████████████████████████████████████████████████████████████████████████▌                       | 16/20 [00:35<00:09,  2.30s/it]\u001b[A\n",
      "Average Metric: 27.600000000000005 / 17  (162.4):  85%|███████████████████████████████████████████████████████████████████████████████████████████████████▍                 | 17/20 [00:35<00:06,  2.11s/it]\u001b[A"
     ]
    },
    {
     "name": "stdout",
     "output_type": "stream",
     "text": [
      "Test Question: Who is older, Aleksandr Danilovich Aleksandrov or Anatoly Fomenko?\n",
      "Predicted Answer: Cannot determine\n",
      "Faithful: 3\n",
      "Detail: 1\n",
      "Overall: 5\n",
      "Test Question: On the coast of what ocean is the birthplace of Diogal Sakho?\n",
      "Predicted Answer: Atlantic Ocean\n"
     ]
    },
    {
     "name": "stderr",
     "output_type": "stream",
     "text": [
      "\n",
      "Average Metric: 29.200000000000006 / 18  (162.2):  85%|███████████████████████████████████████████████████████████████████████████████████████████████████▍                 | 17/20 [00:38<00:06,  2.11s/it]\u001b[A\n",
      "Average Metric: 29.200000000000006 / 18  (162.2):  90%|█████████████████████████████████████████████████████████████████████████████████████████████████████████▎           | 18/20 [00:38<00:04,  2.35s/it]\u001b[A"
     ]
    },
    {
     "name": "stdout",
     "output_type": "stream",
     "text": [
      "Faithful: 1\n",
      "Detail: 1\n",
      "Overall: 5\n"
     ]
    },
    {
     "name": "stderr",
     "output_type": "stream",
     "text": [
      "\n",
      "Average Metric: 31.200000000000006 / 19  (164.2):  90%|█████████████████████████████████████████████████████████████████████████████████████████████████████████▎           | 18/20 [00:40<00:04,  2.35s/it]\u001b[A\n",
      "Average Metric: 31.200000000000006 / 19  (164.2):  95%|███████████████████████████████████████████████████████████████████████████████████████████████████████████████▏     | 19/20 [00:40<00:02,  2.08s/it]\u001b[A"
     ]
    },
    {
     "name": "stdout",
     "output_type": "stream",
     "text": [
      "Faithful: 2\n",
      "Detail: 1\n",
      "Overall: 5\n",
      "Test Question: This American guitarist best known for her work with the Iron Maidens is an ancestor of a composer who was known as what?\n",
      "Predicted Answer: Nita Strauss, ancestor of Johann Strauss\n"
     ]
    },
    {
     "name": "stderr",
     "output_type": "stream",
     "text": [
      "\n",
      "Average Metric: 32.00000000000001 / 20  (160.0):  95%|████████████████████████████████████████████████████████████████████████████████████████████████████████████████      | 19/20 [00:44<00:02,  2.08s/it]\u001b[A\n",
      "Average Metric: 32.00000000000001 / 20  (160.0): 100%|██████████████████████████████████████████████████████████████████████████████████████████████████████████████████████| 20/20 [00:44<00:00,  2.25s/it]\u001b[A\n"
     ]
    },
    {
     "name": "stdout",
     "output_type": "stream",
     "text": [
      "Faithful: 1\n",
      "Detail: 1\n",
      "Overall: 1\n",
      "Average Metric: 32.00000000000001 / 20  (160.0%)\n",
      "Score: 160.0 for set: [4]\n",
      "Scores so far: [171.0, 163.0, 174.0, 160.0]\n",
      "Best score: 174.0\n",
      "Average of max per entry across top 1 scores: 1.7400000000000002\n",
      "Average of max per entry across top 2 scores: 2.0900000000000003\n",
      "Average of max per entry across top 3 scores: 2.12\n",
      "Average of max per entry across top 5 scores: 2.2399999999999998\n",
      "Average of max per entry across top 8 scores: 2.2399999999999998\n",
      "Average of max per entry across top 9999 scores: 2.2399999999999998\n"
     ]
    },
    {
     "name": "stderr",
     "output_type": "stream",
     "text": [
      "\n",
      "  0%|                                                                                                                                                                                | 0/20 [00:00<?, ?it/s]\u001b[A"
     ]
    },
    {
     "name": "stdout",
     "output_type": "stream",
     "text": [
      "Test Question: Which company distributed this 1977 American animated film produced by Walt Disney Productions for which Sherman Brothers wrote songs?\n",
      "Predicted Answer: Walt Disney Productions\n"
     ]
    },
    {
     "name": "stderr",
     "output_type": "stream",
     "text": [
      "\n",
      "  5%|████████▍                                                                                                                                                               | 1/20 [00:02<00:38,  2.05s/it]\u001b[A"
     ]
    },
    {
     "name": "stdout",
     "output_type": "stream",
     "text": [
      "Faithful: 1\n",
      "Detail: 1\n",
      "Overall: 5\n",
      "Test Question: In what year was the club founded that played Manchester City in the 1972 FA Charity Shield\n",
      "Predicted Answer: Ajax\n"
     ]
    },
    {
     "name": "stderr",
     "output_type": "stream",
     "text": [
      "\n",
      " 10%|████████████████▊                                                                                                                                                       | 2/20 [00:08<01:14,  4.15s/it]\u001b[A\n"
     ]
    },
    {
     "name": "stdout",
     "output_type": "stream",
     "text": [
      "Faithful: 5\n",
      "Detail: 1\n",
      "Overall: 1\n",
      "Bootstrapped 2 full traces after 3 examples in round 0.\n"
     ]
    },
    {
     "name": "stderr",
     "output_type": "stream",
     "text": [
      "\n",
      "  0%|                                                                                                                                                                                | 0/20 [00:00<?, ?it/s]\u001b[A"
     ]
    },
    {
     "name": "stdout",
     "output_type": "stream",
     "text": [
      "Test Question: which  American actor was Candace Kita  guest starred with \n",
      "Predicted Answer: N/A\n",
      "Test Question: At My Window was released by which American singer-songwriter?\n",
      "Predicted Answer: Bob Dylan\n"
     ]
    },
    {
     "name": "stderr",
     "output_type": "stream",
     "text": [
      "\n",
      "Average Metric: 1.6 / 1  (160.0):   0%|                                                                                                                                              | 0/20 [00:02<?, ?it/s]\u001b[A\n",
      "Average Metric: 1.6 / 1  (160.0):   5%|██████▋                                                                                                                               | 1/20 [00:02<00:45,  2.41s/it]\u001b[A"
     ]
    },
    {
     "name": "stdout",
     "output_type": "stream",
     "text": [
      "Faithful: 1\n",
      "Detail: 1\n",
      "Overall: 5\n",
      "Test Question: Which of these publications was most recently published, Who Put the Bomp or Self?\n",
      "Predicted Answer: Self\n"
     ]
    },
    {
     "name": "stderr",
     "output_type": "stream",
     "text": [
      "\n",
      "Average Metric: 1.6 / 2  (80.0):   5%|██████▊                                                                                                                                | 1/20 [00:04<00:45,  2.41s/it]\u001b[A\n",
      "Average Metric: 1.6 / 2  (80.0):  10%|█████████████▌                                                                                                                         | 2/20 [00:04<00:41,  2.28s/it]\u001b[A\n",
      "Average Metric: 5.4 / 3  (180.0):  10%|█████████████▍                                                                                                                        | 2/20 [00:04<00:41,  2.28s/it]\u001b[A\n",
      "Average Metric: 5.4 / 3  (180.0):  15%|████████████████████                                                                                                                  | 3/20 [00:04<00:22,  1.30s/it]\u001b[A"
     ]
    },
    {
     "name": "stdout",
     "output_type": "stream",
     "text": [
      "Faithful: 5\n",
      "Detail: 4\n",
      "Overall: N/A\n",
      "Error for example in dev set: \t\t could not convert string to float: 'N/A'\n",
      "Faithful: 5\n",
      "Detail: 4\n",
      "Overall: 5\n",
      "Test Question: The Victorians - Their Story In Pictures is a documentary series written by an author born in what year?\n",
      "Predicted Answer: 1812\n",
      "Test Question: Which magazine has published articles by Scott Shaw, Tae Kwon Do Times or Southwest Art?\n",
      "Predicted Answer: Cannot determine\n"
     ]
    },
    {
     "name": "stderr",
     "output_type": "stream",
     "text": [
      "\n",
      "Average Metric: 5.4 / 4  (135.0):  15%|████████████████████                                                                                                                  | 3/20 [00:10<00:22,  1.30s/it]\u001b[A\n",
      "Average Metric: 5.4 / 4  (135.0):  20%|██████████████████████████▊                                                                                                           | 4/20 [00:10<00:48,  3.01s/it]\u001b[A"
     ]
    },
    {
     "name": "stdout",
     "output_type": "stream",
     "text": [
      "Faithful: 3\n",
      "Detail: 1\n",
      "Overall: Cannot determine\n",
      "Error for example in dev set: \t\t could not convert string to float: 'Cannot determine'\n"
     ]
    },
    {
     "name": "stderr",
     "output_type": "stream",
     "text": [
      "\n",
      "Average Metric: 8.600000000000001 / 5  (172.0):  20%|████████████████████████                                                                                                | 4/20 [00:11<00:48,  3.01s/it]\u001b[A\n",
      "Average Metric: 8.600000000000001 / 5  (172.0):  25%|██████████████████████████████                                                                                          | 5/20 [00:11<00:36,  2.46s/it]\u001b[A"
     ]
    },
    {
     "name": "stdout",
     "output_type": "stream",
     "text": [
      "Faithful: 5\n",
      "Detail: 1\n",
      "Overall: 5\n",
      "Test Question: In what year was the club founded that played Manchester City in the 1972 FA Charity Shield\n",
      "Predicted Answer: Ajax\n"
     ]
    },
    {
     "name": "stderr",
     "output_type": "stream",
     "text": [
      "\n",
      "Average Metric: 11.000000000000002 / 6  (183.3):  25%|█████████████████████████████▊                                                                                         | 5/20 [00:13<00:36,  2.46s/it]\u001b[A\n",
      "Average Metric: 11.000000000000002 / 6  (183.3):  30%|███████████████████████████████████▋                                                                                   | 6/20 [00:13<00:28,  2.07s/it]\u001b[A"
     ]
    },
    {
     "name": "stdout",
     "output_type": "stream",
     "text": [
      "Faithful: 5\n",
      "Detail: 1\n",
      "Overall: 1\n",
      "Test Question: Which is taller, the Empire State Building or the Bank of America Tower?\n",
      "Predicted Answer: The Empire State Building\n"
     ]
    },
    {
     "name": "stderr",
     "output_type": "stream",
     "text": [
      "\n",
      "Average Metric: 12.600000000000001 / 7  (180.0):  30%|███████████████████████████████████▋                                                                                   | 6/20 [00:14<00:28,  2.07s/it]\u001b[A\n",
      "Average Metric: 12.600000000000001 / 7  (180.0):  35%|█████████████████████████████████████████▋                                                                             | 7/20 [00:14<00:24,  1.89s/it]\u001b[A"
     ]
    },
    {
     "name": "stdout",
     "output_type": "stream",
     "text": [
      "Faithful: 1\n",
      "Detail: 1\n",
      "Overall: 5\n",
      "Test Question: Which American actress who made their film debut in the 1995 teen drama \"Kids\" was the co-founder of Voto Latino?\n",
      "Predicted Answer: Rosario Dawson\n"
     ]
    },
    {
     "name": "stderr",
     "output_type": "stream",
     "text": [
      "\n",
      "Average Metric: 13.400000000000002 / 8  (167.5):  35%|█████████████████████████████████████████▋                                                                             | 7/20 [00:15<00:24,  1.89s/it]\u001b[A\n",
      "Average Metric: 13.400000000000002 / 8  (167.5):  40%|███████████████████████████████████████████████▌                                                                       | 8/20 [00:15<00:17,  1.46s/it]\u001b[A"
     ]
    },
    {
     "name": "stdout",
     "output_type": "stream",
     "text": [
      "Faithful: 1\n",
      "Detail: 1\n",
      "Overall: 1\n",
      "Test Question: Tombstone stared an actor born May 17, 1955 known as who?\n",
      "Predicted Answer: Bill Paxton\n"
     ]
    },
    {
     "name": "stderr",
     "output_type": "stream",
     "text": [
      "\n",
      "Average Metric: 15.000000000000002 / 9  (166.7):  40%|███████████████████████████████████████████████▌                                                                       | 8/20 [00:16<00:17,  1.46s/it]\u001b[A\n",
      "Average Metric: 15.000000000000002 / 9  (166.7):  45%|█████████████████████████████████████████████████████▌                                                                 | 9/20 [00:16<00:16,  1.53s/it]\u001b[A"
     ]
    },
    {
     "name": "stdout",
     "output_type": "stream",
     "text": [
      "Faithful: 1\n",
      "Detail: 1\n",
      "Overall: 5\n",
      "Test Question: What is the code name for the German offensive that started this Second World War engagement on the Eastern Front (a few hundred kilometers from Moscow) between Soviet and German forces, which included 102nd Infantry Division?\n",
      "Predicted Answer: Operation Citadel\n"
     ]
    },
    {
     "name": "stderr",
     "output_type": "stream",
     "text": [
      "\n",
      "Average Metric: 16.6 / 10  (166.0):  45%|███████████████████████████████████████████████████████████▍                                                                        | 9/20 [00:18<00:16,  1.53s/it]\u001b[A\n",
      "Average Metric: 16.6 / 10  (166.0):  50%|█████████████████████████████████████████████████████████████████▌                                                                 | 10/20 [00:18<00:14,  1.40s/it]\u001b[A"
     ]
    },
    {
     "name": "stdout",
     "output_type": "stream",
     "text": [
      "Faithful: 1\n",
      "Detail: 1\n",
      "Overall: 5\n",
      "Test Question: Who acted in the shot film The Shore and is also the youngest actress ever to play Ophelia in a Royal Shakespeare Company production of \"Hamlet.\" ?\n",
      "Predicted Answer: Kerry Condon\n",
      "Test Question: Which company distributed this 1977 American animated film produced by Walt Disney Productions for which Sherman Brothers wrote songs?\n",
      "Predicted Answer: Walt Disney Productions\n"
     ]
    },
    {
     "name": "stderr",
     "output_type": "stream",
     "text": [
      "\n",
      "Average Metric: 18.200000000000003 / 11  (165.5):  50%|██████████████████████████████████████████████████████████▌                                                          | 10/20 [00:19<00:14,  1.40s/it]\u001b[A\n",
      "Average Metric: 18.200000000000003 / 11  (165.5):  55%|████████████████████████████████████████████████████████████████▎                                                    | 11/20 [00:19<00:14,  1.57s/it]\u001b[A"
     ]
    },
    {
     "name": "stdout",
     "output_type": "stream",
     "text": [
      "Faithful: 1\n",
      "Detail: 1\n",
      "Overall: 5\n",
      "Test Question: Samantha Cristoforetti and Mark Shuttleworth are both best known for being first in their field to go where? \n",
      "Predicted Answer: Space\n"
     ]
    },
    {
     "name": "stderr",
     "output_type": "stream",
     "text": [
      "\n",
      "Average Metric: 19.800000000000004 / 12  (165.0):  55%|████████████████████████████████████████████████████████████████▎                                                    | 11/20 [00:22<00:14,  1.57s/it]\u001b[A\n",
      "Average Metric: 19.800000000000004 / 12  (165.0):  60%|██████████████████████████████████████████████████████████████████████▏                                              | 12/20 [00:22<00:14,  1.84s/it]\u001b[A"
     ]
    },
    {
     "name": "stdout",
     "output_type": "stream",
     "text": [
      "Faithful: 3\n",
      "Detail: 1\n",
      "Overall: 1\n"
     ]
    },
    {
     "name": "stderr",
     "output_type": "stream",
     "text": [
      "\n",
      "Average Metric: 21.400000000000006 / 13  (164.6):  60%|██████████████████████████████████████████████████████████████████████▏                                              | 12/20 [00:22<00:14,  1.84s/it]\u001b[A\n",
      "Average Metric: 21.400000000000006 / 13  (164.6):  65%|████████████████████████████████████████████████████████████████████████████                                         | 13/20 [00:22<00:09,  1.40s/it]\u001b[A"
     ]
    },
    {
     "name": "stdout",
     "output_type": "stream",
     "text": [
      "Faithful: 1\n",
      "Detail: 1\n",
      "Overall: 5\n",
      "Test Question: Having the combination of excellent foot speed and bat speed helped Eric Davis, create what kind of outfield for the Los Angeles Dodgers? \n",
      "Predicted Answer: a fast outfield\n",
      "Test Question: Which Pakistani cricket umpire who won 3 consecutive ICC umpire of the year awards in 2009, 2010, and 2011 will be in the ICC World Twenty20?\n",
      "Predicted Answer: Aleem Dar\n"
     ]
    },
    {
     "name": "stderr",
     "output_type": "stream",
     "text": [
      "\n",
      "Average Metric: 23.000000000000007 / 14  (164.3):  65%|████████████████████████████████████████████████████████████████████████████                                         | 13/20 [00:26<00:09,  1.40s/it]\u001b[A\n",
      "Average Metric: 23.000000000000007 / 14  (164.3):  70%|█████████████████████████████████████████████████████████████████████████████████▉                                   | 14/20 [00:26<00:11,  1.97s/it]\u001b[A"
     ]
    },
    {
     "name": "stdout",
     "output_type": "stream",
     "text": [
      "Faithful: 1\n",
      "Detail: 1\n",
      "Overall: 5\n"
     ]
    },
    {
     "name": "stderr",
     "output_type": "stream",
     "text": [
      "\n",
      "Average Metric: 23.800000000000008 / 15  (158.7):  70%|█████████████████████████████████████████████████████████████████████████████████▉                                   | 14/20 [00:28<00:11,  1.97s/it]\u001b[A\n",
      "Average Metric: 23.800000000000008 / 15  (158.7):  75%|███████████████████████████████████████████████████████████████████████████████████████▊                             | 15/20 [00:28<00:09,  1.97s/it]\u001b[A"
     ]
    },
    {
     "name": "stdout",
     "output_type": "stream",
     "text": [
      "Faithful: 1\n",
      "Detail: 1\n",
      "Overall: 1\n",
      "Test Question: The Organisation that allows a community to influence their operation or use and to enjoy the benefits arisingwas founded in what year?\n",
      "Predicted Answer: European Union\n",
      "Test Question: \"Everything Has Changed\" is a song from an album released under which record label ?\n",
      "Predicted Answer: Big Machine Records\n"
     ]
    },
    {
     "name": "stderr",
     "output_type": "stream",
     "text": [
      "\n",
      "Average Metric: 25.40000000000001 / 16  (158.8):  75%|████████████████████████████████████████████████████████████████████████████████████████▌                             | 15/20 [00:30<00:09,  1.97s/it]\u001b[A\n",
      "Average Metric: 25.40000000000001 / 16  (158.8):  80%|██████████████████████████████████████████████████████████████████████████████████████████████▍                       | 16/20 [00:30<00:08,  2.08s/it]\u001b[A"
     ]
    },
    {
     "name": "stdout",
     "output_type": "stream",
     "text": [
      "Faithful: 1\n",
      "Detail: 1\n",
      "Overall: 5\n"
     ]
    },
    {
     "name": "stderr",
     "output_type": "stream",
     "text": [
      "\n",
      "Average Metric: 27.00000000000001 / 17  (158.8):  80%|██████████████████████████████████████████████████████████████████████████████████████████████▍                       | 16/20 [00:32<00:08,  2.08s/it]\u001b[A\n",
      "Average Metric: 27.00000000000001 / 17  (158.8):  85%|████████████████████████████████████████████████████████████████████████████████████████████████████▎                 | 17/20 [00:32<00:06,  2.08s/it]\u001b[A"
     ]
    },
    {
     "name": "stdout",
     "output_type": "stream",
     "text": [
      "Faithful: 3\n",
      "Detail: 1\n",
      "Overall: 1\n",
      "Test Question: Who is older, Aleksandr Danilovich Aleksandrov or Anatoly Fomenko?\n",
      "Predicted Answer: It is not possible to determine who is older based on the context provided.\n",
      "Test Question: On the coast of what ocean is the birthplace of Diogal Sakho?\n",
      "Predicted Answer: Atlantic Ocean\n"
     ]
    },
    {
     "name": "stderr",
     "output_type": "stream",
     "text": [
      "\n",
      "Average Metric: 28.600000000000012 / 18  (158.9):  85%|███████████████████████████████████████████████████████████████████████████████████████████████████▍                 | 17/20 [00:34<00:06,  2.08s/it]\u001b[A\n",
      "Average Metric: 28.600000000000012 / 18  (158.9):  90%|█████████████████████████████████████████████████████████████████████████████████████████████████████████▎           | 18/20 [00:34<00:04,  2.18s/it]\u001b[A"
     ]
    },
    {
     "name": "stdout",
     "output_type": "stream",
     "text": [
      "Faithful: 1\n",
      "Detail: 1\n",
      "Overall: 5\n"
     ]
    },
    {
     "name": "stderr",
     "output_type": "stream",
     "text": [
      "\n",
      "Average Metric: 31.200000000000014 / 19  (164.2):  90%|█████████████████████████████████████████████████████████████████████████████████████████████████████████▎           | 18/20 [00:36<00:04,  2.18s/it]\u001b[A\n",
      "Average Metric: 31.200000000000014 / 19  (164.2):  95%|███████████████████████████████████████████████████████████████████████████████████████████████████████████████▏     | 19/20 [00:36<00:02,  2.13s/it]\u001b[A"
     ]
    },
    {
     "name": "stdout",
     "output_type": "stream",
     "text": [
      "Test Question: This American guitarist best known for her work with the Iron Maidens is an ancestor of a composer who was known as what?\n",
      "Predicted Answer: Nita Strauss, ancestor of Johann Strauss\n",
      "Faithful: 3\n",
      "Detail: 2\n",
      "Overall: 5\n"
     ]
    },
    {
     "name": "stderr",
     "output_type": "stream",
     "text": [
      "\n",
      "Average Metric: 32.000000000000014 / 20  (160.0):  95%|███████████████████████████████████████████████████████████████████████████████████████████████████████████████▏     | 19/20 [00:37<00:02,  2.13s/it]\u001b[A\n",
      "Average Metric: 32.000000000000014 / 20  (160.0): 100%|█████████████████████████████████████████████████████████████████████████████████████████████████████████████████████| 20/20 [00:37<00:00,  1.87s/it]\u001b[A"
     ]
    },
    {
     "name": "stdout",
     "output_type": "stream",
     "text": [
      "Faithful: 1\n",
      "Detail: 1\n",
      "Overall: 1\n",
      "Average Metric: 32.000000000000014 / 20  (160.0%)\n",
      "Score: 160.0 for set: [4]\n",
      "Scores so far: [171.0, 163.0, 174.0, 160.0, 160.0]\n",
      "Best score: 174.0\n",
      "Average of max per entry across top 1 scores: 1.7400000000000002\n",
      "Average of max per entry across top 2 scores: 2.0900000000000003\n",
      "Average of max per entry across top 3 scores: 2.12\n",
      "Average of max per entry across top 5 scores: 2.33\n",
      "Average of max per entry across top 8 scores: 2.33\n",
      "Average of max per entry across top 9999 scores: 2.33\n",
      "5 candidate programs found.\n"
     ]
    },
    {
     "name": "stderr",
     "output_type": "stream",
     "text": [
      "\n"
     ]
    }
   ],
   "source": [
    "from dspy.teleprompt import BootstrapFewShotWithRandomSearch\n",
    "\n",
    "teleprompter = BootstrapFewShotWithRandomSearch(metric=llm_metric, \n",
    "                                                max_bootstrapped_demos=4,\n",
    "                                                max_labeled_demos=4, \n",
    "                                                max_rounds=1,\n",
    "                                                num_candidate_programs=2,\n",
    "                                                num_threads=2)\n",
    "\n",
    "# also common to init here, e.g. Rag()\n",
    "second_compiled_rag = teleprompter.compile(uncompiled_rag, trainset=trainset)"
   ]
  },
  {
   "cell_type": "code",
   "execution_count": 47,
   "id": "3d32c88a-44dd-4f3f-9b35-b802ceb9b62b",
   "metadata": {},
   "outputs": [
    {
     "data": {
      "text/plain": [
       "'Russian, French, Italian, German, English, Romance languages, Germanic languages, Slavic languages, Uralic languages, Turkic languages, Basque, Semitic languages, languages of the Caucasus, African languages, Asian languages'"
      ]
     },
     "execution_count": 47,
     "metadata": {},
     "output_type": "execute_result"
    }
   ],
   "source": [
    "second_compiled_rag(\"Which languages are spoken in Europe?\").answer"
   ]
  },
  {
   "cell_type": "code",
   "execution_count": 48,
   "id": "fae312fa-5dbf-4c52-ab32-58dcb3990a69",
   "metadata": {},
   "outputs": [
    {
     "name": "stdout",
     "output_type": "stream",
     "text": [
      "\n",
      "\n",
      "\n",
      "\n",
      "Answer questions based on the provided context.\n",
      "\n",
      "---\n",
      "\n",
      "Follow the following format.\n",
      "\n",
      "Context: Context for answering the question\n",
      "\n",
      "Question: The question\n",
      "\n",
      "Reasoning: Let's think step by step in order to ${produce the answer}. We ...\n",
      "\n",
      "Answer: Answer\n",
      "\n",
      "---\n",
      "\n",
      "Context:\n",
      "[1] «Amsterdam's musical culture includes a large collection of songs that treat the city nostalgically and lovingly. The 1949 song \"Aan de Amsterdamse grachten\" (\"On the canals of Amsterdam\") was performed and recorded by many artists, including John Kraaijkamp Sr.; the best-known version is probably that by Wim Sonneveld (1962). In the 1950s Johnny Jordaan rose to fame with \"Geef mij maar Amsterdam\" (\"I prefer Amsterdam\"), which praises the city above all others (explicitly Paris); Jordaan sang especially about his own neighbourhood, the Jordaan (\"Bij ons in de Jordaan\"). Colleagues and»\n",
      "[2] «sang especially about his own neighbourhood, the Jordaan (\"Bij ons in de Jordaan\"). Colleagues and contemporaries of Johnny include Tante Leen and Manke Nelis. Another notable Amsterdam song is \"Amsterdam\" by Jacques Brel (1964).[217] A 2011 poll by Amsterdam newspaper Het Parool that Trio Bier's \"Oude Wolf\" was voted \"Amsterdams lijflied\".[218] Notable Amsterdam bands from the modern era include the Osdorp Posse and The Ex.»\n",
      "[3] «In 2012, the music video of Far East Movement, 'Live My Life', was filmed in various parts of Amsterdam.\n",
      " Also, several movies were filmed in Amsterdam, such as James Bond's Diamonds Are Forever, Ocean's Twelve, Girl with a Pearl Earring and The Hitman's Bodyguard. Amsterdam is also featured in John Green's book The Fault in Our Stars, which has been made into a film as well that partly takes place in Amsterdam.»\n",
      "\n",
      "Question: At My Window was released by which American singer-songwriter?\n",
      "\n",
      "Reasoning: Let's think step by step in order to produce the answer. The context provided mentions various songs and artists related to Amsterdam's musical culture, but none of them seem to be related to the song \"At My Window.\"\n",
      "\n",
      "Answer: The answer cannot be determined from the provided context.\n",
      "\n",
      "---\n",
      "\n",
      "Context:\n",
      "[1] «On 18 September 2017, it was announced by Eberhard van der Laan in an open letter to Amsterdam citizens that Kajsa Ollongren would take up his office as acting Mayor of Amsterdam with immediate effect due to ill health.[233] Ollongren was succeeded as acting Mayor by Eric van der Burg on 26 October 2017 and by Jozias van Aartsen on 4 December 2017.»\n",
      "[2] «On the east side of town, there is a small theatre in a converted bathhouse, the Badhuistheater. The theatre often has English programming.»\n",
      "[3] «In 2023, the city began running a campaign to dissuade British men between the ages of 18 and 35 from coming to the city as tourists. The ad shows young men being handcuffed by police and is part of a new campaign to clean up the city's reputation.[191] On May 25, 2023, in a bid to crackdown on wild tourist behaviour, the city banned weed smoking in public areas in and around the red light district.  [192]»\n",
      "\n",
      "Question: which American actor was Candace Kita guest starred with\n",
      "\n",
      "Reasoning: Let's think step by step in order to produce the answer. We know that Candace Kita guest starred with an American actor, but we need to find more specific information to identify who that actor is.\n",
      "\n",
      "Answer: The question does not provide enough context or specific information to determine which American actor Candace Kita guest starred with.\n",
      "\n",
      "---\n",
      "\n",
      "Context:\n",
      "[1] «was the young Jewish girl Anne Frank, who died in the Bergen-Belsen concentration camp.[60] At the end of the Second World War, communication with the rest of the country broke down, and food and fuel became scarce. Many citizens traveled to the countryside to forage. Dogs, cats, raw sugar beets, and tulip bulbs—cooked to a pulp—were consumed to stay alive.[61] Many trees in Amsterdam were cut down for fuel, and wood was taken from the houses, apartments and other buildings of deported Jews. The city was finally liberated by Canadian forces on 5 May 1945, shortly before the end of the war in»\n",
      "[2] «By the mid-19th century, there were three main conventions, one following the Don, the Volga–Don Canal and the Volga, the other following the Kuma–Manych Depression to the Caspian and then the Ural River, and the third abandoning the Don altogether, following the Greater Caucasus watershed to the Caspian. The question was still treated as a \"controversy\" in geographical literature of the 1860s, with Douglas Freshfield advocating the Caucasus crest boundary as the \"best possible\", citing support from various \"modern geographers\".[47]»\n",
      "[3] «The two new superpowers, the United States and the Soviet Union, became locked in a fifty-year-long Cold War, centred on nuclear proliferation. At the same time decolonisation, which had already started after the First World War, gradually resulted in the independence of most of the European colonies in Asia and Africa.[17]»\n",
      "\n",
      "Question: Which of these publications was most recently published, Who Put the Bomp or Self?\n",
      "\n",
      "Reasoning: Let's think step by step in order to determine the answer. We need to look for any mention of publication dates for \"Who Put the Bomp\" and \"Self\" in the provided context.\n",
      "\n",
      "Answer: There is no information in the provided context that indicates the publication dates of \"Who Put the Bomp\" or \"Self.\"\n",
      "\n",
      "---\n",
      "\n",
      "Context:\n",
      "[1] «It opened in 1885. Its collection consists of nearly one million objects.[211] The artist most associated with Amsterdam is Rembrandt, whose work, and the work of his pupils, is displayed in the Rijksmuseum. Rembrandt's masterpiece The Night Watch is one of the top pieces of art of the museum. It also houses paintings from artists like Bartholomeus van der Helst, Johannes Vermeer, Frans Hals, Ferdinand Bol, Albert Cuyp, Jacob van Ruisdael and Paulus Potter. Aside from paintings, the collection consists of a large variety of decorative art. This ranges from Delftware to giant doll-houses from»\n",
      "[2] «Still-Life with fruit, nuts and cheese by Floris Claeszoon van Dyck\n",
      " In the late 18th century the potato was introduced from South America and became a staple food by 1800.[20] In the early 19th century, while the rich could eat what they desired, the working population ate bread (rye bread in some areas) and potatoes (often eaten at every meal of the day[20]), pancakes in some areas, occasionally fish (herring) and other seafood, fruit and vegetables, but usually little meat. Throughout the 19th century working class people suffered from some form of malnutrition.[20]»\n",
      "[3] «of German music in the 19th century there were few national opera productions; the Hollandse Opera of Amsterdam was built in 1888 for the specific purpose of promoting Dutch opera.[202] In the 19th century, popular culture was centred on the Nes area in Amsterdam (mainly vaudeville and music-hall).[citation needed] An improved metronome was invented in 1812 by Dietrich Nikolaus Winkel.[203] The Rijksmuseum (1885) and Stedelijk Museum (1895) were built and opened.[204][205] In 1888, the Concertgebouworkest orchestra was established.[206] With the 20th century came cinema, radio and»\n",
      "\n",
      "Question: The Victorians - Their Story In Pictures is a documentary series written by an author born in what year?\n",
      "\n",
      "Reasoning: Let's think step by step in order to produce the answer. The context provided mentions the Rijksmuseum, which is a museum in Amsterdam. The documentary series \"The Victorians - Their Story In Pictures\" is likely related to Victorian art or history, which could be associated with the Rijksmuseum's collection. The context also mentions the 19th century, which is the Victorian era. Therefore, the author of this documentary series is likely born in the 19th century.\n",
      "\n",
      "Answer: 19th century\n",
      "\n",
      "---\n",
      "\n",
      "Context:\n",
      "[1] «Five languages have more than 50 million native speakers in Europe: Russian, French, Italian, German, and English. Russian is the most-spoken native language in Europe, and English has the largest number of speakers in total, including some 200 million speakers of English as a second or foreign language. (See English language in Europe.)»\n",
      "[2] «Europe has about 225 indigenous languages,[293] mostly falling within three Indo-European language groups: the Romance languages, derived from the Latin of the Roman Empire; the Germanic languages, whose ancestor language came from southern Scandinavia; and the Slavic languages.[243] Slavic languages are mostly spoken in Southern, Central and Eastern Europe. Romance languages are spoken primarily in Western and Southern Europe, as well as in Switzerland in Central Europe and Romania and Moldova in Eastern Europe. Germanic languages are spoken in Western, Northern and Central Europe as well»\n",
      "[3] «Of the approximately 45 million Europeans speaking non-Indo-European languages, most speak languages within either the Uralic or Turkic families. Still smaller groups — such as Basque (language isolate), Semitic languages (Maltese, c. 0.5 million), and various languages of the Caucasus — account for less than 1% of the European population among them. Immigration has added sizeable communities of speakers of African and Asian languages, amounting to about 4% of the population,[1] with Arabic being the most widely spoken of them.»\n",
      "\n",
      "Question: Which languages are spoken in Europe?\n",
      "\n",
      "Reasoning: Let's think step by step in order to\u001b[32m produce the answer. The context provided mentions various language families and specific languages spoken in Europe. By combining this information, we can identify the languages spoken in Europe.\n",
      "\n",
      "Answer: Russian, French, Italian, German, English, Romance languages, Germanic languages, Slavic languages, Uralic languages, Turkic languages, Basque, Semitic languages, languages of the Caucasus, African languages, Asian languages\u001b[0m\n",
      "\n",
      "\n",
      "\n"
     ]
    }
   ],
   "source": [
    "llm.inspect_history(n=1)"
   ]
  },
  {
   "cell_type": "code",
   "execution_count": 49,
   "id": "138f0732-bac2-45e8-bac8-abcb44bff850",
   "metadata": {},
   "outputs": [
    {
     "name": "stderr",
     "output_type": "stream",
     "text": [
      "\n",
      "  0%|                                                                                                                                                                                | 0/50 [00:00<?, ?it/s]\u001b[A"
     ]
    },
    {
     "name": "stdout",
     "output_type": "stream",
     "text": [
      "Test Question: Are both Cangzhou and Qionghai in the Hebei province of China?\n",
      "Predicted Answer: The information to determine if both Cangzhou and Qionghai are in the Hebei province of China is not provided in the context.\n"
     ]
    },
    {
     "name": "stderr",
     "output_type": "stream",
     "text": [
      "\n",
      "Average Metric: 0.8 / 1  (80.0):   0%|                                                                                                                                               | 0/50 [00:06<?, ?it/s]\u001b[A\n",
      "Average Metric: 0.8 / 1  (80.0):   2%|██▋                                                                                                                                    | 1/50 [00:06<05:30,  6.74s/it]\u001b[A"
     ]
    },
    {
     "name": "stdout",
     "output_type": "stream",
     "text": [
      "Faithful: 1\n",
      "Detail: 1\n",
      "Overall: 1\n",
      "Test Question: Who conducts the draft in which Marc-Andre Fleury was drafted to the Vegas Golden Knights for the 2017-18 season?\n",
      "Predicted Answer: The answer cannot be determined from the provided context.\n"
     ]
    },
    {
     "name": "stderr",
     "output_type": "stream",
     "text": [
      "\n",
      "Average Metric: 2.0 / 2  (100.0):   2%|██▋                                                                                                                                   | 1/50 [00:12<05:30,  6.74s/it]\u001b[A\n",
      "Average Metric: 2.0 / 2  (100.0):   4%|█████▎                                                                                                                                | 2/50 [00:12<04:58,  6.23s/it]\u001b[A"
     ]
    },
    {
     "name": "stdout",
     "output_type": "stream",
     "text": [
      "Faithful: 2\n",
      "Detail: 1\n",
      "Overall: 1\n",
      "Test Question: The Wings entered a new era, following the retirement of which Canadian retired professional ice hockey player and current general manager of the Tampa Bay Lightning of the National Hockey League (NHL)?\n",
      "Predicted Answer: The answer cannot be determined from the provided context.\n"
     ]
    },
    {
     "name": "stderr",
     "output_type": "stream",
     "text": [
      "\n",
      "Average Metric: 4.4 / 3  (146.7):   4%|█████▎                                                                                                                                | 2/50 [00:18<04:58,  6.23s/it]\u001b[A\n",
      "Average Metric: 4.4 / 3  (146.7):   6%|████████                                                                                                                              | 3/50 [00:18<04:40,  5.97s/it]\u001b[A"
     ]
    },
    {
     "name": "stdout",
     "output_type": "stream",
     "text": [
      "Faithful: 3\n",
      "Detail: 1\n",
      "Overall: 5\n",
      "Test Question: What river is near the Crichton Collegiate Church?\n",
      "Predicted Answer: Don River\n"
     ]
    },
    {
     "name": "stderr",
     "output_type": "stream",
     "text": [
      "\n",
      "Average Metric: 5.2 / 4  (130.0):   6%|████████                                                                                                                              | 3/50 [00:20<04:40,  5.97s/it]\u001b[A\n",
      "Average Metric: 5.2 / 4  (130.0):   8%|██████████▋                                                                                                                           | 4/50 [00:20<03:29,  4.57s/it]\u001b[A"
     ]
    },
    {
     "name": "stdout",
     "output_type": "stream",
     "text": [
      "Faithful: 1\n",
      "Detail: 1\n",
      "Overall: 1\n",
      "Test Question: In the 10th Century A.D. Ealhswith had a son called Æthelweard by which English king?\n",
      "Predicted Answer: King Alfred the Great\n"
     ]
    },
    {
     "name": "stderr",
     "output_type": "stream",
     "text": [
      "\n",
      "Average Metric: 6.0 / 5  (120.0):   8%|██████████▋                                                                                                                           | 4/50 [00:24<03:29,  4.57s/it]\u001b[A\n",
      "Average Metric: 6.0 / 5  (120.0):  10%|█████████████▍                                                                                                                        | 5/50 [00:24<03:07,  4.17s/it]\u001b[A"
     ]
    },
    {
     "name": "stdout",
     "output_type": "stream",
     "text": [
      "Faithful: 1\n",
      "Detail: 1\n",
      "Overall: 1\n",
      "Test Question: The Newark Airport Exchange is at the northern edge of an airport that is operated by whom?\n",
      "Predicted Answer: The Newark Airport Exchange is at the northern edge of Newark Liberty International Airport, which is operated by the Port Authority of New York and New Jersey.\n"
     ]
    },
    {
     "name": "stderr",
     "output_type": "stream",
     "text": [
      "\n",
      "Average Metric: 7.8 / 6  (130.0):  10%|█████████████▍                                                                                                                        | 5/50 [00:31<03:07,  4.17s/it]\u001b[A\n",
      "Average Metric: 7.8 / 6  (130.0):  12%|████████████████                                                                                                                      | 6/50 [00:31<03:55,  5.34s/it]\u001b[A"
     ]
    },
    {
     "name": "stdout",
     "output_type": "stream",
     "text": [
      "Faithful: 1\n",
      "Detail: 2\n",
      "Overall: 5\n",
      "Test Question: Where did an event take place resulting in a win during a domestic double due to the action of a Peruvian footballer known for his goal scoring ability?\n",
      "Predicted Answer: The question does not provide enough context or specific information to determine where the event took place or which Peruvian footballer was involved.\n"
     ]
    },
    {
     "name": "stderr",
     "output_type": "stream",
     "text": [
      "\n",
      "Average Metric: 9.2 / 7  (131.4):  12%|████████████████                                                                                                                      | 6/50 [00:38<03:55,  5.34s/it]\u001b[A\n",
      "Average Metric: 9.2 / 7  (131.4):  14%|██████████████████▊                                                                                                                   | 7/50 [00:38<04:04,  5.69s/it]\u001b[A"
     ]
    },
    {
     "name": "stdout",
     "output_type": "stream",
     "text": [
      "Faithful: 2\n",
      "Detail: 2\n",
      "Overall: 1\n",
      "Test Question: Are both Chico Municipal Airport and William R. Fairchild International Airport in California?\n",
      "Predicted Answer: The question does not provide enough context or specific information to determine if both Chico Municipal Airport and William R. Fairchild International Airport are in California.\n"
     ]
    },
    {
     "name": "stderr",
     "output_type": "stream",
     "text": [
      "\n",
      "Average Metric: 11.399999999999999 / 8  (142.5):  14%|████████████████▋                                                                                                      | 7/50 [00:44<04:04,  5.69s/it]\u001b[A\n",
      "Average Metric: 11.399999999999999 / 8  (142.5):  16%|███████████████████                                                                                                    | 8/50 [00:44<04:11,  5.98s/it]\u001b[A"
     ]
    },
    {
     "name": "stdout",
     "output_type": "stream",
     "text": [
      "Faithful: 2\n",
      "Detail: 2\n",
      "Overall: 5\n",
      "Test Question: In which Maine county is Fort Pownall located?\n",
      "Predicted Answer: The answer cannot be determined from the provided context.\n"
     ]
    },
    {
     "name": "stderr",
     "output_type": "stream",
     "text": [
      "\n",
      "Average Metric: 13.399999999999999 / 9  (148.9):  16%|███████████████████                                                                                                    | 8/50 [00:49<04:11,  5.98s/it]\u001b[A\n",
      "Average Metric: 13.399999999999999 / 9  (148.9):  18%|█████████████████████▍                                                                                                 | 9/50 [00:49<03:52,  5.68s/it]\u001b[A"
     ]
    },
    {
     "name": "stdout",
     "output_type": "stream",
     "text": [
      "Faithful: 2\n",
      "Detail: 1\n",
      "Overall: 5\n",
      "Test Question: Which 90s rock band has more recently reformed, Gene or The Afghan Whigs?\n",
      "Predicted Answer: The answer cannot be determined from the provided context.\n"
     ]
    },
    {
     "name": "stderr",
     "output_type": "stream",
     "text": [
      "\n",
      "Average Metric: 14.999999999999998 / 10  (150.0):  18%|█████████████████████▏                                                                                                | 9/50 [00:54<03:52,  5.68s/it]\u001b[A\n",
      "Average Metric: 14.999999999999998 / 10  (150.0):  20%|███████████████████████▍                                                                                             | 10/50 [00:54<03:38,  5.46s/it]\u001b[A"
     ]
    },
    {
     "name": "stdout",
     "output_type": "stream",
     "text": [
      "Faithful: 3\n",
      "Detail: 1\n",
      "Overall: 1\n",
      "Test Question: What year did the mountain known in Italian as \"Monte Vesuvio\", erupt?\n",
      "Predicted Answer: The answer cannot be determined from the provided context.\n"
     ]
    },
    {
     "name": "stderr",
     "output_type": "stream",
     "text": [
      "\n",
      "Average Metric: 17.4 / 11  (158.2):  20%|██████████████████████████▏                                                                                                        | 10/50 [01:00<03:38,  5.46s/it]\u001b[A\n",
      "Average Metric: 17.4 / 11  (158.2):  22%|████████████████████████████▊                                                                                                      | 11/50 [01:00<03:34,  5.50s/it]\u001b[A"
     ]
    },
    {
     "name": "stdout",
     "output_type": "stream",
     "text": [
      "Faithful: 3\n",
      "Detail: 1\n",
      "Overall: 5\n",
      "Test Question: Is the 72nd field brigade part of the oldest or newest established field army?\n",
      "Predicted Answer: Newest\n"
     ]
    },
    {
     "name": "stderr",
     "output_type": "stream",
     "text": [
      "\n",
      "Average Metric: 19.799999999999997 / 12  (165.0):  22%|█████████████████████████▋                                                                                           | 11/50 [01:03<03:34,  5.50s/it]\u001b[A\n",
      "Average Metric: 19.799999999999997 / 12  (165.0):  24%|████████████████████████████                                                                                         | 12/50 [01:03<02:57,  4.67s/it]\u001b[A"
     ]
    },
    {
     "name": "stdout",
     "output_type": "stream",
     "text": [
      "Faithful: 3\n",
      "Detail: 1\n",
      "Overall: 5\n",
      "Test Question: Was Stanislaw Kiszka paid for his services by the Royal Treasury?\n",
      "Predicted Answer: The information is not provided in the context to determine if Stanislaw Kiszka was paid for his services by the Royal Treasury.\n"
     ]
    },
    {
     "name": "stderr",
     "output_type": "stream",
     "text": [
      "\n",
      "Average Metric: 21.999999999999996 / 13  (169.2):  24%|████████████████████████████                                                                                         | 12/50 [01:09<02:57,  4.67s/it]\u001b[A\n",
      "Average Metric: 21.999999999999996 / 13  (169.2):  26%|██████████████████████████████▍                                                                                      | 13/50 [01:09<03:10,  5.14s/it]\u001b[A"
     ]
    },
    {
     "name": "stdout",
     "output_type": "stream",
     "text": [
      "Faithful: 2\n",
      "Detail: 2\n",
      "Overall: 5\n",
      "Test Question: Which film director is younger, Del Lord or Wang Xiaoshuai?\n",
      "Predicted Answer: The question cannot be answered based on the provided context.\n"
     ]
    },
    {
     "name": "stderr",
     "output_type": "stream",
     "text": [
      "\n",
      "Average Metric: 21.999999999999996 / 14  (157.1):  26%|██████████████████████████████▍                                                                                      | 13/50 [01:15<03:10,  5.14s/it]\u001b[A\n",
      "Average Metric: 21.999999999999996 / 14  (157.1):  28%|████████████████████████████████▊                                                                                    | 14/50 [01:15<03:16,  5.45s/it]\u001b[A"
     ]
    },
    {
     "name": "stdout",
     "output_type": "stream",
     "text": [
      "Faithful: 1\n",
      "Detail: N/A\n",
      "Overall: 5\n",
      "Error for example in dev set: \t\t could not convert string to float: 'N/A'\n",
      "Test Question: Lord North Street has a resident in which former Conservative MP who received an 18-month prison sentence for perjury in 1999?\n",
      "Predicted Answer: The answer cannot be determined from the provided context.\n"
     ]
    },
    {
     "name": "stderr",
     "output_type": "stream",
     "text": [
      "\n",
      "Average Metric: 24.399999999999995 / 15  (162.7):  28%|████████████████████████████████▊                                                                                    | 14/50 [01:20<03:16,  5.45s/it]\u001b[A\n",
      "Average Metric: 24.399999999999995 / 15  (162.7):  30%|███████████████████████████████████                                                                                  | 15/50 [01:20<03:05,  5.31s/it]\u001b[A"
     ]
    },
    {
     "name": "stdout",
     "output_type": "stream",
     "text": [
      "Faithful: 3\n",
      "Detail: 1\n",
      "Overall: 5\n",
      "Test Question: What is the name of this region of Italy, referring to the medieval March of Ancona and nearby marches of Camerino and Fermo, where the comune Pollenza is located?\n",
      "Predicted Answer: The answer cannot be determined from the provided context.\n"
     ]
    },
    {
     "name": "stderr",
     "output_type": "stream",
     "text": [
      "\n",
      "Average Metric: 25.599999999999994 / 16  (160.0):  30%|███████████████████████████████████                                                                                  | 15/50 [01:25<03:05,  5.31s/it]\u001b[A\n",
      "Average Metric: 25.599999999999994 / 16  (160.0):  32%|█████████████████████████████████████▍                                                                               | 16/50 [01:25<02:54,  5.14s/it]\u001b[A"
     ]
    },
    {
     "name": "stdout",
     "output_type": "stream",
     "text": [
      "Faithful: 2\n",
      "Detail: 1\n",
      "Overall: 1\n",
      "Test Question: William Hughes Miller was born in a city with how many inhabitants ?\n",
      "Predicted Answer: The answer cannot be determined from the provided context.\n"
     ]
    },
    {
     "name": "stderr",
     "output_type": "stream",
     "text": [
      "\n",
      "Average Metric: 27.999999999999993 / 17  (164.7):  32%|█████████████████████████████████████▍                                                                               | 16/50 [01:30<02:54,  5.14s/it]\u001b[A\n",
      "Average Metric: 27.999999999999993 / 17  (164.7):  34%|███████████████████████████████████████▊                                                                             | 17/50 [01:30<02:47,  5.07s/it]\u001b[A"
     ]
    },
    {
     "name": "stdout",
     "output_type": "stream",
     "text": [
      "Faithful: 3\n",
      "Detail: 1\n",
      "Overall: 5\n",
      "Test Question: What do students do at the school of New York University where Meleko Mokgosi is an artist and assistant professor?\n",
      "Predicted Answer: Engage in art-related activities\n"
     ]
    },
    {
     "name": "stderr",
     "output_type": "stream",
     "text": [
      "\n",
      "Average Metric: 29.799999999999994 / 18  (165.6):  34%|███████████████████████████████████████▊                                                                             | 17/50 [01:37<02:47,  5.07s/it]\u001b[A\n",
      "Average Metric: 29.799999999999994 / 18  (165.6):  36%|██████████████████████████████████████████                                                                           | 18/50 [01:37<02:59,  5.62s/it]\u001b[A"
     ]
    },
    {
     "name": "stdout",
     "output_type": "stream",
     "text": [
      "Faithful: 1\n",
      "Detail: 2\n",
      "Overall: 5\n",
      "Test Question: What is the nationality of the chef and restaurateur featured in Restaurant: Impossible?\n",
      "Predicted Answer: The nationality of the chef and restaurateur featured in Restaurant: Impossible is not provided in the context.\n"
     ]
    },
    {
     "name": "stderr",
     "output_type": "stream",
     "text": [
      "\n",
      "Average Metric: 30.799999999999994 / 19  (162.1):  36%|██████████████████████████████████████████                                                                           | 18/50 [01:39<02:59,  5.62s/it]\u001b[A\n",
      "Average Metric: 30.799999999999994 / 19  (162.1):  38%|████████████████████████████████████████████▍                                                                        | 19/50 [01:39<02:24,  4.66s/it]\u001b[A"
     ]
    },
    {
     "name": "stdout",
     "output_type": "stream",
     "text": [
      "Faithful: 1\n",
      "Detail: 2\n",
      "Overall: 1\n",
      "Test Question: What American actor plays an East side drug lord who prefers peaceful solutions to business disputes when possible?\n",
      "Predicted Answer: The answer cannot be determined from the provided context.\n"
     ]
    },
    {
     "name": "stderr",
     "output_type": "stream",
     "text": [
      "\n",
      "Average Metric: 33.199999999999996 / 20  (166.0):  38%|████████████████████████████████████████████▍                                                                        | 19/50 [01:43<02:24,  4.66s/it]\u001b[A\n",
      "Average Metric: 33.199999999999996 / 20  (166.0):  40%|██████████████████████████████████████████████▊                                                                      | 20/50 [01:43<02:17,  4.59s/it]\u001b[A"
     ]
    },
    {
     "name": "stdout",
     "output_type": "stream",
     "text": [
      "Faithful: 3\n",
      "Detail: 1\n",
      "Overall: 5\n",
      "Test Question: What city is 11 miles north of the birthplace of actor Toby Sawyer?\n",
      "Predicted Answer: The question does not provide enough context or specific information to determine the city that is 11 miles north of the birthplace of actor Toby Sawyer.\n"
     ]
    },
    {
     "name": "stderr",
     "output_type": "stream",
     "text": [
      "\n",
      "Average Metric: 35.4 / 21  (168.6):  40%|████████████████████████████████████████████████████▍                                                                              | 20/50 [01:50<02:17,  4.59s/it]\u001b[A\n",
      "Average Metric: 35.4 / 21  (168.6):  42%|███████████████████████████████████████████████████████                                                                            | 21/50 [01:50<02:30,  5.19s/it]\u001b[A"
     ]
    },
    {
     "name": "stdout",
     "output_type": "stream",
     "text": [
      "Faithful: 2\n",
      "Detail: 2\n",
      "Overall: 5\n",
      "Test Question: Who was born first, Tony Kaye or Deepa Mehta?\n",
      "Predicted Answer: The answer cannot be determined from the provided context.\n"
     ]
    },
    {
     "name": "stderr",
     "output_type": "stream",
     "text": [
      "\n",
      "Average Metric: 38.199999999999996 / 22  (173.6):  42%|█████████████████████████████████████████████████▏                                                                   | 21/50 [01:56<02:30,  5.19s/it]\u001b[A\n",
      "Average Metric: 38.199999999999996 / 22  (173.6):  44%|███████████████████████████████████████████████████▍                                                                 | 22/50 [01:56<02:33,  5.47s/it]\u001b[A"
     ]
    },
    {
     "name": "stdout",
     "output_type": "stream",
     "text": [
      "Faithful: 4\n",
      "Detail: 1\n",
      "Overall: 5\n",
      "Test Question: What is the English translation of the name of the store that Macy's replaced in Boise Town Square?\n",
      "Predicted Answer: The answer cannot be determined from the provided context.\n"
     ]
    },
    {
     "name": "stderr",
     "output_type": "stream",
     "text": [
      "\n",
      "Average Metric: 40.599999999999994 / 23  (176.5):  44%|███████████████████████████████████████████████████▍                                                                 | 22/50 [02:01<02:33,  5.47s/it]\u001b[A\n",
      "Average Metric: 40.599999999999994 / 23  (176.5):  46%|█████████████████████████████████████████████████████▊                                                               | 23/50 [02:01<02:24,  5.34s/it]\u001b[A"
     ]
    },
    {
     "name": "stdout",
     "output_type": "stream",
     "text": [
      "Faithful: 5\n",
      "Detail: 1\n",
      "Overall: 1\n",
      "Test Question: Who did Lizzette Reynolds fire to make her notable in November 2007?\n",
      "Predicted Answer: The question does not provide enough context or specific information to determine who Lizzette Reynolds fired to make her notable in November 2007.\n"
     ]
    },
    {
     "name": "stderr",
     "output_type": "stream",
     "text": [
      "\n",
      "Average Metric: 42.8 / 24  (178.3):  46%|████████████████████████████████████████████████████████████▎                                                                      | 23/50 [02:07<02:24,  5.34s/it]\u001b[A\n",
      "Average Metric: 42.8 / 24  (178.3):  48%|██████████████████████████████████████████████████████████████▉                                                                    | 24/50 [02:07<02:23,  5.51s/it]\u001b[A"
     ]
    },
    {
     "name": "stdout",
     "output_type": "stream",
     "text": [
      "Faithful: 2\n",
      "Detail: 2\n",
      "Overall: 5\n",
      "Test Question: What was the name of the man, who was billed by the coiner of the phrase \"There's a sucker born every minute\" as \"Boy Lightning Calculator\"?\n",
      "Predicted Answer: The name of the man who was billed as \"Boy Lightning Calculator\" is not provided in the context.\n"
     ]
    },
    {
     "name": "stderr",
     "output_type": "stream",
     "text": [
      "\n",
      "Average Metric: 44.599999999999994 / 25  (178.4):  48%|████████████████████████████████████████████████████████▏                                                            | 24/50 [02:13<02:23,  5.51s/it]\u001b[A\n",
      "Average Metric: 44.599999999999994 / 25  (178.4):  50%|██████████████████████████████████████████████████████████▌                                                          | 25/50 [02:13<02:18,  5.53s/it]\u001b[A"
     ]
    },
    {
     "name": "stdout",
     "output_type": "stream",
     "text": [
      "Faithful: 1\n",
      "Detail: 2\n",
      "Overall: 5\n",
      "Test Question: Which battle was fought for a shorter period of time, the Battle of the Ch'ongch'on River, or the Meuse-Argonne Offensive?\n",
      "Predicted Answer: The answer cannot be determined from the provided context.\n"
     ]
    },
    {
     "name": "stderr",
     "output_type": "stream",
     "text": [
      "\n",
      "Average Metric: 46.199999999999996 / 26  (177.7):  50%|██████████████████████████████████████████████████████████▌                                                          | 25/50 [02:18<02:18,  5.53s/it]\u001b[A\n",
      "Average Metric: 46.199999999999996 / 26  (177.7):  52%|████████████████████████████████████████████████████████████▊                                                        | 26/50 [02:18<02:14,  5.59s/it]\u001b[A"
     ]
    },
    {
     "name": "stdout",
     "output_type": "stream",
     "text": [
      "Faithful: 1\n",
      "Detail: 1\n",
      "Overall: 5\n",
      "Test Question: What cricketeer active 1974–1993 had a strong performance in the tour by the Australian cricket team in England in 1981?\n",
      "Predicted Answer: The answer cannot be determined from the provided context.\n"
     ]
    },
    {
     "name": "stderr",
     "output_type": "stream",
     "text": [
      "\n",
      "Average Metric: 48.199999999999996 / 27  (178.5):  52%|████████████████████████████████████████████████████████████▊                                                        | 26/50 [02:23<02:14,  5.59s/it]\u001b[A\n",
      "Average Metric: 48.199999999999996 / 27  (178.5):  54%|███████████████████████████████████████████████████████████████▏                                                     | 27/50 [02:23<02:03,  5.36s/it]\u001b[A"
     ]
    },
    {
     "name": "stdout",
     "output_type": "stream",
     "text": [
      "Faithful: 4\n",
      "Detail: 1\n",
      "Overall: 1\n",
      "Test Question: What is the present post of the head coach of the 1982 NC State Wolfpack football team ?\n",
      "Predicted Answer: The present post of the head coach of the 1982 NC State Wolfpack football team cannot be determined from the provided context.\n"
     ]
    },
    {
     "name": "stderr",
     "output_type": "stream",
     "text": [
      "\n",
      "Average Metric: 49.99999999999999 / 28  (178.6):  54%|███████████████████████████████████████████████████████████████▋                                                      | 27/50 [02:29<02:03,  5.36s/it]\u001b[A\n",
      "Average Metric: 49.99999999999999 / 28  (178.6):  56%|██████████████████████████████████████████████████████████████████                                                    | 28/50 [02:29<02:03,  5.59s/it]\u001b[A"
     ]
    },
    {
     "name": "stdout",
     "output_type": "stream",
     "text": [
      "Faithful: 1\n",
      "Detail: 2\n",
      "Overall: 5\n",
      "Test Question: Which Scottish actor sang \"Come What May\"?\n",
      "Predicted Answer: The question does not provide enough context or specific information to determine which Scottish actor sang \"Come What May.\"\n"
     ]
    },
    {
     "name": "stderr",
     "output_type": "stream",
     "text": [
      "\n",
      "Average Metric: 52.599999999999994 / 29  (181.4):  56%|█████████████████████████████████████████████████████████████████▌                                                   | 28/50 [02:35<02:03,  5.59s/it]\u001b[A\n",
      "Average Metric: 52.599999999999994 / 29  (181.4):  58%|███████████████████████████████████████████████████████████████████▊                                                 | 29/50 [02:35<01:59,  5.70s/it]\u001b[A"
     ]
    },
    {
     "name": "stdout",
     "output_type": "stream",
     "text": [
      "Faithful: 3\n",
      "Detail: 2\n",
      "Overall: 5\n",
      "Test Question: Where have Ivan Bella and Frank De Winne both traveled?\n",
      "Predicted Answer: The answer cannot be determined from the provided context.\n"
     ]
    },
    {
     "name": "stderr",
     "output_type": "stream",
     "text": [
      "\n",
      "Average Metric: 54.99999999999999 / 30  (183.3):  58%|████████████████████████████████████████████████████████████████████▍                                                 | 29/50 [02:40<01:59,  5.70s/it]\u001b[A\n",
      "Average Metric: 54.99999999999999 / 30  (183.3):  60%|██████████████████████████████████████████████████████████████████████▊                                               | 30/50 [02:40<01:47,  5.38s/it]\u001b[A"
     ]
    },
    {
     "name": "stdout",
     "output_type": "stream",
     "text": [
      "Faithful: 3\n",
      "Detail: 1\n",
      "Overall: 5\n",
      "Test Question: The original work by Anton Chekhov involving a disillusioned schoolmaster, which inspired a later play by this British playwright, was written specifically for whom?\n",
      "Predicted Answer: The answer cannot be determined from the provided context.\n"
     ]
    },
    {
     "name": "stderr",
     "output_type": "stream",
     "text": [
      "\n",
      "Average Metric: 57.39999999999999 / 31  (185.2):  60%|██████████████████████████████████████████████████████████████████████▊                                               | 30/50 [02:45<01:47,  5.38s/it]\u001b[A\n",
      "Average Metric: 57.39999999999999 / 31  (185.2):  62%|█████████████████████████████████████████████████████████████████████████▏                                            | 31/50 [02:45<01:42,  5.38s/it]\u001b[A"
     ]
    },
    {
     "name": "stdout",
     "output_type": "stream",
     "text": [
      "Faithful: 3\n",
      "Detail: 1\n",
      "Overall: 5\n",
      "Test Question: Are Roswell International Air Center and Pago Pago International Airport both located in the mainland US?\n",
      "Predicted Answer: No, Pago Pago International Airport is not located in the mainland US.\n"
     ]
    },
    {
     "name": "stderr",
     "output_type": "stream",
     "text": [
      "\n",
      "Average Metric: 59.99999999999999 / 32  (187.5):  62%|█████████████████████████████████████████████████████████████████████████▏                                            | 31/50 [02:48<01:42,  5.38s/it]\u001b[A\n",
      "Average Metric: 59.99999999999999 / 32  (187.5):  64%|███████████████████████████████████████████████████████████████████████████▌                                          | 32/50 [02:48<01:21,  4.51s/it]\u001b[A"
     ]
    },
    {
     "name": "stdout",
     "output_type": "stream",
     "text": [
      "Faithful: 3\n",
      "Detail: 2\n",
      "Overall: 5\n",
      "Test Question: Untold: The Greatest Sports Stories Never Told was hosted by a sportscaster commonly referred to as what ?\n",
      "Predicted Answer: sportscaster\n"
     ]
    },
    {
     "name": "stderr",
     "output_type": "stream",
     "text": [
      "\n",
      "Average Metric: 61.199999999999996 / 33  (185.5):  64%|██████████████████████████████████████████████████████████████████████████▉                                          | 32/50 [02:54<01:21,  4.51s/it]\u001b[A\n",
      "Average Metric: 61.199999999999996 / 33  (185.5):  66%|█████████████████████████████████████████████████████████████████████████████▏                                       | 33/50 [02:54<01:24,  4.97s/it]\u001b[A"
     ]
    },
    {
     "name": "stdout",
     "output_type": "stream",
     "text": [
      "Faithful: 2\n",
      "Detail: 1\n",
      "Overall: 1\n",
      "Test Question: Are Walt Disney and Sacro GRA both documentry films?\n",
      "Predicted Answer: The question cannot be answered based on the provided context.\n"
     ]
    },
    {
     "name": "stderr",
     "output_type": "stream",
     "text": [
      "\n",
      "Average Metric: 61.199999999999996 / 34  (180.0):  66%|█████████████████████████████████████████████████████████████████████████████▏                                       | 33/50 [02:58<01:24,  4.97s/it]\u001b[A\n",
      "Average Metric: 61.199999999999996 / 34  (180.0):  68%|███████████████████████████████████████████████████████████████████████████████▌                                     | 34/50 [02:58<01:17,  4.87s/it]\u001b[A"
     ]
    },
    {
     "name": "stdout",
     "output_type": "stream",
     "text": [
      "Faithful: 1\n",
      "Detail: N/A\n",
      "Overall: 5\n",
      "Error for example in dev set: \t\t could not convert string to float: 'N/A'\n",
      "Test Question: What is the Palestinian Islamic organization that governs th small territory on the eastern coast of the Mediterranean Sea that was captured by Israel during the 1967 Six-Day War?\n",
      "Predicted Answer: The answer cannot be determined from the provided context.\n"
     ]
    },
    {
     "name": "stderr",
     "output_type": "stream",
     "text": [
      "Average Metric: 19.200000000000003 / 18  (106.7):  36%|██████████████████████████████████████████                                                                           | 18/50 [24:52<44:13, 82.93s/it]\n",
      "\n",
      "Average Metric: 63.599999999999994 / 35  (181.7):  68%|███████████████████████████████████████████████████████████████████████████████▌                                     | 34/50 [03:06<01:17,  4.87s/it]\u001b[A\n",
      "Average Metric: 63.599999999999994 / 35  (181.7):  70%|█████████████████████████████████████████████████████████████████████████████████▉                                   | 35/50 [03:06<01:22,  5.53s/it]\u001b[A"
     ]
    },
    {
     "name": "stdout",
     "output_type": "stream",
     "text": [
      "Faithful: 3\n",
      "Detail: 1\n",
      "Overall: 5\n",
      "Test Question: What album did the song of which Taylor Swift premiered the music video of during the pre-show of the 2015 MTV Video Music Awards come from?\n",
      "Predicted Answer: The answer cannot be determined from the provided context.\n"
     ]
    },
    {
     "name": "stderr",
     "output_type": "stream",
     "text": [
      "\n",
      "Average Metric: 65.19999999999999 / 36  (181.1):  70%|██████████████████████████████████████████████████████████████████████████████████▌                                   | 35/50 [03:11<01:22,  5.53s/it]\u001b[A\n",
      "Average Metric: 65.19999999999999 / 36  (181.1):  72%|████████████████████████████████████████████████████████████████████████████████████▉                                 | 36/50 [03:11<01:16,  5.46s/it]\u001b[A"
     ]
    },
    {
     "name": "stdout",
     "output_type": "stream",
     "text": [
      "Faithful: 3\n",
      "Detail: 1\n",
      "Overall: 1\n",
      "Test Question: Which is considered a genus level classification, Apera or Gunnera manicata?\n",
      "Predicted Answer: The question does not provide enough context or specific information to determine whether \"Apera\" or \"Gunnera manicata\" is considered a genus level classification.\n"
     ]
    },
    {
     "name": "stderr",
     "output_type": "stream",
     "text": [
      "\n",
      "Average Metric: 67.39999999999999 / 37  (182.2):  72%|████████████████████████████████████████████████████████████████████████████████████▉                                 | 36/50 [03:18<01:16,  5.46s/it]\u001b[A\n",
      "Average Metric: 67.39999999999999 / 37  (182.2):  74%|███████████████████████████████████████████████████████████████████████████████████████▎                              | 37/50 [03:18<01:17,  5.93s/it]\u001b[A"
     ]
    },
    {
     "name": "stdout",
     "output_type": "stream",
     "text": [
      "Faithful: 2\n",
      "Detail: 2\n",
      "Overall: 5\n",
      "Test Question: Do The Drums and Pussy Galore play music of similar genres?\n",
      "Predicted Answer: The context does not provide information on whether The Drums and Pussy Galore play music of similar genres.\n"
     ]
    },
    {
     "name": "stderr",
     "output_type": "stream",
     "text": [
      "\n",
      "Average Metric: 69.6 / 38  (183.2):  74%|████████████████████████████████████████████████████████████████████████████████████████████████▉                                  | 37/50 [03:24<01:17,  5.93s/it]\u001b[A\n",
      "Average Metric: 69.6 / 38  (183.2):  76%|███████████████████████████████████████████████████████████████████████████████████████████████████▌                               | 38/50 [03:24<01:11,  5.96s/it]\u001b[A"
     ]
    },
    {
     "name": "stdout",
     "output_type": "stream",
     "text": [
      "Faithful: 2\n",
      "Detail: 2\n",
      "Overall: 5\n",
      "Test Question: What is the post-nominal abbreviation for the university where the Banded Mongoose Research Project is based?\n",
      "Predicted Answer: The answer cannot be determined from the provided context.\n"
     ]
    },
    {
     "name": "stderr",
     "output_type": "stream",
     "text": [
      "\n",
      "Average Metric: 71.19999999999999 / 39  (182.6):  76%|█████████████████████████████████████████████████████████████████████████████████████████▋                            | 38/50 [03:29<01:11,  5.96s/it]\u001b[A\n",
      "Average Metric: 71.19999999999999 / 39  (182.6):  78%|████████████████████████████████████████████████████████████████████████████████████████████                          | 39/50 [03:29<01:01,  5.56s/it]\u001b[A"
     ]
    },
    {
     "name": "stdout",
     "output_type": "stream",
     "text": [
      "Faithful: 1\n",
      "Detail: 1\n",
      "Overall: 5\n",
      "Test Question: Are both Benjamin Christensen and Len Wiseman directors?\n",
      "Predicted Answer: The question does not provide enough context or specific information to determine if both Benjamin Christensen and Len Wiseman are directors.\n"
     ]
    },
    {
     "name": "stderr",
     "output_type": "stream",
     "text": [
      "\n",
      "Average Metric: 74.19999999999999 / 40  (185.5):  78%|████████████████████████████████████████████████████████████████████████████████████████████                          | 39/50 [03:35<01:01,  5.56s/it]\u001b[A\n",
      "Average Metric: 74.19999999999999 / 40  (185.5):  80%|██████████████████████████████████████████████████████████████████████████████████████████████▍                       | 40/50 [03:35<00:57,  5.71s/it]\u001b[A"
     ]
    },
    {
     "name": "stdout",
     "output_type": "stream",
     "text": [
      "Faithful: 4\n",
      "Detail: 2\n",
      "Overall: 5\n",
      "Test Question: Steven Cuitlahuac Melendez and Disney are connected by what American animator?\n",
      "Predicted Answer: The answer cannot be determined from the provided context.\n"
     ]
    },
    {
     "name": "stderr",
     "output_type": "stream",
     "text": [
      "\n",
      "Average Metric: 77.39999999999999 / 41  (188.8):  80%|██████████████████████████████████████████████████████████████████████████████████████████████▍                       | 40/50 [03:42<00:57,  5.71s/it]\u001b[A\n",
      "Average Metric: 77.39999999999999 / 41  (188.8):  82%|████████████████████████████████████████████████████████████████████████████████████████████████▊                     | 41/50 [03:42<00:55,  6.14s/it]\u001b[A"
     ]
    },
    {
     "name": "stdout",
     "output_type": "stream",
     "text": [
      "Faithful: 5\n",
      "Detail: 1\n",
      "Overall: 5\n",
      "Test Question: Shark Creek is located on this river which is in the northern rivers district?\n",
      "Predicted Answer: The answer cannot be determined from the provided context.\n"
     ]
    },
    {
     "name": "stderr",
     "output_type": "stream",
     "text": [
      "\n",
      "Average Metric: 78.19999999999999 / 42  (186.2):  82%|████████████████████████████████████████████████████████████████████████████████████████████████▊                     | 41/50 [03:46<00:55,  6.14s/it]\u001b[A\n",
      "Average Metric: 78.19999999999999 / 42  (186.2):  84%|███████████████████████████████████████████████████████████████████████████████████████████████████                   | 42/50 [03:46<00:45,  5.70s/it]\u001b[A"
     ]
    },
    {
     "name": "stdout",
     "output_type": "stream",
     "text": [
      "Faithful: 1\n",
      "Detail: 1\n",
      "Overall: 1\n",
      "Test Question: Who was the producer of the 2016 animated film about an amnesiac fish?\n",
      "Predicted Answer: The answer cannot be determined from the provided context.\n"
     ]
    },
    {
     "name": "stderr",
     "output_type": "stream",
     "text": [
      "\n",
      "Average Metric: 79.79999999999998 / 43  (185.6):  84%|███████████████████████████████████████████████████████████████████████████████████████████████████                   | 42/50 [03:51<00:45,  5.70s/it]\u001b[A\n",
      "Average Metric: 79.79999999999998 / 43  (185.6):  86%|█████████████████████████████████████████████████████████████████████████████████████████████████████▍                | 43/50 [03:51<00:37,  5.38s/it]\u001b[A"
     ]
    },
    {
     "name": "stdout",
     "output_type": "stream",
     "text": [
      "Faithful: 1\n",
      "Detail: 1\n",
      "Overall: 5\n",
      "Test Question: Who purchased the team Michael Schumacher raced for in the 1995 Monaco Grand Prix in 2000?\n",
      "Predicted Answer: The answer cannot be determined from the provided context.\n"
     ]
    },
    {
     "name": "stderr",
     "output_type": "stream",
     "text": [
      "\n",
      "Average Metric: 81.39999999999998 / 44  (185.0):  86%|█████████████████████████████████████████████████████████████████████████████████████████████████████▍                | 43/50 [03:57<00:37,  5.38s/it]\u001b[A\n",
      "Average Metric: 81.39999999999998 / 44  (185.0):  88%|███████████████████████████████████████████████████████████████████████████████████████████████████████▊              | 44/50 [03:57<00:32,  5.46s/it]\u001b[A"
     ]
    },
    {
     "name": "stdout",
     "output_type": "stream",
     "text": [
      "Faithful: 1\n",
      "Detail: 1\n",
      "Overall: 5\n",
      "Test Question: Fredrick Law Olmsted was an American landscape architect, journalist, social critic and public administrator that designed what neighborhood in Trenton, New Jersey?\n",
      "Predicted Answer: The answer cannot be determined from the provided context.\n"
     ]
    },
    {
     "name": "stderr",
     "output_type": "stream",
     "text": [
      "\n",
      "Average Metric: 83.79999999999998 / 45  (186.2):  88%|███████████████████████████████████████████████████████████████████████████████████████████████████████▊              | 44/50 [04:02<00:32,  5.46s/it]\u001b[A\n",
      "Average Metric: 83.79999999999998 / 45  (186.2):  90%|██████████████████████████████████████████████████████████████████████████████████████████████████████████▏           | 45/50 [04:02<00:26,  5.32s/it]\u001b[A"
     ]
    },
    {
     "name": "stdout",
     "output_type": "stream",
     "text": [
      "Faithful: 3\n",
      "Detail: 1\n",
      "Overall: 5\n",
      "Test Question: Gordon Warnecke worked alongside the former senator for which political party on Young Toscanini?\n",
      "Predicted Answer: The answer cannot be determined from the provided context.\n"
     ]
    },
    {
     "name": "stderr",
     "output_type": "stream",
     "text": [
      "\n",
      "Average Metric: 85.79999999999998 / 46  (186.5):  90%|██████████████████████████████████████████████████████████████████████████████████████████████████████████▏           | 45/50 [04:06<00:26,  5.32s/it]\u001b[A\n",
      "Average Metric: 85.79999999999998 / 46  (186.5):  92%|████████████████████████████████████████████████████████████████████████████████████████████████████████████▌         | 46/50 [04:06<00:20,  5.11s/it]\u001b[A"
     ]
    },
    {
     "name": "stdout",
     "output_type": "stream",
     "text": [
      "Faithful: 2\n",
      "Detail: 1\n",
      "Overall: 5\n",
      "Test Question: André Zucca was a French photographer who worked with a German propaganda magazine published by what Nazi organization?\n",
      "Predicted Answer: Nazi organization\n"
     ]
    },
    {
     "name": "stderr",
     "output_type": "stream",
     "text": [
      "\n",
      "Average Metric: 87.19999999999999 / 47  (185.5):  92%|████████████████████████████████████████████████████████████████████████████████████████████████████████████▌         | 46/50 [04:09<00:20,  5.11s/it]\u001b[A\n",
      "Average Metric: 87.19999999999999 / 47  (185.5):  94%|██████████████████████████████████████████████████████████████████████████████████████████████████████████████▉       | 47/50 [04:09<00:12,  4.27s/it]\u001b[A"
     ]
    },
    {
     "name": "stdout",
     "output_type": "stream",
     "text": [
      "Faithful: 1\n",
      "Detail: 1\n",
      "Overall: 4\n",
      "Test Question: Both Bill Ponsford and Bill Woodfull played what?\n",
      "Predicted Answer: The answer cannot be determined from the provided context.\n"
     ]
    },
    {
     "name": "stderr",
     "output_type": "stream",
     "text": [
      "\n",
      "Average Metric: 89.19999999999999 / 48  (185.8):  94%|██████████████████████████████████████████████████████████████████████████████████████████████████████████████▉       | 47/50 [04:13<00:12,  4.27s/it]\u001b[A\n",
      "Average Metric: 89.19999999999999 / 48  (185.8):  96%|█████████████████████████████████████████████████████████████████████████████████████████████████████████████████▎    | 48/50 [04:13<00:08,  4.30s/it]\u001b[A"
     ]
    },
    {
     "name": "stdout",
     "output_type": "stream",
     "text": [
      "Faithful: 4\n",
      "Detail: 1\n",
      "Overall: 1\n",
      "Test Question:  Suzana S. Drobnjaković Ponti acted in a film loosely based on a book by who?\n",
      "Predicted Answer: The answer cannot be determined from the provided context.\n"
     ]
    },
    {
     "name": "stderr",
     "output_type": "stream",
     "text": [
      "\n",
      "Average Metric: 91.19999999999999 / 49  (186.1):  96%|█████████████████████████████████████████████████████████████████████████████████████████████████████████████████▎    | 48/50 [04:18<00:08,  4.30s/it]\u001b[A\n",
      "Average Metric: 91.19999999999999 / 49  (186.1):  98%|███████████████████████████████████████████████████████████████████████████████████████████████████████████████████▋  | 49/50 [04:18<00:04,  4.42s/it]\u001b[A"
     ]
    },
    {
     "name": "stdout",
     "output_type": "stream",
     "text": [
      "Faithful: 2\n",
      "Detail: 1\n",
      "Overall: 5\n",
      "Test Question: In what city was the Election Law Journal founded?\n",
      "Predicted Answer: The answer cannot be determined from the provided context.\n"
     ]
    },
    {
     "name": "stderr",
     "output_type": "stream",
     "text": [
      "\n",
      "Average Metric: 93.19999999999999 / 50  (186.4):  98%|███████████████████████████████████████████████████████████████████████████████████████████████████████████████████▋  | 49/50 [04:22<00:04,  4.42s/it]\u001b[A\n",
      "Average Metric: 93.19999999999999 / 50  (186.4): 100%|██████████████████████████████████████████████████████████████████████████████████████████████████████████████████████| 50/50 [04:22<00:00,  5.25s/it]\u001b[A"
     ]
    },
    {
     "name": "stdout",
     "output_type": "stream",
     "text": [
      "Faithful: 2\n",
      "Detail: 1\n",
      "Overall: 5\n",
      "Average Metric: 93.19999999999999 / 50  (186.4%)\n"
     ]
    },
    {
     "name": "stderr",
     "output_type": "stream",
     "text": [
      "\n",
      "/Users/derrickmwiti/.env/lib/python3.11/site-packages/dspy/evaluate/evaluate.py:266: FutureWarning: Setting an item of incompatible dtype is deprecated and will raise in a future error of pandas. Value '['0.8' '1.2' '2.4' '0.8' '0.8']' has dtype incompatible with float64, please explicitly cast to a compatible dtype first.\n",
      "  df.loc[:, metric_name] = df[metric_name].apply(\n"
     ]
    },
    {
     "data": {
      "text/html": [
       "<style type=\"text/css\">\n",
       "#T_b09c6 th {\n",
       "  text-align: left;\n",
       "}\n",
       "#T_b09c6 td {\n",
       "  text-align: left;\n",
       "}\n",
       "#T_b09c6_row0_col0, #T_b09c6_row0_col1, #T_b09c6_row0_col2, #T_b09c6_row0_col3, #T_b09c6_row0_col4, #T_b09c6_row0_col5, #T_b09c6_row0_col6, #T_b09c6_row1_col0, #T_b09c6_row1_col1, #T_b09c6_row1_col2, #T_b09c6_row1_col3, #T_b09c6_row1_col4, #T_b09c6_row1_col5, #T_b09c6_row1_col6, #T_b09c6_row2_col0, #T_b09c6_row2_col1, #T_b09c6_row2_col2, #T_b09c6_row2_col3, #T_b09c6_row2_col4, #T_b09c6_row2_col5, #T_b09c6_row2_col6, #T_b09c6_row3_col0, #T_b09c6_row3_col1, #T_b09c6_row3_col2, #T_b09c6_row3_col3, #T_b09c6_row3_col4, #T_b09c6_row3_col5, #T_b09c6_row3_col6, #T_b09c6_row4_col0, #T_b09c6_row4_col1, #T_b09c6_row4_col2, #T_b09c6_row4_col3, #T_b09c6_row4_col4, #T_b09c6_row4_col5, #T_b09c6_row4_col6 {\n",
       "  text-align: left;\n",
       "  white-space: pre-wrap;\n",
       "  word-wrap: break-word;\n",
       "  max-width: 400px;\n",
       "}\n",
       "</style>\n",
       "<table id=\"T_b09c6\">\n",
       "  <thead>\n",
       "    <tr>\n",
       "      <th class=\"blank level0\" >&nbsp;</th>\n",
       "      <th id=\"T_b09c6_level0_col0\" class=\"col_heading level0 col0\" >question</th>\n",
       "      <th id=\"T_b09c6_level0_col1\" class=\"col_heading level0 col1\" >example_answer</th>\n",
       "      <th id=\"T_b09c6_level0_col2\" class=\"col_heading level0 col2\" >gold_titles</th>\n",
       "      <th id=\"T_b09c6_level0_col3\" class=\"col_heading level0 col3\" >context</th>\n",
       "      <th id=\"T_b09c6_level0_col4\" class=\"col_heading level0 col4\" >pred_answer</th>\n",
       "      <th id=\"T_b09c6_level0_col5\" class=\"col_heading level0 col5\" >llm_metric</th>\n",
       "      <th id=\"T_b09c6_level0_col6\" class=\"col_heading level0 col6\" >answer</th>\n",
       "    </tr>\n",
       "  </thead>\n",
       "  <tbody>\n",
       "    <tr>\n",
       "      <th id=\"T_b09c6_level0_row0\" class=\"row_heading level0 row0\" >0</th>\n",
       "      <td id=\"T_b09c6_row0_col0\" class=\"data row0 col0\" >Are both Cangzhou and Qionghai in the Hebei province of China?</td>\n",
       "      <td id=\"T_b09c6_row0_col1\" class=\"data row0 col1\" >no</td>\n",
       "      <td id=\"T_b09c6_row0_col2\" class=\"data row0 col2\" >{'Cangzhou', 'Qionghai'}</td>\n",
       "      <td id=\"T_b09c6_row0_col3\" class=\"data row0 col3\" >['Table\\n* indicates \"Cities of COUNTRY or TERRITORY\" links.\\nCountry (or territory)\\tCapital\\tPopulation\\t% of country\\tSource\\n China\\u202f*\\tBeijing\\t21,542,000\\t1.5%\\t[1] 2018\\n Japan\\u202f*\\tTokyo\\t14,094,034\\t11.3%\\t[2] 2023\\n Russia\\u202f*\\tMoscow\\t13,104,177\\t9.0%\\t[3] 2023\\n DR Congo\\u202f*\\tKinshasa\\t12,691,000\\t13.2%\\t[4] 2017\\n Indonesia\\u202f*\\tJakarta\\t10,562,088\\t3.9%\\t[5] 2020\\n Egypt\\u202f*\\tCairo\\t10,107,125\\t9.3%\\t[6] 2022\\n...</td>\n",
       "      <td id=\"T_b09c6_row0_col4\" class=\"data row0 col4\" >The information to determine if both Cangzhou and Qionghai are in the Hebei province of China is not provided in the context.</td>\n",
       "      <td id=\"T_b09c6_row0_col5\" class=\"data row0 col5\" >0.8</td>\n",
       "      <td id=\"T_b09c6_row0_col6\" class=\"data row0 col6\" >nan</td>\n",
       "    </tr>\n",
       "    <tr>\n",
       "      <th id=\"T_b09c6_level0_row1\" class=\"row_heading level0 row1\" >1</th>\n",
       "      <td id=\"T_b09c6_row1_col0\" class=\"data row1 col0\" >Who conducts the draft in which Marc-Andre Fleury was drafted to the Vegas Golden Knights for the 2017-18 season?</td>\n",
       "      <td id=\"T_b09c6_row1_col1\" class=\"data row1 col1\" >National Hockey League</td>\n",
       "      <td id=\"T_b09c6_row1_col2\" class=\"data row1 col2\" >{'2017–18 Pittsburgh Penguins season', '2017 NHL Expansion Draft'}</td>\n",
       "      <td id=\"T_b09c6_row1_col3\" class=\"data row1 col3\" >['Amsterdam holds two American football franchises: the Amsterdam Crusaders and the Amsterdam Panthers. The Amsterdam Pirates baseball team competes in the Dutch Major League. There...</td>\n",
       "      <td id=\"T_b09c6_row1_col4\" class=\"data row1 col4\" >The answer cannot be determined from the provided context.</td>\n",
       "      <td id=\"T_b09c6_row1_col5\" class=\"data row1 col5\" >1.2</td>\n",
       "      <td id=\"T_b09c6_row1_col6\" class=\"data row1 col6\" >nan</td>\n",
       "    </tr>\n",
       "    <tr>\n",
       "      <th id=\"T_b09c6_level0_row2\" class=\"row_heading level0 row2\" >2</th>\n",
       "      <td id=\"T_b09c6_row2_col0\" class=\"data row2 col0\" >The Wings entered a new era, following the retirement of which Canadian retired professional ice hockey player and current general manager of the Tampa Bay...</td>\n",
       "      <td id=\"T_b09c6_row2_col1\" class=\"data row2 col1\" >Steve Yzerman</td>\n",
       "      <td id=\"T_b09c6_row2_col2\" class=\"data row2 col2\" >{'Steve Yzerman', '2006–07 Detroit Red Wings season'}</td>\n",
       "      <td id=\"T_b09c6_row2_col3\" class=\"data row2 col3\" >['city was finally liberated by Canadian forces on 5 May 1945, shortly before the end of the war in Europe.', 'In parallel, the Eastern Question...</td>\n",
       "      <td id=\"T_b09c6_row2_col4\" class=\"data row2 col4\" >The answer cannot be determined from the provided context.</td>\n",
       "      <td id=\"T_b09c6_row2_col5\" class=\"data row2 col5\" >2.4</td>\n",
       "      <td id=\"T_b09c6_row2_col6\" class=\"data row2 col6\" >nan</td>\n",
       "    </tr>\n",
       "    <tr>\n",
       "      <th id=\"T_b09c6_level0_row3\" class=\"row_heading level0 row3\" >3</th>\n",
       "      <td id=\"T_b09c6_row3_col0\" class=\"data row3 col0\" >What river is near the Crichton Collegiate Church?</td>\n",
       "      <td id=\"T_b09c6_row3_col1\" class=\"data row3 col1\" >the River Tyne</td>\n",
       "      <td id=\"T_b09c6_row3_col2\" class=\"data row3 col2\" >{'Crichton Castle', 'Crichton Collegiate Church'}</td>\n",
       "      <td id=\"T_b09c6_row3_col3\" class=\"data row3 col3\" >['By the mid-19th century, there were three main conventions, one following the Don, the Volga–Don Canal and the Volga, the other following the Kuma–Manych Depression...</td>\n",
       "      <td id=\"T_b09c6_row3_col4\" class=\"data row3 col4\" >Don River</td>\n",
       "      <td id=\"T_b09c6_row3_col5\" class=\"data row3 col5\" >0.8</td>\n",
       "      <td id=\"T_b09c6_row3_col6\" class=\"data row3 col6\" >nan</td>\n",
       "    </tr>\n",
       "    <tr>\n",
       "      <th id=\"T_b09c6_level0_row4\" class=\"row_heading level0 row4\" >4</th>\n",
       "      <td id=\"T_b09c6_row4_col0\" class=\"data row4 col0\" >In the 10th Century A.D. Ealhswith had a son called Æthelweard by which English king?</td>\n",
       "      <td id=\"T_b09c6_row4_col1\" class=\"data row4 col1\" >King Alfred the Great</td>\n",
       "      <td id=\"T_b09c6_row4_col2\" class=\"data row4 col2\" >{'Ealhswith', 'Æthelweard (son of Alfred)'}</td>\n",
       "      <td id=\"T_b09c6_row4_col3\" class=\"data row4 col3\" >['During the Dark Ages, the Western Roman Empire fell under the control of various tribes. The Germanic and Slav tribes established their domains over Western...</td>\n",
       "      <td id=\"T_b09c6_row4_col4\" class=\"data row4 col4\" >King Alfred the Great</td>\n",
       "      <td id=\"T_b09c6_row4_col5\" class=\"data row4 col5\" >0.8</td>\n",
       "      <td id=\"T_b09c6_row4_col6\" class=\"data row4 col6\" >nan</td>\n",
       "    </tr>\n",
       "  </tbody>\n",
       "</table>\n"
      ],
      "text/plain": [
       "<pandas.io.formats.style.Styler at 0x30a408210>"
      ]
     },
     "metadata": {},
     "output_type": "display_data"
    },
    {
     "data": {
      "text/html": [
       "\n",
       "                <div style='\n",
       "                    text-align: center;\n",
       "                    font-size: 16px;\n",
       "                    font-weight: bold;\n",
       "                    color: #555;\n",
       "                    margin: 10px 0;'>\n",
       "                    ... 45 more rows not displayed ...\n",
       "                </div>\n",
       "                "
      ],
      "text/plain": [
       "<IPython.core.display.HTML object>"
      ]
     },
     "metadata": {},
     "output_type": "display_data"
    },
    {
     "data": {
      "text/plain": [
       "186.4"
      ]
     },
     "execution_count": 49,
     "metadata": {},
     "output_type": "execute_result"
    }
   ],
   "source": [
    "evaluate(second_compiled_rag, metric=llm_metric)"
   ]
  },
  {
   "cell_type": "markdown",
   "id": "b8e1dc9e-2f11-4328-81d6-0a40dd14cca8",
   "metadata": {},
   "source": [
    "## BayesianSignatureOptimizer\n"
   ]
  },
  {
   "cell_type": "code",
   "execution_count": 50,
   "id": "2e242716-2102-4e86-894a-08fa3cdb8601",
   "metadata": {},
   "outputs": [
    {
     "name": "stdout",
     "output_type": "stream",
     "text": [
      "\u001b[31m[WARNING] BayesianSignatureOptimizer has been deprecated and replaced with MIPRO.  BayesianSignatureOptimizer will be removed in a future release. \u001b[31m\n",
      "\u001b[93m\u001b[1mWARNING: Projected Language Model (LM) Calls\u001b[0m\n",
      "\n",
      "Please be advised that based on the parameters you have set, the maximum number of LM calls is projected as follows:\n",
      "\n",
      "\u001b[93m- Task Model: \u001b[94m\u001b[1m50\u001b[0m\u001b[93m examples in dev set * \u001b[94m\u001b[1m3\u001b[0m\u001b[93m trials * \u001b[94m\u001b[1m# of LM calls in your program\u001b[0m\u001b[93m = (\u001b[94m\u001b[1m150 * # of LM calls in your program\u001b[0m\u001b[93m) task model calls\u001b[0m\n",
      "\u001b[93m- Prompt Model: # data summarizer calls (max \u001b[94m\u001b[1m10\u001b[0m\u001b[93m) + \u001b[94m\u001b[1m5\u001b[0m\u001b[93m * \u001b[94m\u001b[1m1\u001b[0m\u001b[93m lm calls in program = \u001b[94m\u001b[1m15\u001b[0m\u001b[93m prompt model calls\u001b[0m\n",
      "\n",
      "\u001b[93m\u001b[1mEstimated Cost Calculation:\u001b[0m\n",
      "\n",
      "\u001b[93mTotal Cost = (Number of calls to task model * (Avg Input Token Length per Call * Task Model Price per Input Token + Avg Output Token Length per Call * Task Model Price per Output Token) \n",
      "            + (Number of calls to prompt model * (Avg Input Token Length per Call * Task Prompt Price per Input Token + Avg Output Token Length per Call * Prompt Model Price per Output Token).\u001b[0m\n",
      "\n",
      "For a preliminary estimate of potential costs, we recommend you perform your own calculations based on the task\n",
      "and prompt models you intend to use. If the projected costs exceed your budget or expectations, you may consider:\n",
      "\n",
      "\u001b[93m- Reducing the number of trials (`num_trials`), the size of the trainset, or the number of LM calls in your program.\u001b[0m\n",
      "\u001b[93m- Using a cheaper task model to optimize the prompt.\u001b[0m\n"
     ]
    },
    {
     "name": "stderr",
     "output_type": "stream",
     "text": [
      "  0%|                                                                                                                                                                                | 0/50 [00:00<?, ?it/s]"
     ]
    },
    {
     "name": "stdout",
     "output_type": "stream",
     "text": [
      "Test Question: The Wings entered a new era, following the retirement of which Canadian retired professional ice hockey player and current general manager of the Tampa Bay Lightning of the National Hockey League (NHL)?\n",
      "Predicted Answer: Steve Yzerman\n"
     ]
    },
    {
     "name": "stderr",
     "output_type": "stream",
     "text": [
      "  2%|███▎                                                                                                                                                                    | 1/50 [00:02<01:48,  2.21s/it]"
     ]
    },
    {
     "name": "stdout",
     "output_type": "stream",
     "text": [
      "Faithful: 1\n",
      "Detail: 1\n",
      "Overall: 1\n",
      "Test Question: What is the name of this region of Italy, referring to the medieval March of Ancona and nearby marches of Camerino and Fermo, where the comune Pollenza is located?\n",
      "Predicted Answer: Marche\n"
     ]
    },
    {
     "name": "stderr",
     "output_type": "stream",
     "text": [
      "  4%|██████▋                                                                                                                                                                 | 2/50 [00:04<01:40,  2.09s/it]"
     ]
    },
    {
     "name": "stdout",
     "output_type": "stream",
     "text": [
      "Faithful: 1\n",
      "Detail: 1\n",
      "Overall: 5\n",
      "Test Question: Both Bill Ponsford and Bill Woodfull played what?\n",
      "Predicted Answer: cricket\n"
     ]
    },
    {
     "name": "stderr",
     "output_type": "stream",
     "text": [
      "  6%|██████████                                                                                                                                                              | 3/50 [00:10<03:11,  4.08s/it]"
     ]
    },
    {
     "name": "stdout",
     "output_type": "stream",
     "text": [
      "Faithful: 1\n",
      "Detail: 1\n",
      "Overall: 4\n",
      "Test Question: Which 90s rock band has more recently reformed, Gene or The Afghan Whigs?\n",
      "Predicted Answer: The Afghan Whigs\n"
     ]
    },
    {
     "name": "stderr",
     "output_type": "stream",
     "text": [
      "  8%|█████████████▍                                                                                                                                                          | 4/50 [00:13<02:33,  3.33s/it]\n"
     ]
    },
    {
     "name": "stdout",
     "output_type": "stream",
     "text": [
      "Faithful: 1\n",
      "Detail: 1\n",
      "Overall: 5\n",
      "Bootstrapped 4 full traces after 5 examples in round 0.\n"
     ]
    },
    {
     "name": "stderr",
     "output_type": "stream",
     "text": [
      "  0%|                                                                                                                                                                                | 0/50 [00:00<?, ?it/s]"
     ]
    },
    {
     "name": "stdout",
     "output_type": "stream",
     "text": [
      "Test Question: What was the name of the man, who was billed by the coiner of the phrase \"There's a sucker born every minute\" as \"Boy Lightning Calculator\"?\n",
      "Predicted Answer: P.T. Barnum\n"
     ]
    },
    {
     "name": "stderr",
     "output_type": "stream",
     "text": [
      "  2%|███▎                                                                                                                                                                    | 1/50 [00:02<01:48,  2.22s/it]"
     ]
    },
    {
     "name": "stdout",
     "output_type": "stream",
     "text": [
      "Faithful: 1\n",
      "Detail: 1\n",
      "Overall: 5\n",
      "Test Question: Are Walt Disney and Sacro GRA both documentry films?\n",
      "Predicted Answer: no\n"
     ]
    },
    {
     "name": "stderr",
     "output_type": "stream",
     "text": [
      "  4%|██████▋                                                                                                                                                                 | 2/50 [00:07<03:01,  3.79s/it]"
     ]
    },
    {
     "name": "stdout",
     "output_type": "stream",
     "text": [
      "Faithful: 1\n",
      "Detail: 1\n",
      "Overall: 4\n",
      "Test Question: In what city was the Election Law Journal founded?\n",
      "Predicted Answer: The founding of the Election Law Journal is not mentioned in the provided context.\n"
     ]
    },
    {
     "name": "stderr",
     "output_type": "stream",
     "text": [
      "  6%|██████████                                                                                                                                                              | 3/50 [00:13<03:46,  4.81s/it]"
     ]
    },
    {
     "name": "stdout",
     "output_type": "stream",
     "text": [
      "Faithful: 1\n",
      "Detail: 2\n",
      "Overall: 5\n",
      "Test Question: What album did the song of which Taylor Swift premiered the music video of during the pre-show of the 2015 MTV Video Music Awards come from?\n",
      "Predicted Answer: \"Wildest Dreams\" from the album \"1989\"\n"
     ]
    },
    {
     "name": "stderr",
     "output_type": "stream",
     "text": [
      "  8%|█████████████▍                                                                                                                                                          | 4/50 [00:19<03:40,  4.79s/it]\n"
     ]
    },
    {
     "name": "stdout",
     "output_type": "stream",
     "text": [
      "Faithful: 1\n",
      "Detail: 1\n",
      "Overall: 5\n",
      "Bootstrapped 4 full traces after 5 examples in round 0.\n"
     ]
    },
    {
     "name": "stderr",
     "output_type": "stream",
     "text": [
      "  0%|                                                                                                                                                                                | 0/50 [00:00<?, ?it/s]"
     ]
    },
    {
     "name": "stdout",
     "output_type": "stream",
     "text": [
      "Test Question: Which battle was fought for a shorter period of time, the Battle of the Ch'ongch'on River, or the Meuse-Argonne Offensive?\n",
      "Predicted Answer: The Battle of the Ch'ongch'on River was fought for a shorter period of time compared to the Meuse-Argonne Offensive.\n"
     ]
    },
    {
     "name": "stderr",
     "output_type": "stream",
     "text": [
      "  2%|███▎                                                                                                                                                                    | 1/50 [00:02<02:05,  2.57s/it]"
     ]
    },
    {
     "name": "stdout",
     "output_type": "stream",
     "text": [
      "Faithful: 2\n",
      "Detail: 1\n",
      "Overall: 5\n",
      "Test Question: In what city was the Election Law Journal founded?\n",
      "Predicted Answer: The text does not provide information on where the Election Law Journal was founded.\n"
     ]
    },
    {
     "name": "stderr",
     "output_type": "stream",
     "text": [
      "  4%|██████▋                                                                                                                                                                 | 2/50 [00:08<03:34,  4.47s/it]"
     ]
    },
    {
     "name": "stdout",
     "output_type": "stream",
     "text": [
      "Faithful: 1\n",
      "Detail: 2\n",
      "Overall: 5\n",
      "Test Question: Is the 72nd field brigade part of the oldest or newest established field army?\n",
      "Predicted Answer: oldest\n"
     ]
    },
    {
     "name": "stderr",
     "output_type": "stream",
     "text": [
      "  6%|██████████                                                                                                                                                              | 3/50 [00:14<04:15,  5.44s/it]"
     ]
    },
    {
     "name": "stdout",
     "output_type": "stream",
     "text": [
      "Faithful: 1\n",
      "Detail: 1\n",
      "Overall: 1\n",
      "Test Question: What do students do at the school of New York University where Meleko Mokgosi is an artist and assistant professor?\n",
      "Predicted Answer: Students at the school of New York University where Meleko Mokgosi is an artist and assistant professor likely study art and attend classes taught by him.\n"
     ]
    },
    {
     "name": "stderr",
     "output_type": "stream",
     "text": [
      "  8%|█████████████▍                                                                                                                                                          | 4/50 [00:22<04:15,  5.56s/it]\n"
     ]
    },
    {
     "name": "stdout",
     "output_type": "stream",
     "text": [
      "Faithful: 2\n",
      "Detail: 1\n",
      "Overall: 3\n",
      "Bootstrapped 4 full traces after 5 examples in round 0.\n"
     ]
    },
    {
     "name": "stderr",
     "output_type": "stream",
     "text": [
      "  0%|                                                                                                                                                                                | 0/50 [00:00<?, ?it/s]"
     ]
    },
    {
     "name": "stdout",
     "output_type": "stream",
     "text": [
      "Test Question: What is the post-nominal abbreviation for the university where the Banded Mongoose Research Project is based?\n",
      "Predicted Answer: There is not enough information provided to determine the post-nominal abbreviation for the university where the Banded Mongoose Research Project is based.\n"
     ]
    },
    {
     "name": "stderr",
     "output_type": "stream",
     "text": [
      "  2%|███▎                                                                                                                                                                    | 1/50 [00:06<05:04,  6.22s/it]"
     ]
    },
    {
     "name": "stdout",
     "output_type": "stream",
     "text": [
      "Faithful: 1\n",
      "Detail: 1\n",
      "Overall: 5\n",
      "Test Question: What is the English translation of the name of the store that Macy's replaced in Boise Town Square?\n",
      "Predicted Answer: The English translation of the name of the store that Macy's replaced in Boise Town Square is not provided in the context.\n"
     ]
    },
    {
     "name": "stderr",
     "output_type": "stream",
     "text": [
      "  4%|██████▋                                                                                                                                                                 | 2/50 [00:13<05:22,  6.72s/it]"
     ]
    },
    {
     "name": "stdout",
     "output_type": "stream",
     "text": [
      "Faithful: 1\n",
      "Detail: 2\n",
      "Overall: 5\n",
      "Test Question: Do The Drums and Pussy Galore play music of similar genres?\n",
      "Predicted Answer: No\n"
     ]
    },
    {
     "name": "stderr",
     "output_type": "stream",
     "text": [
      "  6%|██████████                                                                                                                                                              | 3/50 [00:18<04:45,  6.08s/it]"
     ]
    },
    {
     "name": "stdout",
     "output_type": "stream",
     "text": [
      "Faithful: 1\n",
      "Detail: 2\n",
      "Overall: 5\n",
      "Test Question: Who was born first, Tony Kaye or Deepa Mehta?\n",
      "Predicted Answer: Deepa Mehta\n"
     ]
    },
    {
     "name": "stderr",
     "output_type": "stream",
     "text": [
      "  8%|█████████████▍                                                                                                                                                          | 4/50 [00:24<04:44,  6.18s/it]"
     ]
    },
    {
     "name": "stdout",
     "output_type": "stream",
     "text": [
      "Faithful: 1\n",
      "Detail: 1\n",
      "Overall: 5\n",
      "Bootstrapped 4 full traces after 5 examples in round 0.\n"
     ]
    },
    {
     "name": "stderr",
     "output_type": "stream",
     "text": [
      "\n",
      "[I 2024-07-03 23:31:41,496] A new study created in memory with name: no-name-9e66a5c1-1bd1-4a0a-82bd-3ba126235fb9\n"
     ]
    },
    {
     "name": "stdout",
     "output_type": "stream",
     "text": [
      "Starting trial #0\n"
     ]
    },
    {
     "name": "stderr",
     "output_type": "stream",
     "text": [
      "  0%|                                                                                                                                                                                | 0/50 [00:00<?, ?it/s]"
     ]
    },
    {
     "name": "stdout",
     "output_type": "stream",
     "text": [
      "Test Question: Are both Cangzhou and Qionghai in the Hebei province of China?\n",
      "Predicted Answer: No\n"
     ]
    },
    {
     "name": "stderr",
     "output_type": "stream",
     "text": [
      "Average Metric: 1.8 / 1  (180.0):   2%|██▋                                                                                                                                   | 1/50 [00:02<02:20,  2.86s/it]"
     ]
    },
    {
     "name": "stdout",
     "output_type": "stream",
     "text": [
      "Faithful: 1\n",
      "Detail: 2\n",
      "Overall: 5\n",
      "Test Question: Who conducts the draft in which Marc-Andre Fleury was drafted to the Vegas Golden Knights for the 2017-18 season?\n",
      "Predicted Answer: The NHL conducts the draft where Marc-Andre Fleury was selected by the Vegas Golden Knights for the 2017-18 season.\n"
     ]
    },
    {
     "name": "stderr",
     "output_type": "stream",
     "text": [
      "Average Metric: 3.4000000000000004 / 2  (170.0):   4%|████▊                                                                                                                  | 2/50 [00:10<04:39,  5.82s/it]"
     ]
    },
    {
     "name": "stdout",
     "output_type": "stream",
     "text": [
      "Faithful: 1\n",
      "Detail: 1\n",
      "Overall: 5\n",
      "Test Question: The Wings entered a new era, following the retirement of which Canadian retired professional ice hockey player and current general manager of the Tampa Bay Lightning of the National Hockey League (NHL)?\n",
      "Predicted Answer: Steve Yzerman\n"
     ]
    },
    {
     "name": "stderr",
     "output_type": "stream",
     "text": [
      "Average Metric: 4.2 / 3  (140.0):   6%|████████                                                                                                                              | 3/50 [00:13<03:18,  4.21s/it]"
     ]
    },
    {
     "name": "stdout",
     "output_type": "stream",
     "text": [
      "Faithful: 1\n",
      "Detail: 1\n",
      "Overall: 1\n",
      "Test Question: What river is near the Crichton Collegiate Church?\n",
      "Predicted Answer: The river near the Crichton Collegiate Church is the River Nith.\n"
     ]
    },
    {
     "name": "stderr",
     "output_type": "stream",
     "text": [
      "Average Metric: 6.0 / 4  (150.0):   8%|██████████▋                                                                                                                           | 4/50 [00:18<03:42,  4.84s/it]"
     ]
    },
    {
     "name": "stdout",
     "output_type": "stream",
     "text": [
      "Faithful: 1\n",
      "Detail: 2\n",
      "Overall: 5\n",
      "Test Question: In the 10th Century A.D. Ealhswith had a son called Æthelweard by which English king?\n",
      "Predicted Answer: Alfred the Great\n"
     ]
    },
    {
     "name": "stderr",
     "output_type": "stream",
     "text": [
      "Average Metric: 6.8 / 5  (136.0):  10%|█████████████▍                                                                                                                        | 5/50 [00:25<04:03,  5.42s/it]"
     ]
    },
    {
     "name": "stdout",
     "output_type": "stream",
     "text": [
      "Faithful: 1\n",
      "Detail: 1\n",
      "Overall: 1\n",
      "Test Question: The Newark Airport Exchange is at the northern edge of an airport that is operated by whom?\n",
      "Predicted Answer: The Royal Schiphol Group\n"
     ]
    },
    {
     "name": "stderr",
     "output_type": "stream",
     "text": [
      "Average Metric: 9.8 / 6  (163.3):  12%|████████████████                                                                                                                      | 6/50 [00:31<04:14,  5.79s/it]"
     ]
    },
    {
     "name": "stdout",
     "output_type": "stream",
     "text": [
      "Faithful: 5\n",
      "Detail: 1\n",
      "Overall: 4\n",
      "Test Question: Where did an event take place resulting in a win during a domestic double due to the action of a Peruvian footballer known for his goal scoring ability?\n",
      "Predicted Answer: The context does not provide specific information about an event where a Peruvian footballer known for his goal-scoring ability achieved a win during a domestic double.\n"
     ]
    },
    {
     "name": "stderr",
     "output_type": "stream",
     "text": [
      "Average Metric: 10.600000000000001 / 7  (151.4):  14%|████████████████▋                                                                                                      | 7/50 [00:38<04:15,  5.95s/it]"
     ]
    },
    {
     "name": "stdout",
     "output_type": "stream",
     "text": [
      "Faithful: 1\n",
      "Detail: 1\n",
      "Overall: 1\n",
      "Test Question: Are both Chico Municipal Airport and William R. Fairchild International Airport in California?\n",
      "Predicted Answer: no\n"
     ]
    },
    {
     "name": "stderr",
     "output_type": "stream",
     "text": [
      "Average Metric: 13.000000000000002 / 8  (162.5):  16%|███████████████████                                                                                                    | 8/50 [00:42<03:47,  5.42s/it]"
     ]
    },
    {
     "name": "stdout",
     "output_type": "stream",
     "text": [
      "Faithful: 5\n",
      "Detail: 1\n",
      "Overall: 1\n",
      "Test Question: In which Maine county is Fort Pownall located?\n",
      "Predicted Answer: The context does not provide information about the location of Fort Pownall.\n"
     ]
    },
    {
     "name": "stderr",
     "output_type": "stream",
     "text": [
      "Average Metric: 14.400000000000002 / 9  (160.0):  18%|█████████████████████▍                                                                                                 | 9/50 [00:48<03:46,  5.51s/it]"
     ]
    },
    {
     "name": "stdout",
     "output_type": "stream",
     "text": [
      "Faithful: 2\n",
      "Detail: 2\n",
      "Overall: 1\n",
      "Test Question: Which 90s rock band has more recently reformed, Gene or The Afghan Whigs?\n",
      "Predicted Answer: The Afghan Whigs\n"
     ]
    },
    {
     "name": "stderr",
     "output_type": "stream",
     "text": [
      "Average Metric: 16.000000000000004 / 10  (160.0):  20%|███████████████████████▍                                                                                             | 10/50 [00:50<03:01,  4.53s/it]"
     ]
    },
    {
     "name": "stdout",
     "output_type": "stream",
     "text": [
      "Faithful: 1\n",
      "Detail: 1\n",
      "Overall: 5\n",
      "Test Question: What year did the mountain known in Italian as \"Monte Vesuvio\", erupt?\n",
      "Predicted Answer: The eruption of Mount Vesuvius occurred in 79 AD.\n"
     ]
    },
    {
     "name": "stderr",
     "output_type": "stream",
     "text": [
      "Average Metric: 17.600000000000005 / 11  (160.0):  22%|█████████████████████████▋                                                                                           | 11/50 [00:56<03:15,  5.01s/it]"
     ]
    },
    {
     "name": "stdout",
     "output_type": "stream",
     "text": [
      "Faithful: 1\n",
      "Detail: 1\n",
      "Overall: 5\n",
      "Test Question: Is the 72nd field brigade part of the oldest or newest established field army?\n",
      "Predicted Answer: The context does not provide information about the 72nd field brigade or the establishment of field armies.\n"
     ]
    },
    {
     "name": "stderr",
     "output_type": "stream",
     "text": [
      "Average Metric: 19.000000000000004 / 12  (158.3):  24%|████████████████████████████                                                                                         | 12/50 [01:03<03:37,  5.71s/it]"
     ]
    },
    {
     "name": "stdout",
     "output_type": "stream",
     "text": [
      "Faithful: 2\n",
      "Detail: 2\n",
      "Overall: 1\n",
      "Test Question: Was Stanislaw Kiszka paid for his services by the Royal Treasury?\n",
      "Predicted Answer: No\n"
     ]
    },
    {
     "name": "stderr",
     "output_type": "stream",
     "text": [
      "Average Metric: 20.800000000000004 / 13  (160.0):  26%|██████████████████████████████▍                                                                                      | 13/50 [01:06<02:55,  4.74s/it]"
     ]
    },
    {
     "name": "stdout",
     "output_type": "stream",
     "text": [
      "Faithful: 1\n",
      "Detail: 2\n",
      "Overall: 5\n",
      "Test Question: Which film director is younger, Del Lord or Wang Xiaoshuai?\n",
      "Predicted Answer: The ages of Del Lord and Wang Xiaoshuai are not mentioned in the provided context.\n"
     ]
    },
    {
     "name": "stderr",
     "output_type": "stream",
     "text": [
      "Average Metric: 22.600000000000005 / 14  (161.4):  28%|████████████████████████████████▊                                                                                    | 14/50 [01:13<03:12,  5.34s/it]"
     ]
    },
    {
     "name": "stdout",
     "output_type": "stream",
     "text": [
      "Faithful: 1\n",
      "Detail: 2\n",
      "Overall: 5\n",
      "Test Question: Lord North Street has a resident in which former Conservative MP who received an 18-month prison sentence for perjury in 1999?\n",
      "Predicted Answer: The former Conservative MP who received an 18-month prison sentence for perjury in 1999 and resided on Lord North Street is Jonathan Aitken.\n"
     ]
    },
    {
     "name": "stderr",
     "output_type": "stream",
     "text": [
      "Average Metric: 24.400000000000006 / 15  (162.7):  30%|███████████████████████████████████                                                                                  | 15/50 [01:19<03:16,  5.61s/it]"
     ]
    },
    {
     "name": "stdout",
     "output_type": "stream",
     "text": [
      "Faithful: 1\n",
      "Detail: 2\n",
      "Overall: 5\n",
      "Test Question: What is the name of this region of Italy, referring to the medieval March of Ancona and nearby marches of Camerino and Fermo, where the comune Pollenza is located?\n",
      "Predicted Answer: Marche\n"
     ]
    },
    {
     "name": "stderr",
     "output_type": "stream",
     "text": [
      "Average Metric: 26.000000000000007 / 16  (162.5):  32%|█████████████████████████████████████▍                                                                               | 16/50 [01:21<02:36,  4.60s/it]"
     ]
    },
    {
     "name": "stdout",
     "output_type": "stream",
     "text": [
      "Faithful: 1\n",
      "Detail: 1\n",
      "Overall: 5\n",
      "Test Question: William Hughes Miller was born in a city with how many inhabitants ?\n",
      "Predicted Answer: The context does not provide information about William Hughes Miller's birth city or its population.\n"
     ]
    },
    {
     "name": "stderr",
     "output_type": "stream",
     "text": [
      "Average Metric: 28.400000000000006 / 17  (167.1):  34%|███████████████████████████████████████▊                                                                             | 17/50 [01:27<02:40,  4.87s/it]"
     ]
    },
    {
     "name": "stdout",
     "output_type": "stream",
     "text": [
      "Faithful: 2\n",
      "Detail: 3\n",
      "Overall: 5\n",
      "Test Question: What do students do at the school of New York University where Meleko Mokgosi is an artist and assistant professor?\n",
      "Predicted Answer: Students at New York University where Meleko Mokgosi is an artist and assistant professor likely engage in art-related activities, classes, and projects under his guidance.\n"
     ]
    },
    {
     "name": "stderr",
     "output_type": "stream",
     "text": [
      "Average Metric: 31.000000000000007 / 18  (172.2):  36%|██████████████████████████████████████████                                                                           | 18/50 [01:34<02:57,  5.55s/it]"
     ]
    },
    {
     "name": "stdout",
     "output_type": "stream",
     "text": [
      "Faithful: 3\n",
      "Detail: 2\n",
      "Overall: 5\n",
      "Test Question: What is the nationality of the chef and restaurateur featured in Restaurant: Impossible?\n",
      "Predicted Answer: The nationality of the chef and restaurateur featured in Restaurant: Impossible is not mentioned in the provided context.\n"
     ]
    },
    {
     "name": "stderr",
     "output_type": "stream",
     "text": [
      "Average Metric: 32.800000000000004 / 19  (172.6):  38%|████████████████████████████████████████████▍                                                                        | 19/50 [01:39<02:54,  5.63s/it]"
     ]
    },
    {
     "name": "stdout",
     "output_type": "stream",
     "text": [
      "Faithful: 1\n",
      "Detail: 2\n",
      "Overall: 5\n",
      "Test Question: What American actor plays an East side drug lord who prefers peaceful solutions to business disputes when possible?\n",
      "Predicted Answer: Samuel L. Jackson\n"
     ]
    },
    {
     "name": "stderr",
     "output_type": "stream",
     "text": [
      "Average Metric: 33.6 / 20  (168.0):  40%|████████████████████████████████████████████████████▍                                                                              | 20/50 [01:42<02:20,  4.69s/it]"
     ]
    },
    {
     "name": "stdout",
     "output_type": "stream",
     "text": [
      "Faithful: 1\n",
      "Detail: 1\n",
      "Overall: 1\n",
      "Test Question: What city is 11 miles north of the birthplace of actor Toby Sawyer?\n",
      "Predicted Answer: The context does not provide information about the birthplace of actor Toby Sawyer or the city that is 11 miles north of it.\n"
     ]
    },
    {
     "name": "stderr",
     "output_type": "stream",
     "text": [
      "Average Metric: 35.4 / 21  (168.6):  42%|███████████████████████████████████████████████████████                                                                            | 21/50 [01:49<02:33,  5.30s/it]"
     ]
    },
    {
     "name": "stdout",
     "output_type": "stream",
     "text": [
      "Faithful: 1\n",
      "Detail: 2\n",
      "Overall: 5\n",
      "Test Question: Who was born first, Tony Kaye or Deepa Mehta?\n",
      "Predicted Answer: The birth dates of Tony Kaye and Deepa Mehta are not mentioned in the provided context.\n"
     ]
    },
    {
     "name": "stderr",
     "output_type": "stream",
     "text": [
      "Average Metric: 37.199999999999996 / 22  (169.1):  44%|███████████████████████████████████████████████████▍                                                                 | 22/50 [01:55<02:40,  5.71s/it]"
     ]
    },
    {
     "name": "stdout",
     "output_type": "stream",
     "text": [
      "Faithful: 1\n",
      "Detail: 2\n",
      "Overall: 5\n",
      "Test Question: What is the English translation of the name of the store that Macy's replaced in Boise Town Square?\n",
      "Predicted Answer: The English translation of the name of the store that Macy's replaced in Boise Town Square is not provided in the context.\n"
     ]
    },
    {
     "name": "stderr",
     "output_type": "stream",
     "text": [
      "Average Metric: 38.99999999999999 / 23  (169.6):  46%|██████████████████████████████████████████████████████▎                                                               | 23/50 [01:58<02:08,  4.75s/it]"
     ]
    },
    {
     "name": "stdout",
     "output_type": "stream",
     "text": [
      "Faithful: 1\n",
      "Detail: 2\n",
      "Overall: 5\n",
      "Test Question: Who did Lizzette Reynolds fire to make her notable in November 2007?\n",
      "Predicted Answer: The context does not provide information about Lizzette Reynolds firing someone in November 2007.\n"
     ]
    },
    {
     "name": "stderr",
     "output_type": "stream",
     "text": [
      "Average Metric: 40.79999999999999 / 24  (170.0):  48%|████████████████████████████████████████████████████████▋                                                             | 24/50 [02:04<02:14,  5.18s/it]"
     ]
    },
    {
     "name": "stdout",
     "output_type": "stream",
     "text": [
      "Faithful: 1\n",
      "Detail: 2\n",
      "Overall: 5\n",
      "Test Question: What was the name of the man, who was billed by the coiner of the phrase \"There's a sucker born every minute\" as \"Boy Lightning Calculator\"?\n",
      "Predicted Answer: P.T. Barnum\n"
     ]
    },
    {
     "name": "stderr",
     "output_type": "stream",
     "text": [
      "Average Metric: 42.39999999999999 / 25  (169.6):  50%|███████████████████████████████████████████████████████████                                                           | 25/50 [02:07<01:49,  4.38s/it]"
     ]
    },
    {
     "name": "stdout",
     "output_type": "stream",
     "text": [
      "Faithful: 1\n",
      "Detail: 1\n",
      "Overall: 5\n",
      "Test Question: Which battle was fought for a shorter period of time, the Battle of the Ch'ongch'on River, or the Meuse-Argonne Offensive?\n",
      "Predicted Answer: The Battle of the Ch'ongch'on River was fought for a shorter period of time than the Meuse-Argonne Offensive.\n"
     ]
    },
    {
     "name": "stderr",
     "output_type": "stream",
     "text": [
      "Average Metric: 44.19999999999999 / 26  (170.0):  52%|█████████████████████████████████████████████████████████████▎                                                        | 26/50 [02:13<01:56,  4.85s/it]"
     ]
    },
    {
     "name": "stdout",
     "output_type": "stream",
     "text": [
      "Faithful: 1\n",
      "Detail: 2\n",
      "Overall: 5\n",
      "Test Question: What cricketeer active 1974–1993 had a strong performance in the tour by the Australian cricket team in England in 1981?\n",
      "Predicted Answer: Dennis Lillee\n"
     ]
    },
    {
     "name": "stderr",
     "output_type": "stream",
     "text": [
      "Average Metric: 44.999999999999986 / 27  (166.7):  54%|███████████████████████████████████████████████████████████████▏                                                     | 27/50 [02:15<01:35,  4.17s/it]"
     ]
    },
    {
     "name": "stdout",
     "output_type": "stream",
     "text": [
      "Faithful: 1\n",
      "Detail: 1\n",
      "Overall: 1\n",
      "Test Question: What is the present post of the head coach of the 1982 NC State Wolfpack football team ?\n",
      "Predicted Answer: The present post of the head coach of the 1982 NC State Wolfpack football team is not mentioned in the provided context.\n"
     ]
    },
    {
     "name": "stderr",
     "output_type": "stream",
     "text": [
      "Average Metric: 46.59999999999999 / 28  (166.4):  56%|██████████████████████████████████████████████████████████████████                                                    | 28/50 [02:21<01:42,  4.67s/it]"
     ]
    },
    {
     "name": "stdout",
     "output_type": "stream",
     "text": [
      "Faithful: 1\n",
      "Detail: 1\n",
      "Overall: 5\n",
      "Test Question: Which Scottish actor sang \"Come What May\"?\n",
      "Predicted Answer: Ewan McGregor sang \"Come What May\" in the movie \"Moulin Rouge!\"\n"
     ]
    },
    {
     "name": "stderr",
     "output_type": "stream",
     "text": [
      "Average Metric: 48.399999999999984 / 29  (166.9):  58%|███████████████████████████████████████████████████████████████████▊                                                 | 29/50 [02:26<01:42,  4.88s/it]"
     ]
    },
    {
     "name": "stdout",
     "output_type": "stream",
     "text": [
      "Faithful: 1\n",
      "Detail: 2\n",
      "Overall: 5\n",
      "Test Question: Where have Ivan Bella and Frank De Winne both traveled?\n",
      "Predicted Answer: Ivan Bella and Frank De Winne have both traveled to space as astronauts.\n"
     ]
    },
    {
     "name": "stderr",
     "output_type": "stream",
     "text": [
      "Average Metric: 49.19999999999998 / 30  (164.0):  60%|██████████████████████████████████████████████████████████████████████▊                                               | 30/50 [02:33<01:46,  5.32s/it]"
     ]
    },
    {
     "name": "stdout",
     "output_type": "stream",
     "text": [
      "Faithful: 1\n",
      "Detail: 1\n",
      "Overall: 1\n",
      "Test Question: The original work by Anton Chekhov involving a disillusioned schoolmaster, which inspired a later play by this British playwright, was written specifically for whom?\n",
      "Predicted Answer: Konstantin Stanislavski\n"
     ]
    },
    {
     "name": "stderr",
     "output_type": "stream",
     "text": [
      "Average Metric: 50.19999999999998 / 31  (161.9):  62%|█████████████████████████████████████████████████████████████████████████▏                                            | 31/50 [02:39<01:48,  5.69s/it]"
     ]
    },
    {
     "name": "stdout",
     "output_type": "stream",
     "text": [
      "Faithful: 1\n",
      "Detail: 2\n",
      "Overall: 1\n",
      "Test Question: Are Roswell International Air Center and Pago Pago International Airport both located in the mainland US?\n",
      "Predicted Answer: No\n"
     ]
    },
    {
     "name": "stderr",
     "output_type": "stream",
     "text": [
      "Average Metric: 53.19999999999998 / 32  (166.2):  64%|███████████████████████████████████████████████████████████████████████████▌                                          | 32/50 [02:44<01:37,  5.41s/it]"
     ]
    },
    {
     "name": "stdout",
     "output_type": "stream",
     "text": [
      "Faithful: 4\n",
      "Detail: 2\n",
      "Overall: 5\n",
      "Test Question: Untold: The Greatest Sports Stories Never Told was hosted by a sportscaster commonly referred to as what ?\n",
      "Predicted Answer: Untold: The Greatest Sports Stories Never Told was hosted by sportscaster Joe Buck.\n"
     ]
    },
    {
     "name": "stderr",
     "output_type": "stream",
     "text": [
      "Average Metric: 54.19999999999998 / 33  (164.2):  66%|█████████████████████████████████████████████████████████████████████████████▉                                        | 33/50 [02:50<01:36,  5.69s/it]"
     ]
    },
    {
     "name": "stdout",
     "output_type": "stream",
     "text": [
      "Faithful: 1\n",
      "Detail: 2\n",
      "Overall: 1\n",
      "Test Question: Are Walt Disney and Sacro GRA both documentry films?\n",
      "Predicted Answer: No\n"
     ]
    },
    {
     "name": "stderr",
     "output_type": "stream",
     "text": [
      "Average Metric: 55.99999999999998 / 34  (164.7):  68%|████████████████████████████████████████████████████████████████████████████████▏                                     | 34/50 [02:55<01:24,  5.27s/it]"
     ]
    },
    {
     "name": "stdout",
     "output_type": "stream",
     "text": [
      "Faithful: 1\n",
      "Detail: 2\n",
      "Overall: 5\n",
      "Test Question: What is the Palestinian Islamic organization that governs th small territory on the eastern coast of the Mediterranean Sea that was captured by Israel during the 1967 Six-Day War?\n",
      "Predicted Answer: Hamas\n"
     ]
    },
    {
     "name": "stderr",
     "output_type": "stream",
     "text": [
      "Average Metric: 57.59999999999998 / 35  (164.6):  70%|██████████████████████████████████████████████████████████████████████████████████▌                                   | 35/50 [02:58<01:08,  4.56s/it]"
     ]
    },
    {
     "name": "stdout",
     "output_type": "stream",
     "text": [
      "Faithful: 1\n",
      "Detail: 1\n",
      "Overall: 5\n",
      "Test Question: What album did the song of which Taylor Swift premiered the music video of during the pre-show of the 2015 MTV Video Music Awards come from?\n",
      "Predicted Answer: \"Wildest Dreams\" from the album \"1989\"\n"
     ]
    },
    {
     "name": "stderr",
     "output_type": "stream",
     "text": [
      "Average Metric: 59.19999999999998 / 36  (164.4):  72%|████████████████████████████████████████████████████████████████████████████████████▉                                 | 36/50 [03:00<00:54,  3.87s/it]"
     ]
    },
    {
     "name": "stdout",
     "output_type": "stream",
     "text": [
      "Faithful: 1\n",
      "Detail: 1\n",
      "Overall: 5\n",
      "Test Question: Which is considered a genus level classification, Apera or Gunnera manicata?\n",
      "Predicted Answer: Gunnera manicata\n"
     ]
    },
    {
     "name": "stderr",
     "output_type": "stream",
     "text": [
      "Average Metric: 61.19999999999998 / 37  (165.4):  74%|███████████████████████████████████████████████████████████████████████████████████████▎                              | 37/50 [03:02<00:42,  3.31s/it]"
     ]
    },
    {
     "name": "stdout",
     "output_type": "stream",
     "text": [
      "Faithful: 1\n",
      "Detail: 3\n",
      "Overall: 5\n",
      "Test Question: Do The Drums and Pussy Galore play music of similar genres?\n",
      "Predicted Answer: The Drums and Pussy Galore do not play music of similar genres.\n"
     ]
    },
    {
     "name": "stderr",
     "output_type": "stream",
     "text": [
      "Average Metric: 63.399999999999984 / 38  (166.8):  76%|████████████████████████████████████████████████████████████████████████████████████████▉                            | 38/50 [03:08<00:50,  4.19s/it]"
     ]
    },
    {
     "name": "stdout",
     "output_type": "stream",
     "text": [
      "Faithful: 2\n",
      "Detail: 2\n",
      "Overall: 5\n",
      "Test Question: What is the post-nominal abbreviation for the university where the Banded Mongoose Research Project is based?\n",
      "Predicted Answer: UCT\n"
     ]
    },
    {
     "name": "stderr",
     "output_type": "stream",
     "text": [
      "Average Metric: 66.59999999999998 / 39  (170.8):  78%|████████████████████████████████████████████████████████████████████████████████████████████                          | 39/50 [03:14<00:52,  4.75s/it]"
     ]
    },
    {
     "name": "stdout",
     "output_type": "stream",
     "text": [
      "Faithful: 5\n",
      "Detail: 1\n",
      "Overall: 5\n",
      "Test Question: Are both Benjamin Christensen and Len Wiseman directors?\n",
      "Predicted Answer: yes\n"
     ]
    },
    {
     "name": "stderr",
     "output_type": "stream",
     "text": [
      "Average Metric: 69.79999999999998 / 40  (174.5):  80%|██████████████████████████████████████████████████████████████████████████████████████████████▍                       | 40/50 [03:20<00:49,  4.96s/it]"
     ]
    },
    {
     "name": "stdout",
     "output_type": "stream",
     "text": [
      "Faithful: 5\n",
      "Detail: 4\n",
      "Overall: 2\n",
      "Test Question: Steven Cuitlahuac Melendez and Disney are connected by what American animator?\n",
      "Predicted Answer: Steven Cuitlahuac Melendez and Disney are connected by American animator Walt Disney.\n"
     ]
    },
    {
     "name": "stderr",
     "output_type": "stream",
     "text": [
      "Average Metric: 71.39999999999998 / 41  (174.1):  82%|████████████████████████████████████████████████████████████████████████████████████████████████▊                     | 41/50 [03:26<00:48,  5.42s/it]"
     ]
    },
    {
     "name": "stdout",
     "output_type": "stream",
     "text": [
      "Faithful: 1\n",
      "Detail: 1\n",
      "Overall: 5\n",
      "Test Question: Shark Creek is located on this river which is in the northern rivers district?\n",
      "Predicted Answer: Clarence River\n"
     ]
    },
    {
     "name": "stderr",
     "output_type": "stream",
     "text": [
      "Average Metric: 72.19999999999997 / 42  (171.9):  84%|███████████████████████████████████████████████████████████████████████████████████████████████████                   | 42/50 [03:31<00:42,  5.36s/it]"
     ]
    },
    {
     "name": "stdout",
     "output_type": "stream",
     "text": [
      "Faithful: 1\n",
      "Detail: 1\n",
      "Overall: 1\n",
      "Test Question: Who was the producer of the 2016 animated film about an amnesiac fish?\n",
      "Predicted Answer: The producer of the 2016 animated film about an amnesiac fish was Pixar Animation Studios.\n"
     ]
    },
    {
     "name": "stderr",
     "output_type": "stream",
     "text": [
      "Average Metric: 73.19999999999997 / 43  (170.2):  86%|█████████████████████████████████████████████████████████████████████████████████████████████████████▍                | 43/50 [03:34<00:31,  4.55s/it]"
     ]
    },
    {
     "name": "stdout",
     "output_type": "stream",
     "text": [
      "Faithful: 1\n",
      "Detail: 2\n",
      "Overall: 1\n",
      "Test Question: Who purchased the team Michael Schumacher raced for in the 1995 Monaco Grand Prix in 2000?\n",
      "Predicted Answer: Renault\n"
     ]
    },
    {
     "name": "stderr",
     "output_type": "stream",
     "text": [
      "Average Metric: 73.99999999999997 / 44  (168.2):  88%|███████████████████████████████████████████████████████████████████████████████████████████████████████▊              | 44/50 [03:40<00:29,  4.89s/it]"
     ]
    },
    {
     "name": "stdout",
     "output_type": "stream",
     "text": [
      "Faithful: 1\n",
      "Detail: 1\n",
      "Overall: 1\n",
      "Test Question: Fredrick Law Olmsted was an American landscape architect, journalist, social critic and public administrator that designed what neighborhood in Trenton, New Jersey?\n",
      "Predicted Answer: The context does not provide information about Fredrick Law Olmsted's work in Trenton, New Jersey.\n"
     ]
    },
    {
     "name": "stderr",
     "output_type": "stream",
     "text": [
      "Average Metric: 75.79999999999997 / 45  (168.4):  90%|██████████████████████████████████████████████████████████████████████████████████████████████████████████▏           | 45/50 [03:47<00:27,  5.53s/it]"
     ]
    },
    {
     "name": "stdout",
     "output_type": "stream",
     "text": [
      "Faithful: 1\n",
      "Detail: 2\n",
      "Overall: 5\n",
      "Test Question: Gordon Warnecke worked alongside the former senator for which political party on Young Toscanini?\n",
      "Predicted Answer: Democratic Party\n"
     ]
    },
    {
     "name": "stderr",
     "output_type": "stream",
     "text": [
      "Average Metric: 76.59999999999997 / 46  (166.5):  92%|████████████████████████████████████████████████████████████████████████████████████████████████████████████▌         | 46/50 [03:49<00:18,  4.56s/it]"
     ]
    },
    {
     "name": "stdout",
     "output_type": "stream",
     "text": [
      "Faithful: 1\n",
      "Detail: 1\n",
      "Overall: 1\n",
      "Test Question: André Zucca was a French photographer who worked with a German propaganda magazine published by what Nazi organization?\n",
      "Predicted Answer: Signal\n"
     ]
    },
    {
     "name": "stderr",
     "output_type": "stream",
     "text": [
      "Average Metric: 79.19999999999996 / 47  (168.5):  94%|██████████████████████████████████████████████████████████████████████████████████████████████████████████████▉       | 47/50 [03:54<00:14,  4.73s/it]"
     ]
    },
    {
     "name": "stdout",
     "output_type": "stream",
     "text": [
      "Faithful: 4\n",
      "Detail: 1\n",
      "Overall: 4\n",
      "Test Question: Both Bill Ponsford and Bill Woodfull played what?\n",
      "Predicted Answer: Cricket\n"
     ]
    },
    {
     "name": "stderr",
     "output_type": "stream",
     "text": [
      "Average Metric: 80.79999999999995 / 48  (168.3):  96%|█████████████████████████████████████████████████████████████████████████████████████████████████████████████████▎    | 48/50 [03:56<00:08,  4.02s/it]"
     ]
    },
    {
     "name": "stdout",
     "output_type": "stream",
     "text": [
      "Faithful: 1\n",
      "Detail: 1\n",
      "Overall: 5\n",
      "Test Question:  Suzana S. Drobnjaković Ponti acted in a film loosely based on a book by who?\n",
      "Predicted Answer: The context does not provide information about the film Suzana S. Drobnjaković Ponti acted in or the book it was based on.\n"
     ]
    },
    {
     "name": "stderr",
     "output_type": "stream",
     "text": [
      "Average Metric: 82.79999999999995 / 49  (169.0):  98%|███████████████████████████████████████████████████████████████████████████████████████████████████████████████████▋  | 49/50 [04:03<00:04,  4.86s/it]"
     ]
    },
    {
     "name": "stdout",
     "output_type": "stream",
     "text": [
      "Faithful: 2\n",
      "Detail: 1\n",
      "Overall: 5\n",
      "Test Question: In what city was the Election Law Journal founded?\n",
      "Predicted Answer: The founding of the Election Law Journal is not mentioned in the provided context.\n"
     ]
    },
    {
     "name": "stderr",
     "output_type": "stream",
     "text": [
      "Average Metric: 84.59999999999995 / 50  (169.2): 100%|██████████████████████████████████████████████████████████████████████████████████████████████████████████████████████| 50/50 [04:05<00:00,  4.92s/it]\n",
      "[I 2024-07-03 23:35:47,332] Trial 0 finished with value: 169.2 and parameters: {'13076461008_predictor_instruction': 1, '13076461008_predictor_demos': 2}. Best is trial 0 with value: 169.2.\n"
     ]
    },
    {
     "name": "stdout",
     "output_type": "stream",
     "text": [
      "Faithful: 1\n",
      "Detail: 2\n",
      "Overall: 5\n",
      "Average Metric: 84.59999999999995 / 50  (169.2%)\n",
      "Starting trial #1\n"
     ]
    },
    {
     "name": "stderr",
     "output_type": "stream",
     "text": [
      "  0%|                                                                                                                                                                                | 0/50 [00:00<?, ?it/s]"
     ]
    },
    {
     "name": "stdout",
     "output_type": "stream",
     "text": [
      "Test Question: Are both Cangzhou and Qionghai in the Hebei province of China?\n",
      "Predicted Answer: No\n"
     ]
    },
    {
     "name": "stderr",
     "output_type": "stream",
     "text": [
      "Average Metric: 1.8 / 1  (180.0):   2%|██▋                                                                                                                                   | 1/50 [00:00<00:44,  1.10it/s]"
     ]
    },
    {
     "name": "stdout",
     "output_type": "stream",
     "text": [
      "Faithful: 1\n",
      "Detail: 2\n",
      "Overall: 5\n",
      "Test Question: Who conducts the draft in which Marc-Andre Fleury was drafted to the Vegas Golden Knights for the 2017-18 season?\n",
      "Predicted Answer: The NHL conducts the draft where Marc-Andre Fleury was selected by the Vegas Golden Knights for the 2017-18 season.\n"
     ]
    },
    {
     "name": "stderr",
     "output_type": "stream",
     "text": [
      "Average Metric: 3.4000000000000004 / 2  (170.0):   4%|████▊                                                                                                                  | 2/50 [00:01<00:48,  1.00s/it]"
     ]
    },
    {
     "name": "stdout",
     "output_type": "stream",
     "text": [
      "Faithful: 1\n",
      "Detail: 1\n",
      "Overall: 5\n",
      "Test Question: The Wings entered a new era, following the retirement of which Canadian retired professional ice hockey player and current general manager of the Tampa Bay Lightning of the National Hockey League (NHL)?\n",
      "Predicted Answer: Steve Yzerman\n"
     ]
    },
    {
     "name": "stderr",
     "output_type": "stream",
     "text": [
      "Average Metric: 4.2 / 3  (140.0):   6%|████████                                                                                                                              | 3/50 [00:02<00:45,  1.03it/s]"
     ]
    },
    {
     "name": "stdout",
     "output_type": "stream",
     "text": [
      "Faithful: 1\n",
      "Detail: 1\n",
      "Overall: 1\n",
      "Test Question: What river is near the Crichton Collegiate Church?\n",
      "Predicted Answer: The river near the Crichton Collegiate Church is the River Nith.\n"
     ]
    },
    {
     "name": "stderr",
     "output_type": "stream",
     "text": [
      "Average Metric: 6.0 / 4  (150.0):   8%|██████████▋                                                                                                                           | 4/50 [00:03<00:43,  1.06it/s]"
     ]
    },
    {
     "name": "stdout",
     "output_type": "stream",
     "text": [
      "Faithful: 1\n",
      "Detail: 2\n",
      "Overall: 5\n",
      "Test Question: In the 10th Century A.D. Ealhswith had a son called Æthelweard by which English king?\n",
      "Predicted Answer: Alfred the Great\n"
     ]
    },
    {
     "name": "stderr",
     "output_type": "stream",
     "text": [
      "Average Metric: 6.8 / 5  (136.0):  10%|█████████████▍                                                                                                                        | 5/50 [00:04<00:42,  1.06it/s]"
     ]
    },
    {
     "name": "stdout",
     "output_type": "stream",
     "text": [
      "Faithful: 1\n",
      "Detail: 1\n",
      "Overall: 1\n",
      "Test Question: The Newark Airport Exchange is at the northern edge of an airport that is operated by whom?\n",
      "Predicted Answer: The Royal Schiphol Group\n"
     ]
    },
    {
     "name": "stderr",
     "output_type": "stream",
     "text": [
      "Average Metric: 9.8 / 6  (163.3):  12%|████████████████                                                                                                                      | 6/50 [00:05<00:39,  1.11it/s]"
     ]
    },
    {
     "name": "stdout",
     "output_type": "stream",
     "text": [
      "Faithful: 5\n",
      "Detail: 1\n",
      "Overall: 4\n",
      "Test Question: Where did an event take place resulting in a win during a domestic double due to the action of a Peruvian footballer known for his goal scoring ability?\n",
      "Predicted Answer: The context does not provide specific information about an event where a Peruvian footballer known for his goal-scoring ability achieved a win during a domestic double.\n"
     ]
    },
    {
     "name": "stderr",
     "output_type": "stream",
     "text": [
      "Average Metric: 10.600000000000001 / 7  (151.4):  14%|████████████████▋                                                                                                      | 7/50 [00:06<00:37,  1.15it/s]"
     ]
    },
    {
     "name": "stdout",
     "output_type": "stream",
     "text": [
      "Faithful: 1\n",
      "Detail: 1\n",
      "Overall: 1\n",
      "Test Question: Are both Chico Municipal Airport and William R. Fairchild International Airport in California?\n",
      "Predicted Answer: no\n"
     ]
    },
    {
     "name": "stderr",
     "output_type": "stream",
     "text": [
      "Average Metric: 13.000000000000002 / 8  (162.5):  16%|███████████████████                                                                                                    | 8/50 [00:07<00:36,  1.16it/s]"
     ]
    },
    {
     "name": "stdout",
     "output_type": "stream",
     "text": [
      "Faithful: 5\n",
      "Detail: 1\n",
      "Overall: 1\n",
      "Test Question: In which Maine county is Fort Pownall located?\n",
      "Predicted Answer: The context does not provide information about the location of Fort Pownall.\n"
     ]
    },
    {
     "name": "stderr",
     "output_type": "stream",
     "text": [
      "Average Metric: 14.400000000000002 / 9  (160.0):  18%|█████████████████████▍                                                                                                 | 9/50 [00:08<00:40,  1.01it/s]"
     ]
    },
    {
     "name": "stdout",
     "output_type": "stream",
     "text": [
      "Faithful: 2\n",
      "Detail: 2\n",
      "Overall: 1\n",
      "Test Question: Which 90s rock band has more recently reformed, Gene or The Afghan Whigs?\n",
      "Predicted Answer: The Afghan Whigs\n"
     ]
    },
    {
     "name": "stderr",
     "output_type": "stream",
     "text": [
      "Average Metric: 16.000000000000004 / 10  (160.0):  20%|███████████████████████▍                                                                                             | 10/50 [00:09<00:38,  1.03it/s]"
     ]
    },
    {
     "name": "stdout",
     "output_type": "stream",
     "text": [
      "Faithful: 1\n",
      "Detail: 1\n",
      "Overall: 5\n",
      "Test Question: What year did the mountain known in Italian as \"Monte Vesuvio\", erupt?\n",
      "Predicted Answer: The eruption of Mount Vesuvius occurred in 79 AD.\n"
     ]
    },
    {
     "name": "stderr",
     "output_type": "stream",
     "text": [
      "Average Metric: 17.600000000000005 / 11  (160.0):  22%|█████████████████████████▋                                                                                           | 11/50 [00:10<00:36,  1.06it/s]"
     ]
    },
    {
     "name": "stdout",
     "output_type": "stream",
     "text": [
      "Faithful: 1\n",
      "Detail: 1\n",
      "Overall: 5\n",
      "Test Question: Is the 72nd field brigade part of the oldest or newest established field army?\n",
      "Predicted Answer: The context does not provide information about the 72nd field brigade or the establishment of field armies.\n"
     ]
    },
    {
     "name": "stderr",
     "output_type": "stream",
     "text": [
      "Average Metric: 19.000000000000004 / 12  (158.3):  24%|████████████████████████████                                                                                         | 12/50 [00:11<00:34,  1.10it/s]"
     ]
    },
    {
     "name": "stdout",
     "output_type": "stream",
     "text": [
      "Faithful: 2\n",
      "Detail: 2\n",
      "Overall: 1\n",
      "Test Question: Was Stanislaw Kiszka paid for his services by the Royal Treasury?\n",
      "Predicted Answer: No\n"
     ]
    },
    {
     "name": "stderr",
     "output_type": "stream",
     "text": [
      "Average Metric: 20.800000000000004 / 13  (160.0):  26%|██████████████████████████████▍                                                                                      | 13/50 [00:12<00:34,  1.06it/s]"
     ]
    },
    {
     "name": "stdout",
     "output_type": "stream",
     "text": [
      "Faithful: 1\n",
      "Detail: 2\n",
      "Overall: 5\n",
      "Test Question: Which film director is younger, Del Lord or Wang Xiaoshuai?\n",
      "Predicted Answer: The ages of Del Lord and Wang Xiaoshuai are not mentioned in the provided context.\n"
     ]
    },
    {
     "name": "stderr",
     "output_type": "stream",
     "text": [
      "Average Metric: 22.600000000000005 / 14  (161.4):  28%|████████████████████████████████▊                                                                                    | 14/50 [00:13<00:33,  1.07it/s]"
     ]
    },
    {
     "name": "stdout",
     "output_type": "stream",
     "text": [
      "Faithful: 1\n",
      "Detail: 2\n",
      "Overall: 5\n",
      "Test Question: Lord North Street has a resident in which former Conservative MP who received an 18-month prison sentence for perjury in 1999?\n",
      "Predicted Answer: The former Conservative MP who received an 18-month prison sentence for perjury in 1999 and resided on Lord North Street is Jonathan Aitken.\n"
     ]
    },
    {
     "name": "stderr",
     "output_type": "stream",
     "text": [
      "Average Metric: 24.400000000000006 / 15  (162.7):  30%|███████████████████████████████████                                                                                  | 15/50 [00:14<00:33,  1.05it/s]"
     ]
    },
    {
     "name": "stdout",
     "output_type": "stream",
     "text": [
      "Faithful: 1\n",
      "Detail: 2\n",
      "Overall: 5\n",
      "Test Question: What is the name of this region of Italy, referring to the medieval March of Ancona and nearby marches of Camerino and Fermo, where the comune Pollenza is located?\n",
      "Predicted Answer: Marche\n"
     ]
    },
    {
     "name": "stderr",
     "output_type": "stream",
     "text": [
      "Average Metric: 26.000000000000007 / 16  (162.5):  32%|█████████████████████████████████████▍                                                                               | 16/50 [00:14<00:30,  1.10it/s]"
     ]
    },
    {
     "name": "stdout",
     "output_type": "stream",
     "text": [
      "Faithful: 1\n",
      "Detail: 1\n",
      "Overall: 5\n",
      "Test Question: William Hughes Miller was born in a city with how many inhabitants ?\n",
      "Predicted Answer: The context does not provide information about William Hughes Miller's birth city or its population.\n"
     ]
    },
    {
     "name": "stderr",
     "output_type": "stream",
     "text": [
      "Average Metric: 28.400000000000006 / 17  (167.1):  34%|███████████████████████████████████████▊                                                                             | 17/50 [00:15<00:30,  1.09it/s]"
     ]
    },
    {
     "name": "stdout",
     "output_type": "stream",
     "text": [
      "Faithful: 2\n",
      "Detail: 3\n",
      "Overall: 5\n",
      "Test Question: What do students do at the school of New York University where Meleko Mokgosi is an artist and assistant professor?\n",
      "Predicted Answer: Students at New York University where Meleko Mokgosi is an artist and assistant professor likely engage in art-related activities, classes, and projects under his guidance.\n"
     ]
    },
    {
     "name": "stderr",
     "output_type": "stream",
     "text": [
      "Average Metric: 31.000000000000007 / 18  (172.2):  36%|██████████████████████████████████████████                                                                           | 18/50 [00:16<00:28,  1.11it/s]"
     ]
    },
    {
     "name": "stdout",
     "output_type": "stream",
     "text": [
      "Faithful: 3\n",
      "Detail: 2\n",
      "Overall: 5\n",
      "Test Question: What is the nationality of the chef and restaurateur featured in Restaurant: Impossible?\n",
      "Predicted Answer: The nationality of the chef and restaurateur featured in Restaurant: Impossible is not mentioned in the provided context.\n"
     ]
    },
    {
     "name": "stderr",
     "output_type": "stream",
     "text": [
      "Average Metric: 32.800000000000004 / 19  (172.6):  38%|████████████████████████████████████████████▍                                                                        | 19/50 [00:17<00:27,  1.11it/s]"
     ]
    },
    {
     "name": "stdout",
     "output_type": "stream",
     "text": [
      "Faithful: 1\n",
      "Detail: 2\n",
      "Overall: 5\n",
      "Test Question: What American actor plays an East side drug lord who prefers peaceful solutions to business disputes when possible?\n",
      "Predicted Answer: Samuel L. Jackson\n"
     ]
    },
    {
     "name": "stderr",
     "output_type": "stream",
     "text": [
      "Average Metric: 33.6 / 20  (168.0):  40%|████████████████████████████████████████████████████▍                                                                              | 20/50 [00:18<00:26,  1.13it/s]"
     ]
    },
    {
     "name": "stdout",
     "output_type": "stream",
     "text": [
      "Faithful: 1\n",
      "Detail: 1\n",
      "Overall: 1\n",
      "Test Question: What city is 11 miles north of the birthplace of actor Toby Sawyer?\n",
      "Predicted Answer: The context does not provide information about the birthplace of actor Toby Sawyer or the city that is 11 miles north of it.\n"
     ]
    },
    {
     "name": "stderr",
     "output_type": "stream",
     "text": [
      "Average Metric: 35.4 / 21  (168.6):  42%|███████████████████████████████████████████████████████                                                                            | 21/50 [00:19<00:28,  1.02it/s]"
     ]
    },
    {
     "name": "stdout",
     "output_type": "stream",
     "text": [
      "Faithful: 1\n",
      "Detail: 2\n",
      "Overall: 5\n",
      "Test Question: Who was born first, Tony Kaye or Deepa Mehta?\n",
      "Predicted Answer: The birth dates of Tony Kaye and Deepa Mehta are not mentioned in the provided context.\n"
     ]
    },
    {
     "name": "stderr",
     "output_type": "stream",
     "text": [
      "Average Metric: 37.199999999999996 / 22  (169.1):  44%|███████████████████████████████████████████████████▍                                                                 | 22/50 [00:20<00:27,  1.03it/s]"
     ]
    },
    {
     "name": "stdout",
     "output_type": "stream",
     "text": [
      "Faithful: 1\n",
      "Detail: 2\n",
      "Overall: 5\n",
      "Test Question: What is the English translation of the name of the store that Macy's replaced in Boise Town Square?\n",
      "Predicted Answer: The English translation of the name of the store that Macy's replaced in Boise Town Square is not provided in the context.\n"
     ]
    },
    {
     "name": "stderr",
     "output_type": "stream",
     "text": [
      "Average Metric: 38.99999999999999 / 23  (169.6):  46%|██████████████████████████████████████████████████████▎                                                               | 23/50 [00:21<00:26,  1.04it/s]"
     ]
    },
    {
     "name": "stdout",
     "output_type": "stream",
     "text": [
      "Faithful: 1\n",
      "Detail: 2\n",
      "Overall: 5\n",
      "Test Question: Who did Lizzette Reynolds fire to make her notable in November 2007?\n",
      "Predicted Answer: The context does not provide information about Lizzette Reynolds firing someone in November 2007.\n"
     ]
    },
    {
     "name": "stderr",
     "output_type": "stream",
     "text": [
      "Average Metric: 40.79999999999999 / 24  (170.0):  48%|████████████████████████████████████████████████████████▋                                                             | 24/50 [00:22<00:23,  1.09it/s]"
     ]
    },
    {
     "name": "stdout",
     "output_type": "stream",
     "text": [
      "Faithful: 1\n",
      "Detail: 2\n",
      "Overall: 5\n",
      "Test Question: What was the name of the man, who was billed by the coiner of the phrase \"There's a sucker born every minute\" as \"Boy Lightning Calculator\"?\n",
      "Predicted Answer: P.T. Barnum\n"
     ]
    },
    {
     "name": "stderr",
     "output_type": "stream",
     "text": [
      "Average Metric: 42.39999999999999 / 25  (169.6):  50%|███████████████████████████████████████████████████████████                                                           | 25/50 [00:23<00:23,  1.06it/s]"
     ]
    },
    {
     "name": "stdout",
     "output_type": "stream",
     "text": [
      "Faithful: 1\n",
      "Detail: 1\n",
      "Overall: 5\n",
      "Test Question: Which battle was fought for a shorter period of time, the Battle of the Ch'ongch'on River, or the Meuse-Argonne Offensive?\n",
      "Predicted Answer: The Battle of the Ch'ongch'on River was fought for a shorter period of time than the Meuse-Argonne Offensive.\n"
     ]
    },
    {
     "name": "stderr",
     "output_type": "stream",
     "text": [
      "Average Metric: 44.19999999999999 / 26  (170.0):  52%|█████████████████████████████████████████████████████████████▎                                                        | 26/50 [00:24<00:22,  1.08it/s]"
     ]
    },
    {
     "name": "stdout",
     "output_type": "stream",
     "text": [
      "Faithful: 1\n",
      "Detail: 2\n",
      "Overall: 5\n",
      "Test Question: What cricketeer active 1974–1993 had a strong performance in the tour by the Australian cricket team in England in 1981?\n",
      "Predicted Answer: Dennis Lillee\n"
     ]
    },
    {
     "name": "stderr",
     "output_type": "stream",
     "text": [
      "Average Metric: 44.999999999999986 / 27  (166.7):  54%|███████████████████████████████████████████████████████████████▏                                                     | 27/50 [00:25<00:21,  1.08it/s]"
     ]
    },
    {
     "name": "stdout",
     "output_type": "stream",
     "text": [
      "Faithful: 1\n",
      "Detail: 1\n",
      "Overall: 1\n",
      "Test Question: What is the present post of the head coach of the 1982 NC State Wolfpack football team ?\n",
      "Predicted Answer: The present post of the head coach of the 1982 NC State Wolfpack football team is not mentioned in the provided context.\n"
     ]
    },
    {
     "name": "stderr",
     "output_type": "stream",
     "text": [
      "Average Metric: 46.59999999999999 / 28  (166.4):  56%|██████████████████████████████████████████████████████████████████                                                    | 28/50 [00:26<00:20,  1.08it/s]"
     ]
    },
    {
     "name": "stdout",
     "output_type": "stream",
     "text": [
      "Faithful: 1\n",
      "Detail: 1\n",
      "Overall: 5\n",
      "Test Question: Which Scottish actor sang \"Come What May\"?\n",
      "Predicted Answer: Ewan McGregor sang \"Come What May\" in the movie \"Moulin Rouge!\"\n"
     ]
    },
    {
     "name": "stderr",
     "output_type": "stream",
     "text": [
      "Average Metric: 48.399999999999984 / 29  (166.9):  58%|███████████████████████████████████████████████████████████████████▊                                                 | 29/50 [00:26<00:19,  1.09it/s]"
     ]
    },
    {
     "name": "stdout",
     "output_type": "stream",
     "text": [
      "Faithful: 1\n",
      "Detail: 2\n",
      "Overall: 5\n",
      "Test Question: Where have Ivan Bella and Frank De Winne both traveled?\n",
      "Predicted Answer: Ivan Bella and Frank De Winne have both traveled to space as astronauts.\n"
     ]
    },
    {
     "name": "stderr",
     "output_type": "stream",
     "text": [
      "Average Metric: 49.19999999999998 / 30  (164.0):  60%|██████████████████████████████████████████████████████████████████████▊                                               | 30/50 [00:28<00:19,  1.00it/s]"
     ]
    },
    {
     "name": "stdout",
     "output_type": "stream",
     "text": [
      "Faithful: 1\n",
      "Detail: 1\n",
      "Overall: 1\n",
      "Test Question: The original work by Anton Chekhov involving a disillusioned schoolmaster, which inspired a later play by this British playwright, was written specifically for whom?\n",
      "Predicted Answer: Konstantin Stanislavski\n"
     ]
    },
    {
     "name": "stderr",
     "output_type": "stream",
     "text": [
      "Average Metric: 50.19999999999998 / 31  (161.9):  62%|█████████████████████████████████████████████████████████████████████████▏                                            | 31/50 [00:29<00:18,  1.03it/s]"
     ]
    },
    {
     "name": "stdout",
     "output_type": "stream",
     "text": [
      "Faithful: 1\n",
      "Detail: 2\n",
      "Overall: 1\n",
      "Test Question: Are Roswell International Air Center and Pago Pago International Airport both located in the mainland US?\n",
      "Predicted Answer: No\n"
     ]
    },
    {
     "name": "stderr",
     "output_type": "stream",
     "text": [
      "Average Metric: 53.19999999999998 / 32  (166.2):  64%|███████████████████████████████████████████████████████████████████████████▌                                          | 32/50 [00:29<00:16,  1.08it/s]"
     ]
    },
    {
     "name": "stdout",
     "output_type": "stream",
     "text": [
      "Faithful: 4\n",
      "Detail: 2\n",
      "Overall: 5\n",
      "Test Question: Untold: The Greatest Sports Stories Never Told was hosted by a sportscaster commonly referred to as what ?\n",
      "Predicted Answer: Untold: The Greatest Sports Stories Never Told was hosted by sportscaster Joe Buck.\n"
     ]
    },
    {
     "name": "stderr",
     "output_type": "stream",
     "text": [
      "Average Metric: 54.19999999999998 / 33  (164.2):  66%|█████████████████████████████████████████████████████████████████████████████▉                                        | 33/50 [00:31<00:20,  1.18s/it]"
     ]
    },
    {
     "name": "stdout",
     "output_type": "stream",
     "text": [
      "Faithful: 1\n",
      "Detail: 2\n",
      "Overall: 1\n",
      "Test Question: Are Walt Disney and Sacro GRA both documentry films?\n",
      "Predicted Answer: No\n"
     ]
    },
    {
     "name": "stderr",
     "output_type": "stream",
     "text": [
      "Average Metric: 55.99999999999998 / 34  (164.7):  68%|████████████████████████████████████████████████████████████████████████████████▏                                     | 34/50 [00:32<00:17,  1.10s/it]"
     ]
    },
    {
     "name": "stdout",
     "output_type": "stream",
     "text": [
      "Faithful: 1\n",
      "Detail: 2\n",
      "Overall: 5\n",
      "Test Question: What is the Palestinian Islamic organization that governs th small territory on the eastern coast of the Mediterranean Sea that was captured by Israel during the 1967 Six-Day War?\n",
      "Predicted Answer: Hamas\n"
     ]
    },
    {
     "name": "stderr",
     "output_type": "stream",
     "text": [
      "Average Metric: 57.59999999999998 / 35  (164.6):  70%|██████████████████████████████████████████████████████████████████████████████████▌                                   | 35/50 [00:33<00:15,  1.03s/it]"
     ]
    },
    {
     "name": "stdout",
     "output_type": "stream",
     "text": [
      "Faithful: 1\n",
      "Detail: 1\n",
      "Overall: 5\n",
      "Test Question: What album did the song of which Taylor Swift premiered the music video of during the pre-show of the 2015 MTV Video Music Awards come from?\n",
      "Predicted Answer: \"Wildest Dreams\" from the album \"1989\"\n"
     ]
    },
    {
     "name": "stderr",
     "output_type": "stream",
     "text": [
      "Average Metric: 59.19999999999998 / 36  (164.4):  72%|████████████████████████████████████████████████████████████████████████████████████▉                                 | 36/50 [00:34<00:14,  1.00s/it]"
     ]
    },
    {
     "name": "stdout",
     "output_type": "stream",
     "text": [
      "Faithful: 1\n",
      "Detail: 1\n",
      "Overall: 5\n",
      "Test Question: Which is considered a genus level classification, Apera or Gunnera manicata?\n",
      "Predicted Answer: Gunnera manicata\n"
     ]
    },
    {
     "name": "stderr",
     "output_type": "stream",
     "text": [
      "Average Metric: 61.19999999999998 / 37  (165.4):  74%|███████████████████████████████████████████████████████████████████████████████████████▎                              | 37/50 [00:37<00:20,  1.60s/it]"
     ]
    },
    {
     "name": "stdout",
     "output_type": "stream",
     "text": [
      "Faithful: 1\n",
      "Detail: 3\n",
      "Overall: 5\n",
      "Test Question: Do The Drums and Pussy Galore play music of similar genres?\n",
      "Predicted Answer: The Drums and Pussy Galore do not play music of similar genres.\n"
     ]
    },
    {
     "name": "stderr",
     "output_type": "stream",
     "text": [
      "Average Metric: 63.399999999999984 / 38  (166.8):  76%|████████████████████████████████████████████████████████████████████████████████████████▉                            | 38/50 [00:38<00:16,  1.39s/it]"
     ]
    },
    {
     "name": "stdout",
     "output_type": "stream",
     "text": [
      "Faithful: 2\n",
      "Detail: 2\n",
      "Overall: 5\n",
      "Test Question: What is the post-nominal abbreviation for the university where the Banded Mongoose Research Project is based?\n",
      "Predicted Answer: UCT\n"
     ]
    },
    {
     "name": "stderr",
     "output_type": "stream",
     "text": [
      "Average Metric: 66.59999999999998 / 39  (170.8):  78%|████████████████████████████████████████████████████████████████████████████████████████████                          | 39/50 [00:39<00:13,  1.26s/it]"
     ]
    },
    {
     "name": "stdout",
     "output_type": "stream",
     "text": [
      "Faithful: 5\n",
      "Detail: 1\n",
      "Overall: 5\n",
      "Test Question: Are both Benjamin Christensen and Len Wiseman directors?\n",
      "Predicted Answer: yes\n"
     ]
    },
    {
     "name": "stderr",
     "output_type": "stream",
     "text": [
      "Average Metric: 69.79999999999998 / 40  (174.5):  80%|██████████████████████████████████████████████████████████████████████████████████████████████▍                       | 40/50 [00:40<00:11,  1.16s/it]"
     ]
    },
    {
     "name": "stdout",
     "output_type": "stream",
     "text": [
      "Faithful: 5\n",
      "Detail: 4\n",
      "Overall: 2\n",
      "Test Question: Steven Cuitlahuac Melendez and Disney are connected by what American animator?\n",
      "Predicted Answer: Steven Cuitlahuac Melendez and Disney are connected by American animator Walt Disney.\n"
     ]
    },
    {
     "name": "stderr",
     "output_type": "stream",
     "text": [
      "Average Metric: 71.39999999999998 / 41  (174.1):  82%|████████████████████████████████████████████████████████████████████████████████████████████████▊                     | 41/50 [00:41<00:09,  1.10s/it]"
     ]
    },
    {
     "name": "stdout",
     "output_type": "stream",
     "text": [
      "Faithful: 1\n",
      "Detail: 1\n",
      "Overall: 5\n",
      "Test Question: Shark Creek is located on this river which is in the northern rivers district?\n",
      "Predicted Answer: Clarence River\n"
     ]
    },
    {
     "name": "stderr",
     "output_type": "stream",
     "text": [
      "Average Metric: 72.19999999999997 / 42  (171.9):  84%|███████████████████████████████████████████████████████████████████████████████████████████████████                   | 42/50 [00:41<00:08,  1.03s/it]"
     ]
    },
    {
     "name": "stdout",
     "output_type": "stream",
     "text": [
      "Faithful: 1\n",
      "Detail: 1\n",
      "Overall: 1\n",
      "Test Question: Who was the producer of the 2016 animated film about an amnesiac fish?\n",
      "Predicted Answer: The producer of the 2016 animated film about an amnesiac fish was Pixar Animation Studios.\n"
     ]
    },
    {
     "name": "stderr",
     "output_type": "stream",
     "text": [
      "Average Metric: 73.19999999999997 / 43  (170.2):  86%|█████████████████████████████████████████████████████████████████████████████████████████████████████▍                | 43/50 [00:42<00:06,  1.04it/s]"
     ]
    },
    {
     "name": "stdout",
     "output_type": "stream",
     "text": [
      "Faithful: 1\n",
      "Detail: 2\n",
      "Overall: 1\n",
      "Test Question: Who purchased the team Michael Schumacher raced for in the 1995 Monaco Grand Prix in 2000?\n",
      "Predicted Answer: Renault\n"
     ]
    },
    {
     "name": "stderr",
     "output_type": "stream",
     "text": [
      "Average Metric: 73.99999999999997 / 44  (168.2):  88%|███████████████████████████████████████████████████████████████████████████████████████████████████████▊              | 44/50 [00:43<00:05,  1.06it/s]"
     ]
    },
    {
     "name": "stdout",
     "output_type": "stream",
     "text": [
      "Faithful: 1\n",
      "Detail: 1\n",
      "Overall: 1\n",
      "Test Question: Fredrick Law Olmsted was an American landscape architect, journalist, social critic and public administrator that designed what neighborhood in Trenton, New Jersey?\n",
      "Predicted Answer: The context does not provide information about Fredrick Law Olmsted's work in Trenton, New Jersey.\n"
     ]
    },
    {
     "name": "stderr",
     "output_type": "stream",
     "text": [
      "Average Metric: 75.79999999999997 / 45  (168.4):  90%|██████████████████████████████████████████████████████████████████████████████████████████████████████████▏           | 45/50 [00:44<00:04,  1.08it/s]"
     ]
    },
    {
     "name": "stdout",
     "output_type": "stream",
     "text": [
      "Faithful: 1\n",
      "Detail: 2\n",
      "Overall: 5\n",
      "Test Question: Gordon Warnecke worked alongside the former senator for which political party on Young Toscanini?\n",
      "Predicted Answer: Democratic Party\n"
     ]
    },
    {
     "name": "stderr",
     "output_type": "stream",
     "text": [
      "Average Metric: 76.59999999999997 / 46  (166.5):  92%|████████████████████████████████████████████████████████████████████████████████████████████████████████████▌         | 46/50 [00:45<00:03,  1.10it/s]"
     ]
    },
    {
     "name": "stdout",
     "output_type": "stream",
     "text": [
      "Faithful: 1\n",
      "Detail: 1\n",
      "Overall: 1\n",
      "Test Question: André Zucca was a French photographer who worked with a German propaganda magazine published by what Nazi organization?\n",
      "Predicted Answer: Signal\n"
     ]
    },
    {
     "name": "stderr",
     "output_type": "stream",
     "text": [
      "Average Metric: 79.19999999999996 / 47  (168.5):  94%|██████████████████████████████████████████████████████████████████████████████████████████████████████████████▉       | 47/50 [00:46<00:02,  1.10it/s]"
     ]
    },
    {
     "name": "stdout",
     "output_type": "stream",
     "text": [
      "Faithful: 4\n",
      "Detail: 1\n",
      "Overall: 4\n",
      "Test Question: Both Bill Ponsford and Bill Woodfull played what?\n",
      "Predicted Answer: Cricket\n"
     ]
    },
    {
     "name": "stderr",
     "output_type": "stream",
     "text": [
      "Average Metric: 80.79999999999995 / 48  (168.3):  96%|█████████████████████████████████████████████████████████████████████████████████████████████████████████████████▎    | 48/50 [00:47<00:01,  1.13it/s]"
     ]
    },
    {
     "name": "stdout",
     "output_type": "stream",
     "text": [
      "Faithful: 1\n",
      "Detail: 1\n",
      "Overall: 5\n",
      "Test Question:  Suzana S. Drobnjaković Ponti acted in a film loosely based on a book by who?\n",
      "Predicted Answer: The context does not provide information about the film Suzana S. Drobnjaković Ponti acted in or the book it was based on.\n"
     ]
    },
    {
     "name": "stderr",
     "output_type": "stream",
     "text": [
      "Average Metric: 82.79999999999995 / 49  (169.0):  98%|███████████████████████████████████████████████████████████████████████████████████████████████████████████████████▋  | 49/50 [00:48<00:00,  1.12it/s]"
     ]
    },
    {
     "name": "stdout",
     "output_type": "stream",
     "text": [
      "Faithful: 2\n",
      "Detail: 1\n",
      "Overall: 5\n",
      "Test Question: In what city was the Election Law Journal founded?\n",
      "Predicted Answer: The founding of the Election Law Journal is not mentioned in the provided context.\n"
     ]
    },
    {
     "name": "stderr",
     "output_type": "stream",
     "text": [
      "Average Metric: 84.59999999999995 / 50  (169.2): 100%|██████████████████████████████████████████████████████████████████████████████████████████████████████████████████████| 50/50 [00:48<00:00,  1.02it/s]\n",
      "[I 2024-07-03 23:36:36,311] Trial 1 finished with value: 169.2 and parameters: {'13076461008_predictor_instruction': 1, '13076461008_predictor_demos': 2}. Best is trial 0 with value: 169.2.\n"
     ]
    },
    {
     "name": "stdout",
     "output_type": "stream",
     "text": [
      "Faithful: 1\n",
      "Detail: 2\n",
      "Overall: 5\n",
      "Average Metric: 84.59999999999995 / 50  (169.2%)\n",
      "Starting trial #2\n"
     ]
    },
    {
     "name": "stderr",
     "output_type": "stream",
     "text": [
      "  0%|                                                                                                                                                                                | 0/50 [00:00<?, ?it/s]"
     ]
    },
    {
     "name": "stdout",
     "output_type": "stream",
     "text": [
      "Test Question: Are both Cangzhou and Qionghai in the Hebei province of China?\n",
      "Predicted Answer: No\n"
     ]
    },
    {
     "name": "stderr",
     "output_type": "stream",
     "text": [
      "Average Metric: 1.8 / 1  (180.0):   2%|██▋                                                                                                                                   | 1/50 [00:00<00:41,  1.17it/s]"
     ]
    },
    {
     "name": "stdout",
     "output_type": "stream",
     "text": [
      "Faithful: 1\n",
      "Detail: 2\n",
      "Overall: 5\n",
      "Test Question: Who conducts the draft in which Marc-Andre Fleury was drafted to the Vegas Golden Knights for the 2017-18 season?\n",
      "Predicted Answer: The National Hockey League (NHL) conducted the draft in which Marc-Andre Fleury was drafted to the Vegas Golden Knights for the 2017-18 season.\n"
     ]
    },
    {
     "name": "stderr",
     "output_type": "stream",
     "text": [
      "Average Metric: 3.4000000000000004 / 2  (170.0):   4%|████▊                                                                                                                  | 2/50 [00:01<00:44,  1.08it/s]"
     ]
    },
    {
     "name": "stdout",
     "output_type": "stream",
     "text": [
      "Faithful: 1\n",
      "Detail: 1\n",
      "Overall: 5\n",
      "Test Question: The Wings entered a new era, following the retirement of which Canadian retired professional ice hockey player and current general manager of the Tampa Bay Lightning of the National Hockey League (NHL)?\n",
      "Predicted Answer: Steve Yzerman\n"
     ]
    },
    {
     "name": "stderr",
     "output_type": "stream",
     "text": [
      "Average Metric: 4.2 / 3  (140.0):   6%|████████                                                                                                                              | 3/50 [00:02<00:40,  1.15it/s]"
     ]
    },
    {
     "name": "stdout",
     "output_type": "stream",
     "text": [
      "Faithful: 1\n",
      "Detail: 1\n",
      "Overall: 1\n",
      "Test Question: What river is near the Crichton Collegiate Church?\n",
      "Predicted Answer: The information provided does not specify the river near the Crichton Collegiate Church.\n"
     ]
    },
    {
     "name": "stderr",
     "output_type": "stream",
     "text": [
      "Average Metric: 6.4 / 4  (160.0):   8%|██████████▋                                                                                                                           | 4/50 [00:03<00:40,  1.12it/s]"
     ]
    },
    {
     "name": "stdout",
     "output_type": "stream",
     "text": [
      "Faithful: 2\n",
      "Detail: 2\n",
      "Overall: 5\n",
      "Test Question: In the 10th Century A.D. Ealhswith had a son called Æthelweard by which English king?\n",
      "Predicted Answer: King Alfred the Great\n"
     ]
    },
    {
     "name": "stderr",
     "output_type": "stream",
     "text": [
      "Average Metric: 7.2 / 5  (144.0):  10%|█████████████▍                                                                                                                        | 5/50 [00:04<00:40,  1.11it/s]"
     ]
    },
    {
     "name": "stdout",
     "output_type": "stream",
     "text": [
      "Faithful: 1\n",
      "Detail: 1\n",
      "Overall: 1\n",
      "Test Question: The Newark Airport Exchange is at the northern edge of an airport that is operated by whom?\n",
      "Predicted Answer: The Newark Airport Exchange is at the northern edge of an airport that is operated by the Port Authority of New York and New Jersey.\n"
     ]
    },
    {
     "name": "stderr",
     "output_type": "stream",
     "text": [
      "Average Metric: 9.0 / 6  (150.0):  12%|████████████████                                                                                                                      | 6/50 [00:05<00:39,  1.12it/s]"
     ]
    },
    {
     "name": "stdout",
     "output_type": "stream",
     "text": [
      "Faithful: 1\n",
      "Detail: 2\n",
      "Overall: 5\n",
      "Test Question: Where did an event take place resulting in a win during a domestic double due to the action of a Peruvian footballer known for his goal scoring ability?\n",
      "Predicted Answer: The event took place in Amsterdam, with Ajax winning a domestic double possibly due to the action of a Peruvian footballer known for his goal scoring ability.\n"
     ]
    },
    {
     "name": "stderr",
     "output_type": "stream",
     "text": [
      "Average Metric: 10.4 / 7  (148.6):  14%|██████████████████▌                                                                                                                  | 7/50 [00:06<00:38,  1.13it/s]"
     ]
    },
    {
     "name": "stdout",
     "output_type": "stream",
     "text": [
      "Faithful: 1\n",
      "Detail: 2\n",
      "Overall: 3\n",
      "Test Question: Are both Chico Municipal Airport and William R. Fairchild International Airport in California?\n",
      "Predicted Answer: No, Chico Municipal Airport is in California, but William R. Fairchild International Airport is in Washington state.\n"
     ]
    },
    {
     "name": "stderr",
     "output_type": "stream",
     "text": [
      "Average Metric: 12.200000000000001 / 8  (152.5):  16%|███████████████████                                                                                                    | 8/50 [00:07<00:37,  1.12it/s]"
     ]
    },
    {
     "name": "stdout",
     "output_type": "stream",
     "text": [
      "Faithful: 1\n",
      "Detail: 2\n",
      "Overall: 5\n",
      "Test Question: In which Maine county is Fort Pownall located?\n",
      "Predicted Answer: Fort Pownall is located in Waldo County, Maine.\n"
     ]
    },
    {
     "name": "stderr",
     "output_type": "stream",
     "text": [
      "Average Metric: 14.600000000000001 / 9  (162.2):  18%|█████████████████████▍                                                                                                 | 9/50 [00:08<00:38,  1.08it/s]"
     ]
    },
    {
     "name": "stdout",
     "output_type": "stream",
     "text": [
      "Faithful: 3\n",
      "Detail: 1\n",
      "Overall: 5\n",
      "Test Question: Which 90s rock band has more recently reformed, Gene or The Afghan Whigs?\n",
      "Predicted Answer: The Afghan Whigs\n"
     ]
    },
    {
     "name": "stderr",
     "output_type": "stream",
     "text": [
      "Average Metric: 16.200000000000003 / 10  (162.0):  20%|███████████████████████▍                                                                                             | 10/50 [00:08<00:36,  1.10it/s]"
     ]
    },
    {
     "name": "stdout",
     "output_type": "stream",
     "text": [
      "Faithful: 1\n",
      "Detail: 1\n",
      "Overall: 5\n",
      "Test Question: What year did the mountain known in Italian as \"Monte Vesuvio\", erupt?\n",
      "Predicted Answer: The eruption of Mount Vesuvius, known in Italian as \"Monte Vesuvio\", famously occurred in the year 79 AD.\n"
     ]
    },
    {
     "name": "stderr",
     "output_type": "stream",
     "text": [
      "Average Metric: 17.800000000000004 / 11  (161.8):  22%|█████████████████████████▋                                                                                           | 11/50 [00:09<00:36,  1.07it/s]"
     ]
    },
    {
     "name": "stdout",
     "output_type": "stream",
     "text": [
      "Faithful: 1\n",
      "Detail: 1\n",
      "Overall: 5\n",
      "Test Question: Is the 72nd field brigade part of the oldest or newest established field army?\n",
      "Predicted Answer: The 72nd field brigade is likely part of the newest established field army.\n"
     ]
    },
    {
     "name": "stderr",
     "output_type": "stream",
     "text": [
      "Average Metric: 19.400000000000006 / 12  (161.7):  24%|████████████████████████████                                                                                         | 12/50 [00:10<00:36,  1.05it/s]"
     ]
    },
    {
     "name": "stdout",
     "output_type": "stream",
     "text": [
      "Faithful: 1\n",
      "Detail: 1\n",
      "Overall: 5\n",
      "Test Question: Was Stanislaw Kiszka paid for his services by the Royal Treasury?\n",
      "Predicted Answer: Based on the information provided, it is not explicitly stated whether Stanislaw Kiszka was paid for his services by the Royal Treasury.\n"
     ]
    },
    {
     "name": "stderr",
     "output_type": "stream",
     "text": [
      "Average Metric: 21.600000000000005 / 13  (166.2):  26%|██████████████████████████████▍                                                                                      | 13/50 [00:11<00:34,  1.07it/s]"
     ]
    },
    {
     "name": "stdout",
     "output_type": "stream",
     "text": [
      "Faithful: 2\n",
      "Detail: 2\n",
      "Overall: 5\n",
      "Test Question: Which film director is younger, Del Lord or Wang Xiaoshuai?\n",
      "Predicted Answer: Wang Xiaoshuai is younger than Del Lord.\n"
     ]
    },
    {
     "name": "stderr",
     "output_type": "stream",
     "text": [
      "Average Metric: 23.200000000000006 / 14  (165.7):  28%|████████████████████████████████▊                                                                                    | 14/50 [00:12<00:33,  1.08it/s]"
     ]
    },
    {
     "name": "stdout",
     "output_type": "stream",
     "text": [
      "Faithful: 1\n",
      "Detail: 1\n",
      "Overall: 5\n",
      "Test Question: Lord North Street has a resident in which former Conservative MP who received an 18-month prison sentence for perjury in 1999?\n",
      "Predicted Answer: Jonathan Aitken\n"
     ]
    },
    {
     "name": "stderr",
     "output_type": "stream",
     "text": [
      "Average Metric: 24.800000000000008 / 15  (165.3):  30%|███████████████████████████████████                                                                                  | 15/50 [00:13<00:32,  1.08it/s]"
     ]
    },
    {
     "name": "stdout",
     "output_type": "stream",
     "text": [
      "Faithful: 1\n",
      "Detail: 1\n",
      "Overall: 5\n",
      "Test Question: What is the name of this region of Italy, referring to the medieval March of Ancona and nearby marches of Camerino and Fermo, where the comune Pollenza is located?\n",
      "Predicted Answer: Marche\n"
     ]
    },
    {
     "name": "stderr",
     "output_type": "stream",
     "text": [
      "Average Metric: 26.40000000000001 / 16  (165.0):  32%|█████████████████████████████████████▊                                                                                | 16/50 [00:14<00:34,  1.01s/it]"
     ]
    },
    {
     "name": "stdout",
     "output_type": "stream",
     "text": [
      "Faithful: 1\n",
      "Detail: 1\n",
      "Overall: 5\n",
      "Test Question: William Hughes Miller was born in a city with how many inhabitants ?\n",
      "Predicted Answer: 872,000\n"
     ]
    },
    {
     "name": "stderr",
     "output_type": "stream",
     "text": [
      "Average Metric: 29.60000000000001 / 17  (174.1):  34%|████████████████████████████████████████                                                                              | 17/50 [00:15<00:32,  1.00it/s]"
     ]
    },
    {
     "name": "stdout",
     "output_type": "stream",
     "text": [
      "Faithful: 5\n",
      "Detail: 1\n",
      "Overall: 5\n",
      "Test Question: What do students do at the school of New York University where Meleko Mokgosi is an artist and assistant professor?\n",
      "Predicted Answer: Students at the school of New York University where Meleko Mokgosi is an artist and assistant professor likely engage in art-related activities, attend classes, and workshops led by him.\n"
     ]
    },
    {
     "name": "stderr",
     "output_type": "stream",
     "text": [
      "Average Metric: 31.40000000000001 / 18  (174.4):  36%|██████████████████████████████████████████▍                                                                           | 18/50 [00:16<00:30,  1.05it/s]"
     ]
    },
    {
     "name": "stdout",
     "output_type": "stream",
     "text": [
      "Faithful: 1\n",
      "Detail: 3\n",
      "Overall: 4\n",
      "Test Question: What is the nationality of the chef and restaurateur featured in Restaurant: Impossible?\n",
      "Predicted Answer: American\n"
     ]
    },
    {
     "name": "stderr",
     "output_type": "stream",
     "text": [
      "Average Metric: 33.00000000000001 / 19  (173.7):  38%|████████████████████████████████████████████▊                                                                         | 19/50 [00:17<00:29,  1.04it/s]"
     ]
    },
    {
     "name": "stdout",
     "output_type": "stream",
     "text": [
      "Faithful: 1\n",
      "Detail: 1\n",
      "Overall: 5\n",
      "Test Question: What American actor plays an East side drug lord who prefers peaceful solutions to business disputes when possible?\n",
      "Predicted Answer: Samuel L. Jackson\n"
     ]
    },
    {
     "name": "stderr",
     "output_type": "stream",
     "text": [
      "Average Metric: 33.800000000000004 / 20  (169.0):  40%|██████████████████████████████████████████████▊                                                                      | 20/50 [00:18<00:29,  1.03it/s]"
     ]
    },
    {
     "name": "stdout",
     "output_type": "stream",
     "text": [
      "Faithful: 1\n",
      "Detail: 1\n",
      "Overall: 1\n",
      "Test Question: What city is 11 miles north of the birthplace of actor Toby Sawyer?\n",
      "Predicted Answer: Without knowing Toby Sawyer's birthplace, we cannot determine the city that is 11 miles north of it.\n"
     ]
    },
    {
     "name": "stderr",
     "output_type": "stream",
     "text": [
      "Average Metric: 37.00000000000001 / 21  (176.2):  42%|█████████████████████████████████████████████████▌                                                                    | 21/50 [00:19<00:27,  1.07it/s]"
     ]
    },
    {
     "name": "stdout",
     "output_type": "stream",
     "text": [
      "Faithful: 4\n",
      "Detail: 3\n",
      "Overall: 5\n",
      "Test Question: Who was born first, Tony Kaye or Deepa Mehta?\n",
      "Predicted Answer: Tony Kaye was born first.\n"
     ]
    },
    {
     "name": "stderr",
     "output_type": "stream",
     "text": [
      "Average Metric: 38.60000000000001 / 22  (175.5):  44%|███████████████████████████████████████████████████▉                                                                  | 22/50 [00:20<00:25,  1.08it/s]"
     ]
    },
    {
     "name": "stdout",
     "output_type": "stream",
     "text": [
      "Faithful: 1\n",
      "Detail: 1\n",
      "Overall: 5\n",
      "Test Question: What is the English translation of the name of the store that Macy's replaced in Boise Town Square?\n",
      "Predicted Answer: The English translation of the name of the store that Macy's replaced in Boise Town Square is not provided in the given context.\n"
     ]
    },
    {
     "name": "stderr",
     "output_type": "stream",
     "text": [
      "Average Metric: 40.400000000000006 / 23  (175.7):  46%|█████████████████████████████████████████████████████▊                                                               | 23/50 [00:21<00:24,  1.10it/s]"
     ]
    },
    {
     "name": "stdout",
     "output_type": "stream",
     "text": [
      "Faithful: 1\n",
      "Detail: 2\n",
      "Overall: 5\n",
      "Test Question: Who did Lizzette Reynolds fire to make her notable in November 2007?\n",
      "Predicted Answer: Lizzette Reynolds fired the head coach of the University of Arkansas football team, Houston Nutt, in November 2007.\n"
     ]
    },
    {
     "name": "stderr",
     "output_type": "stream",
     "text": [
      "Average Metric: 42.2 / 24  (175.8):  48%|██████████████████████████████████████████████████████████████▉                                                                    | 24/50 [00:22<00:23,  1.10it/s]"
     ]
    },
    {
     "name": "stdout",
     "output_type": "stream",
     "text": [
      "Faithful: 1\n",
      "Detail: 2\n",
      "Overall: 5\n",
      "Test Question: What was the name of the man, who was billed by the coiner of the phrase \"There's a sucker born every minute\" as \"Boy Lightning Calculator\"?\n",
      "Predicted Answer: P.T. Barnum\n"
     ]
    },
    {
     "name": "stderr",
     "output_type": "stream",
     "text": [
      "Average Metric: 43.800000000000004 / 25  (175.2):  50%|██████████████████████████████████████████████████████████▌                                                          | 25/50 [00:23<00:22,  1.11it/s]"
     ]
    },
    {
     "name": "stdout",
     "output_type": "stream",
     "text": [
      "Faithful: 1\n",
      "Detail: 1\n",
      "Overall: 5\n",
      "Test Question: Which battle was fought for a shorter period of time, the Battle of the Ch'ongch'on River, or the Meuse-Argonne Offensive?\n",
      "Predicted Answer: The Battle of the Ch'ongch'on River was fought for a shorter period of time compared to the Meuse-Argonne Offensive.\n"
     ]
    },
    {
     "name": "stderr",
     "output_type": "stream",
     "text": [
      "Average Metric: 45.800000000000004 / 26  (176.2):  52%|████████████████████████████████████████████████████████████▊                                                        | 26/50 [00:24<00:21,  1.09it/s]"
     ]
    },
    {
     "name": "stdout",
     "output_type": "stream",
     "text": [
      "Faithful: 2\n",
      "Detail: 1\n",
      "Overall: 5\n",
      "Test Question: What cricketeer active 1974–1993 had a strong performance in the tour by the Australian cricket team in England in 1981?\n",
      "Predicted Answer: Ian Botham\n"
     ]
    },
    {
     "name": "stderr",
     "output_type": "stream",
     "text": [
      "Average Metric: 46.6 / 27  (172.6):  54%|██████████████████████████████████████████████████████████████████████▋                                                            | 27/50 [00:24<00:20,  1.10it/s]"
     ]
    },
    {
     "name": "stdout",
     "output_type": "stream",
     "text": [
      "Faithful: 1\n",
      "Detail: 1\n",
      "Overall: 1\n",
      "Test Question: What is the present post of the head coach of the 1982 NC State Wolfpack football team ?\n",
      "Predicted Answer: The present post of the head coach of the 1982 NC State Wolfpack football team is not provided in the context.\n"
     ]
    },
    {
     "name": "stderr",
     "output_type": "stream",
     "text": [
      "Average Metric: 48.4 / 28  (172.9):  56%|█████████████████████████████████████████████████████████████████████████▎                                                         | 28/50 [00:25<00:20,  1.10it/s]"
     ]
    },
    {
     "name": "stdout",
     "output_type": "stream",
     "text": [
      "Faithful: 1\n",
      "Detail: 2\n",
      "Overall: 5\n",
      "Test Question: Which Scottish actor sang \"Come What May\"?\n",
      "Predicted Answer: Ewan McGregor\n"
     ]
    },
    {
     "name": "stderr",
     "output_type": "stream",
     "text": [
      "Average Metric: 49.199999999999996 / 29  (169.7):  58%|███████████████████████████████████████████████████████████████████▊                                                 | 29/50 [00:26<00:18,  1.12it/s]"
     ]
    },
    {
     "name": "stdout",
     "output_type": "stream",
     "text": [
      "Faithful: 1\n",
      "Detail: 1\n",
      "Overall: 1\n",
      "Test Question: Where have Ivan Bella and Frank De Winne both traveled?\n",
      "Predicted Answer: Ivan Bella and Frank De Winne have both traveled to the Netherlands.\n"
     ]
    },
    {
     "name": "stderr",
     "output_type": "stream",
     "text": [
      "Average Metric: 51.199999999999996 / 30  (170.7):  60%|██████████████████████████████████████████████████████████████████████▏                                              | 30/50 [00:27<00:18,  1.10it/s]"
     ]
    },
    {
     "name": "stdout",
     "output_type": "stream",
     "text": [
      "Faithful: 2\n",
      "Detail: 1\n",
      "Overall: 5\n",
      "Test Question: The original work by Anton Chekhov involving a disillusioned schoolmaster, which inspired a later play by this British playwright, was written specifically for whom?\n",
      "Predicted Answer: The original work by Anton Chekhov involving a disillusioned schoolmaster, which inspired a later play by a British playwright, was specifically written for the Russian audience.\n"
     ]
    },
    {
     "name": "stderr",
     "output_type": "stream",
     "text": [
      "Average Metric: 53.199999999999996 / 31  (171.6):  62%|████████████████████████████████████████████████████████████████████████▌                                            | 31/50 [00:28<00:16,  1.14it/s]"
     ]
    },
    {
     "name": "stdout",
     "output_type": "stream",
     "text": [
      "Faithful: 1\n",
      "Detail: 3\n",
      "Overall: 5\n",
      "Test Question: Are Roswell International Air Center and Pago Pago International Airport both located in the mainland US?\n",
      "Predicted Answer: No, Pago Pago International Airport is not located in the mainland US.\n"
     ]
    },
    {
     "name": "stderr",
     "output_type": "stream",
     "text": [
      "Average Metric: 55.8 / 32  (174.4):  64%|███████████████████████████████████████████████████████████████████████████████████▊                                               | 32/50 [00:29<00:15,  1.15it/s]"
     ]
    },
    {
     "name": "stdout",
     "output_type": "stream",
     "text": [
      "Faithful: 3\n",
      "Detail: 2\n",
      "Overall: 5\n",
      "Test Question: Untold: The Greatest Sports Stories Never Told was hosted by a sportscaster commonly referred to as what ?\n",
      "Predicted Answer: The sportscaster commonly referred to in the show \"Untold: The Greatest Sports Stories Never Told\" was hosted by Bob Costas.\n"
     ]
    },
    {
     "name": "stderr",
     "output_type": "stream",
     "text": [
      "Average Metric: 58.0 / 33  (175.8):  66%|██████████████████████████████████████████████████████████████████████████████████████▍                                            | 33/50 [00:30<00:14,  1.14it/s]"
     ]
    },
    {
     "name": "stdout",
     "output_type": "stream",
     "text": [
      "Faithful: 2\n",
      "Detail: 2\n",
      "Overall: 5\n",
      "Test Question: Are Walt Disney and Sacro GRA both documentry films?\n",
      "Predicted Answer: No, Walt Disney is not a documentary film. It is a company known for its animated films and theme parks. On the other hand, Sacro GRA is a documentary film directed by Gianfranco Rosi, which won the Golden Lion at the 70th Venice International Film Festival.\n"
     ]
    },
    {
     "name": "stderr",
     "output_type": "stream",
     "text": [
      "Average Metric: 60.2 / 34  (177.1):  68%|█████████████████████████████████████████████████████████████████████████████████████████                                          | 34/50 [00:31<00:14,  1.13it/s]"
     ]
    },
    {
     "name": "stdout",
     "output_type": "stream",
     "text": [
      "Faithful: 2\n",
      "Detail: 2\n",
      "Overall: 5\n",
      "Test Question: What is the Palestinian Islamic organization that governs th small territory on the eastern coast of the Mediterranean Sea that was captured by Israel during the 1967 Six-Day War?\n",
      "Predicted Answer: Hamas\n"
     ]
    },
    {
     "name": "stderr",
     "output_type": "stream",
     "text": [
      "Average Metric: 61.800000000000004 / 35  (176.6):  70%|█████████████████████████████████████████████████████████████████████████████████▉                                   | 35/50 [00:32<00:13,  1.13it/s]"
     ]
    },
    {
     "name": "stdout",
     "output_type": "stream",
     "text": [
      "Faithful: 1\n",
      "Detail: 1\n",
      "Overall: 5\n",
      "Test Question: What album did the song of which Taylor Swift premiered the music video of during the pre-show of the 2015 MTV Video Music Awards come from?\n",
      "Predicted Answer: The song \"Wildest Dreams\" comes from Taylor Swift's album \"1989.\"\n"
     ]
    },
    {
     "name": "stderr",
     "output_type": "stream",
     "text": [
      "Average Metric: 63.400000000000006 / 36  (176.1):  72%|████████████████████████████████████████████████████████████████████████████████████▏                                | 36/50 [00:32<00:12,  1.13it/s]"
     ]
    },
    {
     "name": "stdout",
     "output_type": "stream",
     "text": [
      "Faithful: 1\n",
      "Detail: 1\n",
      "Overall: 5\n",
      "Test Question: Which is considered a genus level classification, Apera or Gunnera manicata?\n",
      "Predicted Answer: Gunnera manicata\n"
     ]
    },
    {
     "name": "stderr",
     "output_type": "stream",
     "text": [
      "Average Metric: 65.4 / 37  (176.8):  74%|████████████████████████████████████████████████████████████████████████████████████████████████▉                                  | 37/50 [00:33<00:11,  1.11it/s]"
     ]
    },
    {
     "name": "stdout",
     "output_type": "stream",
     "text": [
      "Faithful: 1\n",
      "Detail: 3\n",
      "Overall: 5\n",
      "Test Question: Do The Drums and Pussy Galore play music of similar genres?\n",
      "Predicted Answer: The Drums and Pussy Galore do not play music of similar genres. The Drums are known for their indie pop and post-punk revival sound, while Pussy Galore is a noise rock and punk blues band.\n"
     ]
    },
    {
     "name": "stderr",
     "output_type": "stream",
     "text": [
      "Average Metric: 69.2 / 38  (182.1):  76%|███████████████████████████████████████████████████████████████████████████████████████████████████▌                               | 38/50 [00:34<00:10,  1.14it/s]"
     ]
    },
    {
     "name": "stdout",
     "output_type": "stream",
     "text": [
      "Faithful: 5\n",
      "Detail: 4\n",
      "Overall: 5\n",
      "Test Question: What is the post-nominal abbreviation for the university where the Banded Mongoose Research Project is based?\n",
      "Predicted Answer: The post-nominal abbreviation for the university where the Banded Mongoose Research Project is based is not provided in the given context.\n"
     ]
    },
    {
     "name": "stderr",
     "output_type": "stream",
     "text": [
      "Average Metric: 71.2 / 39  (182.6):  78%|██████████████████████████████████████████████████████████████████████████████████████████████████████▏                            | 39/50 [00:35<00:09,  1.15it/s]"
     ]
    },
    {
     "name": "stdout",
     "output_type": "stream",
     "text": [
      "Faithful: 1\n",
      "Detail: 3\n",
      "Overall: 5\n",
      "Test Question: Are both Benjamin Christensen and Len Wiseman directors?\n",
      "Predicted Answer: No, only Len Wiseman is mentioned in the context as a director. Benjamin Christensen is not mentioned in the context provided.\n"
     ]
    },
    {
     "name": "stderr",
     "output_type": "stream",
     "text": [
      "Average Metric: 73.2 / 40  (183.0):  80%|████████████████████████████████████████████████████████████████████████████████████████████████████████▊                          | 40/50 [00:36<00:08,  1.14it/s]"
     ]
    },
    {
     "name": "stdout",
     "output_type": "stream",
     "text": [
      "Faithful: 2\n",
      "Detail: 1\n",
      "Overall: 5\n",
      "Test Question: Steven Cuitlahuac Melendez and Disney are connected by what American animator?\n",
      "Predicted Answer: The American animator connected to Steven Cuitlahuac Melendez and Disney is Ub Iwerks.\n"
     ]
    },
    {
     "name": "stderr",
     "output_type": "stream",
     "text": [
      "Average Metric: 75.0 / 41  (182.9):  82%|███████████████████████████████████████████████████████████████████████████████████████████████████████████▍                       | 41/50 [00:37<00:08,  1.12it/s]"
     ]
    },
    {
     "name": "stdout",
     "output_type": "stream",
     "text": [
      "Faithful: 1\n",
      "Detail: 2\n",
      "Overall: 5\n",
      "Test Question: Shark Creek is located on this river which is in the northern rivers district?\n",
      "Predicted Answer: The river in the northern rivers district where Shark Creek is located is the Clarence River.\n"
     ]
    },
    {
     "name": "stderr",
     "output_type": "stream",
     "text": [
      "Average Metric: 77.2 / 42  (183.8):  84%|██████████████████████████████████████████████████████████████████████████████████████████████████████████████                     | 42/50 [00:38<00:07,  1.11it/s]"
     ]
    },
    {
     "name": "stdout",
     "output_type": "stream",
     "text": [
      "Faithful: 2\n",
      "Detail: 2\n",
      "Overall: 5\n",
      "Test Question: Who was the producer of the 2016 animated film about an amnesiac fish?\n",
      "Predicted Answer: The producer of the 2016 animated film about an amnesiac fish is Pixar Animation Studios.\n"
     ]
    },
    {
     "name": "stderr",
     "output_type": "stream",
     "text": [
      "Average Metric: 78.2 / 43  (181.9):  86%|████████████████████████████████████████████████████████████████████████████████████████████████████████████████▋                  | 43/50 [00:39<00:06,  1.10it/s]"
     ]
    },
    {
     "name": "stdout",
     "output_type": "stream",
     "text": [
      "Faithful: 1\n",
      "Detail: 2\n",
      "Overall: 1\n",
      "Test Question: Who purchased the team Michael Schumacher raced for in the 1995 Monaco Grand Prix in 2000?\n",
      "Predicted Answer: Fiat\n"
     ]
    },
    {
     "name": "stderr",
     "output_type": "stream",
     "text": [
      "Average Metric: 79.8 / 44  (181.4):  88%|███████████████████████████████████████████████████████████████████████████████████████████████████████████████████▎               | 44/50 [00:40<00:05,  1.10it/s]"
     ]
    },
    {
     "name": "stdout",
     "output_type": "stream",
     "text": [
      "Faithful: 1\n",
      "Detail: 1\n",
      "Overall: 5\n",
      "Test Question: Fredrick Law Olmsted was an American landscape architect, journalist, social critic and public administrator that designed what neighborhood in Trenton, New Jersey?\n",
      "Predicted Answer: Olmsted designed the neighborhood of Cadwalader Heights in Trenton, New Jersey.\n"
     ]
    },
    {
     "name": "stderr",
     "output_type": "stream",
     "text": [
      "Average Metric: 81.6 / 45  (181.3):  90%|█████████████████████████████████████████████████████████████████████████████████████████████████████████████████████▉             | 45/50 [00:42<00:06,  1.25s/it]"
     ]
    },
    {
     "name": "stdout",
     "output_type": "stream",
     "text": [
      "Faithful: 1\n",
      "Detail: 2\n",
      "Overall: 5\n",
      "Test Question: Gordon Warnecke worked alongside the former senator for which political party on Young Toscanini?\n",
      "Predicted Answer: Gordon Warnecke worked alongside the former senator for the Democratic Party on Young Toscanini.\n"
     ]
    },
    {
     "name": "stderr",
     "output_type": "stream",
     "text": [
      "Average Metric: 82.39999999999999 / 46  (179.1):  92%|████████████████████████████████████████████████████████████████████████████████████████████████████████████▌         | 46/50 [00:43<00:04,  1.16s/it]"
     ]
    },
    {
     "name": "stdout",
     "output_type": "stream",
     "text": [
      "Faithful: 1\n",
      "Detail: 1\n",
      "Overall: 1\n",
      "Test Question: André Zucca was a French photographer who worked with a German propaganda magazine published by what Nazi organization?\n",
      "Predicted Answer: Ministry of Public Enlightenment and Propaganda\n"
     ]
    },
    {
     "name": "stderr",
     "output_type": "stream",
     "text": [
      "Average Metric: 83.99999999999999 / 47  (178.7):  94%|██████████████████████████████████████████████████████████████████████████████████████████████████████████████▉       | 47/50 [00:43<00:03,  1.07s/it]"
     ]
    },
    {
     "name": "stdout",
     "output_type": "stream",
     "text": [
      "Faithful: 1\n",
      "Detail: 1\n",
      "Overall: 5\n",
      "Test Question: Both Bill Ponsford and Bill Woodfull played what?\n",
      "Predicted Answer: Both Bill Ponsford and Bill Woodfull played cricket.\n"
     ]
    },
    {
     "name": "stderr",
     "output_type": "stream",
     "text": [
      "Average Metric: 85.59999999999998 / 48  (178.3):  96%|█████████████████████████████████████████████████████████████████████████████████████████████████████████████████▎    | 48/50 [00:44<00:02,  1.04s/it]"
     ]
    },
    {
     "name": "stdout",
     "output_type": "stream",
     "text": [
      "Faithful: 1\n",
      "Detail: 1\n",
      "Overall: 5\n",
      "Test Question:  Suzana S. Drobnjaković Ponti acted in a film loosely based on a book by who?\n",
      "Predicted Answer: Unfortunately, based on the context provided, we cannot determine the answer to this question.\n"
     ]
    },
    {
     "name": "stderr",
     "output_type": "stream",
     "text": [
      "Average Metric: 88.39999999999998 / 49  (180.4):  98%|███████████████████████████████████████████████████████████████████████████████████████████████████████████████████▋  | 49/50 [00:45<00:00,  1.02it/s]"
     ]
    },
    {
     "name": "stdout",
     "output_type": "stream",
     "text": [
      "Faithful: 4\n",
      "Detail: 1\n",
      "Overall: 5\n",
      "Test Question: In what city was the Election Law Journal founded?\n",
      "Predicted Answer: Amsterdam\n"
     ]
    },
    {
     "name": "stderr",
     "output_type": "stream",
     "text": [
      "Average Metric: 91.59999999999998 / 50  (183.2): 100%|██████████████████████████████████████████████████████████████████████████████████████████████████████████████████████| 50/50 [00:46<00:00,  1.07it/s]\n",
      "[I 2024-07-03 23:37:22,928] Trial 2 finished with value: 183.2 and parameters: {'13076461008_predictor_instruction': 0, '13076461008_predictor_demos': 0}. Best is trial 2 with value: 183.2.\n"
     ]
    },
    {
     "name": "stdout",
     "output_type": "stream",
     "text": [
      "Faithful: 5\n",
      "Detail: 1\n",
      "Overall: 5\n",
      "Average Metric: 91.59999999999998 / 50  (183.2%)\n",
      "Returning generate_answer = ChainOfThought(GenerateAnswer(context, question -> answer\n",
      "    instructions=' Answer questions based on the provided context.'\n",
      "    context = Field(annotation=str required=True json_schema_extra={'desc': 'Context for answering the question', '__dspy_field_type': 'input', 'prefix': 'Context:'})\n",
      "    question = Field(annotation=str required=True json_schema_extra={'desc': 'The question', '__dspy_field_type': 'input', 'prefix': 'Question:'})\n",
      "    answer = Field(annotation=str required=True json_schema_extra={'desc': 'Answer', '__dspy_field_type': 'output', 'prefix': 'Answer:'})\n",
      ")) from continue_program\n"
     ]
    }
   ],
   "source": [
    "from dspy.teleprompt import BayesianSignatureOptimizer\n",
    "\n",
    "llm_prompter = dspy.OpenAI(model='gpt-4', max_tokens=2000, model_type='chat')\n",
    "\n",
    "teleprompter = BayesianSignatureOptimizer(task_model=dspy.settings.lm,\n",
    "                                          metric=llm_metric,\n",
    "                                          prompt_model=llm_prompter,\n",
    "                                          n=5,\n",
    "                                          verbose=False)\n",
    "\n",
    "kwargs = dict(num_threads=1, display_progress=True, display_table=0)\n",
    "third_compiled_rag = teleprompter.compile(RAG(), devset=devset,\n",
    "                                         optuna_trials_num=3,\n",
    "                                         max_bootstrapped_demos=4,\n",
    "                                         max_labeled_demos=4,\n",
    "                                         eval_kwargs=kwargs)"
   ]
  },
  {
   "cell_type": "code",
   "execution_count": 51,
   "id": "a3d13b84-53d8-4f8b-afe2-00c0867b0a5e",
   "metadata": {},
   "outputs": [
    {
     "data": {
      "text/plain": [
       "Prediction(\n",
       "    context=['By the millennium change, the EU dominated the economy of Europe, comprising the five largest European economies of the time: Germany, the United Kingdom, France, Italy, and Spain. In 1999, 12 of the 15 members of the EU joined the Eurozone, replacing their national currencies by the euro.', \"The European Union, a political entity composed of 27 European states, comprises the largest single economic area in the world. Nineteen EU countries share the euro as a common currency.\\nFive European countries rank in the top ten of the world's largest national economies in GDP (PPP). This includes (ranks according to the CIA): Germany (6), Russia (7), the United Kingdom (10), France (11) and Italy (13).[254]\", \"As a continent, the economy of Europe is currently the largest on Earth and it is the richest region as measured by assets under management with over $32.7\\xa0trillion compared to North America's $27.1\\xa0trillion in 2008.[251] In 2009 Europe remained the wealthiest region. Its $37.1 trillion in assets under management represented one-third of the world's wealth. It was one of several regions where wealth surpassed its precrisis year-end peak.[252] As with other continents, Europe has a large wealth gap among its countries. The richer states tend to be in the Northwest and West in general,\"],\n",
       "    answer='The economy of Europe is the largest on Earth, with a significant wealth gap among its countries. The European Union dominates the economy, with the five largest economies being Germany, the United Kingdom, France, Italy, and Spain. Nineteen EU countries share the euro as a common currency, and Europe has over $32.7 trillion in assets under management, making it the wealthiest region in the world.'\n",
       ")"
      ]
     },
     "execution_count": 51,
     "metadata": {},
     "output_type": "execute_result"
    }
   ],
   "source": [
    "third_compiled_rag(\"Tell me about the economy of Europe?\")"
   ]
  },
  {
   "cell_type": "code",
   "execution_count": 52,
   "id": "e87e0585-3c08-4430-bb87-9337dd2adebc",
   "metadata": {},
   "outputs": [
    {
     "name": "stdout",
     "output_type": "stream",
     "text": [
      "\n",
      "\n",
      "\n",
      "\n",
      "Answer questions based on the provided context.\n",
      "\n",
      "---\n",
      "\n",
      "Follow the following format.\n",
      "\n",
      "Context: Context for answering the question\n",
      "\n",
      "Question: The question\n",
      "\n",
      "Reasoning: Let's think step by step in order to ${produce the answer}. We ...\n",
      "\n",
      "Answer: Answer\n",
      "\n",
      "---\n",
      "\n",
      "Context:\n",
      "[1] «By the millennium change, the EU dominated the economy of Europe, comprising the five largest European economies of the time: Germany, the United Kingdom, France, Italy, and Spain. In 1999, 12 of the 15 members of the EU joined the Eurozone, replacing their national currencies by the euro.»\n",
      "[2] «The European Union, a political entity composed of 27 European states, comprises the largest single economic area in the world. Nineteen EU countries share the euro as a common currency.\n",
      "Five European countries rank in the top ten of the world's largest national economies in GDP (PPP). This includes (ranks according to the CIA): Germany (6), Russia (7), the United Kingdom (10), France (11) and Italy (13).[254]»\n",
      "[3] «As a continent, the economy of Europe is currently the largest on Earth and it is the richest region as measured by assets under management with over $32.7 trillion compared to North America's $27.1 trillion in 2008.[251] In 2009 Europe remained the wealthiest region. Its $37.1 trillion in assets under management represented one-third of the world's wealth. It was one of several regions where wealth surpassed its precrisis year-end peak.[252] As with other continents, Europe has a large wealth gap among its countries. The richer states tend to be in the Northwest and West in general,»\n",
      "\n",
      "Question: Tell me about the economy of Europe?\n",
      "\n",
      "Reasoning: Let's think step by step in order to\u001b[32m provide an overview of the economy of Europe based on the context provided. We know that the European Union dominates the economy of Europe, comprising the five largest European economies of Germany, the United Kingdom, France, Italy, and Spain. Additionally, 19 EU countries share the euro as a common currency. Europe is currently the largest economy on Earth, with over $32.7 trillion in assets under management in 2008. The region remained the wealthiest in 2009, with $37.1 trillion in assets under management, representing one-third of the world's wealth.\n",
      "\n",
      "Answer: The economy of Europe is the largest on Earth, with a significant wealth gap among its countries. The European Union dominates the economy, with the five largest economies being Germany, the United Kingdom, France, Italy, and Spain. Nineteen EU countries share the euro as a common currency, and Europe has over $32.7 trillion in assets under management, making it the wealthiest region in the world.\u001b[0m\n",
      "\n",
      "\n",
      "\n"
     ]
    }
   ],
   "source": [
    "llm.inspect_history(n=1)"
   ]
  },
  {
   "cell_type": "code",
   "execution_count": 53,
   "id": "8327e069-b3d6-4cba-9af1-a7210157b1ed",
   "metadata": {},
   "outputs": [
    {
     "name": "stderr",
     "output_type": "stream",
     "text": [
      "  0%|                                                                                                                                                                                | 0/50 [00:00<?, ?it/s]"
     ]
    },
    {
     "name": "stdout",
     "output_type": "stream",
     "text": [
      "Test Question: Are both Cangzhou and Qionghai in the Hebei province of China?\n",
      "Predicted Answer: No\n"
     ]
    },
    {
     "name": "stderr",
     "output_type": "stream",
     "text": [
      "Average Metric: 1.8 / 1  (180.0):   2%|██▋                                                                                                                                   | 1/50 [00:00<00:46,  1.06it/s]"
     ]
    },
    {
     "name": "stdout",
     "output_type": "stream",
     "text": [
      "Faithful: 1\n",
      "Detail: 2\n",
      "Overall: 5\n",
      "Test Question: Who conducts the draft in which Marc-Andre Fleury was drafted to the Vegas Golden Knights for the 2017-18 season?\n",
      "Predicted Answer: The National Hockey League (NHL) conducted the draft in which Marc-Andre Fleury was drafted to the Vegas Golden Knights for the 2017-18 season.\n"
     ]
    },
    {
     "name": "stderr",
     "output_type": "stream",
     "text": [
      "Average Metric: 3.4000000000000004 / 2  (170.0):   4%|████▊                                                                                                                  | 2/50 [00:03<01:36,  2.00s/it]"
     ]
    },
    {
     "name": "stdout",
     "output_type": "stream",
     "text": [
      "Faithful: 1\n",
      "Detail: 1\n",
      "Overall: 5\n",
      "Test Question: The Wings entered a new era, following the retirement of which Canadian retired professional ice hockey player and current general manager of the Tampa Bay Lightning of the National Hockey League (NHL)?\n",
      "Predicted Answer: Steve Yzerman\n"
     ]
    },
    {
     "name": "stderr",
     "output_type": "stream",
     "text": [
      "Average Metric: 4.2 / 3  (140.0):   6%|████████                                                                                                                              | 3/50 [00:04<01:09,  1.49s/it]"
     ]
    },
    {
     "name": "stdout",
     "output_type": "stream",
     "text": [
      "Faithful: 1\n",
      "Detail: 1\n",
      "Overall: 1\n",
      "Test Question: What river is near the Crichton Collegiate Church?\n",
      "Predicted Answer: The information provided does not specify the river near the Crichton Collegiate Church.\n"
     ]
    },
    {
     "name": "stderr",
     "output_type": "stream",
     "text": [
      "Average Metric: 6.4 / 4  (160.0):   8%|██████████▋                                                                                                                           | 4/50 [00:05<00:57,  1.24s/it]"
     ]
    },
    {
     "name": "stdout",
     "output_type": "stream",
     "text": [
      "Faithful: 2\n",
      "Detail: 2\n",
      "Overall: 5\n",
      "Test Question: In the 10th Century A.D. Ealhswith had a son called Æthelweard by which English king?\n",
      "Predicted Answer: King Alfred the Great\n"
     ]
    },
    {
     "name": "stderr",
     "output_type": "stream",
     "text": [
      "Average Metric: 7.2 / 5  (144.0):  10%|█████████████▍                                                                                                                        | 5/50 [00:06<00:50,  1.11s/it]"
     ]
    },
    {
     "name": "stdout",
     "output_type": "stream",
     "text": [
      "Faithful: 1\n",
      "Detail: 1\n",
      "Overall: 1\n",
      "Test Question: The Newark Airport Exchange is at the northern edge of an airport that is operated by whom?\n",
      "Predicted Answer: The Newark Airport Exchange is at the northern edge of an airport that is operated by the Port Authority of New York and New Jersey.\n"
     ]
    },
    {
     "name": "stderr",
     "output_type": "stream",
     "text": [
      "Average Metric: 9.0 / 6  (150.0):  12%|████████████████                                                                                                                      | 6/50 [00:07<00:48,  1.11s/it]"
     ]
    },
    {
     "name": "stdout",
     "output_type": "stream",
     "text": [
      "Faithful: 1\n",
      "Detail: 2\n",
      "Overall: 5\n",
      "Test Question: Where did an event take place resulting in a win during a domestic double due to the action of a Peruvian footballer known for his goal scoring ability?\n",
      "Predicted Answer: The event took place in Amsterdam, with Ajax winning a domestic double possibly due to the action of a Peruvian footballer known for his goal scoring ability.\n"
     ]
    },
    {
     "name": "stderr",
     "output_type": "stream",
     "text": [
      "Average Metric: 10.4 / 7  (148.6):  14%|██████████████████▌                                                                                                                  | 7/50 [00:08<00:44,  1.03s/it]"
     ]
    },
    {
     "name": "stdout",
     "output_type": "stream",
     "text": [
      "Faithful: 1\n",
      "Detail: 2\n",
      "Overall: 3\n",
      "Test Question: Are both Chico Municipal Airport and William R. Fairchild International Airport in California?\n",
      "Predicted Answer: No, Chico Municipal Airport is in California, but William R. Fairchild International Airport is in Washington state.\n"
     ]
    },
    {
     "name": "stderr",
     "output_type": "stream",
     "text": [
      "Average Metric: 12.200000000000001 / 8  (152.5):  16%|███████████████████                                                                                                    | 8/50 [00:09<00:40,  1.04it/s]"
     ]
    },
    {
     "name": "stdout",
     "output_type": "stream",
     "text": [
      "Faithful: 1\n",
      "Detail: 2\n",
      "Overall: 5\n",
      "Test Question: In which Maine county is Fort Pownall located?\n",
      "Predicted Answer: Fort Pownall is located in Waldo County, Maine.\n"
     ]
    },
    {
     "name": "stderr",
     "output_type": "stream",
     "text": [
      "Average Metric: 14.600000000000001 / 9  (162.2):  18%|█████████████████████▍                                                                                                 | 9/50 [00:10<00:39,  1.05it/s]"
     ]
    },
    {
     "name": "stdout",
     "output_type": "stream",
     "text": [
      "Faithful: 3\n",
      "Detail: 1\n",
      "Overall: 5\n",
      "Test Question: Which 90s rock band has more recently reformed, Gene or The Afghan Whigs?\n",
      "Predicted Answer: The Afghan Whigs\n"
     ]
    },
    {
     "name": "stderr",
     "output_type": "stream",
     "text": [
      "Average Metric: 16.200000000000003 / 10  (162.0):  20%|███████████████████████▍                                                                                             | 10/50 [00:10<00:37,  1.08it/s]"
     ]
    },
    {
     "name": "stdout",
     "output_type": "stream",
     "text": [
      "Faithful: 1\n",
      "Detail: 1\n",
      "Overall: 5\n",
      "Test Question: What year did the mountain known in Italian as \"Monte Vesuvio\", erupt?\n",
      "Predicted Answer: The eruption of Mount Vesuvius, known in Italian as \"Monte Vesuvio\", famously occurred in the year 79 AD.\n"
     ]
    },
    {
     "name": "stderr",
     "output_type": "stream",
     "text": [
      "Average Metric: 17.800000000000004 / 11  (161.8):  22%|█████████████████████████▋                                                                                           | 11/50 [00:11<00:35,  1.09it/s]"
     ]
    },
    {
     "name": "stdout",
     "output_type": "stream",
     "text": [
      "Faithful: 1\n",
      "Detail: 1\n",
      "Overall: 5\n",
      "Test Question: Is the 72nd field brigade part of the oldest or newest established field army?\n",
      "Predicted Answer: The 72nd field brigade is likely part of the newest established field army.\n"
     ]
    },
    {
     "name": "stderr",
     "output_type": "stream",
     "text": [
      "Average Metric: 19.400000000000006 / 12  (161.7):  24%|████████████████████████████                                                                                         | 12/50 [00:12<00:34,  1.09it/s]"
     ]
    },
    {
     "name": "stdout",
     "output_type": "stream",
     "text": [
      "Faithful: 1\n",
      "Detail: 1\n",
      "Overall: 5\n",
      "Test Question: Was Stanislaw Kiszka paid for his services by the Royal Treasury?\n",
      "Predicted Answer: Based on the information provided, it is not explicitly stated whether Stanislaw Kiszka was paid for his services by the Royal Treasury.\n"
     ]
    },
    {
     "name": "stderr",
     "output_type": "stream",
     "text": [
      "Average Metric: 21.600000000000005 / 13  (166.2):  26%|██████████████████████████████▍                                                                                      | 13/50 [00:13<00:33,  1.10it/s]"
     ]
    },
    {
     "name": "stdout",
     "output_type": "stream",
     "text": [
      "Faithful: 2\n",
      "Detail: 2\n",
      "Overall: 5\n",
      "Test Question: Which film director is younger, Del Lord or Wang Xiaoshuai?\n",
      "Predicted Answer: Wang Xiaoshuai is younger than Del Lord.\n"
     ]
    },
    {
     "name": "stderr",
     "output_type": "stream",
     "text": [
      "Average Metric: 23.200000000000006 / 14  (165.7):  28%|████████████████████████████████▊                                                                                    | 14/50 [00:14<00:32,  1.12it/s]"
     ]
    },
    {
     "name": "stdout",
     "output_type": "stream",
     "text": [
      "Faithful: 1\n",
      "Detail: 1\n",
      "Overall: 5\n",
      "Test Question: Lord North Street has a resident in which former Conservative MP who received an 18-month prison sentence for perjury in 1999?\n",
      "Predicted Answer: Jonathan Aitken\n"
     ]
    },
    {
     "name": "stderr",
     "output_type": "stream",
     "text": [
      "Average Metric: 24.800000000000008 / 15  (165.3):  30%|███████████████████████████████████                                                                                  | 15/50 [00:15<00:34,  1.03it/s]"
     ]
    },
    {
     "name": "stdout",
     "output_type": "stream",
     "text": [
      "Faithful: 1\n",
      "Detail: 1\n",
      "Overall: 5\n",
      "Test Question: What is the name of this region of Italy, referring to the medieval March of Ancona and nearby marches of Camerino and Fermo, where the comune Pollenza is located?\n",
      "Predicted Answer: Marche\n"
     ]
    },
    {
     "name": "stderr",
     "output_type": "stream",
     "text": [
      "Average Metric: 26.40000000000001 / 16  (165.0):  32%|█████████████████████████████████████▊                                                                                | 16/50 [00:16<00:31,  1.09it/s]"
     ]
    },
    {
     "name": "stdout",
     "output_type": "stream",
     "text": [
      "Faithful: 1\n",
      "Detail: 1\n",
      "Overall: 5\n",
      "Test Question: William Hughes Miller was born in a city with how many inhabitants ?\n",
      "Predicted Answer: 872,000\n"
     ]
    },
    {
     "name": "stderr",
     "output_type": "stream",
     "text": [
      "Average Metric: 29.60000000000001 / 17  (174.1):  34%|████████████████████████████████████████                                                                              | 17/50 [00:17<00:29,  1.11it/s]"
     ]
    },
    {
     "name": "stdout",
     "output_type": "stream",
     "text": [
      "Faithful: 5\n",
      "Detail: 1\n",
      "Overall: 5\n",
      "Test Question: What do students do at the school of New York University where Meleko Mokgosi is an artist and assistant professor?\n",
      "Predicted Answer: Students at the school of New York University where Meleko Mokgosi is an artist and assistant professor likely engage in art-related activities, attend classes, and workshops led by him.\n"
     ]
    },
    {
     "name": "stderr",
     "output_type": "stream",
     "text": [
      "Average Metric: 31.40000000000001 / 18  (174.4):  36%|██████████████████████████████████████████▍                                                                           | 18/50 [00:18<00:28,  1.12it/s]"
     ]
    },
    {
     "name": "stdout",
     "output_type": "stream",
     "text": [
      "Faithful: 1\n",
      "Detail: 3\n",
      "Overall: 4\n",
      "Test Question: What is the nationality of the chef and restaurateur featured in Restaurant: Impossible?\n",
      "Predicted Answer: American\n"
     ]
    },
    {
     "name": "stderr",
     "output_type": "stream",
     "text": [
      "Average Metric: 33.00000000000001 / 19  (173.7):  38%|████████████████████████████████████████████▊                                                                         | 19/50 [00:19<00:27,  1.11it/s]"
     ]
    },
    {
     "name": "stdout",
     "output_type": "stream",
     "text": [
      "Faithful: 1\n",
      "Detail: 1\n",
      "Overall: 5\n",
      "Test Question: What American actor plays an East side drug lord who prefers peaceful solutions to business disputes when possible?\n",
      "Predicted Answer: Samuel L. Jackson\n"
     ]
    },
    {
     "name": "stderr",
     "output_type": "stream",
     "text": [
      "Average Metric: 33.800000000000004 / 20  (169.0):  40%|██████████████████████████████████████████████▊                                                                      | 20/50 [00:19<00:26,  1.12it/s]"
     ]
    },
    {
     "name": "stdout",
     "output_type": "stream",
     "text": [
      "Faithful: 1\n",
      "Detail: 1\n",
      "Overall: 1\n",
      "Test Question: What city is 11 miles north of the birthplace of actor Toby Sawyer?\n",
      "Predicted Answer: Without knowing Toby Sawyer's birthplace, we cannot determine the city that is 11 miles north of it.\n"
     ]
    },
    {
     "name": "stderr",
     "output_type": "stream",
     "text": [
      "Average Metric: 37.00000000000001 / 21  (176.2):  42%|█████████████████████████████████████████████████▌                                                                    | 21/50 [00:20<00:26,  1.11it/s]"
     ]
    },
    {
     "name": "stdout",
     "output_type": "stream",
     "text": [
      "Faithful: 4\n",
      "Detail: 3\n",
      "Overall: 5\n",
      "Test Question: Who was born first, Tony Kaye or Deepa Mehta?\n",
      "Predicted Answer: Tony Kaye was born first.\n"
     ]
    },
    {
     "name": "stderr",
     "output_type": "stream",
     "text": [
      "Average Metric: 38.60000000000001 / 22  (175.5):  44%|███████████████████████████████████████████████████▉                                                                  | 22/50 [00:21<00:24,  1.13it/s]"
     ]
    },
    {
     "name": "stdout",
     "output_type": "stream",
     "text": [
      "Faithful: 1\n",
      "Detail: 1\n",
      "Overall: 5\n",
      "Test Question: What is the English translation of the name of the store that Macy's replaced in Boise Town Square?\n",
      "Predicted Answer: The English translation of the name of the store that Macy's replaced in Boise Town Square is not provided in the given context.\n"
     ]
    },
    {
     "name": "stderr",
     "output_type": "stream",
     "text": [
      "Average Metric: 40.400000000000006 / 23  (175.7):  46%|█████████████████████████████████████████████████████▊                                                               | 23/50 [00:22<00:24,  1.09it/s]"
     ]
    },
    {
     "name": "stdout",
     "output_type": "stream",
     "text": [
      "Faithful: 1\n",
      "Detail: 2\n",
      "Overall: 5\n",
      "Test Question: Who did Lizzette Reynolds fire to make her notable in November 2007?\n",
      "Predicted Answer: Lizzette Reynolds fired the head coach of the University of Arkansas football team, Houston Nutt, in November 2007.\n"
     ]
    },
    {
     "name": "stderr",
     "output_type": "stream",
     "text": [
      "Average Metric: 42.2 / 24  (175.8):  48%|██████████████████████████████████████████████████████████████▉                                                                    | 24/50 [00:23<00:23,  1.09it/s]"
     ]
    },
    {
     "name": "stdout",
     "output_type": "stream",
     "text": [
      "Faithful: 1\n",
      "Detail: 2\n",
      "Overall: 5\n",
      "Test Question: What was the name of the man, who was billed by the coiner of the phrase \"There's a sucker born every minute\" as \"Boy Lightning Calculator\"?\n",
      "Predicted Answer: P.T. Barnum\n"
     ]
    },
    {
     "name": "stderr",
     "output_type": "stream",
     "text": [
      "Average Metric: 43.800000000000004 / 25  (175.2):  50%|██████████████████████████████████████████████████████████▌                                                          | 25/50 [00:24<00:23,  1.07it/s]"
     ]
    },
    {
     "name": "stdout",
     "output_type": "stream",
     "text": [
      "Faithful: 1\n",
      "Detail: 1\n",
      "Overall: 5\n",
      "Test Question: Which battle was fought for a shorter period of time, the Battle of the Ch'ongch'on River, or the Meuse-Argonne Offensive?\n",
      "Predicted Answer: The Battle of the Ch'ongch'on River was fought for a shorter period of time compared to the Meuse-Argonne Offensive.\n"
     ]
    },
    {
     "name": "stderr",
     "output_type": "stream",
     "text": [
      "Average Metric: 45.800000000000004 / 26  (176.2):  52%|████████████████████████████████████████████████████████████▊                                                        | 26/50 [00:25<00:22,  1.07it/s]"
     ]
    },
    {
     "name": "stdout",
     "output_type": "stream",
     "text": [
      "Faithful: 2\n",
      "Detail: 1\n",
      "Overall: 5\n",
      "Test Question: What cricketeer active 1974–1993 had a strong performance in the tour by the Australian cricket team in England in 1981?\n",
      "Predicted Answer: Ian Botham\n"
     ]
    },
    {
     "name": "stderr",
     "output_type": "stream",
     "text": [
      "Average Metric: 46.6 / 27  (172.6):  54%|██████████████████████████████████████████████████████████████████████▋                                                            | 27/50 [00:27<00:27,  1.18s/it]"
     ]
    },
    {
     "name": "stdout",
     "output_type": "stream",
     "text": [
      "Faithful: 1\n",
      "Detail: 1\n",
      "Overall: 1\n",
      "Test Question: What is the present post of the head coach of the 1982 NC State Wolfpack football team ?\n",
      "Predicted Answer: The present post of the head coach of the 1982 NC State Wolfpack football team is not provided in the context.\n"
     ]
    },
    {
     "name": "stderr",
     "output_type": "stream",
     "text": [
      "Average Metric: 48.4 / 28  (172.9):  56%|█████████████████████████████████████████████████████████████████████████▎                                                         | 28/50 [00:28<00:24,  1.10s/it]"
     ]
    },
    {
     "name": "stdout",
     "output_type": "stream",
     "text": [
      "Faithful: 1\n",
      "Detail: 2\n",
      "Overall: 5\n",
      "Test Question: Which Scottish actor sang \"Come What May\"?\n",
      "Predicted Answer: Ewan McGregor\n"
     ]
    },
    {
     "name": "stderr",
     "output_type": "stream",
     "text": [
      "Average Metric: 49.199999999999996 / 29  (169.7):  58%|███████████████████████████████████████████████████████████████████▊                                                 | 29/50 [00:29<00:22,  1.06s/it]"
     ]
    },
    {
     "name": "stdout",
     "output_type": "stream",
     "text": [
      "Faithful: 1\n",
      "Detail: 1\n",
      "Overall: 1\n",
      "Test Question: Where have Ivan Bella and Frank De Winne both traveled?\n",
      "Predicted Answer: Ivan Bella and Frank De Winne have both traveled to the Netherlands.\n"
     ]
    },
    {
     "name": "stderr",
     "output_type": "stream",
     "text": [
      "Average Metric: 51.199999999999996 / 30  (170.7):  60%|██████████████████████████████████████████████████████████████████████▏                                              | 30/50 [00:29<00:19,  1.01it/s]"
     ]
    },
    {
     "name": "stdout",
     "output_type": "stream",
     "text": [
      "Faithful: 2\n",
      "Detail: 1\n",
      "Overall: 5\n",
      "Test Question: The original work by Anton Chekhov involving a disillusioned schoolmaster, which inspired a later play by this British playwright, was written specifically for whom?\n",
      "Predicted Answer: The original work by Anton Chekhov involving a disillusioned schoolmaster, which inspired a later play by a British playwright, was specifically written for the Russian audience.\n"
     ]
    },
    {
     "name": "stderr",
     "output_type": "stream",
     "text": [
      "Average Metric: 53.199999999999996 / 31  (171.6):  62%|████████████████████████████████████████████████████████████████████████▌                                            | 31/50 [00:30<00:18,  1.03it/s]"
     ]
    },
    {
     "name": "stdout",
     "output_type": "stream",
     "text": [
      "Faithful: 1\n",
      "Detail: 3\n",
      "Overall: 5\n",
      "Test Question: Are Roswell International Air Center and Pago Pago International Airport both located in the mainland US?\n",
      "Predicted Answer: No, Pago Pago International Airport is not located in the mainland US.\n"
     ]
    },
    {
     "name": "stderr",
     "output_type": "stream",
     "text": [
      "Average Metric: 55.8 / 32  (174.4):  64%|███████████████████████████████████████████████████████████████████████████████████▊                                               | 32/50 [00:31<00:17,  1.03it/s]"
     ]
    },
    {
     "name": "stdout",
     "output_type": "stream",
     "text": [
      "Faithful: 3\n",
      "Detail: 2\n",
      "Overall: 5\n",
      "Test Question: Untold: The Greatest Sports Stories Never Told was hosted by a sportscaster commonly referred to as what ?\n",
      "Predicted Answer: The sportscaster commonly referred to in the show \"Untold: The Greatest Sports Stories Never Told\" was hosted by Bob Costas.\n"
     ]
    },
    {
     "name": "stderr",
     "output_type": "stream",
     "text": [
      "Average Metric: 58.0 / 33  (175.8):  66%|██████████████████████████████████████████████████████████████████████████████████████▍                                            | 33/50 [00:33<00:17,  1.03s/it]"
     ]
    },
    {
     "name": "stdout",
     "output_type": "stream",
     "text": [
      "Faithful: 2\n",
      "Detail: 2\n",
      "Overall: 5\n",
      "Test Question: Are Walt Disney and Sacro GRA both documentry films?\n",
      "Predicted Answer: No, Walt Disney is not a documentary film. It is a company known for its animated films and theme parks. On the other hand, Sacro GRA is a documentary film directed by Gianfranco Rosi, which won the Golden Lion at the 70th Venice International Film Festival.\n"
     ]
    },
    {
     "name": "stderr",
     "output_type": "stream",
     "text": [
      "Average Metric: 60.2 / 34  (177.1):  68%|█████████████████████████████████████████████████████████████████████████████████████████                                          | 34/50 [00:33<00:15,  1.01it/s]"
     ]
    },
    {
     "name": "stdout",
     "output_type": "stream",
     "text": [
      "Faithful: 2\n",
      "Detail: 2\n",
      "Overall: 5\n",
      "Test Question: What is the Palestinian Islamic organization that governs th small territory on the eastern coast of the Mediterranean Sea that was captured by Israel during the 1967 Six-Day War?\n",
      "Predicted Answer: Hamas\n"
     ]
    },
    {
     "name": "stderr",
     "output_type": "stream",
     "text": [
      "Average Metric: 61.800000000000004 / 35  (176.6):  70%|█████████████████████████████████████████████████████████████████████████████████▉                                   | 35/50 [00:34<00:14,  1.04it/s]"
     ]
    },
    {
     "name": "stdout",
     "output_type": "stream",
     "text": [
      "Faithful: 1\n",
      "Detail: 1\n",
      "Overall: 5\n",
      "Test Question: What album did the song of which Taylor Swift premiered the music video of during the pre-show of the 2015 MTV Video Music Awards come from?\n",
      "Predicted Answer: The song \"Wildest Dreams\" comes from Taylor Swift's album \"1989.\"\n"
     ]
    },
    {
     "name": "stderr",
     "output_type": "stream",
     "text": [
      "Average Metric: 63.400000000000006 / 36  (176.1):  72%|████████████████████████████████████████████████████████████████████████████████████▏                                | 36/50 [00:35<00:13,  1.06it/s]"
     ]
    },
    {
     "name": "stdout",
     "output_type": "stream",
     "text": [
      "Faithful: 1\n",
      "Detail: 1\n",
      "Overall: 5\n",
      "Test Question: Which is considered a genus level classification, Apera or Gunnera manicata?\n",
      "Predicted Answer: Gunnera manicata\n"
     ]
    },
    {
     "name": "stderr",
     "output_type": "stream",
     "text": [
      "Average Metric: 65.4 / 37  (176.8):  74%|████████████████████████████████████████████████████████████████████████████████████████████████▉                                  | 37/50 [00:36<00:11,  1.10it/s]"
     ]
    },
    {
     "name": "stdout",
     "output_type": "stream",
     "text": [
      "Faithful: 1\n",
      "Detail: 3\n",
      "Overall: 5\n",
      "Test Question: Do The Drums and Pussy Galore play music of similar genres?\n",
      "Predicted Answer: The Drums and Pussy Galore do not play music of similar genres. The Drums are known for their indie pop and post-punk revival sound, while Pussy Galore is a noise rock and punk blues band.\n"
     ]
    },
    {
     "name": "stderr",
     "output_type": "stream",
     "text": [
      "Average Metric: 69.2 / 38  (182.1):  76%|███████████████████████████████████████████████████████████████████████████████████████████████████▌                               | 38/50 [00:37<00:10,  1.13it/s]"
     ]
    },
    {
     "name": "stdout",
     "output_type": "stream",
     "text": [
      "Faithful: 5\n",
      "Detail: 4\n",
      "Overall: 5\n",
      "Test Question: What is the post-nominal abbreviation for the university where the Banded Mongoose Research Project is based?\n",
      "Predicted Answer: The post-nominal abbreviation for the university where the Banded Mongoose Research Project is based is not provided in the given context.\n"
     ]
    },
    {
     "name": "stderr",
     "output_type": "stream",
     "text": [
      "Average Metric: 71.2 / 39  (182.6):  78%|██████████████████████████████████████████████████████████████████████████████████████████████████████▏                            | 39/50 [00:38<00:09,  1.13it/s]"
     ]
    },
    {
     "name": "stdout",
     "output_type": "stream",
     "text": [
      "Faithful: 1\n",
      "Detail: 3\n",
      "Overall: 5\n",
      "Test Question: Are both Benjamin Christensen and Len Wiseman directors?\n",
      "Predicted Answer: No, only Len Wiseman is mentioned in the context as a director. Benjamin Christensen is not mentioned in the context provided.\n"
     ]
    },
    {
     "name": "stderr",
     "output_type": "stream",
     "text": [
      "Average Metric: 73.2 / 40  (183.0):  80%|████████████████████████████████████████████████████████████████████████████████████████████████████████▊                          | 40/50 [00:39<00:09,  1.05it/s]"
     ]
    },
    {
     "name": "stdout",
     "output_type": "stream",
     "text": [
      "Faithful: 2\n",
      "Detail: 1\n",
      "Overall: 5\n",
      "Test Question: Steven Cuitlahuac Melendez and Disney are connected by what American animator?\n",
      "Predicted Answer: The American animator connected to Steven Cuitlahuac Melendez and Disney is Ub Iwerks.\n"
     ]
    },
    {
     "name": "stderr",
     "output_type": "stream",
     "text": [
      "Average Metric: 75.0 / 41  (182.9):  82%|███████████████████████████████████████████████████████████████████████████████████████████████████████████▍                       | 41/50 [00:40<00:08,  1.08it/s]"
     ]
    },
    {
     "name": "stdout",
     "output_type": "stream",
     "text": [
      "Faithful: 1\n",
      "Detail: 2\n",
      "Overall: 5\n",
      "Test Question: Shark Creek is located on this river which is in the northern rivers district?\n",
      "Predicted Answer: The river in the northern rivers district where Shark Creek is located is the Clarence River.\n"
     ]
    },
    {
     "name": "stderr",
     "output_type": "stream",
     "text": [
      "Average Metric: 77.2 / 42  (183.8):  84%|██████████████████████████████████████████████████████████████████████████████████████████████████████████████                     | 42/50 [00:41<00:07,  1.07it/s]"
     ]
    },
    {
     "name": "stdout",
     "output_type": "stream",
     "text": [
      "Faithful: 2\n",
      "Detail: 2\n",
      "Overall: 5\n",
      "Test Question: Who was the producer of the 2016 animated film about an amnesiac fish?\n",
      "Predicted Answer: The producer of the 2016 animated film about an amnesiac fish is Pixar Animation Studios.\n"
     ]
    },
    {
     "name": "stderr",
     "output_type": "stream",
     "text": [
      "Average Metric: 78.2 / 43  (181.9):  86%|████████████████████████████████████████████████████████████████████████████████████████████████████████████████▋                  | 43/50 [00:42<00:06,  1.10it/s]"
     ]
    },
    {
     "name": "stdout",
     "output_type": "stream",
     "text": [
      "Faithful: 1\n",
      "Detail: 2\n",
      "Overall: 1\n",
      "Test Question: Who purchased the team Michael Schumacher raced for in the 1995 Monaco Grand Prix in 2000?\n",
      "Predicted Answer: Fiat\n"
     ]
    },
    {
     "name": "stderr",
     "output_type": "stream",
     "text": [
      "Average Metric: 79.8 / 44  (181.4):  88%|███████████████████████████████████████████████████████████████████████████████████████████████████████████████████▎               | 44/50 [00:43<00:05,  1.06it/s]"
     ]
    },
    {
     "name": "stdout",
     "output_type": "stream",
     "text": [
      "Faithful: 1\n",
      "Detail: 1\n",
      "Overall: 5\n",
      "Test Question: Fredrick Law Olmsted was an American landscape architect, journalist, social critic and public administrator that designed what neighborhood in Trenton, New Jersey?\n",
      "Predicted Answer: Olmsted designed the neighborhood of Cadwalader Heights in Trenton, New Jersey.\n"
     ]
    },
    {
     "name": "stderr",
     "output_type": "stream",
     "text": [
      "Average Metric: 81.6 / 45  (181.3):  90%|█████████████████████████████████████████████████████████████████████████████████████████████████████████████████████▉             | 45/50 [00:44<00:04,  1.07it/s]"
     ]
    },
    {
     "name": "stdout",
     "output_type": "stream",
     "text": [
      "Faithful: 1\n",
      "Detail: 2\n",
      "Overall: 5\n",
      "Test Question: Gordon Warnecke worked alongside the former senator for which political party on Young Toscanini?\n",
      "Predicted Answer: Gordon Warnecke worked alongside the former senator for the Democratic Party on Young Toscanini.\n"
     ]
    },
    {
     "name": "stderr",
     "output_type": "stream",
     "text": [
      "Average Metric: 82.39999999999999 / 46  (179.1):  92%|████████████████████████████████████████████████████████████████████████████████████████████████████████████▌         | 46/50 [00:44<00:03,  1.06it/s]"
     ]
    },
    {
     "name": "stdout",
     "output_type": "stream",
     "text": [
      "Faithful: 1\n",
      "Detail: 1\n",
      "Overall: 1\n",
      "Test Question: André Zucca was a French photographer who worked with a German propaganda magazine published by what Nazi organization?\n",
      "Predicted Answer: Ministry of Public Enlightenment and Propaganda\n"
     ]
    },
    {
     "name": "stderr",
     "output_type": "stream",
     "text": [
      "Average Metric: 83.99999999999999 / 47  (178.7):  94%|██████████████████████████████████████████████████████████████████████████████████████████████████████████████▉       | 47/50 [00:45<00:02,  1.08it/s]"
     ]
    },
    {
     "name": "stdout",
     "output_type": "stream",
     "text": [
      "Faithful: 1\n",
      "Detail: 1\n",
      "Overall: 5\n",
      "Test Question: Both Bill Ponsford and Bill Woodfull played what?\n",
      "Predicted Answer: Both Bill Ponsford and Bill Woodfull played cricket.\n"
     ]
    },
    {
     "name": "stderr",
     "output_type": "stream",
     "text": [
      "Average Metric: 85.59999999999998 / 48  (178.3):  96%|█████████████████████████████████████████████████████████████████████████████████████████████████████████████████▎    | 48/50 [00:47<00:01,  1.00it/s]"
     ]
    },
    {
     "name": "stdout",
     "output_type": "stream",
     "text": [
      "Faithful: 1\n",
      "Detail: 1\n",
      "Overall: 5\n",
      "Test Question:  Suzana S. Drobnjaković Ponti acted in a film loosely based on a book by who?\n",
      "Predicted Answer: Unfortunately, based on the context provided, we cannot determine the answer to this question.\n"
     ]
    },
    {
     "name": "stderr",
     "output_type": "stream",
     "text": [
      "Average Metric: 88.39999999999998 / 49  (180.4):  98%|███████████████████████████████████████████████████████████████████████████████████████████████████████████████████▋  | 49/50 [00:48<00:01,  1.00s/it]"
     ]
    },
    {
     "name": "stdout",
     "output_type": "stream",
     "text": [
      "Faithful: 4\n",
      "Detail: 1\n",
      "Overall: 5\n",
      "Test Question: In what city was the Election Law Journal founded?\n",
      "Predicted Answer: Amsterdam\n"
     ]
    },
    {
     "name": "stderr",
     "output_type": "stream",
     "text": [
      "Average Metric: 91.59999999999998 / 50  (183.2): 100%|██████████████████████████████████████████████████████████████████████████████████████████████████████████████████████| 50/50 [00:48<00:00,  1.02it/s]"
     ]
    },
    {
     "name": "stdout",
     "output_type": "stream",
     "text": [
      "Faithful: 5\n",
      "Detail: 1\n",
      "Overall: 5\n",
      "Average Metric: 91.59999999999998 / 50  (183.2%)\n"
     ]
    },
    {
     "name": "stderr",
     "output_type": "stream",
     "text": [
      "\n",
      "/Users/derrickmwiti/.env/lib/python3.11/site-packages/dspy/evaluate/evaluate.py:266: FutureWarning: Setting an item of incompatible dtype is deprecated and will raise in a future error of pandas. Value '['1.8' '1.6' '0.8' '2.2' '0.8']' has dtype incompatible with float64, please explicitly cast to a compatible dtype first.\n",
      "  df.loc[:, metric_name] = df[metric_name].apply(\n"
     ]
    },
    {
     "data": {
      "text/html": [
       "<style type=\"text/css\">\n",
       "#T_31846 th {\n",
       "  text-align: left;\n",
       "}\n",
       "#T_31846 td {\n",
       "  text-align: left;\n",
       "}\n",
       "#T_31846_row0_col0, #T_31846_row0_col1, #T_31846_row0_col2, #T_31846_row0_col3, #T_31846_row0_col4, #T_31846_row0_col5, #T_31846_row1_col0, #T_31846_row1_col1, #T_31846_row1_col2, #T_31846_row1_col3, #T_31846_row1_col4, #T_31846_row1_col5, #T_31846_row2_col0, #T_31846_row2_col1, #T_31846_row2_col2, #T_31846_row2_col3, #T_31846_row2_col4, #T_31846_row2_col5, #T_31846_row3_col0, #T_31846_row3_col1, #T_31846_row3_col2, #T_31846_row3_col3, #T_31846_row3_col4, #T_31846_row3_col5, #T_31846_row4_col0, #T_31846_row4_col1, #T_31846_row4_col2, #T_31846_row4_col3, #T_31846_row4_col4, #T_31846_row4_col5 {\n",
       "  text-align: left;\n",
       "  white-space: pre-wrap;\n",
       "  word-wrap: break-word;\n",
       "  max-width: 400px;\n",
       "}\n",
       "</style>\n",
       "<table id=\"T_31846\">\n",
       "  <thead>\n",
       "    <tr>\n",
       "      <th class=\"blank level0\" >&nbsp;</th>\n",
       "      <th id=\"T_31846_level0_col0\" class=\"col_heading level0 col0\" >question</th>\n",
       "      <th id=\"T_31846_level0_col1\" class=\"col_heading level0 col1\" >example_answer</th>\n",
       "      <th id=\"T_31846_level0_col2\" class=\"col_heading level0 col2\" >gold_titles</th>\n",
       "      <th id=\"T_31846_level0_col3\" class=\"col_heading level0 col3\" >context</th>\n",
       "      <th id=\"T_31846_level0_col4\" class=\"col_heading level0 col4\" >pred_answer</th>\n",
       "      <th id=\"T_31846_level0_col5\" class=\"col_heading level0 col5\" >llm_metric</th>\n",
       "    </tr>\n",
       "  </thead>\n",
       "  <tbody>\n",
       "    <tr>\n",
       "      <th id=\"T_31846_level0_row0\" class=\"row_heading level0 row0\" >0</th>\n",
       "      <td id=\"T_31846_row0_col0\" class=\"data row0 col0\" >Are both Cangzhou and Qionghai in the Hebei province of China?</td>\n",
       "      <td id=\"T_31846_row0_col1\" class=\"data row0 col1\" >no</td>\n",
       "      <td id=\"T_31846_row0_col2\" class=\"data row0 col2\" >{'Cangzhou', 'Qionghai'}</td>\n",
       "      <td id=\"T_31846_row0_col3\" class=\"data row0 col3\" >['Table\\n* indicates \"Cities of COUNTRY or TERRITORY\" links.\\nCountry (or territory)\\tCapital\\tPopulation\\t% of country\\tSource\\n China\\u202f*\\tBeijing\\t21,542,000\\t1.5%\\t[1] 2018\\n Japan\\u202f*\\tTokyo\\t14,094,034\\t11.3%\\t[2] 2023\\n Russia\\u202f*\\tMoscow\\t13,104,177\\t9.0%\\t[3] 2023\\n DR Congo\\u202f*\\tKinshasa\\t12,691,000\\t13.2%\\t[4] 2017\\n Indonesia\\u202f*\\tJakarta\\t10,562,088\\t3.9%\\t[5] 2020\\n Egypt\\u202f*\\tCairo\\t10,107,125\\t9.3%\\t[6] 2022\\n...</td>\n",
       "      <td id=\"T_31846_row0_col4\" class=\"data row0 col4\" >No</td>\n",
       "      <td id=\"T_31846_row0_col5\" class=\"data row0 col5\" >1.8</td>\n",
       "    </tr>\n",
       "    <tr>\n",
       "      <th id=\"T_31846_level0_row1\" class=\"row_heading level0 row1\" >1</th>\n",
       "      <td id=\"T_31846_row1_col0\" class=\"data row1 col0\" >Who conducts the draft in which Marc-Andre Fleury was drafted to the Vegas Golden Knights for the 2017-18 season?</td>\n",
       "      <td id=\"T_31846_row1_col1\" class=\"data row1 col1\" >National Hockey League</td>\n",
       "      <td id=\"T_31846_row1_col2\" class=\"data row1 col2\" >{'2017–18 Pittsburgh Penguins season', '2017 NHL Expansion Draft'}</td>\n",
       "      <td id=\"T_31846_row1_col3\" class=\"data row1 col3\" >['Amsterdam holds two American football franchises: the Amsterdam Crusaders and the Amsterdam Panthers. The Amsterdam Pirates baseball team competes in the Dutch Major League. There...</td>\n",
       "      <td id=\"T_31846_row1_col4\" class=\"data row1 col4\" >The National Hockey League (NHL) conducted the draft in which Marc-Andre Fleury was drafted to the Vegas Golden Knights for the 2017-18 season.</td>\n",
       "      <td id=\"T_31846_row1_col5\" class=\"data row1 col5\" >1.6</td>\n",
       "    </tr>\n",
       "    <tr>\n",
       "      <th id=\"T_31846_level0_row2\" class=\"row_heading level0 row2\" >2</th>\n",
       "      <td id=\"T_31846_row2_col0\" class=\"data row2 col0\" >The Wings entered a new era, following the retirement of which Canadian retired professional ice hockey player and current general manager of the Tampa Bay...</td>\n",
       "      <td id=\"T_31846_row2_col1\" class=\"data row2 col1\" >Steve Yzerman</td>\n",
       "      <td id=\"T_31846_row2_col2\" class=\"data row2 col2\" >{'Steve Yzerman', '2006–07 Detroit Red Wings season'}</td>\n",
       "      <td id=\"T_31846_row2_col3\" class=\"data row2 col3\" >['city was finally liberated by Canadian forces on 5 May 1945, shortly before the end of the war in Europe.', 'In parallel, the Eastern Question...</td>\n",
       "      <td id=\"T_31846_row2_col4\" class=\"data row2 col4\" >Steve Yzerman</td>\n",
       "      <td id=\"T_31846_row2_col5\" class=\"data row2 col5\" >0.8</td>\n",
       "    </tr>\n",
       "    <tr>\n",
       "      <th id=\"T_31846_level0_row3\" class=\"row_heading level0 row3\" >3</th>\n",
       "      <td id=\"T_31846_row3_col0\" class=\"data row3 col0\" >What river is near the Crichton Collegiate Church?</td>\n",
       "      <td id=\"T_31846_row3_col1\" class=\"data row3 col1\" >the River Tyne</td>\n",
       "      <td id=\"T_31846_row3_col2\" class=\"data row3 col2\" >{'Crichton Castle', 'Crichton Collegiate Church'}</td>\n",
       "      <td id=\"T_31846_row3_col3\" class=\"data row3 col3\" >['By the mid-19th century, there were three main conventions, one following the Don, the Volga–Don Canal and the Volga, the other following the Kuma–Manych Depression...</td>\n",
       "      <td id=\"T_31846_row3_col4\" class=\"data row3 col4\" >The information provided does not specify the river near the Crichton Collegiate Church.</td>\n",
       "      <td id=\"T_31846_row3_col5\" class=\"data row3 col5\" >2.2</td>\n",
       "    </tr>\n",
       "    <tr>\n",
       "      <th id=\"T_31846_level0_row4\" class=\"row_heading level0 row4\" >4</th>\n",
       "      <td id=\"T_31846_row4_col0\" class=\"data row4 col0\" >In the 10th Century A.D. Ealhswith had a son called Æthelweard by which English king?</td>\n",
       "      <td id=\"T_31846_row4_col1\" class=\"data row4 col1\" >King Alfred the Great</td>\n",
       "      <td id=\"T_31846_row4_col2\" class=\"data row4 col2\" >{'Ealhswith', 'Æthelweard (son of Alfred)'}</td>\n",
       "      <td id=\"T_31846_row4_col3\" class=\"data row4 col3\" >['During the Dark Ages, the Western Roman Empire fell under the control of various tribes. The Germanic and Slav tribes established their domains over Western...</td>\n",
       "      <td id=\"T_31846_row4_col4\" class=\"data row4 col4\" >King Alfred the Great</td>\n",
       "      <td id=\"T_31846_row4_col5\" class=\"data row4 col5\" >0.8</td>\n",
       "    </tr>\n",
       "  </tbody>\n",
       "</table>\n"
      ],
      "text/plain": [
       "<pandas.io.formats.style.Styler at 0x30b6526d0>"
      ]
     },
     "metadata": {},
     "output_type": "display_data"
    },
    {
     "data": {
      "text/html": [
       "\n",
       "                <div style='\n",
       "                    text-align: center;\n",
       "                    font-size: 16px;\n",
       "                    font-weight: bold;\n",
       "                    color: #555;\n",
       "                    margin: 10px 0;'>\n",
       "                    ... 45 more rows not displayed ...\n",
       "                </div>\n",
       "                "
      ],
      "text/plain": [
       "<IPython.core.display.HTML object>"
      ]
     },
     "metadata": {},
     "output_type": "display_data"
    },
    {
     "data": {
      "text/plain": [
       "183.2"
      ]
     },
     "execution_count": 53,
     "metadata": {},
     "output_type": "execute_result"
    }
   ],
   "source": [
    "evaluate(third_compiled_rag, metric=llm_metric)"
   ]
  },
  {
   "cell_type": "markdown",
   "id": "05ebbc0c-3f01-4c7d-9e00-8b34d163774e",
   "metadata": {},
   "source": [
    "## Test Set Eval"
   ]
  },
  {
   "cell_type": "code",
   "execution_count": 55,
   "id": "a9de8bc9-0408-4bf3-95bd-ea8ffe263b7e",
   "metadata": {},
   "outputs": [],
   "source": [
    "# Evaluate Uncompiled\n",
    "from dspy.evaluate.evaluate import Evaluate\n",
    "\n",
    "# Set up the `evaluate_on_hotpotqa` function. We'll use this many times below.\n",
    "evaluate = Evaluate(devset=devset, num_threads=1, display_progress=True, display_table=5)"
   ]
  },
  {
   "cell_type": "code",
   "execution_count": 56,
   "id": "61160aaf-007d-4ca5-a34c-e23a7dd35ef0",
   "metadata": {},
   "outputs": [
    {
     "name": "stderr",
     "output_type": "stream",
     "text": [
      "  0%|                                                                                                                                                                                | 0/50 [00:00<?, ?it/s]"
     ]
    },
    {
     "name": "stdout",
     "output_type": "stream",
     "text": [
      "Test Question: Are both Cangzhou and Qionghai in the Hebei province of China?\n",
      "Predicted Answer: No\n"
     ]
    },
    {
     "name": "stderr",
     "output_type": "stream",
     "text": [
      "Average Metric: 1.8 / 1  (180.0):   2%|██▋                                                                                                                                   | 1/50 [00:02<01:40,  2.04s/it]"
     ]
    },
    {
     "name": "stdout",
     "output_type": "stream",
     "text": [
      "Faithful: 1\n",
      "Detail: 2\n",
      "Overall: 5\n",
      "Test Question: Who conducts the draft in which Marc-Andre Fleury was drafted to the Vegas Golden Knights for the 2017-18 season?\n",
      "Predicted Answer: The National Hockey League (NHL) conducted the draft in which Marc-Andre Fleury was drafted to the Vegas Golden Knights for the 2017-18 season.\n"
     ]
    },
    {
     "name": "stderr",
     "output_type": "stream",
     "text": [
      "Average Metric: 3.4000000000000004 / 2  (170.0):   4%|████▊                                                                                                                  | 2/50 [00:02<01:05,  1.36s/it]"
     ]
    },
    {
     "name": "stdout",
     "output_type": "stream",
     "text": [
      "Faithful: 1\n",
      "Detail: 1\n",
      "Overall: 5\n",
      "Test Question: The Wings entered a new era, following the retirement of which Canadian retired professional ice hockey player and current general manager of the Tampa Bay Lightning of the National Hockey League (NHL)?\n",
      "Predicted Answer: Steve Yzerman\n"
     ]
    },
    {
     "name": "stderr",
     "output_type": "stream",
     "text": [
      "Average Metric: 4.2 / 3  (140.0):   6%|████████                                                                                                                              | 3/50 [00:04<01:04,  1.38s/it]"
     ]
    },
    {
     "name": "stdout",
     "output_type": "stream",
     "text": [
      "Faithful: 1\n",
      "Detail: 1\n",
      "Overall: 1\n",
      "Test Question: What river is near the Crichton Collegiate Church?\n",
      "Predicted Answer: The information provided does not specify the river near the Crichton Collegiate Church.\n"
     ]
    },
    {
     "name": "stderr",
     "output_type": "stream",
     "text": [
      "Average Metric: 6.4 / 4  (160.0):   8%|██████████▋                                                                                                                           | 4/50 [00:05<00:54,  1.18s/it]"
     ]
    },
    {
     "name": "stdout",
     "output_type": "stream",
     "text": [
      "Faithful: 2\n",
      "Detail: 2\n",
      "Overall: 5\n",
      "Test Question: In the 10th Century A.D. Ealhswith had a son called Æthelweard by which English king?\n",
      "Predicted Answer: King Alfred the Great\n"
     ]
    },
    {
     "name": "stderr",
     "output_type": "stream",
     "text": [
      "Average Metric: 7.2 / 5  (144.0):  10%|█████████████▍                                                                                                                        | 5/50 [00:06<00:49,  1.09s/it]"
     ]
    },
    {
     "name": "stdout",
     "output_type": "stream",
     "text": [
      "Faithful: 1\n",
      "Detail: 1\n",
      "Overall: 1\n",
      "Test Question: The Newark Airport Exchange is at the northern edge of an airport that is operated by whom?\n",
      "Predicted Answer: The Newark Airport Exchange is at the northern edge of an airport that is operated by the Port Authority of New York and New Jersey.\n"
     ]
    },
    {
     "name": "stderr",
     "output_type": "stream",
     "text": [
      "Average Metric: 9.0 / 6  (150.0):  12%|████████████████                                                                                                                      | 6/50 [00:07<00:46,  1.05s/it]"
     ]
    },
    {
     "name": "stdout",
     "output_type": "stream",
     "text": [
      "Faithful: 1\n",
      "Detail: 2\n",
      "Overall: 5\n",
      "Test Question: Where did an event take place resulting in a win during a domestic double due to the action of a Peruvian footballer known for his goal scoring ability?\n",
      "Predicted Answer: The event took place in Amsterdam, with Ajax winning a domestic double possibly due to the action of a Peruvian footballer known for his goal scoring ability.\n"
     ]
    },
    {
     "name": "stderr",
     "output_type": "stream",
     "text": [
      "Average Metric: 10.4 / 7  (148.6):  14%|██████████████████▌                                                                                                                  | 7/50 [00:07<00:42,  1.01it/s]"
     ]
    },
    {
     "name": "stdout",
     "output_type": "stream",
     "text": [
      "Faithful: 1\n",
      "Detail: 2\n",
      "Overall: 3\n",
      "Test Question: Are both Chico Municipal Airport and William R. Fairchild International Airport in California?\n",
      "Predicted Answer: No, Chico Municipal Airport is in California, but William R. Fairchild International Airport is in Washington state.\n"
     ]
    },
    {
     "name": "stderr",
     "output_type": "stream",
     "text": [
      "Average Metric: 12.200000000000001 / 8  (152.5):  16%|███████████████████                                                                                                    | 8/50 [00:08<00:40,  1.04it/s]"
     ]
    },
    {
     "name": "stdout",
     "output_type": "stream",
     "text": [
      "Faithful: 1\n",
      "Detail: 2\n",
      "Overall: 5\n",
      "Test Question: In which Maine county is Fort Pownall located?\n",
      "Predicted Answer: Fort Pownall is located in Waldo County, Maine.\n"
     ]
    },
    {
     "name": "stderr",
     "output_type": "stream",
     "text": [
      "Average Metric: 14.600000000000001 / 9  (162.2):  18%|█████████████████████▍                                                                                                 | 9/50 [00:09<00:40,  1.02it/s]"
     ]
    },
    {
     "name": "stdout",
     "output_type": "stream",
     "text": [
      "Faithful: 3\n",
      "Detail: 1\n",
      "Overall: 5\n",
      "Test Question: Which 90s rock band has more recently reformed, Gene or The Afghan Whigs?\n",
      "Predicted Answer: The Afghan Whigs\n"
     ]
    },
    {
     "name": "stderr",
     "output_type": "stream",
     "text": [
      "Average Metric: 16.200000000000003 / 10  (162.0):  20%|███████████████████████▍                                                                                             | 10/50 [00:10<00:38,  1.04it/s]"
     ]
    },
    {
     "name": "stdout",
     "output_type": "stream",
     "text": [
      "Faithful: 1\n",
      "Detail: 1\n",
      "Overall: 5\n",
      "Test Question: What year did the mountain known in Italian as \"Monte Vesuvio\", erupt?\n",
      "Predicted Answer: The eruption of Mount Vesuvius, known in Italian as \"Monte Vesuvio\", famously occurred in the year 79 AD.\n"
     ]
    },
    {
     "name": "stderr",
     "output_type": "stream",
     "text": [
      "Average Metric: 17.800000000000004 / 11  (161.8):  22%|█████████████████████████▋                                                                                           | 11/50 [00:11<00:36,  1.06it/s]"
     ]
    },
    {
     "name": "stdout",
     "output_type": "stream",
     "text": [
      "Faithful: 1\n",
      "Detail: 1\n",
      "Overall: 5\n",
      "Test Question: Is the 72nd field brigade part of the oldest or newest established field army?\n",
      "Predicted Answer: The 72nd field brigade is likely part of the newest established field army.\n"
     ]
    },
    {
     "name": "stderr",
     "output_type": "stream",
     "text": [
      "Average Metric: 19.400000000000006 / 12  (161.7):  24%|████████████████████████████                                                                                         | 12/50 [00:12<00:34,  1.09it/s]"
     ]
    },
    {
     "name": "stdout",
     "output_type": "stream",
     "text": [
      "Faithful: 1\n",
      "Detail: 1\n",
      "Overall: 5\n",
      "Test Question: Was Stanislaw Kiszka paid for his services by the Royal Treasury?\n",
      "Predicted Answer: Based on the information provided, it is not explicitly stated whether Stanislaw Kiszka was paid for his services by the Royal Treasury.\n"
     ]
    },
    {
     "name": "stderr",
     "output_type": "stream",
     "text": [
      "Average Metric: 21.600000000000005 / 13  (166.2):  26%|██████████████████████████████▍                                                                                      | 13/50 [00:13<00:33,  1.10it/s]"
     ]
    },
    {
     "name": "stdout",
     "output_type": "stream",
     "text": [
      "Faithful: 2\n",
      "Detail: 2\n",
      "Overall: 5\n",
      "Test Question: Which film director is younger, Del Lord or Wang Xiaoshuai?\n",
      "Predicted Answer: Wang Xiaoshuai is younger than Del Lord.\n"
     ]
    },
    {
     "name": "stderr",
     "output_type": "stream",
     "text": [
      "Average Metric: 23.200000000000006 / 14  (165.7):  28%|████████████████████████████████▊                                                                                    | 14/50 [00:14<00:32,  1.11it/s]"
     ]
    },
    {
     "name": "stdout",
     "output_type": "stream",
     "text": [
      "Faithful: 1\n",
      "Detail: 1\n",
      "Overall: 5\n",
      "Test Question: Lord North Street has a resident in which former Conservative MP who received an 18-month prison sentence for perjury in 1999?\n",
      "Predicted Answer: Jonathan Aitken\n"
     ]
    },
    {
     "name": "stderr",
     "output_type": "stream",
     "text": [
      "Average Metric: 24.800000000000008 / 15  (165.3):  30%|███████████████████████████████████                                                                                  | 15/50 [00:15<00:32,  1.09it/s]"
     ]
    },
    {
     "name": "stdout",
     "output_type": "stream",
     "text": [
      "Faithful: 1\n",
      "Detail: 1\n",
      "Overall: 5\n",
      "Test Question: What is the name of this region of Italy, referring to the medieval March of Ancona and nearby marches of Camerino and Fermo, where the comune Pollenza is located?\n",
      "Predicted Answer: Marche\n"
     ]
    },
    {
     "name": "stderr",
     "output_type": "stream",
     "text": [
      "Average Metric: 26.40000000000001 / 16  (165.0):  32%|█████████████████████████████████████▊                                                                                | 16/50 [00:16<00:31,  1.07it/s]"
     ]
    },
    {
     "name": "stdout",
     "output_type": "stream",
     "text": [
      "Faithful: 1\n",
      "Detail: 1\n",
      "Overall: 5\n",
      "Test Question: William Hughes Miller was born in a city with how many inhabitants ?\n",
      "Predicted Answer: 872,000\n"
     ]
    },
    {
     "name": "stderr",
     "output_type": "stream",
     "text": [
      "Average Metric: 29.60000000000001 / 17  (174.1):  34%|████████████████████████████████████████                                                                              | 17/50 [00:17<00:31,  1.05it/s]"
     ]
    },
    {
     "name": "stdout",
     "output_type": "stream",
     "text": [
      "Faithful: 5\n",
      "Detail: 1\n",
      "Overall: 5\n",
      "Test Question: What do students do at the school of New York University where Meleko Mokgosi is an artist and assistant professor?\n",
      "Predicted Answer: Students at the school of New York University where Meleko Mokgosi is an artist and assistant professor likely engage in art-related activities, attend classes, and workshops led by him.\n"
     ]
    },
    {
     "name": "stderr",
     "output_type": "stream",
     "text": [
      "Average Metric: 32.400000000000006 / 18  (180.0):  36%|██████████████████████████████████████████                                                                           | 18/50 [00:22<01:09,  2.16s/it]"
     ]
    },
    {
     "name": "stdout",
     "output_type": "stream",
     "text": [
      "Faithful: 3\n",
      "Detail: 3\n",
      "Overall: 5\n",
      "Test Question: What is the nationality of the chef and restaurateur featured in Restaurant: Impossible?\n",
      "Predicted Answer: American\n"
     ]
    },
    {
     "name": "stderr",
     "output_type": "stream",
     "text": [
      "Average Metric: 34.00000000000001 / 19  (178.9):  38%|████████████████████████████████████████████▊                                                                         | 19/50 [00:23<01:02,  2.03s/it]"
     ]
    },
    {
     "name": "stdout",
     "output_type": "stream",
     "text": [
      "Faithful: 1\n",
      "Detail: 1\n",
      "Overall: 5\n",
      "Test Question: What American actor plays an East side drug lord who prefers peaceful solutions to business disputes when possible?\n",
      "Predicted Answer: Samuel L. Jackson\n"
     ]
    },
    {
     "name": "stderr",
     "output_type": "stream",
     "text": [
      "Average Metric: 34.800000000000004 / 20  (174.0):  40%|██████████████████████████████████████████████▊                                                                      | 20/50 [00:24<00:50,  1.69s/it]"
     ]
    },
    {
     "name": "stdout",
     "output_type": "stream",
     "text": [
      "Faithful: 1\n",
      "Detail: 1\n",
      "Overall: 1\n",
      "Test Question: What city is 11 miles north of the birthplace of actor Toby Sawyer?\n",
      "Predicted Answer: Without knowing Toby Sawyer's birthplace, we cannot determine the city that is 11 miles north of it.\n"
     ]
    },
    {
     "name": "stderr",
     "output_type": "stream",
     "text": [
      "Average Metric: 38.00000000000001 / 21  (181.0):  42%|█████████████████████████████████████████████████▌                                                                    | 21/50 [00:25<00:43,  1.50s/it]"
     ]
    },
    {
     "name": "stdout",
     "output_type": "stream",
     "text": [
      "Faithful: 4\n",
      "Detail: 3\n",
      "Overall: 5\n",
      "Test Question: Who was born first, Tony Kaye or Deepa Mehta?\n",
      "Predicted Answer: Tony Kaye was born first.\n"
     ]
    },
    {
     "name": "stderr",
     "output_type": "stream",
     "text": [
      "Average Metric: 39.60000000000001 / 22  (180.0):  44%|███████████████████████████████████████████████████▉                                                                  | 22/50 [00:26<00:37,  1.34s/it]"
     ]
    },
    {
     "name": "stdout",
     "output_type": "stream",
     "text": [
      "Faithful: 1\n",
      "Detail: 1\n",
      "Overall: 5\n",
      "Test Question: What is the English translation of the name of the store that Macy's replaced in Boise Town Square?\n",
      "Predicted Answer: The English translation of the name of the store that Macy's replaced in Boise Town Square is not provided in the given context.\n"
     ]
    },
    {
     "name": "stderr",
     "output_type": "stream",
     "text": [
      "Average Metric: 41.400000000000006 / 23  (180.0):  46%|█████████████████████████████████████████████████████▊                                                               | 23/50 [00:27<00:32,  1.21s/it]"
     ]
    },
    {
     "name": "stdout",
     "output_type": "stream",
     "text": [
      "Faithful: 1\n",
      "Detail: 2\n",
      "Overall: 5\n",
      "Test Question: Who did Lizzette Reynolds fire to make her notable in November 2007?\n",
      "Predicted Answer: Lizzette Reynolds fired the head coach of the University of Arkansas football team, Houston Nutt, in November 2007.\n"
     ]
    },
    {
     "name": "stderr",
     "output_type": "stream",
     "text": [
      "Average Metric: 43.2 / 24  (180.0):  48%|██████████████████████████████████████████████████████████████▉                                                                    | 24/50 [00:29<00:32,  1.25s/it]"
     ]
    },
    {
     "name": "stdout",
     "output_type": "stream",
     "text": [
      "Faithful: 1\n",
      "Detail: 2\n",
      "Overall: 5\n",
      "Test Question: What was the name of the man, who was billed by the coiner of the phrase \"There's a sucker born every minute\" as \"Boy Lightning Calculator\"?\n",
      "Predicted Answer: P.T. Barnum\n"
     ]
    },
    {
     "name": "stderr",
     "output_type": "stream",
     "text": [
      "Average Metric: 44.800000000000004 / 25  (179.2):  50%|██████████████████████████████████████████████████████████▌                                                          | 25/50 [00:30<00:28,  1.16s/it]"
     ]
    },
    {
     "name": "stdout",
     "output_type": "stream",
     "text": [
      "Faithful: 1\n",
      "Detail: 1\n",
      "Overall: 5\n",
      "Test Question: Which battle was fought for a shorter period of time, the Battle of the Ch'ongch'on River, or the Meuse-Argonne Offensive?\n",
      "Predicted Answer: The Battle of the Ch'ongch'on River was fought for a shorter period of time compared to the Meuse-Argonne Offensive.\n"
     ]
    },
    {
     "name": "stderr",
     "output_type": "stream",
     "text": [
      "Average Metric: 46.800000000000004 / 26  (180.0):  52%|████████████████████████████████████████████████████████████▊                                                        | 26/50 [00:31<00:26,  1.09s/it]"
     ]
    },
    {
     "name": "stdout",
     "output_type": "stream",
     "text": [
      "Faithful: 2\n",
      "Detail: 1\n",
      "Overall: 5\n",
      "Test Question: What cricketeer active 1974–1993 had a strong performance in the tour by the Australian cricket team in England in 1981?\n",
      "Predicted Answer: Ian Botham\n"
     ]
    },
    {
     "name": "stderr",
     "output_type": "stream",
     "text": [
      "Average Metric: 47.6 / 27  (176.3):  54%|██████████████████████████████████████████████████████████████████████▋                                                            | 27/50 [00:31<00:24,  1.06s/it]"
     ]
    },
    {
     "name": "stdout",
     "output_type": "stream",
     "text": [
      "Faithful: 1\n",
      "Detail: 1\n",
      "Overall: 1\n",
      "Test Question: What is the present post of the head coach of the 1982 NC State Wolfpack football team ?\n",
      "Predicted Answer: The present post of the head coach of the 1982 NC State Wolfpack football team is not provided in the context.\n"
     ]
    },
    {
     "name": "stderr",
     "output_type": "stream",
     "text": [
      "Average Metric: 49.4 / 28  (176.4):  56%|█████████████████████████████████████████████████████████████████████████▎                                                         | 28/50 [00:32<00:22,  1.02s/it]"
     ]
    },
    {
     "name": "stdout",
     "output_type": "stream",
     "text": [
      "Faithful: 1\n",
      "Detail: 2\n",
      "Overall: 5\n",
      "Test Question: Which Scottish actor sang \"Come What May\"?\n",
      "Predicted Answer: Ewan McGregor\n"
     ]
    },
    {
     "name": "stderr",
     "output_type": "stream",
     "text": [
      "Average Metric: 50.199999999999996 / 29  (173.1):  58%|███████████████████████████████████████████████████████████████████▊                                                 | 29/50 [00:33<00:20,  1.02it/s]"
     ]
    },
    {
     "name": "stdout",
     "output_type": "stream",
     "text": [
      "Faithful: 1\n",
      "Detail: 1\n",
      "Overall: 1\n",
      "Test Question: Where have Ivan Bella and Frank De Winne both traveled?\n",
      "Predicted Answer: Ivan Bella and Frank De Winne have both traveled to the Netherlands.\n"
     ]
    },
    {
     "name": "stderr",
     "output_type": "stream",
     "text": [
      "Average Metric: 52.199999999999996 / 30  (174.0):  60%|██████████████████████████████████████████████████████████████████████▏                                              | 30/50 [00:34<00:18,  1.06it/s]"
     ]
    },
    {
     "name": "stdout",
     "output_type": "stream",
     "text": [
      "Faithful: 2\n",
      "Detail: 1\n",
      "Overall: 5\n",
      "Test Question: The original work by Anton Chekhov involving a disillusioned schoolmaster, which inspired a later play by this British playwright, was written specifically for whom?\n",
      "Predicted Answer: The original work by Anton Chekhov involving a disillusioned schoolmaster, which inspired a later play by a British playwright, was specifically written for the Russian audience.\n"
     ]
    },
    {
     "name": "stderr",
     "output_type": "stream",
     "text": [
      "Average Metric: 54.199999999999996 / 31  (174.8):  62%|████████████████████████████████████████████████████████████████████████▌                                            | 31/50 [00:35<00:17,  1.09it/s]"
     ]
    },
    {
     "name": "stdout",
     "output_type": "stream",
     "text": [
      "Faithful: 1\n",
      "Detail: 3\n",
      "Overall: 5\n",
      "Test Question: Are Roswell International Air Center and Pago Pago International Airport both located in the mainland US?\n",
      "Predicted Answer: No, Pago Pago International Airport is not located in the mainland US.\n"
     ]
    },
    {
     "name": "stderr",
     "output_type": "stream",
     "text": [
      "Average Metric: 56.8 / 32  (177.5):  64%|███████████████████████████████████████████████████████████████████████████████████▊                                               | 32/50 [00:36<00:16,  1.08it/s]"
     ]
    },
    {
     "name": "stdout",
     "output_type": "stream",
     "text": [
      "Faithful: 3\n",
      "Detail: 2\n",
      "Overall: 5\n",
      "Test Question: Untold: The Greatest Sports Stories Never Told was hosted by a sportscaster commonly referred to as what ?\n",
      "Predicted Answer: The sportscaster commonly referred to in the show \"Untold: The Greatest Sports Stories Never Told\" was hosted by Bob Costas.\n"
     ]
    },
    {
     "name": "stderr",
     "output_type": "stream",
     "text": [
      "Average Metric: 59.0 / 33  (178.8):  66%|██████████████████████████████████████████████████████████████████████████████████████▍                                            | 33/50 [00:37<00:15,  1.10it/s]"
     ]
    },
    {
     "name": "stdout",
     "output_type": "stream",
     "text": [
      "Faithful: 2\n",
      "Detail: 2\n",
      "Overall: 5\n",
      "Test Question: Are Walt Disney and Sacro GRA both documentry films?\n",
      "Predicted Answer: No, Walt Disney is not a documentary film. It is a company known for its animated films and theme parks. On the other hand, Sacro GRA is a documentary film directed by Gianfranco Rosi, which won the Golden Lion at the 70th Venice International Film Festival.\n"
     ]
    },
    {
     "name": "stderr",
     "output_type": "stream",
     "text": [
      "Average Metric: 61.2 / 34  (180.0):  68%|█████████████████████████████████████████████████████████████████████████████████████████                                          | 34/50 [00:38<00:14,  1.14it/s]"
     ]
    },
    {
     "name": "stdout",
     "output_type": "stream",
     "text": [
      "Faithful: 2\n",
      "Detail: 2\n",
      "Overall: 5\n",
      "Test Question: What is the Palestinian Islamic organization that governs th small territory on the eastern coast of the Mediterranean Sea that was captured by Israel during the 1967 Six-Day War?\n",
      "Predicted Answer: Hamas\n"
     ]
    },
    {
     "name": "stderr",
     "output_type": "stream",
     "text": [
      "Average Metric: 62.800000000000004 / 35  (179.4):  70%|█████████████████████████████████████████████████████████████████████████████████▉                                   | 35/50 [00:39<00:13,  1.11it/s]"
     ]
    },
    {
     "name": "stdout",
     "output_type": "stream",
     "text": [
      "Faithful: 1\n",
      "Detail: 1\n",
      "Overall: 5\n",
      "Test Question: What album did the song of which Taylor Swift premiered the music video of during the pre-show of the 2015 MTV Video Music Awards come from?\n",
      "Predicted Answer: The song \"Wildest Dreams\" comes from Taylor Swift's album \"1989.\"\n"
     ]
    },
    {
     "name": "stderr",
     "output_type": "stream",
     "text": [
      "Average Metric: 64.4 / 36  (178.9):  72%|██████████████████████████████████████████████████████████████████████████████████████████████▎                                    | 36/50 [00:39<00:12,  1.12it/s]"
     ]
    },
    {
     "name": "stdout",
     "output_type": "stream",
     "text": [
      "Faithful: 1\n",
      "Detail: 1\n",
      "Overall: 5\n",
      "Test Question: Which is considered a genus level classification, Apera or Gunnera manicata?\n",
      "Predicted Answer: Gunnera manicata\n"
     ]
    },
    {
     "name": "stderr",
     "output_type": "stream",
     "text": [
      "Average Metric: 66.4 / 37  (179.5):  74%|████████████████████████████████████████████████████████████████████████████████████████████████▉                                  | 37/50 [00:40<00:11,  1.10it/s]"
     ]
    },
    {
     "name": "stdout",
     "output_type": "stream",
     "text": [
      "Faithful: 1\n",
      "Detail: 3\n",
      "Overall: 5\n",
      "Test Question: Do The Drums and Pussy Galore play music of similar genres?\n",
      "Predicted Answer: The Drums and Pussy Galore do not play music of similar genres. The Drums are known for their indie pop and post-punk revival sound, while Pussy Galore is a noise rock and punk blues band.\n"
     ]
    },
    {
     "name": "stderr",
     "output_type": "stream",
     "text": [
      "Average Metric: 70.2 / 38  (184.7):  76%|███████████████████████████████████████████████████████████████████████████████████████████████████▌                               | 38/50 [00:41<00:11,  1.08it/s]"
     ]
    },
    {
     "name": "stdout",
     "output_type": "stream",
     "text": [
      "Faithful: 5\n",
      "Detail: 4\n",
      "Overall: 5\n",
      "Test Question: What is the post-nominal abbreviation for the university where the Banded Mongoose Research Project is based?\n",
      "Predicted Answer: The post-nominal abbreviation for the university where the Banded Mongoose Research Project is based is not provided in the given context.\n"
     ]
    },
    {
     "name": "stderr",
     "output_type": "stream",
     "text": [
      "Average Metric: 72.2 / 39  (185.1):  78%|██████████████████████████████████████████████████████████████████████████████████████████████████████▏                            | 39/50 [00:42<00:10,  1.09it/s]"
     ]
    },
    {
     "name": "stdout",
     "output_type": "stream",
     "text": [
      "Faithful: 1\n",
      "Detail: 3\n",
      "Overall: 5\n",
      "Test Question: Are both Benjamin Christensen and Len Wiseman directors?\n",
      "Predicted Answer: No, only Len Wiseman is mentioned in the context as a director. Benjamin Christensen is not mentioned in the context provided.\n"
     ]
    },
    {
     "name": "stderr",
     "output_type": "stream",
     "text": [
      "Average Metric: 74.2 / 40  (185.5):  80%|████████████████████████████████████████████████████████████████████████████████████████████████████████▊                          | 40/50 [00:43<00:08,  1.11it/s]"
     ]
    },
    {
     "name": "stdout",
     "output_type": "stream",
     "text": [
      "Faithful: 2\n",
      "Detail: 1\n",
      "Overall: 5\n",
      "Test Question: Steven Cuitlahuac Melendez and Disney are connected by what American animator?\n",
      "Predicted Answer: The American animator connected to Steven Cuitlahuac Melendez and Disney is Ub Iwerks.\n"
     ]
    },
    {
     "name": "stderr",
     "output_type": "stream",
     "text": [
      "Average Metric: 76.0 / 41  (185.4):  82%|███████████████████████████████████████████████████████████████████████████████████████████████████████████▍                       | 41/50 [00:44<00:07,  1.14it/s]"
     ]
    },
    {
     "name": "stdout",
     "output_type": "stream",
     "text": [
      "Faithful: 1\n",
      "Detail: 2\n",
      "Overall: 5\n",
      "Test Question: Shark Creek is located on this river which is in the northern rivers district?\n",
      "Predicted Answer: The river in the northern rivers district where Shark Creek is located is the Clarence River.\n"
     ]
    },
    {
     "name": "stderr",
     "output_type": "stream",
     "text": [
      "Average Metric: 78.2 / 42  (186.2):  84%|██████████████████████████████████████████████████████████████████████████████████████████████████████████████                     | 42/50 [00:45<00:06,  1.15it/s]"
     ]
    },
    {
     "name": "stdout",
     "output_type": "stream",
     "text": [
      "Faithful: 2\n",
      "Detail: 2\n",
      "Overall: 5\n",
      "Test Question: Who was the producer of the 2016 animated film about an amnesiac fish?\n",
      "Predicted Answer: The producer of the 2016 animated film about an amnesiac fish is Pixar Animation Studios.\n"
     ]
    },
    {
     "name": "stderr",
     "output_type": "stream",
     "text": [
      "Average Metric: 79.2 / 43  (184.2):  86%|████████████████████████████████████████████████████████████████████████████████████████████████████████████████▋                  | 43/50 [00:46<00:06,  1.15it/s]"
     ]
    },
    {
     "name": "stdout",
     "output_type": "stream",
     "text": [
      "Faithful: 1\n",
      "Detail: 2\n",
      "Overall: 1\n",
      "Test Question: Who purchased the team Michael Schumacher raced for in the 1995 Monaco Grand Prix in 2000?\n",
      "Predicted Answer: Fiat\n"
     ]
    },
    {
     "name": "stderr",
     "output_type": "stream",
     "text": [
      "Average Metric: 80.8 / 44  (183.6):  88%|███████████████████████████████████████████████████████████████████████████████████████████████████████████████████▎               | 44/50 [00:47<00:05,  1.10it/s]"
     ]
    },
    {
     "name": "stdout",
     "output_type": "stream",
     "text": [
      "Faithful: 1\n",
      "Detail: 1\n",
      "Overall: 5\n",
      "Test Question: Fredrick Law Olmsted was an American landscape architect, journalist, social critic and public administrator that designed what neighborhood in Trenton, New Jersey?\n",
      "Predicted Answer: Olmsted designed the neighborhood of Cadwalader Heights in Trenton, New Jersey.\n"
     ]
    },
    {
     "name": "stderr",
     "output_type": "stream",
     "text": [
      "Average Metric: 82.6 / 45  (183.6):  90%|█████████████████████████████████████████████████████████████████████████████████████████████████████████████████████▉             | 45/50 [00:48<00:04,  1.07it/s]"
     ]
    },
    {
     "name": "stdout",
     "output_type": "stream",
     "text": [
      "Faithful: 1\n",
      "Detail: 2\n",
      "Overall: 5\n",
      "Test Question: Gordon Warnecke worked alongside the former senator for which political party on Young Toscanini?\n",
      "Predicted Answer: Gordon Warnecke worked alongside the former senator for the Democratic Party on Young Toscanini.\n"
     ]
    },
    {
     "name": "stderr",
     "output_type": "stream",
     "text": [
      "Average Metric: 83.39999999999999 / 46  (181.3):  92%|████████████████████████████████████████████████████████████████████████████████████████████████████████████▌         | 46/50 [00:49<00:03,  1.06it/s]"
     ]
    },
    {
     "name": "stdout",
     "output_type": "stream",
     "text": [
      "Faithful: 1\n",
      "Detail: 1\n",
      "Overall: 1\n",
      "Test Question: André Zucca was a French photographer who worked with a German propaganda magazine published by what Nazi organization?\n",
      "Predicted Answer: Ministry of Public Enlightenment and Propaganda\n"
     ]
    },
    {
     "name": "stderr",
     "output_type": "stream",
     "text": [
      "Average Metric: 84.99999999999999 / 47  (180.9):  94%|██████████████████████████████████████████████████████████████████████████████████████████████████████████████▉       | 47/50 [00:50<00:02,  1.06it/s]"
     ]
    },
    {
     "name": "stdout",
     "output_type": "stream",
     "text": [
      "Faithful: 1\n",
      "Detail: 1\n",
      "Overall: 5\n",
      "Test Question: Both Bill Ponsford and Bill Woodfull played what?\n",
      "Predicted Answer: Both Bill Ponsford and Bill Woodfull played cricket.\n"
     ]
    },
    {
     "name": "stderr",
     "output_type": "stream",
     "text": [
      "Average Metric: 86.59999999999998 / 48  (180.4):  96%|█████████████████████████████████████████████████████████████████████████████████████████████████████████████████▎    | 48/50 [00:51<00:01,  1.03it/s]"
     ]
    },
    {
     "name": "stdout",
     "output_type": "stream",
     "text": [
      "Faithful: 1\n",
      "Detail: 1\n",
      "Overall: 5\n",
      "Test Question:  Suzana S. Drobnjaković Ponti acted in a film loosely based on a book by who?\n",
      "Predicted Answer: Unfortunately, based on the context provided, we cannot determine the answer to this question.\n"
     ]
    },
    {
     "name": "stderr",
     "output_type": "stream",
     "text": [
      "Average Metric: 89.39999999999998 / 49  (182.4):  98%|███████████████████████████████████████████████████████████████████████████████████████████████████████████████████▋  | 49/50 [00:52<00:00,  1.05it/s]"
     ]
    },
    {
     "name": "stdout",
     "output_type": "stream",
     "text": [
      "Faithful: 4\n",
      "Detail: 1\n",
      "Overall: 5\n",
      "Test Question: In what city was the Election Law Journal founded?\n",
      "Predicted Answer: Amsterdam\n"
     ]
    },
    {
     "name": "stderr",
     "output_type": "stream",
     "text": [
      "Average Metric: 92.59999999999998 / 50  (185.2): 100%|██████████████████████████████████████████████████████████████████████████████████████████████████████████████████████| 50/50 [00:52<00:00,  1.06s/it]"
     ]
    },
    {
     "name": "stdout",
     "output_type": "stream",
     "text": [
      "Faithful: 5\n",
      "Detail: 1\n",
      "Overall: 5\n",
      "Average Metric: 92.59999999999998 / 50  (185.2%)\n"
     ]
    },
    {
     "name": "stderr",
     "output_type": "stream",
     "text": [
      "\n",
      "/Users/derrickmwiti/.env/lib/python3.11/site-packages/dspy/evaluate/evaluate.py:266: FutureWarning: Setting an item of incompatible dtype is deprecated and will raise in a future error of pandas. Value '['1.8' '1.6' '0.8' '2.2' '0.8']' has dtype incompatible with float64, please explicitly cast to a compatible dtype first.\n",
      "  df.loc[:, metric_name] = df[metric_name].apply(\n"
     ]
    },
    {
     "data": {
      "text/html": [
       "<style type=\"text/css\">\n",
       "#T_d7703 th {\n",
       "  text-align: left;\n",
       "}\n",
       "#T_d7703 td {\n",
       "  text-align: left;\n",
       "}\n",
       "#T_d7703_row0_col0, #T_d7703_row0_col1, #T_d7703_row0_col2, #T_d7703_row0_col3, #T_d7703_row0_col4, #T_d7703_row0_col5, #T_d7703_row1_col0, #T_d7703_row1_col1, #T_d7703_row1_col2, #T_d7703_row1_col3, #T_d7703_row1_col4, #T_d7703_row1_col5, #T_d7703_row2_col0, #T_d7703_row2_col1, #T_d7703_row2_col2, #T_d7703_row2_col3, #T_d7703_row2_col4, #T_d7703_row2_col5, #T_d7703_row3_col0, #T_d7703_row3_col1, #T_d7703_row3_col2, #T_d7703_row3_col3, #T_d7703_row3_col4, #T_d7703_row3_col5, #T_d7703_row4_col0, #T_d7703_row4_col1, #T_d7703_row4_col2, #T_d7703_row4_col3, #T_d7703_row4_col4, #T_d7703_row4_col5 {\n",
       "  text-align: left;\n",
       "  white-space: pre-wrap;\n",
       "  word-wrap: break-word;\n",
       "  max-width: 400px;\n",
       "}\n",
       "</style>\n",
       "<table id=\"T_d7703\">\n",
       "  <thead>\n",
       "    <tr>\n",
       "      <th class=\"blank level0\" >&nbsp;</th>\n",
       "      <th id=\"T_d7703_level0_col0\" class=\"col_heading level0 col0\" >question</th>\n",
       "      <th id=\"T_d7703_level0_col1\" class=\"col_heading level0 col1\" >example_answer</th>\n",
       "      <th id=\"T_d7703_level0_col2\" class=\"col_heading level0 col2\" >gold_titles</th>\n",
       "      <th id=\"T_d7703_level0_col3\" class=\"col_heading level0 col3\" >context</th>\n",
       "      <th id=\"T_d7703_level0_col4\" class=\"col_heading level0 col4\" >pred_answer</th>\n",
       "      <th id=\"T_d7703_level0_col5\" class=\"col_heading level0 col5\" >llm_metric</th>\n",
       "    </tr>\n",
       "  </thead>\n",
       "  <tbody>\n",
       "    <tr>\n",
       "      <th id=\"T_d7703_level0_row0\" class=\"row_heading level0 row0\" >0</th>\n",
       "      <td id=\"T_d7703_row0_col0\" class=\"data row0 col0\" >Are both Cangzhou and Qionghai in the Hebei province of China?</td>\n",
       "      <td id=\"T_d7703_row0_col1\" class=\"data row0 col1\" >no</td>\n",
       "      <td id=\"T_d7703_row0_col2\" class=\"data row0 col2\" >{'Cangzhou', 'Qionghai'}</td>\n",
       "      <td id=\"T_d7703_row0_col3\" class=\"data row0 col3\" >['Table\\n* indicates \"Cities of COUNTRY or TERRITORY\" links.\\nCountry (or territory)\\tCapital\\tPopulation\\t% of country\\tSource\\n China\\u202f*\\tBeijing\\t21,542,000\\t1.5%\\t[1] 2018\\n Japan\\u202f*\\tTokyo\\t14,094,034\\t11.3%\\t[2] 2023\\n Russia\\u202f*\\tMoscow\\t13,104,177\\t9.0%\\t[3] 2023\\n DR Congo\\u202f*\\tKinshasa\\t12,691,000\\t13.2%\\t[4] 2017\\n Indonesia\\u202f*\\tJakarta\\t10,562,088\\t3.9%\\t[5] 2020\\n Egypt\\u202f*\\tCairo\\t10,107,125\\t9.3%\\t[6] 2022\\n...</td>\n",
       "      <td id=\"T_d7703_row0_col4\" class=\"data row0 col4\" >No</td>\n",
       "      <td id=\"T_d7703_row0_col5\" class=\"data row0 col5\" >1.8</td>\n",
       "    </tr>\n",
       "    <tr>\n",
       "      <th id=\"T_d7703_level0_row1\" class=\"row_heading level0 row1\" >1</th>\n",
       "      <td id=\"T_d7703_row1_col0\" class=\"data row1 col0\" >Who conducts the draft in which Marc-Andre Fleury was drafted to the Vegas Golden Knights for the 2017-18 season?</td>\n",
       "      <td id=\"T_d7703_row1_col1\" class=\"data row1 col1\" >National Hockey League</td>\n",
       "      <td id=\"T_d7703_row1_col2\" class=\"data row1 col2\" >{'2017–18 Pittsburgh Penguins season', '2017 NHL Expansion Draft'}</td>\n",
       "      <td id=\"T_d7703_row1_col3\" class=\"data row1 col3\" >['Amsterdam holds two American football franchises: the Amsterdam Crusaders and the Amsterdam Panthers. The Amsterdam Pirates baseball team competes in the Dutch Major League. There...</td>\n",
       "      <td id=\"T_d7703_row1_col4\" class=\"data row1 col4\" >The National Hockey League (NHL) conducted the draft in which Marc-Andre Fleury was drafted to the Vegas Golden Knights for the 2017-18 season.</td>\n",
       "      <td id=\"T_d7703_row1_col5\" class=\"data row1 col5\" >1.6</td>\n",
       "    </tr>\n",
       "    <tr>\n",
       "      <th id=\"T_d7703_level0_row2\" class=\"row_heading level0 row2\" >2</th>\n",
       "      <td id=\"T_d7703_row2_col0\" class=\"data row2 col0\" >The Wings entered a new era, following the retirement of which Canadian retired professional ice hockey player and current general manager of the Tampa Bay...</td>\n",
       "      <td id=\"T_d7703_row2_col1\" class=\"data row2 col1\" >Steve Yzerman</td>\n",
       "      <td id=\"T_d7703_row2_col2\" class=\"data row2 col2\" >{'Steve Yzerman', '2006–07 Detroit Red Wings season'}</td>\n",
       "      <td id=\"T_d7703_row2_col3\" class=\"data row2 col3\" >['city was finally liberated by Canadian forces on 5 May 1945, shortly before the end of the war in Europe.', 'In parallel, the Eastern Question...</td>\n",
       "      <td id=\"T_d7703_row2_col4\" class=\"data row2 col4\" >Steve Yzerman</td>\n",
       "      <td id=\"T_d7703_row2_col5\" class=\"data row2 col5\" >0.8</td>\n",
       "    </tr>\n",
       "    <tr>\n",
       "      <th id=\"T_d7703_level0_row3\" class=\"row_heading level0 row3\" >3</th>\n",
       "      <td id=\"T_d7703_row3_col0\" class=\"data row3 col0\" >What river is near the Crichton Collegiate Church?</td>\n",
       "      <td id=\"T_d7703_row3_col1\" class=\"data row3 col1\" >the River Tyne</td>\n",
       "      <td id=\"T_d7703_row3_col2\" class=\"data row3 col2\" >{'Crichton Castle', 'Crichton Collegiate Church'}</td>\n",
       "      <td id=\"T_d7703_row3_col3\" class=\"data row3 col3\" >['By the mid-19th century, there were three main conventions, one following the Don, the Volga–Don Canal and the Volga, the other following the Kuma–Manych Depression...</td>\n",
       "      <td id=\"T_d7703_row3_col4\" class=\"data row3 col4\" >The information provided does not specify the river near the Crichton Collegiate Church.</td>\n",
       "      <td id=\"T_d7703_row3_col5\" class=\"data row3 col5\" >2.2</td>\n",
       "    </tr>\n",
       "    <tr>\n",
       "      <th id=\"T_d7703_level0_row4\" class=\"row_heading level0 row4\" >4</th>\n",
       "      <td id=\"T_d7703_row4_col0\" class=\"data row4 col0\" >In the 10th Century A.D. Ealhswith had a son called Æthelweard by which English king?</td>\n",
       "      <td id=\"T_d7703_row4_col1\" class=\"data row4 col1\" >King Alfred the Great</td>\n",
       "      <td id=\"T_d7703_row4_col2\" class=\"data row4 col2\" >{'Ealhswith', 'Æthelweard (son of Alfred)'}</td>\n",
       "      <td id=\"T_d7703_row4_col3\" class=\"data row4 col3\" >['During the Dark Ages, the Western Roman Empire fell under the control of various tribes. The Germanic and Slav tribes established their domains over Western...</td>\n",
       "      <td id=\"T_d7703_row4_col4\" class=\"data row4 col4\" >King Alfred the Great</td>\n",
       "      <td id=\"T_d7703_row4_col5\" class=\"data row4 col5\" >0.8</td>\n",
       "    </tr>\n",
       "  </tbody>\n",
       "</table>\n"
      ],
      "text/plain": [
       "<pandas.io.formats.style.Styler at 0x30d328310>"
      ]
     },
     "metadata": {},
     "output_type": "display_data"
    },
    {
     "data": {
      "text/html": [
       "\n",
       "                <div style='\n",
       "                    text-align: center;\n",
       "                    font-size: 16px;\n",
       "                    font-weight: bold;\n",
       "                    color: #555;\n",
       "                    margin: 10px 0;'>\n",
       "                    ... 45 more rows not displayed ...\n",
       "                </div>\n",
       "                "
      ],
      "text/plain": [
       "<IPython.core.display.HTML object>"
      ]
     },
     "metadata": {},
     "output_type": "display_data"
    },
    {
     "data": {
      "text/plain": [
       "185.2"
      ]
     },
     "execution_count": 56,
     "metadata": {},
     "output_type": "execute_result"
    }
   ],
   "source": [
    "evaluate(uncompiled_rag, metric=llm_metric)"
   ]
  },
  {
   "cell_type": "code",
   "execution_count": 57,
   "id": "e14939b5-811d-45b9-9d54-3a006eea3b33",
   "metadata": {},
   "outputs": [
    {
     "name": "stderr",
     "output_type": "stream",
     "text": [
      "  0%|                                                                                                                                                                                | 0/50 [00:00<?, ?it/s]"
     ]
    },
    {
     "name": "stdout",
     "output_type": "stream",
     "text": [
      "Test Question: Are both Cangzhou and Qionghai in the Hebei province of China?\n",
      "Predicted Answer: Insufficient information to determine if both Cangzhou and Qionghai are in the Hebei province of China.\n"
     ]
    },
    {
     "name": "stderr",
     "output_type": "stream",
     "text": [
      "Average Metric: 2.0 / 1  (200.0):   2%|██▋                                                                                                                                   | 1/50 [00:00<00:44,  1.11it/s]"
     ]
    },
    {
     "name": "stdout",
     "output_type": "stream",
     "text": [
      "Faithful: 2\n",
      "Detail: 1\n",
      "Overall: 5\n",
      "Test Question: Who conducts the draft in which Marc-Andre Fleury was drafted to the Vegas Golden Knights for the 2017-18 season?\n",
      "Predicted Answer: National Hockey League (NHL)\n"
     ]
    },
    {
     "name": "stderr",
     "output_type": "stream",
     "text": [
      "Average Metric: 3.6 / 2  (180.0):   4%|█████▎                                                                                                                                | 2/50 [00:01<00:45,  1.05it/s]"
     ]
    },
    {
     "name": "stdout",
     "output_type": "stream",
     "text": [
      "Faithful: 1\n",
      "Detail: 1\n",
      "Overall: 5\n",
      "Test Question: The Wings entered a new era, following the retirement of which Canadian retired professional ice hockey player and current general manager of the Tampa Bay Lightning of the National Hockey League (NHL)?\n",
      "Predicted Answer: Steve Yzerman\n"
     ]
    },
    {
     "name": "stderr",
     "output_type": "stream",
     "text": [
      "Average Metric: 4.4 / 3  (146.7):   6%|████████                                                                                                                              | 3/50 [00:02<00:42,  1.10it/s]"
     ]
    },
    {
     "name": "stdout",
     "output_type": "stream",
     "text": [
      "Faithful: 1\n",
      "Detail: 1\n",
      "Overall: 1\n",
      "Test Question: What river is near the Crichton Collegiate Church?\n",
      "Predicted Answer: Don River\n"
     ]
    },
    {
     "name": "stderr",
     "output_type": "stream",
     "text": [
      "Average Metric: 5.2 / 4  (130.0):   8%|██████████▋                                                                                                                           | 4/50 [00:03<00:41,  1.11it/s]"
     ]
    },
    {
     "name": "stdout",
     "output_type": "stream",
     "text": [
      "Faithful: 1\n",
      "Detail: 1\n",
      "Overall: 1\n",
      "Test Question: In the 10th Century A.D. Ealhswith had a son called Æthelweard by which English king?\n",
      "Predicted Answer: Ealhswith had a son called Æthelweard by King Alfred the Great.\n"
     ]
    },
    {
     "name": "stderr",
     "output_type": "stream",
     "text": [
      "Average Metric: 7.0 / 5  (140.0):  10%|█████████████▍                                                                                                                        | 5/50 [00:04<00:41,  1.09it/s]"
     ]
    },
    {
     "name": "stdout",
     "output_type": "stream",
     "text": [
      "Faithful: 1\n",
      "Detail: 2\n",
      "Overall: 5\n",
      "Test Question: The Newark Airport Exchange is at the northern edge of an airport that is operated by whom?\n",
      "Predicted Answer: Royal Schiphol Group\n"
     ]
    },
    {
     "name": "stderr",
     "output_type": "stream",
     "text": [
      "Average Metric: 8.6 / 6  (143.3):  12%|████████████████                                                                                                                      | 6/50 [00:05<00:39,  1.10it/s]"
     ]
    },
    {
     "name": "stdout",
     "output_type": "stream",
     "text": [
      "Faithful: 1\n",
      "Detail: 1\n",
      "Overall: 5\n",
      "Test Question: Where did an event take place resulting in a win during a domestic double due to the action of a Peruvian footballer known for his goal scoring ability?\n",
      "Predicted Answer: The event took place in a football match in Amsterdam.\n"
     ]
    },
    {
     "name": "stderr",
     "output_type": "stream",
     "text": [
      "Average Metric: 9.4 / 7  (134.3):  14%|██████████████████▊                                                                                                                   | 7/50 [00:06<00:38,  1.12it/s]"
     ]
    },
    {
     "name": "stdout",
     "output_type": "stream",
     "text": [
      "Faithful: 1\n",
      "Detail: 1\n",
      "Overall: 1\n",
      "Test Question: Are both Chico Municipal Airport and William R. Fairchild International Airport in California?\n",
      "Predicted Answer: No\n"
     ]
    },
    {
     "name": "stderr",
     "output_type": "stream",
     "text": [
      "Average Metric: 11.200000000000001 / 8  (140.0):  16%|███████████████████                                                                                                    | 8/50 [00:07<00:36,  1.15it/s]"
     ]
    },
    {
     "name": "stdout",
     "output_type": "stream",
     "text": [
      "Faithful: 1\n",
      "Detail: 2\n",
      "Overall: 5\n",
      "Test Question: In which Maine county is Fort Pownall located?\n",
      "Predicted Answer: Fort Pownall is located in Maine.\n"
     ]
    },
    {
     "name": "stderr",
     "output_type": "stream",
     "text": [
      "Average Metric: 12.8 / 9  (142.2):  18%|███████████████████████▉                                                                                                             | 9/50 [00:07<00:34,  1.18it/s]"
     ]
    },
    {
     "name": "stdout",
     "output_type": "stream",
     "text": [
      "Faithful: 1\n",
      "Detail: 1\n",
      "Overall: 5\n",
      "Test Question: Which 90s rock band has more recently reformed, Gene or The Afghan Whigs?\n",
      "Predicted Answer: The Afghan Whigs\n"
     ]
    },
    {
     "name": "stderr",
     "output_type": "stream",
     "text": [
      "Average Metric: 14.4 / 10  (144.0):  20%|██████████████████████████▏                                                                                                        | 10/50 [00:08<00:35,  1.13it/s]"
     ]
    },
    {
     "name": "stdout",
     "output_type": "stream",
     "text": [
      "Faithful: 1\n",
      "Detail: 1\n",
      "Overall: 5\n",
      "Test Question: What year did the mountain known in Italian as \"Monte Vesuvio\", erupt?\n",
      "Predicted Answer: 79 AD\n"
     ]
    },
    {
     "name": "stderr",
     "output_type": "stream",
     "text": [
      "Average Metric: 16.0 / 11  (145.5):  22%|████████████████████████████▊                                                                                                      | 11/50 [00:09<00:33,  1.15it/s]"
     ]
    },
    {
     "name": "stdout",
     "output_type": "stream",
     "text": [
      "Faithful: 1\n",
      "Detail: 1\n",
      "Overall: 5\n",
      "Test Question: Is the 72nd field brigade part of the oldest or newest established field army?\n",
      "Predicted Answer: Newest\n"
     ]
    },
    {
     "name": "stderr",
     "output_type": "stream",
     "text": [
      "Average Metric: 18.4 / 12  (153.3):  24%|███████████████████████████████▍                                                                                                   | 12/50 [00:10<00:36,  1.04it/s]"
     ]
    },
    {
     "name": "stdout",
     "output_type": "stream",
     "text": [
      "Faithful: 3\n",
      "Detail: 1\n",
      "Overall: 5\n",
      "Test Question: Was Stanislaw Kiszka paid for his services by the Royal Treasury?\n",
      "Predicted Answer: No\n"
     ]
    },
    {
     "name": "stderr",
     "output_type": "stream",
     "text": [
      "Average Metric: 20.2 / 13  (155.4):  26%|██████████████████████████████████                                                                                                 | 13/50 [00:11<00:35,  1.04it/s]"
     ]
    },
    {
     "name": "stdout",
     "output_type": "stream",
     "text": [
      "Faithful: 1\n",
      "Detail: 2\n",
      "Overall: 5\n",
      "Test Question: Which film director is younger, Del Lord or Wang Xiaoshuai?\n",
      "Predicted Answer: Cannot be determined\n"
     ]
    },
    {
     "name": "stderr",
     "output_type": "stream",
     "text": [
      "Average Metric: 21.8 / 14  (155.7):  28%|████████████████████████████████████▋                                                                                              | 14/50 [00:12<00:33,  1.06it/s]"
     ]
    },
    {
     "name": "stdout",
     "output_type": "stream",
     "text": [
      "Faithful: 1\n",
      "Detail: 1\n",
      "Overall: 5\n",
      "Test Question: Lord North Street has a resident in which former Conservative MP who received an 18-month prison sentence for perjury in 1999?\n",
      "Predicted Answer: Jonathan Aitken\n"
     ]
    },
    {
     "name": "stderr",
     "output_type": "stream",
     "text": [
      "Average Metric: 23.400000000000002 / 15  (156.0):  30%|███████████████████████████████████                                                                                  | 15/50 [00:13<00:32,  1.08it/s]"
     ]
    },
    {
     "name": "stdout",
     "output_type": "stream",
     "text": [
      "Faithful: 1\n",
      "Detail: 1\n",
      "Overall: 5\n",
      "Test Question: What is the name of this region of Italy, referring to the medieval March of Ancona and nearby marches of Camerino and Fermo, where the comune Pollenza is located?\n",
      "Predicted Answer: Marche\n"
     ]
    },
    {
     "name": "stderr",
     "output_type": "stream",
     "text": [
      "Average Metric: 25.000000000000004 / 16  (156.3):  32%|█████████████████████████████████████▍                                                                               | 16/50 [00:14<00:30,  1.11it/s]"
     ]
    },
    {
     "name": "stdout",
     "output_type": "stream",
     "text": [
      "Faithful: 1\n",
      "Detail: 1\n",
      "Overall: 5\n",
      "Test Question: William Hughes Miller was born in a city with how many inhabitants ?\n",
      "Predicted Answer: 872,000\n"
     ]
    },
    {
     "name": "stderr",
     "output_type": "stream",
     "text": [
      "Average Metric: 28.200000000000003 / 17  (165.9):  34%|███████████████████████████████████████▊                                                                             | 17/50 [00:15<00:29,  1.12it/s]"
     ]
    },
    {
     "name": "stdout",
     "output_type": "stream",
     "text": [
      "Faithful: 5\n",
      "Detail: 1\n",
      "Overall: 5\n",
      "Test Question: What do students do at the school of New York University where Meleko Mokgosi is an artist and assistant professor?\n",
      "Predicted Answer: Students study or attend classes.\n"
     ]
    },
    {
     "name": "stderr",
     "output_type": "stream",
     "text": [
      "Average Metric: 29.400000000000002 / 18  (163.3):  36%|██████████████████████████████████████████                                                                           | 18/50 [00:16<00:28,  1.11it/s]"
     ]
    },
    {
     "name": "stdout",
     "output_type": "stream",
     "text": [
      "Faithful: 2\n",
      "Detail: 1\n",
      "Overall: 1\n",
      "Test Question: What is the nationality of the chef and restaurateur featured in Restaurant: Impossible?\n",
      "Predicted Answer: The nationality of the chef and restaurateur featured in Restaurant: Impossible is not provided in the context.\n"
     ]
    },
    {
     "name": "stderr",
     "output_type": "stream",
     "text": [
      "Average Metric: 30.400000000000002 / 19  (160.0):  38%|████████████████████████████████████████████▍                                                                        | 19/50 [00:17<00:28,  1.10it/s]"
     ]
    },
    {
     "name": "stdout",
     "output_type": "stream",
     "text": [
      "Faithful: 1\n",
      "Detail: 2\n",
      "Overall: 1\n",
      "Test Question: What American actor plays an East side drug lord who prefers peaceful solutions to business disputes when possible?\n",
      "Predicted Answer: Denzel Washington\n"
     ]
    },
    {
     "name": "stderr",
     "output_type": "stream",
     "text": [
      "Average Metric: 31.200000000000003 / 20  (156.0):  40%|██████████████████████████████████████████████▊                                                                      | 20/50 [00:18<00:26,  1.11it/s]"
     ]
    },
    {
     "name": "stdout",
     "output_type": "stream",
     "text": [
      "Faithful: 1\n",
      "Detail: 1\n",
      "Overall: 1\n",
      "Test Question: What city is 11 miles north of the birthplace of actor Toby Sawyer?\n",
      "Predicted Answer: Amsterdam\n"
     ]
    },
    {
     "name": "stderr",
     "output_type": "stream",
     "text": [
      "Average Metric: 32.800000000000004 / 21  (156.2):  42%|█████████████████████████████████████████████████▏                                                                   | 21/50 [00:18<00:25,  1.13it/s]"
     ]
    },
    {
     "name": "stdout",
     "output_type": "stream",
     "text": [
      "Faithful: 1\n",
      "Detail: 1\n",
      "Overall: 5\n",
      "Test Question: Who was born first, Tony Kaye or Deepa Mehta?\n",
      "Predicted Answer: Cannot be determined\n"
     ]
    },
    {
     "name": "stderr",
     "output_type": "stream",
     "text": [
      "Average Metric: 35.2 / 22  (160.0):  44%|█████████████████████████████████████████████████████████▋                                                                         | 22/50 [00:19<00:25,  1.12it/s]"
     ]
    },
    {
     "name": "stdout",
     "output_type": "stream",
     "text": [
      "Faithful: 3\n",
      "Detail: 1\n",
      "Overall: 5\n",
      "Test Question: What is the English translation of the name of the store that Macy's replaced in Boise Town Square?\n",
      "Predicted Answer: Bathhouse\n"
     ]
    },
    {
     "name": "stderr",
     "output_type": "stream",
     "text": [
      "Average Metric: 37.2 / 23  (161.7):  46%|████████████████████████████████████████████████████████████▎                                                                      | 23/50 [00:20<00:24,  1.10it/s]"
     ]
    },
    {
     "name": "stdout",
     "output_type": "stream",
     "text": [
      "Faithful: 4\n",
      "Detail: 1\n",
      "Overall: 1\n",
      "Test Question: Who did Lizzette Reynolds fire to make her notable in November 2007?\n",
      "Predicted Answer: The person who was fired\n"
     ]
    },
    {
     "name": "stderr",
     "output_type": "stream",
     "text": [
      "Average Metric: 38.0 / 24  (158.3):  48%|██████████████████████████████████████████████████████████████▉                                                                    | 24/50 [00:21<00:23,  1.08it/s]"
     ]
    },
    {
     "name": "stdout",
     "output_type": "stream",
     "text": [
      "Faithful: 1\n",
      "Detail: 1\n",
      "Overall: 1\n",
      "Test Question: What was the name of the man, who was billed by the coiner of the phrase \"There's a sucker born every minute\" as \"Boy Lightning Calculator\"?\n",
      "Predicted Answer: Charles Sherwood Stratton\n"
     ]
    },
    {
     "name": "stderr",
     "output_type": "stream",
     "text": [
      "Average Metric: 39.8 / 25  (159.2):  50%|█████████████████████████████████████████████████████████████████▌                                                                 | 25/50 [00:22<00:22,  1.13it/s]"
     ]
    },
    {
     "name": "stdout",
     "output_type": "stream",
     "text": [
      "Faithful: 1\n",
      "Detail: 2\n",
      "Overall: 5\n",
      "Test Question: Which battle was fought for a shorter period of time, the Battle of the Ch'ongch'on River, or the Meuse-Argonne Offensive?\n",
      "Predicted Answer: The Battle of the Ch'ongch'on River\n"
     ]
    },
    {
     "name": "stderr",
     "output_type": "stream",
     "text": [
      "Average Metric: 41.199999999999996 / 26  (158.5):  52%|████████████████████████████████████████████████████████████▊                                                        | 26/50 [00:23<00:21,  1.11it/s]"
     ]
    },
    {
     "name": "stdout",
     "output_type": "stream",
     "text": [
      "Faithful: 1\n",
      "Detail: 1\n",
      "Overall: 4\n",
      "Test Question: What cricketeer active 1974–1993 had a strong performance in the tour by the Australian cricket team in England in 1981?\n",
      "Predicted Answer: Dennis Lillee\n"
     ]
    },
    {
     "name": "stderr",
     "output_type": "stream",
     "text": [
      "Average Metric: 41.99999999999999 / 27  (155.6):  54%|███████████████████████████████████████████████████████████████▋                                                      | 27/50 [00:24<00:21,  1.08it/s]"
     ]
    },
    {
     "name": "stdout",
     "output_type": "stream",
     "text": [
      "Faithful: 1\n",
      "Detail: 1\n",
      "Overall: 1\n",
      "Test Question: What is the present post of the head coach of the 1982 NC State Wolfpack football team ?\n",
      "Predicted Answer: The head coach of the 1982 NC State Wolfpack football team was Tom Reed.\n"
     ]
    },
    {
     "name": "stderr",
     "output_type": "stream",
     "text": [
      "Average Metric: 42.79999999999999 / 28  (152.9):  56%|██████████████████████████████████████████████████████████████████                                                    | 28/50 [00:25<00:20,  1.07it/s]"
     ]
    },
    {
     "name": "stdout",
     "output_type": "stream",
     "text": [
      "Faithful: 1\n",
      "Detail: 1\n",
      "Overall: 1\n",
      "Test Question: Which Scottish actor sang \"Come What May\"?\n",
      "Predicted Answer: Not enough information to determine the answer.\n"
     ]
    },
    {
     "name": "stderr",
     "output_type": "stream",
     "text": [
      "Average Metric: 45.19999999999999 / 29  (155.9):  58%|████████████████████████████████████████████████████████████████████▍                                                 | 29/50 [00:26<00:19,  1.06it/s]"
     ]
    },
    {
     "name": "stdout",
     "output_type": "stream",
     "text": [
      "Faithful: 3\n",
      "Detail: 1\n",
      "Overall: 5\n",
      "Test Question: Where have Ivan Bella and Frank De Winne both traveled?\n",
      "Predicted Answer: Space\n"
     ]
    },
    {
     "name": "stderr",
     "output_type": "stream",
     "text": [
      "Average Metric: 47.59999999999999 / 30  (158.7):  60%|██████████████████████████████████████████████████████████████████████▊                                               | 30/50 [00:27<00:18,  1.06it/s]"
     ]
    },
    {
     "name": "stdout",
     "output_type": "stream",
     "text": [
      "Faithful: 5\n",
      "Detail: 1\n",
      "Overall: 1\n",
      "Test Question: The original work by Anton Chekhov involving a disillusioned schoolmaster, which inspired a later play by this British playwright, was written specifically for whom?\n",
      "Predicted Answer: The original work by Anton Chekhov involving a disillusioned schoolmaster was written specifically for a British playwright.\n"
     ]
    },
    {
     "name": "stderr",
     "output_type": "stream",
     "text": [
      "Average Metric: 48.399999999999984 / 31  (156.1):  62%|████████████████████████████████████████████████████████████████████████▌                                            | 31/50 [00:28<00:17,  1.07it/s]"
     ]
    },
    {
     "name": "stdout",
     "output_type": "stream",
     "text": [
      "Faithful: 1\n",
      "Detail: 1\n",
      "Overall: 1\n",
      "Test Question: Are Roswell International Air Center and Pago Pago International Airport both located in the mainland US?\n",
      "Predicted Answer: No, neither Roswell International Air Center nor Pago Pago International Airport are located in the mainland US.\n"
     ]
    },
    {
     "name": "stderr",
     "output_type": "stream",
     "text": [
      "Average Metric: 50.999999999999986 / 32  (159.4):  64%|██████████████████████████████████████████████████████████████████████████▉                                          | 32/50 [00:29<00:16,  1.07it/s]"
     ]
    },
    {
     "name": "stdout",
     "output_type": "stream",
     "text": [
      "Faithful: 3\n",
      "Detail: 2\n",
      "Overall: 5\n",
      "Test Question: Untold: The Greatest Sports Stories Never Told was hosted by a sportscaster commonly referred to as what ?\n",
      "Predicted Answer: The answer is likely a nickname or common reference to a sportscaster.\n"
     ]
    },
    {
     "name": "stderr",
     "output_type": "stream",
     "text": [
      "Average Metric: 52.79999999999998 / 33  (160.0):  66%|█████████████████████████████████████████████████████████████████████████████▉                                        | 33/50 [00:30<00:15,  1.07it/s]"
     ]
    },
    {
     "name": "stdout",
     "output_type": "stream",
     "text": [
      "Faithful: 3\n",
      "Detail: 2\n",
      "Overall: 1\n",
      "Test Question: Are Walt Disney and Sacro GRA both documentry films?\n",
      "Predicted Answer: Insufficient information to determine if Walt Disney and Sacro GRA are documentary films.\n"
     ]
    },
    {
     "name": "stderr",
     "output_type": "stream",
     "text": [
      "Average Metric: 54.999999999999986 / 34  (161.8):  68%|███████████████████████████████████████████████████████████████████████████████▌                                     | 34/50 [00:31<00:15,  1.06it/s]"
     ]
    },
    {
     "name": "stdout",
     "output_type": "stream",
     "text": [
      "Faithful: 2\n",
      "Detail: 2\n",
      "Overall: 5\n",
      "Test Question: What is the Palestinian Islamic organization that governs th small territory on the eastern coast of the Mediterranean Sea that was captured by Israel during the 1967 Six-Day War?\n",
      "Predicted Answer: Hamas\n"
     ]
    },
    {
     "name": "stderr",
     "output_type": "stream",
     "text": [
      "Average Metric: 56.59999999999999 / 35  (161.7):  70%|██████████████████████████████████████████████████████████████████████████████████▌                                   | 35/50 [00:32<00:14,  1.06it/s]"
     ]
    },
    {
     "name": "stdout",
     "output_type": "stream",
     "text": [
      "Faithful: 1\n",
      "Detail: 1\n",
      "Overall: 5\n",
      "Test Question: What album did the song of which Taylor Swift premiered the music video of during the pre-show of the 2015 MTV Video Music Awards come from?\n",
      "Predicted Answer: The song premiered by Taylor Swift during the pre-show of the 2015 MTV Video Music Awards was from the album \"1989.\"\n"
     ]
    },
    {
     "name": "stderr",
     "output_type": "stream",
     "text": [
      "Average Metric: 58.59999999999999 / 36  (162.8):  72%|████████████████████████████████████████████████████████████████████████████████████▉                                 | 36/50 [00:33<00:13,  1.06it/s]"
     ]
    },
    {
     "name": "stdout",
     "output_type": "stream",
     "text": [
      "Faithful: 2\n",
      "Detail: 1\n",
      "Overall: 5\n",
      "Test Question: Which is considered a genus level classification, Apera or Gunnera manicata?\n",
      "Predicted Answer: Apera\n"
     ]
    },
    {
     "name": "stderr",
     "output_type": "stream",
     "text": [
      "Average Metric: 60.19999999999999 / 37  (162.7):  74%|███████████████████████████████████████████████████████████████████████████████████████▎                              | 37/50 [00:33<00:11,  1.10it/s]"
     ]
    },
    {
     "name": "stdout",
     "output_type": "stream",
     "text": [
      "Faithful: 1\n",
      "Detail: 1\n",
      "Overall: 5\n",
      "Test Question: Do The Drums and Pussy Galore play music of similar genres?\n",
      "Predicted Answer: Insufficient information to determine if The Drums and Pussy Galore play music of similar genres.\n"
     ]
    },
    {
     "name": "stderr",
     "output_type": "stream",
     "text": [
      "Average Metric: 61.999999999999986 / 38  (163.2):  76%|████████████████████████████████████████████████████████████████████████████████████████▉                            | 38/50 [00:34<00:10,  1.10it/s]"
     ]
    },
    {
     "name": "stdout",
     "output_type": "stream",
     "text": [
      "Faithful: 1\n",
      "Detail: 2\n",
      "Overall: 5\n",
      "Test Question: What is the post-nominal abbreviation for the university where the Banded Mongoose Research Project is based?\n",
      "Predicted Answer: VU\n"
     ]
    },
    {
     "name": "stderr",
     "output_type": "stream",
     "text": [
      "Average Metric: 64.59999999999998 / 39  (165.6):  78%|████████████████████████████████████████████████████████████████████████████████████████████                          | 39/50 [00:35<00:09,  1.11it/s]"
     ]
    },
    {
     "name": "stdout",
     "output_type": "stream",
     "text": [
      "Faithful: 5\n",
      "Detail: 2\n",
      "Overall: 1\n",
      "Test Question: Are both Benjamin Christensen and Len Wiseman directors?\n",
      "Predicted Answer: Insufficient information to determine if both Benjamin Christensen and Len Wiseman are directors.\n"
     ]
    },
    {
     "name": "stderr",
     "output_type": "stream",
     "text": [
      "Average Metric: 66.79999999999998 / 40  (167.0):  80%|██████████████████████████████████████████████████████████████████████████████████████████████▍                       | 40/50 [00:36<00:08,  1.13it/s]"
     ]
    },
    {
     "name": "stdout",
     "output_type": "stream",
     "text": [
      "Faithful: 2\n",
      "Detail: 2\n",
      "Overall: 5\n",
      "Test Question: Steven Cuitlahuac Melendez and Disney are connected by what American animator?\n",
      "Predicted Answer: Walt Disney\n"
     ]
    },
    {
     "name": "stderr",
     "output_type": "stream",
     "text": [
      "Average Metric: 68.39999999999998 / 41  (166.8):  82%|████████████████████████████████████████████████████████████████████████████████████████████████▊                     | 41/50 [00:37<00:07,  1.16it/s]"
     ]
    },
    {
     "name": "stdout",
     "output_type": "stream",
     "text": [
      "Faithful: 1\n",
      "Detail: 1\n",
      "Overall: 5\n",
      "Test Question: Shark Creek is located on this river which is in the northern rivers district?\n",
      "Predicted Answer: New South Wales\n"
     ]
    },
    {
     "name": "stderr",
     "output_type": "stream",
     "text": [
      "Average Metric: 69.19999999999997 / 42  (164.8):  84%|███████████████████████████████████████████████████████████████████████████████████████████████████                   | 42/50 [00:38<00:07,  1.10it/s]"
     ]
    },
    {
     "name": "stdout",
     "output_type": "stream",
     "text": [
      "Faithful: 1\n",
      "Detail: 1\n",
      "Overall: 1\n",
      "Test Question: Who was the producer of the 2016 animated film about an amnesiac fish?\n",
      "Predicted Answer: The producer of the 2016 animated film about an amnesiac fish was Pixar Animation Studios.\n"
     ]
    },
    {
     "name": "stderr",
     "output_type": "stream",
     "text": [
      "Average Metric: 70.19999999999997 / 43  (163.3):  86%|█████████████████████████████████████████████████████████████████████████████████████████████████████▍                | 43/50 [00:39<00:06,  1.05it/s]"
     ]
    },
    {
     "name": "stdout",
     "output_type": "stream",
     "text": [
      "Faithful: 1\n",
      "Detail: 2\n",
      "Overall: 1\n",
      "Test Question: Who purchased the team Michael Schumacher raced for in the 1995 Monaco Grand Prix in 2000?\n",
      "Predicted Answer: Flavio Briatore\n"
     ]
    },
    {
     "name": "stderr",
     "output_type": "stream",
     "text": [
      "Average Metric: 71.79999999999997 / 44  (163.2):  88%|███████████████████████████████████████████████████████████████████████████████████████████████████████▊              | 44/50 [00:40<00:05,  1.07it/s]"
     ]
    },
    {
     "name": "stdout",
     "output_type": "stream",
     "text": [
      "Faithful: 1\n",
      "Detail: 1\n",
      "Overall: 5\n",
      "Test Question: Fredrick Law Olmsted was an American landscape architect, journalist, social critic and public administrator that designed what neighborhood in Trenton, New Jersey?\n",
      "Predicted Answer: Olmsted designed the neighborhood of Cadwalader Heights in Trenton, New Jersey.\n"
     ]
    },
    {
     "name": "stderr",
     "output_type": "stream",
     "text": [
      "Average Metric: 73.59999999999997 / 45  (163.6):  90%|██████████████████████████████████████████████████████████████████████████████████████████████████████████▏           | 45/50 [00:41<00:04,  1.06it/s]"
     ]
    },
    {
     "name": "stdout",
     "output_type": "stream",
     "text": [
      "Faithful: 1\n",
      "Detail: 2\n",
      "Overall: 5\n",
      "Test Question: Gordon Warnecke worked alongside the former senator for which political party on Young Toscanini?\n",
      "Predicted Answer: Democratic Party\n"
     ]
    },
    {
     "name": "stderr",
     "output_type": "stream",
     "text": [
      "Average Metric: 74.39999999999996 / 46  (161.7):  92%|████████████████████████████████████████████████████████████████████████████████████████████████████████████▌         | 46/50 [00:42<00:03,  1.06it/s]"
     ]
    },
    {
     "name": "stdout",
     "output_type": "stream",
     "text": [
      "Faithful: 1\n",
      "Detail: 1\n",
      "Overall: 1\n",
      "Test Question: André Zucca was a French photographer who worked with a German propaganda magazine published by what Nazi organization?\n",
      "Predicted Answer: Nazi organization\n"
     ]
    },
    {
     "name": "stderr",
     "output_type": "stream",
     "text": [
      "Average Metric: 75.79999999999997 / 47  (161.3):  94%|██████████████████████████████████████████████████████████████████████████████████████████████████████████████▉       | 47/50 [00:42<00:02,  1.10it/s]"
     ]
    },
    {
     "name": "stdout",
     "output_type": "stream",
     "text": [
      "Faithful: 1\n",
      "Detail: 1\n",
      "Overall: 4\n",
      "Test Question: Both Bill Ponsford and Bill Woodfull played what?\n",
      "Predicted Answer: Cricket\n"
     ]
    },
    {
     "name": "stderr",
     "output_type": "stream",
     "text": [
      "Average Metric: 77.39999999999996 / 48  (161.2):  96%|█████████████████████████████████████████████████████████████████████████████████████████████████████████████████▎    | 48/50 [00:43<00:01,  1.14it/s]"
     ]
    },
    {
     "name": "stdout",
     "output_type": "stream",
     "text": [
      "Faithful: 1\n",
      "Detail: 1\n",
      "Overall: 5\n",
      "Test Question:  Suzana S. Drobnjaković Ponti acted in a film loosely based on a book by who?\n",
      "Predicted Answer: Anne Frank\n"
     ]
    },
    {
     "name": "stderr",
     "output_type": "stream",
     "text": [
      "Average Metric: 78.59999999999997 / 49  (160.4):  98%|███████████████████████████████████████████████████████████████████████████████████████████████████████████████████▋  | 49/50 [00:44<00:00,  1.14it/s]"
     ]
    },
    {
     "name": "stdout",
     "output_type": "stream",
     "text": [
      "Faithful: 2\n",
      "Detail: 1\n",
      "Overall: 1\n",
      "Test Question: In what city was the Election Law Journal founded?\n",
      "Predicted Answer: Amsterdam\n"
     ]
    },
    {
     "name": "stderr",
     "output_type": "stream",
     "text": [
      "Average Metric: 81.79999999999997 / 50  (163.6): 100%|██████████████████████████████████████████████████████████████████████████████████████████████████████████████████████| 50/50 [00:45<00:00,  1.10it/s]"
     ]
    },
    {
     "name": "stdout",
     "output_type": "stream",
     "text": [
      "Faithful: 5\n",
      "Detail: 1\n",
      "Overall: 5\n",
      "Average Metric: 81.79999999999997 / 50  (163.6%)\n"
     ]
    },
    {
     "name": "stderr",
     "output_type": "stream",
     "text": [
      "\n",
      "/Users/derrickmwiti/.env/lib/python3.11/site-packages/dspy/evaluate/evaluate.py:266: FutureWarning: Setting an item of incompatible dtype is deprecated and will raise in a future error of pandas. Value '['2.0' '1.6' '0.8' '0.8' '1.8']' has dtype incompatible with float64, please explicitly cast to a compatible dtype first.\n",
      "  df.loc[:, metric_name] = df[metric_name].apply(\n"
     ]
    },
    {
     "data": {
      "text/html": [
       "<style type=\"text/css\">\n",
       "#T_443d8 th {\n",
       "  text-align: left;\n",
       "}\n",
       "#T_443d8 td {\n",
       "  text-align: left;\n",
       "}\n",
       "#T_443d8_row0_col0, #T_443d8_row0_col1, #T_443d8_row0_col2, #T_443d8_row0_col3, #T_443d8_row0_col4, #T_443d8_row0_col5, #T_443d8_row1_col0, #T_443d8_row1_col1, #T_443d8_row1_col2, #T_443d8_row1_col3, #T_443d8_row1_col4, #T_443d8_row1_col5, #T_443d8_row2_col0, #T_443d8_row2_col1, #T_443d8_row2_col2, #T_443d8_row2_col3, #T_443d8_row2_col4, #T_443d8_row2_col5, #T_443d8_row3_col0, #T_443d8_row3_col1, #T_443d8_row3_col2, #T_443d8_row3_col3, #T_443d8_row3_col4, #T_443d8_row3_col5, #T_443d8_row4_col0, #T_443d8_row4_col1, #T_443d8_row4_col2, #T_443d8_row4_col3, #T_443d8_row4_col4, #T_443d8_row4_col5 {\n",
       "  text-align: left;\n",
       "  white-space: pre-wrap;\n",
       "  word-wrap: break-word;\n",
       "  max-width: 400px;\n",
       "}\n",
       "</style>\n",
       "<table id=\"T_443d8\">\n",
       "  <thead>\n",
       "    <tr>\n",
       "      <th class=\"blank level0\" >&nbsp;</th>\n",
       "      <th id=\"T_443d8_level0_col0\" class=\"col_heading level0 col0\" >question</th>\n",
       "      <th id=\"T_443d8_level0_col1\" class=\"col_heading level0 col1\" >example_answer</th>\n",
       "      <th id=\"T_443d8_level0_col2\" class=\"col_heading level0 col2\" >gold_titles</th>\n",
       "      <th id=\"T_443d8_level0_col3\" class=\"col_heading level0 col3\" >context</th>\n",
       "      <th id=\"T_443d8_level0_col4\" class=\"col_heading level0 col4\" >pred_answer</th>\n",
       "      <th id=\"T_443d8_level0_col5\" class=\"col_heading level0 col5\" >llm_metric</th>\n",
       "    </tr>\n",
       "  </thead>\n",
       "  <tbody>\n",
       "    <tr>\n",
       "      <th id=\"T_443d8_level0_row0\" class=\"row_heading level0 row0\" >0</th>\n",
       "      <td id=\"T_443d8_row0_col0\" class=\"data row0 col0\" >Are both Cangzhou and Qionghai in the Hebei province of China?</td>\n",
       "      <td id=\"T_443d8_row0_col1\" class=\"data row0 col1\" >no</td>\n",
       "      <td id=\"T_443d8_row0_col2\" class=\"data row0 col2\" >{'Cangzhou', 'Qionghai'}</td>\n",
       "      <td id=\"T_443d8_row0_col3\" class=\"data row0 col3\" >['Table\\n* indicates \"Cities of COUNTRY or TERRITORY\" links.\\nCountry (or territory)\\tCapital\\tPopulation\\t% of country\\tSource\\n China\\u202f*\\tBeijing\\t21,542,000\\t1.5%\\t[1] 2018\\n Japan\\u202f*\\tTokyo\\t14,094,034\\t11.3%\\t[2] 2023\\n Russia\\u202f*\\tMoscow\\t13,104,177\\t9.0%\\t[3] 2023\\n DR Congo\\u202f*\\tKinshasa\\t12,691,000\\t13.2%\\t[4] 2017\\n Indonesia\\u202f*\\tJakarta\\t10,562,088\\t3.9%\\t[5] 2020\\n Egypt\\u202f*\\tCairo\\t10,107,125\\t9.3%\\t[6] 2022\\n...</td>\n",
       "      <td id=\"T_443d8_row0_col4\" class=\"data row0 col4\" >Insufficient information to determine if both Cangzhou and Qionghai are in the Hebei province of China.</td>\n",
       "      <td id=\"T_443d8_row0_col5\" class=\"data row0 col5\" >2.0</td>\n",
       "    </tr>\n",
       "    <tr>\n",
       "      <th id=\"T_443d8_level0_row1\" class=\"row_heading level0 row1\" >1</th>\n",
       "      <td id=\"T_443d8_row1_col0\" class=\"data row1 col0\" >Who conducts the draft in which Marc-Andre Fleury was drafted to the Vegas Golden Knights for the 2017-18 season?</td>\n",
       "      <td id=\"T_443d8_row1_col1\" class=\"data row1 col1\" >National Hockey League</td>\n",
       "      <td id=\"T_443d8_row1_col2\" class=\"data row1 col2\" >{'2017–18 Pittsburgh Penguins season', '2017 NHL Expansion Draft'}</td>\n",
       "      <td id=\"T_443d8_row1_col3\" class=\"data row1 col3\" >['Amsterdam holds two American football franchises: the Amsterdam Crusaders and the Amsterdam Panthers. The Amsterdam Pirates baseball team competes in the Dutch Major League. There...</td>\n",
       "      <td id=\"T_443d8_row1_col4\" class=\"data row1 col4\" >National Hockey League (NHL)</td>\n",
       "      <td id=\"T_443d8_row1_col5\" class=\"data row1 col5\" >1.6</td>\n",
       "    </tr>\n",
       "    <tr>\n",
       "      <th id=\"T_443d8_level0_row2\" class=\"row_heading level0 row2\" >2</th>\n",
       "      <td id=\"T_443d8_row2_col0\" class=\"data row2 col0\" >The Wings entered a new era, following the retirement of which Canadian retired professional ice hockey player and current general manager of the Tampa Bay...</td>\n",
       "      <td id=\"T_443d8_row2_col1\" class=\"data row2 col1\" >Steve Yzerman</td>\n",
       "      <td id=\"T_443d8_row2_col2\" class=\"data row2 col2\" >{'Steve Yzerman', '2006–07 Detroit Red Wings season'}</td>\n",
       "      <td id=\"T_443d8_row2_col3\" class=\"data row2 col3\" >['city was finally liberated by Canadian forces on 5 May 1945, shortly before the end of the war in Europe.', 'In parallel, the Eastern Question...</td>\n",
       "      <td id=\"T_443d8_row2_col4\" class=\"data row2 col4\" >Steve Yzerman</td>\n",
       "      <td id=\"T_443d8_row2_col5\" class=\"data row2 col5\" >0.8</td>\n",
       "    </tr>\n",
       "    <tr>\n",
       "      <th id=\"T_443d8_level0_row3\" class=\"row_heading level0 row3\" >3</th>\n",
       "      <td id=\"T_443d8_row3_col0\" class=\"data row3 col0\" >What river is near the Crichton Collegiate Church?</td>\n",
       "      <td id=\"T_443d8_row3_col1\" class=\"data row3 col1\" >the River Tyne</td>\n",
       "      <td id=\"T_443d8_row3_col2\" class=\"data row3 col2\" >{'Crichton Castle', 'Crichton Collegiate Church'}</td>\n",
       "      <td id=\"T_443d8_row3_col3\" class=\"data row3 col3\" >['By the mid-19th century, there were three main conventions, one following the Don, the Volga–Don Canal and the Volga, the other following the Kuma–Manych Depression...</td>\n",
       "      <td id=\"T_443d8_row3_col4\" class=\"data row3 col4\" >Don River</td>\n",
       "      <td id=\"T_443d8_row3_col5\" class=\"data row3 col5\" >0.8</td>\n",
       "    </tr>\n",
       "    <tr>\n",
       "      <th id=\"T_443d8_level0_row4\" class=\"row_heading level0 row4\" >4</th>\n",
       "      <td id=\"T_443d8_row4_col0\" class=\"data row4 col0\" >In the 10th Century A.D. Ealhswith had a son called Æthelweard by which English king?</td>\n",
       "      <td id=\"T_443d8_row4_col1\" class=\"data row4 col1\" >King Alfred the Great</td>\n",
       "      <td id=\"T_443d8_row4_col2\" class=\"data row4 col2\" >{'Ealhswith', 'Æthelweard (son of Alfred)'}</td>\n",
       "      <td id=\"T_443d8_row4_col3\" class=\"data row4 col3\" >['During the Dark Ages, the Western Roman Empire fell under the control of various tribes. The Germanic and Slav tribes established their domains over Western...</td>\n",
       "      <td id=\"T_443d8_row4_col4\" class=\"data row4 col4\" >Ealhswith had a son called Æthelweard by King Alfred the Great.</td>\n",
       "      <td id=\"T_443d8_row4_col5\" class=\"data row4 col5\" >1.8</td>\n",
       "    </tr>\n",
       "  </tbody>\n",
       "</table>\n"
      ],
      "text/plain": [
       "<pandas.io.formats.style.Styler at 0x30d2e8310>"
      ]
     },
     "metadata": {},
     "output_type": "display_data"
    },
    {
     "data": {
      "text/html": [
       "\n",
       "                <div style='\n",
       "                    text-align: center;\n",
       "                    font-size: 16px;\n",
       "                    font-weight: bold;\n",
       "                    color: #555;\n",
       "                    margin: 10px 0;'>\n",
       "                    ... 45 more rows not displayed ...\n",
       "                </div>\n",
       "                "
      ],
      "text/plain": [
       "<IPython.core.display.HTML object>"
      ]
     },
     "metadata": {},
     "output_type": "display_data"
    },
    {
     "data": {
      "text/plain": [
       "163.6"
      ]
     },
     "execution_count": 57,
     "metadata": {},
     "output_type": "execute_result"
    }
   ],
   "source": [
    "evaluate(compiled_rag, metric=llm_metric)"
   ]
  },
  {
   "cell_type": "code",
   "execution_count": 58,
   "id": "1ea82376-c37e-491f-ada5-e509cdca1902",
   "metadata": {},
   "outputs": [
    {
     "name": "stderr",
     "output_type": "stream",
     "text": [
      "  0%|                                                                                                                                                                                | 0/50 [00:00<?, ?it/s]"
     ]
    },
    {
     "name": "stdout",
     "output_type": "stream",
     "text": [
      "Test Question: Are both Cangzhou and Qionghai in the Hebei province of China?\n",
      "Predicted Answer: The information to determine if both Cangzhou and Qionghai are in the Hebei province of China is not provided in the context.\n"
     ]
    },
    {
     "name": "stderr",
     "output_type": "stream",
     "text": [
      "Average Metric: 0.8 / 1  (80.0):   2%|██▋                                                                                                                                    | 1/50 [00:00<00:41,  1.19it/s]"
     ]
    },
    {
     "name": "stdout",
     "output_type": "stream",
     "text": [
      "Faithful: 1\n",
      "Detail: 1\n",
      "Overall: 1\n",
      "Test Question: Who conducts the draft in which Marc-Andre Fleury was drafted to the Vegas Golden Knights for the 2017-18 season?\n",
      "Predicted Answer: The answer cannot be determined from the provided context.\n"
     ]
    },
    {
     "name": "stderr",
     "output_type": "stream",
     "text": [
      "Average Metric: 2.0 / 2  (100.0):   4%|█████▎                                                                                                                                | 2/50 [00:01<00:43,  1.11it/s]"
     ]
    },
    {
     "name": "stdout",
     "output_type": "stream",
     "text": [
      "Faithful: 2\n",
      "Detail: 1\n",
      "Overall: 1\n",
      "Test Question: The Wings entered a new era, following the retirement of which Canadian retired professional ice hockey player and current general manager of the Tampa Bay Lightning of the National Hockey League (NHL)?\n",
      "Predicted Answer: The answer cannot be determined from the provided context.\n"
     ]
    },
    {
     "name": "stderr",
     "output_type": "stream",
     "text": [
      "Average Metric: 4.4 / 3  (146.7):   6%|████████                                                                                                                              | 3/50 [00:02<00:41,  1.14it/s]"
     ]
    },
    {
     "name": "stdout",
     "output_type": "stream",
     "text": [
      "Faithful: 3\n",
      "Detail: 1\n",
      "Overall: 5\n",
      "Test Question: What river is near the Crichton Collegiate Church?\n",
      "Predicted Answer: Don River\n"
     ]
    },
    {
     "name": "stderr",
     "output_type": "stream",
     "text": [
      "Average Metric: 5.2 / 4  (130.0):   8%|██████████▋                                                                                                                           | 4/50 [00:03<00:40,  1.13it/s]"
     ]
    },
    {
     "name": "stdout",
     "output_type": "stream",
     "text": [
      "Faithful: 1\n",
      "Detail: 1\n",
      "Overall: 1\n",
      "Test Question: In the 10th Century A.D. Ealhswith had a son called Æthelweard by which English king?\n",
      "Predicted Answer: King Alfred the Great\n"
     ]
    },
    {
     "name": "stderr",
     "output_type": "stream",
     "text": [
      "Average Metric: 6.0 / 5  (120.0):  10%|█████████████▍                                                                                                                        | 5/50 [00:04<00:39,  1.13it/s]"
     ]
    },
    {
     "name": "stdout",
     "output_type": "stream",
     "text": [
      "Faithful: 1\n",
      "Detail: 1\n",
      "Overall: 1\n",
      "Test Question: The Newark Airport Exchange is at the northern edge of an airport that is operated by whom?\n",
      "Predicted Answer: The Newark Airport Exchange is at the northern edge of Newark Liberty International Airport, which is operated by the Port Authority of New York and New Jersey.\n"
     ]
    },
    {
     "name": "stderr",
     "output_type": "stream",
     "text": [
      "Average Metric: 7.8 / 6  (130.0):  12%|████████████████                                                                                                                      | 6/50 [00:05<00:46,  1.06s/it]"
     ]
    },
    {
     "name": "stdout",
     "output_type": "stream",
     "text": [
      "Faithful: 1\n",
      "Detail: 2\n",
      "Overall: 5\n",
      "Test Question: Where did an event take place resulting in a win during a domestic double due to the action of a Peruvian footballer known for his goal scoring ability?\n",
      "Predicted Answer: The question does not provide enough context or specific information to determine where the event took place or which Peruvian footballer was involved.\n"
     ]
    },
    {
     "name": "stderr",
     "output_type": "stream",
     "text": [
      "Average Metric: 9.2 / 7  (131.4):  14%|██████████████████▊                                                                                                                   | 7/50 [00:06<00:42,  1.01it/s]"
     ]
    },
    {
     "name": "stdout",
     "output_type": "stream",
     "text": [
      "Faithful: 2\n",
      "Detail: 2\n",
      "Overall: 1\n",
      "Test Question: Are both Chico Municipal Airport and William R. Fairchild International Airport in California?\n",
      "Predicted Answer: The question does not provide enough context or specific information to determine if both Chico Municipal Airport and William R. Fairchild International Airport are in California.\n"
     ]
    },
    {
     "name": "stderr",
     "output_type": "stream",
     "text": [
      "Average Metric: 11.399999999999999 / 8  (142.5):  16%|███████████████████                                                                                                    | 8/50 [00:07<00:39,  1.06it/s]"
     ]
    },
    {
     "name": "stdout",
     "output_type": "stream",
     "text": [
      "Faithful: 2\n",
      "Detail: 2\n",
      "Overall: 5\n",
      "Test Question: In which Maine county is Fort Pownall located?\n",
      "Predicted Answer: The answer cannot be determined from the provided context.\n"
     ]
    },
    {
     "name": "stderr",
     "output_type": "stream",
     "text": [
      "Average Metric: 13.399999999999999 / 9  (148.9):  18%|█████████████████████▍                                                                                                 | 9/50 [00:08<00:39,  1.03it/s]"
     ]
    },
    {
     "name": "stdout",
     "output_type": "stream",
     "text": [
      "Faithful: 2\n",
      "Detail: 1\n",
      "Overall: 5\n",
      "Test Question: Which 90s rock band has more recently reformed, Gene or The Afghan Whigs?\n",
      "Predicted Answer: The answer cannot be determined from the provided context.\n"
     ]
    },
    {
     "name": "stderr",
     "output_type": "stream",
     "text": [
      "Average Metric: 14.999999999999998 / 10  (150.0):  20%|███████████████████████▍                                                                                             | 10/50 [00:09<00:37,  1.06it/s]"
     ]
    },
    {
     "name": "stdout",
     "output_type": "stream",
     "text": [
      "Faithful: 3\n",
      "Detail: 1\n",
      "Overall: 1\n",
      "Test Question: What year did the mountain known in Italian as \"Monte Vesuvio\", erupt?\n",
      "Predicted Answer: The answer cannot be determined from the provided context.\n"
     ]
    },
    {
     "name": "stderr",
     "output_type": "stream",
     "text": [
      "Average Metric: 17.4 / 11  (158.2):  22%|████████████████████████████▊                                                                                                      | 11/50 [00:10<00:35,  1.11it/s]"
     ]
    },
    {
     "name": "stdout",
     "output_type": "stream",
     "text": [
      "Faithful: 3\n",
      "Detail: 1\n",
      "Overall: 5\n",
      "Test Question: Is the 72nd field brigade part of the oldest or newest established field army?\n",
      "Predicted Answer: Newest\n"
     ]
    },
    {
     "name": "stderr",
     "output_type": "stream",
     "text": [
      "Average Metric: 19.799999999999997 / 12  (165.0):  24%|████████████████████████████                                                                                         | 12/50 [00:11<00:34,  1.11it/s]"
     ]
    },
    {
     "name": "stdout",
     "output_type": "stream",
     "text": [
      "Faithful: 3\n",
      "Detail: 1\n",
      "Overall: 5\n",
      "Test Question: Was Stanislaw Kiszka paid for his services by the Royal Treasury?\n",
      "Predicted Answer: The information is not provided in the context to determine if Stanislaw Kiszka was paid for his services by the Royal Treasury.\n"
     ]
    },
    {
     "name": "stderr",
     "output_type": "stream",
     "text": [
      "Average Metric: 21.999999999999996 / 13  (169.2):  26%|██████████████████████████████▍                                                                                      | 13/50 [00:11<00:33,  1.12it/s]"
     ]
    },
    {
     "name": "stdout",
     "output_type": "stream",
     "text": [
      "Faithful: 2\n",
      "Detail: 2\n",
      "Overall: 5\n",
      "Test Question: Which film director is younger, Del Lord or Wang Xiaoshuai?\n",
      "Predicted Answer: The question cannot be answered based on the provided context.\n"
     ]
    },
    {
     "name": "stderr",
     "output_type": "stream",
     "text": [
      "Average Metric: 21.999999999999996 / 14  (157.1):  28%|████████████████████████████████▊                                                                                    | 14/50 [00:12<00:31,  1.13it/s]"
     ]
    },
    {
     "name": "stdout",
     "output_type": "stream",
     "text": [
      "Faithful: 1\n",
      "Detail: N/A\n",
      "Overall: 5\n",
      "Error for example in dev set: \t\t could not convert string to float: 'N/A'\n",
      "Test Question: Lord North Street has a resident in which former Conservative MP who received an 18-month prison sentence for perjury in 1999?\n",
      "Predicted Answer: The answer cannot be determined from the provided context.\n"
     ]
    },
    {
     "name": "stderr",
     "output_type": "stream",
     "text": [
      "Average Metric: 24.399999999999995 / 15  (162.7):  30%|███████████████████████████████████                                                                                  | 15/50 [00:13<00:31,  1.12it/s]"
     ]
    },
    {
     "name": "stdout",
     "output_type": "stream",
     "text": [
      "Faithful: 3\n",
      "Detail: 1\n",
      "Overall: 5\n",
      "Test Question: What is the name of this region of Italy, referring to the medieval March of Ancona and nearby marches of Camerino and Fermo, where the comune Pollenza is located?\n",
      "Predicted Answer: The answer cannot be determined from the provided context.\n"
     ]
    },
    {
     "name": "stderr",
     "output_type": "stream",
     "text": [
      "Average Metric: 25.599999999999994 / 16  (160.0):  32%|█████████████████████████████████████▍                                                                               | 16/50 [00:14<00:29,  1.15it/s]"
     ]
    },
    {
     "name": "stdout",
     "output_type": "stream",
     "text": [
      "Faithful: 2\n",
      "Detail: 1\n",
      "Overall: 1\n",
      "Test Question: William Hughes Miller was born in a city with how many inhabitants ?\n",
      "Predicted Answer: The answer cannot be determined from the provided context.\n"
     ]
    },
    {
     "name": "stderr",
     "output_type": "stream",
     "text": [
      "Average Metric: 27.999999999999993 / 17  (164.7):  34%|███████████████████████████████████████▊                                                                             | 17/50 [00:15<00:28,  1.16it/s]"
     ]
    },
    {
     "name": "stdout",
     "output_type": "stream",
     "text": [
      "Faithful: 3\n",
      "Detail: 1\n",
      "Overall: 5\n",
      "Test Question: What do students do at the school of New York University where Meleko Mokgosi is an artist and assistant professor?\n",
      "Predicted Answer: Engage in art-related activities\n"
     ]
    },
    {
     "name": "stderr",
     "output_type": "stream",
     "text": [
      "Average Metric: 29.799999999999994 / 18  (165.6):  36%|██████████████████████████████████████████                                                                           | 18/50 [00:21<01:17,  2.41s/it]"
     ]
    },
    {
     "name": "stdout",
     "output_type": "stream",
     "text": [
      "Faithful: 3\n",
      "Detail: 2\n",
      "Overall: 1\n",
      "Test Question: What is the nationality of the chef and restaurateur featured in Restaurant: Impossible?\n",
      "Predicted Answer: The nationality of the chef and restaurateur featured in Restaurant: Impossible is not provided in the context.\n"
     ]
    },
    {
     "name": "stderr",
     "output_type": "stream",
     "text": [
      "Average Metric: 30.799999999999994 / 19  (162.1):  38%|████████████████████████████████████████████▍                                                                        | 19/50 [00:22<01:01,  1.97s/it]"
     ]
    },
    {
     "name": "stdout",
     "output_type": "stream",
     "text": [
      "Faithful: 1\n",
      "Detail: 2\n",
      "Overall: 1\n",
      "Test Question: What American actor plays an East side drug lord who prefers peaceful solutions to business disputes when possible?\n",
      "Predicted Answer: The answer cannot be determined from the provided context.\n"
     ]
    },
    {
     "name": "stderr",
     "output_type": "stream",
     "text": [
      "Average Metric: 33.199999999999996 / 20  (166.0):  40%|██████████████████████████████████████████████▊                                                                      | 20/50 [00:23<00:50,  1.69s/it]"
     ]
    },
    {
     "name": "stdout",
     "output_type": "stream",
     "text": [
      "Faithful: 3\n",
      "Detail: 1\n",
      "Overall: 5\n",
      "Test Question: What city is 11 miles north of the birthplace of actor Toby Sawyer?\n",
      "Predicted Answer: The question does not provide enough context or specific information to determine the city that is 11 miles north of the birthplace of actor Toby Sawyer.\n"
     ]
    },
    {
     "name": "stderr",
     "output_type": "stream",
     "text": [
      "Average Metric: 35.4 / 21  (168.6):  42%|███████████████████████████████████████████████████████                                                                            | 21/50 [00:24<00:41,  1.44s/it]"
     ]
    },
    {
     "name": "stdout",
     "output_type": "stream",
     "text": [
      "Faithful: 2\n",
      "Detail: 2\n",
      "Overall: 5\n",
      "Test Question: Who was born first, Tony Kaye or Deepa Mehta?\n",
      "Predicted Answer: The answer cannot be determined from the provided context.\n"
     ]
    },
    {
     "name": "stderr",
     "output_type": "stream",
     "text": [
      "Average Metric: 38.199999999999996 / 22  (173.6):  44%|███████████████████████████████████████████████████▍                                                                 | 22/50 [00:25<00:35,  1.27s/it]"
     ]
    },
    {
     "name": "stdout",
     "output_type": "stream",
     "text": [
      "Faithful: 4\n",
      "Detail: 1\n",
      "Overall: 5\n",
      "Test Question: What is the English translation of the name of the store that Macy's replaced in Boise Town Square?\n",
      "Predicted Answer: The answer cannot be determined from the provided context.\n"
     ]
    },
    {
     "name": "stderr",
     "output_type": "stream",
     "text": [
      "Average Metric: 40.599999999999994 / 23  (176.5):  46%|█████████████████████████████████████████████████████▊                                                               | 23/50 [00:26<00:31,  1.18s/it]"
     ]
    },
    {
     "name": "stdout",
     "output_type": "stream",
     "text": [
      "Faithful: 5\n",
      "Detail: 1\n",
      "Overall: 1\n",
      "Test Question: Who did Lizzette Reynolds fire to make her notable in November 2007?\n",
      "Predicted Answer: The question does not provide enough context or specific information to determine who Lizzette Reynolds fired to make her notable in November 2007.\n"
     ]
    },
    {
     "name": "stderr",
     "output_type": "stream",
     "text": [
      "Average Metric: 42.8 / 24  (178.3):  48%|██████████████████████████████████████████████████████████████▉                                                                    | 24/50 [00:26<00:28,  1.09s/it]"
     ]
    },
    {
     "name": "stdout",
     "output_type": "stream",
     "text": [
      "Faithful: 2\n",
      "Detail: 2\n",
      "Overall: 5\n",
      "Test Question: What was the name of the man, who was billed by the coiner of the phrase \"There's a sucker born every minute\" as \"Boy Lightning Calculator\"?\n",
      "Predicted Answer: The name of the man who was billed as \"Boy Lightning Calculator\" is not provided in the context.\n"
     ]
    },
    {
     "name": "stderr",
     "output_type": "stream",
     "text": [
      "Average Metric: 44.599999999999994 / 25  (178.4):  50%|██████████████████████████████████████████████████████████▌                                                          | 25/50 [00:27<00:26,  1.05s/it]"
     ]
    },
    {
     "name": "stdout",
     "output_type": "stream",
     "text": [
      "Faithful: 1\n",
      "Detail: 2\n",
      "Overall: 5\n",
      "Test Question: Which battle was fought for a shorter period of time, the Battle of the Ch'ongch'on River, or the Meuse-Argonne Offensive?\n",
      "Predicted Answer: The answer cannot be determined from the provided context.\n"
     ]
    },
    {
     "name": "stderr",
     "output_type": "stream",
     "text": [
      "Average Metric: 46.199999999999996 / 26  (177.7):  52%|████████████████████████████████████████████████████████████▊                                                        | 26/50 [00:28<00:23,  1.01it/s]"
     ]
    },
    {
     "name": "stdout",
     "output_type": "stream",
     "text": [
      "Faithful: 1\n",
      "Detail: 1\n",
      "Overall: 5\n",
      "Test Question: What cricketeer active 1974–1993 had a strong performance in the tour by the Australian cricket team in England in 1981?\n",
      "Predicted Answer: The answer cannot be determined from the provided context.\n"
     ]
    },
    {
     "name": "stderr",
     "output_type": "stream",
     "text": [
      "Average Metric: 48.199999999999996 / 27  (178.5):  54%|███████████████████████████████████████████████████████████████▏                                                     | 27/50 [00:29<00:22,  1.01it/s]"
     ]
    },
    {
     "name": "stdout",
     "output_type": "stream",
     "text": [
      "Faithful: 4\n",
      "Detail: 1\n",
      "Overall: 1\n",
      "Test Question: What is the present post of the head coach of the 1982 NC State Wolfpack football team ?\n",
      "Predicted Answer: The present post of the head coach of the 1982 NC State Wolfpack football team cannot be determined from the provided context.\n"
     ]
    },
    {
     "name": "stderr",
     "output_type": "stream",
     "text": [
      "Average Metric: 49.99999999999999 / 28  (178.6):  56%|██████████████████████████████████████████████████████████████████                                                    | 28/50 [00:30<00:20,  1.05it/s]"
     ]
    },
    {
     "name": "stdout",
     "output_type": "stream",
     "text": [
      "Faithful: 1\n",
      "Detail: 2\n",
      "Overall: 5\n",
      "Test Question: Which Scottish actor sang \"Come What May\"?\n",
      "Predicted Answer: The question does not provide enough context or specific information to determine which Scottish actor sang \"Come What May.\"\n"
     ]
    },
    {
     "name": "stderr",
     "output_type": "stream",
     "text": [
      "Average Metric: 52.599999999999994 / 29  (181.4):  58%|███████████████████████████████████████████████████████████████████▊                                                 | 29/50 [00:31<00:20,  1.04it/s]"
     ]
    },
    {
     "name": "stdout",
     "output_type": "stream",
     "text": [
      "Faithful: 3\n",
      "Detail: 2\n",
      "Overall: 5\n",
      "Test Question: Where have Ivan Bella and Frank De Winne both traveled?\n",
      "Predicted Answer: The answer cannot be determined from the provided context.\n"
     ]
    },
    {
     "name": "stderr",
     "output_type": "stream",
     "text": [
      "Average Metric: 54.99999999999999 / 30  (183.3):  60%|██████████████████████████████████████████████████████████████████████▊                                               | 30/50 [00:32<00:18,  1.07it/s]"
     ]
    },
    {
     "name": "stdout",
     "output_type": "stream",
     "text": [
      "Faithful: 3\n",
      "Detail: 1\n",
      "Overall: 5\n",
      "Test Question: The original work by Anton Chekhov involving a disillusioned schoolmaster, which inspired a later play by this British playwright, was written specifically for whom?\n",
      "Predicted Answer: The answer cannot be determined from the provided context.\n"
     ]
    },
    {
     "name": "stderr",
     "output_type": "stream",
     "text": [
      "Average Metric: 57.39999999999999 / 31  (185.2):  62%|█████████████████████████████████████████████████████████████████████████▏                                            | 31/50 [00:33<00:17,  1.12it/s]"
     ]
    },
    {
     "name": "stdout",
     "output_type": "stream",
     "text": [
      "Faithful: 3\n",
      "Detail: 1\n",
      "Overall: 5\n",
      "Test Question: Are Roswell International Air Center and Pago Pago International Airport both located in the mainland US?\n",
      "Predicted Answer: No, Pago Pago International Airport is not located in the mainland US.\n"
     ]
    },
    {
     "name": "stderr",
     "output_type": "stream",
     "text": [
      "Average Metric: 59.99999999999999 / 32  (187.5):  64%|███████████████████████████████████████████████████████████████████████████▌                                          | 32/50 [00:34<00:16,  1.11it/s]"
     ]
    },
    {
     "name": "stdout",
     "output_type": "stream",
     "text": [
      "Faithful: 3\n",
      "Detail: 2\n",
      "Overall: 5\n",
      "Test Question: Untold: The Greatest Sports Stories Never Told was hosted by a sportscaster commonly referred to as what ?\n",
      "Predicted Answer: sportscaster\n"
     ]
    },
    {
     "name": "stderr",
     "output_type": "stream",
     "text": [
      "Average Metric: 61.199999999999996 / 33  (185.5):  66%|█████████████████████████████████████████████████████████████████████████████▏                                       | 33/50 [00:35<00:15,  1.10it/s]"
     ]
    },
    {
     "name": "stdout",
     "output_type": "stream",
     "text": [
      "Faithful: 2\n",
      "Detail: 1\n",
      "Overall: 1\n",
      "Test Question: Are Walt Disney and Sacro GRA both documentry films?\n",
      "Predicted Answer: The question cannot be answered based on the provided context.\n"
     ]
    },
    {
     "name": "stderr",
     "output_type": "stream",
     "text": [
      "Average Metric: 61.199999999999996 / 34  (180.0):  68%|███████████████████████████████████████████████████████████████████████████████▌                                     | 34/50 [00:36<00:14,  1.09it/s]"
     ]
    },
    {
     "name": "stdout",
     "output_type": "stream",
     "text": [
      "Faithful: 1\n",
      "Detail: N/A\n",
      "Overall: 5\n",
      "Error for example in dev set: \t\t could not convert string to float: 'N/A'\n",
      "Test Question: What is the Palestinian Islamic organization that governs th small territory on the eastern coast of the Mediterranean Sea that was captured by Israel during the 1967 Six-Day War?\n",
      "Predicted Answer: The answer cannot be determined from the provided context.\n"
     ]
    },
    {
     "name": "stderr",
     "output_type": "stream",
     "text": [
      "Average Metric: 63.599999999999994 / 35  (181.7):  70%|█████████████████████████████████████████████████████████████████████████████████▉                                   | 35/50 [00:36<00:13,  1.10it/s]"
     ]
    },
    {
     "name": "stdout",
     "output_type": "stream",
     "text": [
      "Faithful: 3\n",
      "Detail: 1\n",
      "Overall: 5\n",
      "Test Question: What album did the song of which Taylor Swift premiered the music video of during the pre-show of the 2015 MTV Video Music Awards come from?\n",
      "Predicted Answer: The answer cannot be determined from the provided context.\n"
     ]
    },
    {
     "name": "stderr",
     "output_type": "stream",
     "text": [
      "Average Metric: 65.19999999999999 / 36  (181.1):  72%|████████████████████████████████████████████████████████████████████████████████████▉                                 | 36/50 [00:37<00:12,  1.10it/s]"
     ]
    },
    {
     "name": "stdout",
     "output_type": "stream",
     "text": [
      "Faithful: 3\n",
      "Detail: 1\n",
      "Overall: 1\n",
      "Test Question: Which is considered a genus level classification, Apera or Gunnera manicata?\n",
      "Predicted Answer: The question does not provide enough context or specific information to determine whether \"Apera\" or \"Gunnera manicata\" is considered a genus level classification.\n"
     ]
    },
    {
     "name": "stderr",
     "output_type": "stream",
     "text": [
      "Average Metric: 67.39999999999999 / 37  (182.2):  74%|███████████████████████████████████████████████████████████████████████████████████████▎                              | 37/50 [00:38<00:11,  1.11it/s]"
     ]
    },
    {
     "name": "stdout",
     "output_type": "stream",
     "text": [
      "Faithful: 2\n",
      "Detail: 2\n",
      "Overall: 5\n",
      "Test Question: Do The Drums and Pussy Galore play music of similar genres?\n",
      "Predicted Answer: The context does not provide information on whether The Drums and Pussy Galore play music of similar genres.\n"
     ]
    },
    {
     "name": "stderr",
     "output_type": "stream",
     "text": [
      "Average Metric: 69.6 / 38  (183.2):  76%|███████████████████████████████████████████████████████████████████████████████████████████████████▌                               | 38/50 [00:39<00:10,  1.12it/s]"
     ]
    },
    {
     "name": "stdout",
     "output_type": "stream",
     "text": [
      "Faithful: 2\n",
      "Detail: 2\n",
      "Overall: 5\n",
      "Test Question: What is the post-nominal abbreviation for the university where the Banded Mongoose Research Project is based?\n",
      "Predicted Answer: The answer cannot be determined from the provided context.\n"
     ]
    },
    {
     "name": "stderr",
     "output_type": "stream",
     "text": [
      "Average Metric: 71.19999999999999 / 39  (182.6):  78%|████████████████████████████████████████████████████████████████████████████████████████████                          | 39/50 [00:40<00:09,  1.12it/s]"
     ]
    },
    {
     "name": "stdout",
     "output_type": "stream",
     "text": [
      "Faithful: 1\n",
      "Detail: 1\n",
      "Overall: 5\n",
      "Test Question: Are both Benjamin Christensen and Len Wiseman directors?\n",
      "Predicted Answer: The question does not provide enough context or specific information to determine if both Benjamin Christensen and Len Wiseman are directors.\n"
     ]
    },
    {
     "name": "stderr",
     "output_type": "stream",
     "text": [
      "Average Metric: 74.19999999999999 / 40  (185.5):  80%|██████████████████████████████████████████████████████████████████████████████████████████████▍                       | 40/50 [00:41<00:09,  1.10it/s]"
     ]
    },
    {
     "name": "stdout",
     "output_type": "stream",
     "text": [
      "Faithful: 4\n",
      "Detail: 2\n",
      "Overall: 5\n",
      "Test Question: Steven Cuitlahuac Melendez and Disney are connected by what American animator?\n",
      "Predicted Answer: The answer cannot be determined from the provided context.\n"
     ]
    },
    {
     "name": "stderr",
     "output_type": "stream",
     "text": [
      "Average Metric: 77.39999999999999 / 41  (188.8):  82%|████████████████████████████████████████████████████████████████████████████████████████████████▊                     | 41/50 [00:42<00:08,  1.09it/s]"
     ]
    },
    {
     "name": "stdout",
     "output_type": "stream",
     "text": [
      "Faithful: 5\n",
      "Detail: 1\n",
      "Overall: 5\n",
      "Test Question: Shark Creek is located on this river which is in the northern rivers district?\n",
      "Predicted Answer: The answer cannot be determined from the provided context.\n"
     ]
    },
    {
     "name": "stderr",
     "output_type": "stream",
     "text": [
      "Average Metric: 78.19999999999999 / 42  (186.2):  84%|███████████████████████████████████████████████████████████████████████████████████████████████████                   | 42/50 [00:43<00:07,  1.11it/s]"
     ]
    },
    {
     "name": "stdout",
     "output_type": "stream",
     "text": [
      "Faithful: 1\n",
      "Detail: 1\n",
      "Overall: 1\n",
      "Test Question: Who was the producer of the 2016 animated film about an amnesiac fish?\n",
      "Predicted Answer: The answer cannot be determined from the provided context.\n"
     ]
    },
    {
     "name": "stderr",
     "output_type": "stream",
     "text": [
      "Average Metric: 79.79999999999998 / 43  (185.6):  86%|█████████████████████████████████████████████████████████████████████████████████████████████████████▍                | 43/50 [00:44<00:06,  1.12it/s]"
     ]
    },
    {
     "name": "stdout",
     "output_type": "stream",
     "text": [
      "Faithful: 1\n",
      "Detail: 1\n",
      "Overall: 5\n",
      "Test Question: Who purchased the team Michael Schumacher raced for in the 1995 Monaco Grand Prix in 2000?\n",
      "Predicted Answer: The answer cannot be determined from the provided context.\n"
     ]
    },
    {
     "name": "stderr",
     "output_type": "stream",
     "text": [
      "Average Metric: 81.39999999999998 / 44  (185.0):  88%|███████████████████████████████████████████████████████████████████████████████████████████████████████▊              | 44/50 [00:45<00:05,  1.09it/s]"
     ]
    },
    {
     "name": "stdout",
     "output_type": "stream",
     "text": [
      "Faithful: 1\n",
      "Detail: 1\n",
      "Overall: 5\n",
      "Test Question: Fredrick Law Olmsted was an American landscape architect, journalist, social critic and public administrator that designed what neighborhood in Trenton, New Jersey?\n",
      "Predicted Answer: The answer cannot be determined from the provided context.\n"
     ]
    },
    {
     "name": "stderr",
     "output_type": "stream",
     "text": [
      "Average Metric: 83.79999999999998 / 45  (186.2):  90%|██████████████████████████████████████████████████████████████████████████████████████████████████████████▏           | 45/50 [00:45<00:04,  1.13it/s]"
     ]
    },
    {
     "name": "stdout",
     "output_type": "stream",
     "text": [
      "Faithful: 3\n",
      "Detail: 1\n",
      "Overall: 5\n",
      "Test Question: Gordon Warnecke worked alongside the former senator for which political party on Young Toscanini?\n",
      "Predicted Answer: The answer cannot be determined from the provided context.\n"
     ]
    },
    {
     "name": "stderr",
     "output_type": "stream",
     "text": [
      "Average Metric: 85.79999999999998 / 46  (186.5):  92%|████████████████████████████████████████████████████████████████████████████████████████████████████████████▌         | 46/50 [00:46<00:03,  1.10it/s]"
     ]
    },
    {
     "name": "stdout",
     "output_type": "stream",
     "text": [
      "Faithful: 2\n",
      "Detail: 1\n",
      "Overall: 5\n",
      "Test Question: André Zucca was a French photographer who worked with a German propaganda magazine published by what Nazi organization?\n",
      "Predicted Answer: Nazi organization\n"
     ]
    },
    {
     "name": "stderr",
     "output_type": "stream",
     "text": [
      "Average Metric: 87.19999999999999 / 47  (185.5):  94%|██████████████████████████████████████████████████████████████████████████████████████████████████████████████▉       | 47/50 [00:47<00:02,  1.13it/s]"
     ]
    },
    {
     "name": "stdout",
     "output_type": "stream",
     "text": [
      "Faithful: 1\n",
      "Detail: 1\n",
      "Overall: 4\n",
      "Test Question: Both Bill Ponsford and Bill Woodfull played what?\n",
      "Predicted Answer: The answer cannot be determined from the provided context.\n"
     ]
    },
    {
     "name": "stderr",
     "output_type": "stream",
     "text": [
      "Average Metric: 89.19999999999999 / 48  (185.8):  96%|█████████████████████████████████████████████████████████████████████████████████████████████████████████████████▎    | 48/50 [00:48<00:01,  1.12it/s]"
     ]
    },
    {
     "name": "stdout",
     "output_type": "stream",
     "text": [
      "Faithful: 4\n",
      "Detail: 1\n",
      "Overall: 1\n",
      "Test Question:  Suzana S. Drobnjaković Ponti acted in a film loosely based on a book by who?\n",
      "Predicted Answer: The answer cannot be determined from the provided context.\n"
     ]
    },
    {
     "name": "stderr",
     "output_type": "stream",
     "text": [
      "Average Metric: 91.19999999999999 / 49  (186.1):  98%|███████████████████████████████████████████████████████████████████████████████████████████████████████████████████▋  | 49/50 [00:49<00:00,  1.15it/s]"
     ]
    },
    {
     "name": "stdout",
     "output_type": "stream",
     "text": [
      "Faithful: 2\n",
      "Detail: 1\n",
      "Overall: 5\n",
      "Test Question: In what city was the Election Law Journal founded?\n",
      "Predicted Answer: The answer cannot be determined from the provided context.\n"
     ]
    },
    {
     "name": "stderr",
     "output_type": "stream",
     "text": [
      "Average Metric: 93.19999999999999 / 50  (186.4): 100%|██████████████████████████████████████████████████████████████████████████████████████████████████████████████████████| 50/50 [00:50<00:00,  1.01s/it]"
     ]
    },
    {
     "name": "stdout",
     "output_type": "stream",
     "text": [
      "Faithful: 2\n",
      "Detail: 1\n",
      "Overall: 5\n",
      "Average Metric: 93.19999999999999 / 50  (186.4%)\n"
     ]
    },
    {
     "name": "stderr",
     "output_type": "stream",
     "text": [
      "\n",
      "/Users/derrickmwiti/.env/lib/python3.11/site-packages/dspy/evaluate/evaluate.py:266: FutureWarning: Setting an item of incompatible dtype is deprecated and will raise in a future error of pandas. Value '['0.8' '1.2' '2.4' '0.8' '0.8']' has dtype incompatible with float64, please explicitly cast to a compatible dtype first.\n",
      "  df.loc[:, metric_name] = df[metric_name].apply(\n"
     ]
    },
    {
     "data": {
      "text/html": [
       "<style type=\"text/css\">\n",
       "#T_7bd8b th {\n",
       "  text-align: left;\n",
       "}\n",
       "#T_7bd8b td {\n",
       "  text-align: left;\n",
       "}\n",
       "#T_7bd8b_row0_col0, #T_7bd8b_row0_col1, #T_7bd8b_row0_col2, #T_7bd8b_row0_col3, #T_7bd8b_row0_col4, #T_7bd8b_row0_col5, #T_7bd8b_row0_col6, #T_7bd8b_row1_col0, #T_7bd8b_row1_col1, #T_7bd8b_row1_col2, #T_7bd8b_row1_col3, #T_7bd8b_row1_col4, #T_7bd8b_row1_col5, #T_7bd8b_row1_col6, #T_7bd8b_row2_col0, #T_7bd8b_row2_col1, #T_7bd8b_row2_col2, #T_7bd8b_row2_col3, #T_7bd8b_row2_col4, #T_7bd8b_row2_col5, #T_7bd8b_row2_col6, #T_7bd8b_row3_col0, #T_7bd8b_row3_col1, #T_7bd8b_row3_col2, #T_7bd8b_row3_col3, #T_7bd8b_row3_col4, #T_7bd8b_row3_col5, #T_7bd8b_row3_col6, #T_7bd8b_row4_col0, #T_7bd8b_row4_col1, #T_7bd8b_row4_col2, #T_7bd8b_row4_col3, #T_7bd8b_row4_col4, #T_7bd8b_row4_col5, #T_7bd8b_row4_col6 {\n",
       "  text-align: left;\n",
       "  white-space: pre-wrap;\n",
       "  word-wrap: break-word;\n",
       "  max-width: 400px;\n",
       "}\n",
       "</style>\n",
       "<table id=\"T_7bd8b\">\n",
       "  <thead>\n",
       "    <tr>\n",
       "      <th class=\"blank level0\" >&nbsp;</th>\n",
       "      <th id=\"T_7bd8b_level0_col0\" class=\"col_heading level0 col0\" >question</th>\n",
       "      <th id=\"T_7bd8b_level0_col1\" class=\"col_heading level0 col1\" >example_answer</th>\n",
       "      <th id=\"T_7bd8b_level0_col2\" class=\"col_heading level0 col2\" >gold_titles</th>\n",
       "      <th id=\"T_7bd8b_level0_col3\" class=\"col_heading level0 col3\" >context</th>\n",
       "      <th id=\"T_7bd8b_level0_col4\" class=\"col_heading level0 col4\" >pred_answer</th>\n",
       "      <th id=\"T_7bd8b_level0_col5\" class=\"col_heading level0 col5\" >llm_metric</th>\n",
       "      <th id=\"T_7bd8b_level0_col6\" class=\"col_heading level0 col6\" >answer</th>\n",
       "    </tr>\n",
       "  </thead>\n",
       "  <tbody>\n",
       "    <tr>\n",
       "      <th id=\"T_7bd8b_level0_row0\" class=\"row_heading level0 row0\" >0</th>\n",
       "      <td id=\"T_7bd8b_row0_col0\" class=\"data row0 col0\" >Are both Cangzhou and Qionghai in the Hebei province of China?</td>\n",
       "      <td id=\"T_7bd8b_row0_col1\" class=\"data row0 col1\" >no</td>\n",
       "      <td id=\"T_7bd8b_row0_col2\" class=\"data row0 col2\" >{'Cangzhou', 'Qionghai'}</td>\n",
       "      <td id=\"T_7bd8b_row0_col3\" class=\"data row0 col3\" >['Table\\n* indicates \"Cities of COUNTRY or TERRITORY\" links.\\nCountry (or territory)\\tCapital\\tPopulation\\t% of country\\tSource\\n China\\u202f*\\tBeijing\\t21,542,000\\t1.5%\\t[1] 2018\\n Japan\\u202f*\\tTokyo\\t14,094,034\\t11.3%\\t[2] 2023\\n Russia\\u202f*\\tMoscow\\t13,104,177\\t9.0%\\t[3] 2023\\n DR Congo\\u202f*\\tKinshasa\\t12,691,000\\t13.2%\\t[4] 2017\\n Indonesia\\u202f*\\tJakarta\\t10,562,088\\t3.9%\\t[5] 2020\\n Egypt\\u202f*\\tCairo\\t10,107,125\\t9.3%\\t[6] 2022\\n...</td>\n",
       "      <td id=\"T_7bd8b_row0_col4\" class=\"data row0 col4\" >The information to determine if both Cangzhou and Qionghai are in the Hebei province of China is not provided in the context.</td>\n",
       "      <td id=\"T_7bd8b_row0_col5\" class=\"data row0 col5\" >0.8</td>\n",
       "      <td id=\"T_7bd8b_row0_col6\" class=\"data row0 col6\" >nan</td>\n",
       "    </tr>\n",
       "    <tr>\n",
       "      <th id=\"T_7bd8b_level0_row1\" class=\"row_heading level0 row1\" >1</th>\n",
       "      <td id=\"T_7bd8b_row1_col0\" class=\"data row1 col0\" >Who conducts the draft in which Marc-Andre Fleury was drafted to the Vegas Golden Knights for the 2017-18 season?</td>\n",
       "      <td id=\"T_7bd8b_row1_col1\" class=\"data row1 col1\" >National Hockey League</td>\n",
       "      <td id=\"T_7bd8b_row1_col2\" class=\"data row1 col2\" >{'2017–18 Pittsburgh Penguins season', '2017 NHL Expansion Draft'}</td>\n",
       "      <td id=\"T_7bd8b_row1_col3\" class=\"data row1 col3\" >['Amsterdam holds two American football franchises: the Amsterdam Crusaders and the Amsterdam Panthers. The Amsterdam Pirates baseball team competes in the Dutch Major League. There...</td>\n",
       "      <td id=\"T_7bd8b_row1_col4\" class=\"data row1 col4\" >The answer cannot be determined from the provided context.</td>\n",
       "      <td id=\"T_7bd8b_row1_col5\" class=\"data row1 col5\" >1.2</td>\n",
       "      <td id=\"T_7bd8b_row1_col6\" class=\"data row1 col6\" >nan</td>\n",
       "    </tr>\n",
       "    <tr>\n",
       "      <th id=\"T_7bd8b_level0_row2\" class=\"row_heading level0 row2\" >2</th>\n",
       "      <td id=\"T_7bd8b_row2_col0\" class=\"data row2 col0\" >The Wings entered a new era, following the retirement of which Canadian retired professional ice hockey player and current general manager of the Tampa Bay...</td>\n",
       "      <td id=\"T_7bd8b_row2_col1\" class=\"data row2 col1\" >Steve Yzerman</td>\n",
       "      <td id=\"T_7bd8b_row2_col2\" class=\"data row2 col2\" >{'Steve Yzerman', '2006–07 Detroit Red Wings season'}</td>\n",
       "      <td id=\"T_7bd8b_row2_col3\" class=\"data row2 col3\" >['city was finally liberated by Canadian forces on 5 May 1945, shortly before the end of the war in Europe.', 'In parallel, the Eastern Question...</td>\n",
       "      <td id=\"T_7bd8b_row2_col4\" class=\"data row2 col4\" >The answer cannot be determined from the provided context.</td>\n",
       "      <td id=\"T_7bd8b_row2_col5\" class=\"data row2 col5\" >2.4</td>\n",
       "      <td id=\"T_7bd8b_row2_col6\" class=\"data row2 col6\" >nan</td>\n",
       "    </tr>\n",
       "    <tr>\n",
       "      <th id=\"T_7bd8b_level0_row3\" class=\"row_heading level0 row3\" >3</th>\n",
       "      <td id=\"T_7bd8b_row3_col0\" class=\"data row3 col0\" >What river is near the Crichton Collegiate Church?</td>\n",
       "      <td id=\"T_7bd8b_row3_col1\" class=\"data row3 col1\" >the River Tyne</td>\n",
       "      <td id=\"T_7bd8b_row3_col2\" class=\"data row3 col2\" >{'Crichton Castle', 'Crichton Collegiate Church'}</td>\n",
       "      <td id=\"T_7bd8b_row3_col3\" class=\"data row3 col3\" >['By the mid-19th century, there were three main conventions, one following the Don, the Volga–Don Canal and the Volga, the other following the Kuma–Manych Depression...</td>\n",
       "      <td id=\"T_7bd8b_row3_col4\" class=\"data row3 col4\" >Don River</td>\n",
       "      <td id=\"T_7bd8b_row3_col5\" class=\"data row3 col5\" >0.8</td>\n",
       "      <td id=\"T_7bd8b_row3_col6\" class=\"data row3 col6\" >nan</td>\n",
       "    </tr>\n",
       "    <tr>\n",
       "      <th id=\"T_7bd8b_level0_row4\" class=\"row_heading level0 row4\" >4</th>\n",
       "      <td id=\"T_7bd8b_row4_col0\" class=\"data row4 col0\" >In the 10th Century A.D. Ealhswith had a son called Æthelweard by which English king?</td>\n",
       "      <td id=\"T_7bd8b_row4_col1\" class=\"data row4 col1\" >King Alfred the Great</td>\n",
       "      <td id=\"T_7bd8b_row4_col2\" class=\"data row4 col2\" >{'Ealhswith', 'Æthelweard (son of Alfred)'}</td>\n",
       "      <td id=\"T_7bd8b_row4_col3\" class=\"data row4 col3\" >['During the Dark Ages, the Western Roman Empire fell under the control of various tribes. The Germanic and Slav tribes established their domains over Western...</td>\n",
       "      <td id=\"T_7bd8b_row4_col4\" class=\"data row4 col4\" >King Alfred the Great</td>\n",
       "      <td id=\"T_7bd8b_row4_col5\" class=\"data row4 col5\" >0.8</td>\n",
       "      <td id=\"T_7bd8b_row4_col6\" class=\"data row4 col6\" >nan</td>\n",
       "    </tr>\n",
       "  </tbody>\n",
       "</table>\n"
      ],
      "text/plain": [
       "<pandas.io.formats.style.Styler at 0x30d3ac150>"
      ]
     },
     "metadata": {},
     "output_type": "display_data"
    },
    {
     "data": {
      "text/html": [
       "\n",
       "                <div style='\n",
       "                    text-align: center;\n",
       "                    font-size: 16px;\n",
       "                    font-weight: bold;\n",
       "                    color: #555;\n",
       "                    margin: 10px 0;'>\n",
       "                    ... 45 more rows not displayed ...\n",
       "                </div>\n",
       "                "
      ],
      "text/plain": [
       "<IPython.core.display.HTML object>"
      ]
     },
     "metadata": {},
     "output_type": "display_data"
    },
    {
     "data": {
      "text/plain": [
       "186.4"
      ]
     },
     "execution_count": 58,
     "metadata": {},
     "output_type": "execute_result"
    }
   ],
   "source": [
    "evaluate(second_compiled_rag, metric=llm_metric)"
   ]
  },
  {
   "cell_type": "code",
   "execution_count": 59,
   "id": "111523fa-246f-4100-b055-fb0d39ddd2b5",
   "metadata": {},
   "outputs": [
    {
     "name": "stderr",
     "output_type": "stream",
     "text": [
      "  0%|                                                                                                                                                                                | 0/50 [00:00<?, ?it/s]"
     ]
    },
    {
     "name": "stdout",
     "output_type": "stream",
     "text": [
      "Test Question: Are both Cangzhou and Qionghai in the Hebei province of China?\n",
      "Predicted Answer: No\n"
     ]
    },
    {
     "name": "stderr",
     "output_type": "stream",
     "text": [
      "Average Metric: 1.8 / 1  (180.0):   2%|██▋                                                                                                                                   | 1/50 [00:01<00:49,  1.00s/it]"
     ]
    },
    {
     "name": "stdout",
     "output_type": "stream",
     "text": [
      "Faithful: 1\n",
      "Detail: 2\n",
      "Overall: 5\n",
      "Test Question: Who conducts the draft in which Marc-Andre Fleury was drafted to the Vegas Golden Knights for the 2017-18 season?\n",
      "Predicted Answer: The National Hockey League (NHL) conducted the draft in which Marc-Andre Fleury was drafted to the Vegas Golden Knights for the 2017-18 season.\n"
     ]
    },
    {
     "name": "stderr",
     "output_type": "stream",
     "text": [
      "Average Metric: 3.4000000000000004 / 2  (170.0):   4%|████▊                                                                                                                  | 2/50 [00:01<00:44,  1.08it/s]"
     ]
    },
    {
     "name": "stdout",
     "output_type": "stream",
     "text": [
      "Faithful: 1\n",
      "Detail: 1\n",
      "Overall: 5\n",
      "Test Question: The Wings entered a new era, following the retirement of which Canadian retired professional ice hockey player and current general manager of the Tampa Bay Lightning of the National Hockey League (NHL)?\n",
      "Predicted Answer: Steve Yzerman\n"
     ]
    },
    {
     "name": "stderr",
     "output_type": "stream",
     "text": [
      "Average Metric: 4.2 / 3  (140.0):   6%|████████                                                                                                                              | 3/50 [00:02<00:42,  1.10it/s]"
     ]
    },
    {
     "name": "stdout",
     "output_type": "stream",
     "text": [
      "Faithful: 1\n",
      "Detail: 1\n",
      "Overall: 1\n",
      "Test Question: What river is near the Crichton Collegiate Church?\n",
      "Predicted Answer: The information provided does not specify the river near the Crichton Collegiate Church.\n"
     ]
    },
    {
     "name": "stderr",
     "output_type": "stream",
     "text": [
      "Average Metric: 6.4 / 4  (160.0):   8%|██████████▋                                                                                                                           | 4/50 [00:03<00:42,  1.09it/s]"
     ]
    },
    {
     "name": "stdout",
     "output_type": "stream",
     "text": [
      "Faithful: 2\n",
      "Detail: 2\n",
      "Overall: 5\n",
      "Test Question: In the 10th Century A.D. Ealhswith had a son called Æthelweard by which English king?\n",
      "Predicted Answer: King Alfred the Great\n"
     ]
    },
    {
     "name": "stderr",
     "output_type": "stream",
     "text": [
      "Average Metric: 7.2 / 5  (144.0):  10%|█████████████▍                                                                                                                        | 5/50 [00:04<00:43,  1.04it/s]"
     ]
    },
    {
     "name": "stdout",
     "output_type": "stream",
     "text": [
      "Faithful: 1\n",
      "Detail: 1\n",
      "Overall: 1\n",
      "Test Question: The Newark Airport Exchange is at the northern edge of an airport that is operated by whom?\n",
      "Predicted Answer: The Newark Airport Exchange is at the northern edge of an airport that is operated by the Port Authority of New York and New Jersey.\n"
     ]
    },
    {
     "name": "stderr",
     "output_type": "stream",
     "text": [
      "Average Metric: 9.0 / 6  (150.0):  12%|████████████████                                                                                                                      | 6/50 [00:05<00:42,  1.04it/s]"
     ]
    },
    {
     "name": "stdout",
     "output_type": "stream",
     "text": [
      "Faithful: 1\n",
      "Detail: 2\n",
      "Overall: 5\n",
      "Test Question: Where did an event take place resulting in a win during a domestic double due to the action of a Peruvian footballer known for his goal scoring ability?\n",
      "Predicted Answer: The event took place in Amsterdam, with Ajax winning a domestic double possibly due to the action of a Peruvian footballer known for his goal scoring ability.\n"
     ]
    },
    {
     "name": "stderr",
     "output_type": "stream",
     "text": [
      "Average Metric: 10.4 / 7  (148.6):  14%|██████████████████▌                                                                                                                  | 7/50 [00:06<00:39,  1.10it/s]"
     ]
    },
    {
     "name": "stdout",
     "output_type": "stream",
     "text": [
      "Faithful: 1\n",
      "Detail: 2\n",
      "Overall: 3\n",
      "Test Question: Are both Chico Municipal Airport and William R. Fairchild International Airport in California?\n",
      "Predicted Answer: No, Chico Municipal Airport is in California, but William R. Fairchild International Airport is in Washington state.\n"
     ]
    },
    {
     "name": "stderr",
     "output_type": "stream",
     "text": [
      "Average Metric: 12.200000000000001 / 8  (152.5):  16%|███████████████████                                                                                                    | 8/50 [00:07<00:38,  1.09it/s]"
     ]
    },
    {
     "name": "stdout",
     "output_type": "stream",
     "text": [
      "Faithful: 1\n",
      "Detail: 2\n",
      "Overall: 5\n",
      "Test Question: In which Maine county is Fort Pownall located?\n",
      "Predicted Answer: Fort Pownall is located in Waldo County, Maine.\n"
     ]
    },
    {
     "name": "stderr",
     "output_type": "stream",
     "text": [
      "Average Metric: 14.600000000000001 / 9  (162.2):  18%|█████████████████████▍                                                                                                 | 9/50 [00:08<00:36,  1.12it/s]"
     ]
    },
    {
     "name": "stdout",
     "output_type": "stream",
     "text": [
      "Faithful: 3\n",
      "Detail: 1\n",
      "Overall: 5\n",
      "Test Question: Which 90s rock band has more recently reformed, Gene or The Afghan Whigs?\n",
      "Predicted Answer: The Afghan Whigs\n"
     ]
    },
    {
     "name": "stderr",
     "output_type": "stream",
     "text": [
      "Average Metric: 16.200000000000003 / 10  (162.0):  20%|███████████████████████▍                                                                                             | 10/50 [00:09<00:36,  1.10it/s]"
     ]
    },
    {
     "name": "stdout",
     "output_type": "stream",
     "text": [
      "Faithful: 1\n",
      "Detail: 1\n",
      "Overall: 5\n",
      "Test Question: What year did the mountain known in Italian as \"Monte Vesuvio\", erupt?\n",
      "Predicted Answer: The eruption of Mount Vesuvius, known in Italian as \"Monte Vesuvio\", famously occurred in the year 79 AD.\n"
     ]
    },
    {
     "name": "stderr",
     "output_type": "stream",
     "text": [
      "Average Metric: 17.800000000000004 / 11  (161.8):  22%|█████████████████████████▋                                                                                           | 11/50 [00:10<00:39,  1.01s/it]"
     ]
    },
    {
     "name": "stdout",
     "output_type": "stream",
     "text": [
      "Faithful: 1\n",
      "Detail: 1\n",
      "Overall: 5\n",
      "Test Question: Is the 72nd field brigade part of the oldest or newest established field army?\n",
      "Predicted Answer: The 72nd field brigade is likely part of the newest established field army.\n"
     ]
    },
    {
     "name": "stderr",
     "output_type": "stream",
     "text": [
      "Average Metric: 19.400000000000006 / 12  (161.7):  24%|████████████████████████████                                                                                         | 12/50 [00:11<00:37,  1.00it/s]"
     ]
    },
    {
     "name": "stdout",
     "output_type": "stream",
     "text": [
      "Faithful: 1\n",
      "Detail: 1\n",
      "Overall: 5\n",
      "Test Question: Was Stanislaw Kiszka paid for his services by the Royal Treasury?\n",
      "Predicted Answer: Based on the information provided, it is not explicitly stated whether Stanislaw Kiszka was paid for his services by the Royal Treasury.\n"
     ]
    },
    {
     "name": "stderr",
     "output_type": "stream",
     "text": [
      "Average Metric: 21.600000000000005 / 13  (166.2):  26%|██████████████████████████████▍                                                                                      | 13/50 [00:12<00:34,  1.06it/s]"
     ]
    },
    {
     "name": "stdout",
     "output_type": "stream",
     "text": [
      "Faithful: 2\n",
      "Detail: 2\n",
      "Overall: 5\n",
      "Test Question: Which film director is younger, Del Lord or Wang Xiaoshuai?\n",
      "Predicted Answer: Wang Xiaoshuai is younger than Del Lord.\n"
     ]
    },
    {
     "name": "stderr",
     "output_type": "stream",
     "text": [
      "Average Metric: 23.200000000000006 / 14  (165.7):  28%|████████████████████████████████▊                                                                                    | 14/50 [00:13<00:34,  1.06it/s]"
     ]
    },
    {
     "name": "stdout",
     "output_type": "stream",
     "text": [
      "Faithful: 1\n",
      "Detail: 1\n",
      "Overall: 5\n",
      "Test Question: Lord North Street has a resident in which former Conservative MP who received an 18-month prison sentence for perjury in 1999?\n",
      "Predicted Answer: Jonathan Aitken\n"
     ]
    },
    {
     "name": "stderr",
     "output_type": "stream",
     "text": [
      "Average Metric: 24.800000000000008 / 15  (165.3):  30%|███████████████████████████████████                                                                                  | 15/50 [00:14<00:33,  1.05it/s]"
     ]
    },
    {
     "name": "stdout",
     "output_type": "stream",
     "text": [
      "Faithful: 1\n",
      "Detail: 1\n",
      "Overall: 5\n",
      "Test Question: What is the name of this region of Italy, referring to the medieval March of Ancona and nearby marches of Camerino and Fermo, where the comune Pollenza is located?\n",
      "Predicted Answer: Marche\n"
     ]
    },
    {
     "name": "stderr",
     "output_type": "stream",
     "text": [
      "Average Metric: 26.40000000000001 / 16  (165.0):  32%|█████████████████████████████████████▊                                                                                | 16/50 [00:15<00:31,  1.06it/s]"
     ]
    },
    {
     "name": "stdout",
     "output_type": "stream",
     "text": [
      "Faithful: 1\n",
      "Detail: 1\n",
      "Overall: 5\n",
      "Test Question: William Hughes Miller was born in a city with how many inhabitants ?\n",
      "Predicted Answer: 872,000\n"
     ]
    },
    {
     "name": "stderr",
     "output_type": "stream",
     "text": [
      "Average Metric: 29.60000000000001 / 17  (174.1):  34%|████████████████████████████████████████                                                                              | 17/50 [00:15<00:30,  1.08it/s]"
     ]
    },
    {
     "name": "stdout",
     "output_type": "stream",
     "text": [
      "Faithful: 5\n",
      "Detail: 1\n",
      "Overall: 5\n",
      "Test Question: What do students do at the school of New York University where Meleko Mokgosi is an artist and assistant professor?\n",
      "Predicted Answer: Students at the school of New York University where Meleko Mokgosi is an artist and assistant professor likely engage in art-related activities, attend classes, and workshops led by him.\n"
     ]
    },
    {
     "name": "stderr",
     "output_type": "stream",
     "text": [
      "Average Metric: 31.40000000000001 / 18  (174.4):  36%|██████████████████████████████████████████▍                                                                           | 18/50 [00:16<00:30,  1.05it/s]"
     ]
    },
    {
     "name": "stdout",
     "output_type": "stream",
     "text": [
      "Faithful: 1\n",
      "Detail: 3\n",
      "Overall: 4\n",
      "Test Question: What is the nationality of the chef and restaurateur featured in Restaurant: Impossible?\n",
      "Predicted Answer: American\n"
     ]
    },
    {
     "name": "stderr",
     "output_type": "stream",
     "text": [
      "Average Metric: 33.00000000000001 / 19  (173.7):  38%|████████████████████████████████████████████▊                                                                         | 19/50 [00:18<00:31,  1.01s/it]"
     ]
    },
    {
     "name": "stdout",
     "output_type": "stream",
     "text": [
      "Faithful: 1\n",
      "Detail: 1\n",
      "Overall: 5\n",
      "Test Question: What American actor plays an East side drug lord who prefers peaceful solutions to business disputes when possible?\n",
      "Predicted Answer: Samuel L. Jackson\n"
     ]
    },
    {
     "name": "stderr",
     "output_type": "stream",
     "text": [
      "Average Metric: 33.800000000000004 / 20  (169.0):  40%|██████████████████████████████████████████████▊                                                                      | 20/50 [00:18<00:28,  1.05it/s]"
     ]
    },
    {
     "name": "stdout",
     "output_type": "stream",
     "text": [
      "Faithful: 1\n",
      "Detail: 1\n",
      "Overall: 1\n",
      "Test Question: What city is 11 miles north of the birthplace of actor Toby Sawyer?\n",
      "Predicted Answer: Without knowing Toby Sawyer's birthplace, we cannot determine the city that is 11 miles north of it.\n"
     ]
    },
    {
     "name": "stderr",
     "output_type": "stream",
     "text": [
      "Average Metric: 37.00000000000001 / 21  (176.2):  42%|█████████████████████████████████████████████████▌                                                                    | 21/50 [00:19<00:27,  1.07it/s]"
     ]
    },
    {
     "name": "stdout",
     "output_type": "stream",
     "text": [
      "Faithful: 4\n",
      "Detail: 3\n",
      "Overall: 5\n",
      "Test Question: Who was born first, Tony Kaye or Deepa Mehta?\n",
      "Predicted Answer: Tony Kaye was born first.\n"
     ]
    },
    {
     "name": "stderr",
     "output_type": "stream",
     "text": [
      "Average Metric: 38.60000000000001 / 22  (175.5):  44%|███████████████████████████████████████████████████▉                                                                  | 22/50 [00:20<00:26,  1.05it/s]"
     ]
    },
    {
     "name": "stdout",
     "output_type": "stream",
     "text": [
      "Faithful: 1\n",
      "Detail: 1\n",
      "Overall: 5\n",
      "Test Question: What is the English translation of the name of the store that Macy's replaced in Boise Town Square?\n",
      "Predicted Answer: The English translation of the name of the store that Macy's replaced in Boise Town Square is not provided in the given context.\n"
     ]
    },
    {
     "name": "stderr",
     "output_type": "stream",
     "text": [
      "Average Metric: 40.400000000000006 / 23  (175.7):  46%|█████████████████████████████████████████████████████▊                                                               | 23/50 [00:21<00:25,  1.06it/s]"
     ]
    },
    {
     "name": "stdout",
     "output_type": "stream",
     "text": [
      "Faithful: 1\n",
      "Detail: 2\n",
      "Overall: 5\n",
      "Test Question: Who did Lizzette Reynolds fire to make her notable in November 2007?\n",
      "Predicted Answer: Lizzette Reynolds fired the head coach of the University of Arkansas football team, Houston Nutt, in November 2007.\n"
     ]
    },
    {
     "name": "stderr",
     "output_type": "stream",
     "text": [
      "Average Metric: 42.2 / 24  (175.8):  48%|██████████████████████████████████████████████████████████████▉                                                                    | 24/50 [00:22<00:24,  1.06it/s]"
     ]
    },
    {
     "name": "stdout",
     "output_type": "stream",
     "text": [
      "Faithful: 1\n",
      "Detail: 2\n",
      "Overall: 5\n",
      "Test Question: What was the name of the man, who was billed by the coiner of the phrase \"There's a sucker born every minute\" as \"Boy Lightning Calculator\"?\n",
      "Predicted Answer: P.T. Barnum\n"
     ]
    },
    {
     "name": "stderr",
     "output_type": "stream",
     "text": [
      "Average Metric: 43.800000000000004 / 25  (175.2):  50%|██████████████████████████████████████████████████████████▌                                                          | 25/50 [00:23<00:23,  1.06it/s]"
     ]
    },
    {
     "name": "stdout",
     "output_type": "stream",
     "text": [
      "Faithful: 1\n",
      "Detail: 1\n",
      "Overall: 5\n",
      "Test Question: Which battle was fought for a shorter period of time, the Battle of the Ch'ongch'on River, or the Meuse-Argonne Offensive?\n",
      "Predicted Answer: The Battle of the Ch'ongch'on River was fought for a shorter period of time compared to the Meuse-Argonne Offensive.\n"
     ]
    },
    {
     "name": "stderr",
     "output_type": "stream",
     "text": [
      "Average Metric: 45.800000000000004 / 26  (176.2):  52%|████████████████████████████████████████████████████████████▊                                                        | 26/50 [00:24<00:22,  1.09it/s]"
     ]
    },
    {
     "name": "stdout",
     "output_type": "stream",
     "text": [
      "Faithful: 2\n",
      "Detail: 1\n",
      "Overall: 5\n",
      "Test Question: What cricketeer active 1974–1993 had a strong performance in the tour by the Australian cricket team in England in 1981?\n",
      "Predicted Answer: Ian Botham\n"
     ]
    },
    {
     "name": "stderr",
     "output_type": "stream",
     "text": [
      "Average Metric: 46.6 / 27  (172.6):  54%|██████████████████████████████████████████████████████████████████████▋                                                            | 27/50 [00:25<00:21,  1.09it/s]"
     ]
    },
    {
     "name": "stdout",
     "output_type": "stream",
     "text": [
      "Faithful: 1\n",
      "Detail: 1\n",
      "Overall: 1\n",
      "Test Question: What is the present post of the head coach of the 1982 NC State Wolfpack football team ?\n",
      "Predicted Answer: The present post of the head coach of the 1982 NC State Wolfpack football team is not provided in the context.\n"
     ]
    },
    {
     "name": "stderr",
     "output_type": "stream",
     "text": [
      "Average Metric: 48.4 / 28  (172.9):  56%|█████████████████████████████████████████████████████████████████████████▎                                                         | 28/50 [00:26<00:19,  1.10it/s]"
     ]
    },
    {
     "name": "stdout",
     "output_type": "stream",
     "text": [
      "Faithful: 1\n",
      "Detail: 2\n",
      "Overall: 5\n",
      "Test Question: Which Scottish actor sang \"Come What May\"?\n",
      "Predicted Answer: Ewan McGregor\n"
     ]
    },
    {
     "name": "stderr",
     "output_type": "stream",
     "text": [
      "Average Metric: 49.199999999999996 / 29  (169.7):  58%|███████████████████████████████████████████████████████████████████▊                                                 | 29/50 [00:27<00:18,  1.12it/s]"
     ]
    },
    {
     "name": "stdout",
     "output_type": "stream",
     "text": [
      "Faithful: 1\n",
      "Detail: 1\n",
      "Overall: 1\n",
      "Test Question: Where have Ivan Bella and Frank De Winne both traveled?\n",
      "Predicted Answer: Ivan Bella and Frank De Winne have both traveled to the Netherlands.\n"
     ]
    },
    {
     "name": "stderr",
     "output_type": "stream",
     "text": [
      "Average Metric: 51.199999999999996 / 30  (170.7):  60%|██████████████████████████████████████████████████████████████████████▏                                              | 30/50 [00:27<00:17,  1.16it/s]"
     ]
    },
    {
     "name": "stdout",
     "output_type": "stream",
     "text": [
      "Faithful: 2\n",
      "Detail: 1\n",
      "Overall: 5\n",
      "Test Question: The original work by Anton Chekhov involving a disillusioned schoolmaster, which inspired a later play by this British playwright, was written specifically for whom?\n",
      "Predicted Answer: The original work by Anton Chekhov involving a disillusioned schoolmaster, which inspired a later play by a British playwright, was specifically written for the Russian audience.\n"
     ]
    },
    {
     "name": "stderr",
     "output_type": "stream",
     "text": [
      "Average Metric: 53.199999999999996 / 31  (171.6):  62%|████████████████████████████████████████████████████████████████████████▌                                            | 31/50 [00:29<00:17,  1.08it/s]"
     ]
    },
    {
     "name": "stdout",
     "output_type": "stream",
     "text": [
      "Faithful: 1\n",
      "Detail: 3\n",
      "Overall: 5\n",
      "Test Question: Are Roswell International Air Center and Pago Pago International Airport both located in the mainland US?\n",
      "Predicted Answer: No, Pago Pago International Airport is not located in the mainland US.\n"
     ]
    },
    {
     "name": "stderr",
     "output_type": "stream",
     "text": [
      "Average Metric: 55.8 / 32  (174.4):  64%|███████████████████████████████████████████████████████████████████████████████████▊                                               | 32/50 [00:29<00:16,  1.07it/s]"
     ]
    },
    {
     "name": "stdout",
     "output_type": "stream",
     "text": [
      "Faithful: 3\n",
      "Detail: 2\n",
      "Overall: 5\n",
      "Test Question: Untold: The Greatest Sports Stories Never Told was hosted by a sportscaster commonly referred to as what ?\n",
      "Predicted Answer: The sportscaster commonly referred to in the show \"Untold: The Greatest Sports Stories Never Told\" was hosted by Bob Costas.\n"
     ]
    },
    {
     "name": "stderr",
     "output_type": "stream",
     "text": [
      "Average Metric: 58.0 / 33  (175.8):  66%|██████████████████████████████████████████████████████████████████████████████████████▍                                            | 33/50 [00:30<00:16,  1.06it/s]"
     ]
    },
    {
     "name": "stdout",
     "output_type": "stream",
     "text": [
      "Faithful: 2\n",
      "Detail: 2\n",
      "Overall: 5\n",
      "Test Question: Are Walt Disney and Sacro GRA both documentry films?\n",
      "Predicted Answer: No, Walt Disney is not a documentary film. It is a company known for its animated films and theme parks. On the other hand, Sacro GRA is a documentary film directed by Gianfranco Rosi, which won the Golden Lion at the 70th Venice International Film Festival.\n"
     ]
    },
    {
     "name": "stderr",
     "output_type": "stream",
     "text": [
      "Average Metric: 60.2 / 34  (177.1):  68%|█████████████████████████████████████████████████████████████████████████████████████████                                          | 34/50 [00:31<00:14,  1.07it/s]"
     ]
    },
    {
     "name": "stdout",
     "output_type": "stream",
     "text": [
      "Faithful: 2\n",
      "Detail: 2\n",
      "Overall: 5\n",
      "Test Question: What is the Palestinian Islamic organization that governs th small territory on the eastern coast of the Mediterranean Sea that was captured by Israel during the 1967 Six-Day War?\n",
      "Predicted Answer: Hamas\n"
     ]
    },
    {
     "name": "stderr",
     "output_type": "stream",
     "text": [
      "Average Metric: 61.800000000000004 / 35  (176.6):  70%|█████████████████████████████████████████████████████████████████████████████████▉                                   | 35/50 [00:32<00:13,  1.12it/s]"
     ]
    },
    {
     "name": "stdout",
     "output_type": "stream",
     "text": [
      "Faithful: 1\n",
      "Detail: 1\n",
      "Overall: 5\n",
      "Test Question: What album did the song of which Taylor Swift premiered the music video of during the pre-show of the 2015 MTV Video Music Awards come from?\n",
      "Predicted Answer: The song \"Wildest Dreams\" comes from Taylor Swift's album \"1989.\"\n"
     ]
    },
    {
     "name": "stderr",
     "output_type": "stream",
     "text": [
      "Average Metric: 63.400000000000006 / 36  (176.1):  72%|████████████████████████████████████████████████████████████████████████████████████▏                                | 36/50 [00:33<00:13,  1.06it/s]"
     ]
    },
    {
     "name": "stdout",
     "output_type": "stream",
     "text": [
      "Faithful: 1\n",
      "Detail: 1\n",
      "Overall: 5\n",
      "Test Question: Which is considered a genus level classification, Apera or Gunnera manicata?\n",
      "Predicted Answer: Gunnera manicata\n"
     ]
    },
    {
     "name": "stderr",
     "output_type": "stream",
     "text": [
      "Average Metric: 65.4 / 37  (176.8):  74%|████████████████████████████████████████████████████████████████████████████████████████████████▉                                  | 37/50 [00:34<00:12,  1.05it/s]"
     ]
    },
    {
     "name": "stdout",
     "output_type": "stream",
     "text": [
      "Faithful: 1\n",
      "Detail: 3\n",
      "Overall: 5\n",
      "Test Question: Do The Drums and Pussy Galore play music of similar genres?\n",
      "Predicted Answer: The Drums and Pussy Galore do not play music of similar genres. The Drums are known for their indie pop and post-punk revival sound, while Pussy Galore is a noise rock and punk blues band.\n"
     ]
    },
    {
     "name": "stderr",
     "output_type": "stream",
     "text": [
      "Average Metric: 69.2 / 38  (182.1):  76%|███████████████████████████████████████████████████████████████████████████████████████████████████▌                               | 38/50 [00:35<00:11,  1.08it/s]"
     ]
    },
    {
     "name": "stdout",
     "output_type": "stream",
     "text": [
      "Faithful: 5\n",
      "Detail: 4\n",
      "Overall: 5\n",
      "Test Question: What is the post-nominal abbreviation for the university where the Banded Mongoose Research Project is based?\n",
      "Predicted Answer: The post-nominal abbreviation for the university where the Banded Mongoose Research Project is based is not provided in the given context.\n"
     ]
    },
    {
     "name": "stderr",
     "output_type": "stream",
     "text": [
      "Average Metric: 71.2 / 39  (182.6):  78%|██████████████████████████████████████████████████████████████████████████████████████████████████████▏                            | 39/50 [00:36<00:10,  1.05it/s]"
     ]
    },
    {
     "name": "stdout",
     "output_type": "stream",
     "text": [
      "Faithful: 1\n",
      "Detail: 3\n",
      "Overall: 5\n",
      "Test Question: Are both Benjamin Christensen and Len Wiseman directors?\n",
      "Predicted Answer: No, only Len Wiseman is mentioned in the context as a director. Benjamin Christensen is not mentioned in the context provided.\n"
     ]
    },
    {
     "name": "stderr",
     "output_type": "stream",
     "text": [
      "Average Metric: 73.2 / 40  (183.0):  80%|████████████████████████████████████████████████████████████████████████████████████████████████████████▊                          | 40/50 [00:37<00:09,  1.04it/s]"
     ]
    },
    {
     "name": "stdout",
     "output_type": "stream",
     "text": [
      "Faithful: 2\n",
      "Detail: 1\n",
      "Overall: 5\n",
      "Test Question: Steven Cuitlahuac Melendez and Disney are connected by what American animator?\n",
      "Predicted Answer: The American animator connected to Steven Cuitlahuac Melendez and Disney is Ub Iwerks.\n"
     ]
    },
    {
     "name": "stderr",
     "output_type": "stream",
     "text": [
      "Average Metric: 75.0 / 41  (182.9):  82%|███████████████████████████████████████████████████████████████████████████████████████████████████████████▍                       | 41/50 [00:38<00:09,  1.07s/it]"
     ]
    },
    {
     "name": "stdout",
     "output_type": "stream",
     "text": [
      "Faithful: 1\n",
      "Detail: 2\n",
      "Overall: 5\n",
      "Test Question: Shark Creek is located on this river which is in the northern rivers district?\n",
      "Predicted Answer: The river in the northern rivers district where Shark Creek is located is the Clarence River.\n"
     ]
    },
    {
     "name": "stderr",
     "output_type": "stream",
     "text": [
      "Average Metric: 77.2 / 42  (183.8):  84%|██████████████████████████████████████████████████████████████████████████████████████████████████████████████                     | 42/50 [00:39<00:08,  1.03s/it]"
     ]
    },
    {
     "name": "stdout",
     "output_type": "stream",
     "text": [
      "Faithful: 2\n",
      "Detail: 2\n",
      "Overall: 5\n",
      "Test Question: Who was the producer of the 2016 animated film about an amnesiac fish?\n",
      "Predicted Answer: The producer of the 2016 animated film about an amnesiac fish is Pixar Animation Studios.\n"
     ]
    },
    {
     "name": "stderr",
     "output_type": "stream",
     "text": [
      "Average Metric: 78.2 / 43  (181.9):  86%|████████████████████████████████████████████████████████████████████████████████████████████████████████████████▋                  | 43/50 [00:40<00:06,  1.02it/s]"
     ]
    },
    {
     "name": "stdout",
     "output_type": "stream",
     "text": [
      "Faithful: 1\n",
      "Detail: 2\n",
      "Overall: 1\n",
      "Test Question: Who purchased the team Michael Schumacher raced for in the 1995 Monaco Grand Prix in 2000?\n",
      "Predicted Answer: Fiat\n"
     ]
    },
    {
     "name": "stderr",
     "output_type": "stream",
     "text": [
      "Average Metric: 79.8 / 44  (181.4):  88%|███████████████████████████████████████████████████████████████████████████████████████████████████████████████████▎               | 44/50 [00:41<00:06,  1.01s/it]"
     ]
    },
    {
     "name": "stdout",
     "output_type": "stream",
     "text": [
      "Faithful: 1\n",
      "Detail: 1\n",
      "Overall: 5\n",
      "Test Question: Fredrick Law Olmsted was an American landscape architect, journalist, social critic and public administrator that designed what neighborhood in Trenton, New Jersey?\n",
      "Predicted Answer: Olmsted designed the neighborhood of Cadwalader Heights in Trenton, New Jersey.\n"
     ]
    },
    {
     "name": "stderr",
     "output_type": "stream",
     "text": [
      "Average Metric: 81.6 / 45  (181.3):  90%|█████████████████████████████████████████████████████████████████████████████████████████████████████████████████████▉             | 45/50 [00:42<00:04,  1.00it/s]"
     ]
    },
    {
     "name": "stdout",
     "output_type": "stream",
     "text": [
      "Faithful: 1\n",
      "Detail: 2\n",
      "Overall: 5\n",
      "Test Question: Gordon Warnecke worked alongside the former senator for which political party on Young Toscanini?\n",
      "Predicted Answer: Gordon Warnecke worked alongside the former senator for the Democratic Party on Young Toscanini.\n"
     ]
    },
    {
     "name": "stderr",
     "output_type": "stream",
     "text": [
      "Average Metric: 82.39999999999999 / 46  (179.1):  92%|████████████████████████████████████████████████████████████████████████████████████████████████████████████▌         | 46/50 [00:43<00:03,  1.02it/s]"
     ]
    },
    {
     "name": "stdout",
     "output_type": "stream",
     "text": [
      "Faithful: 1\n",
      "Detail: 1\n",
      "Overall: 1\n",
      "Test Question: André Zucca was a French photographer who worked with a German propaganda magazine published by what Nazi organization?\n",
      "Predicted Answer: Ministry of Public Enlightenment and Propaganda\n"
     ]
    },
    {
     "name": "stderr",
     "output_type": "stream",
     "text": [
      "Average Metric: 83.99999999999999 / 47  (178.7):  94%|██████████████████████████████████████████████████████████████████████████████████████████████████████████████▉       | 47/50 [00:44<00:02,  1.08it/s]"
     ]
    },
    {
     "name": "stdout",
     "output_type": "stream",
     "text": [
      "Faithful: 1\n",
      "Detail: 1\n",
      "Overall: 5\n",
      "Test Question: Both Bill Ponsford and Bill Woodfull played what?\n",
      "Predicted Answer: Both Bill Ponsford and Bill Woodfull played cricket.\n"
     ]
    },
    {
     "name": "stderr",
     "output_type": "stream",
     "text": [
      "Average Metric: 85.59999999999998 / 48  (178.3):  96%|█████████████████████████████████████████████████████████████████████████████████████████████████████████████████▎    | 48/50 [00:45<00:01,  1.09it/s]"
     ]
    },
    {
     "name": "stdout",
     "output_type": "stream",
     "text": [
      "Faithful: 1\n",
      "Detail: 1\n",
      "Overall: 5\n",
      "Test Question:  Suzana S. Drobnjaković Ponti acted in a film loosely based on a book by who?\n",
      "Predicted Answer: Unfortunately, based on the context provided, we cannot determine the answer to this question.\n"
     ]
    },
    {
     "name": "stderr",
     "output_type": "stream",
     "text": [
      "Average Metric: 88.39999999999998 / 49  (180.4):  98%|███████████████████████████████████████████████████████████████████████████████████████████████████████████████████▋  | 49/50 [00:46<00:00,  1.10it/s]"
     ]
    },
    {
     "name": "stdout",
     "output_type": "stream",
     "text": [
      "Faithful: 4\n",
      "Detail: 1\n",
      "Overall: 5\n",
      "Test Question: In what city was the Election Law Journal founded?\n",
      "Predicted Answer: Amsterdam\n"
     ]
    },
    {
     "name": "stderr",
     "output_type": "stream",
     "text": [
      "Average Metric: 91.59999999999998 / 50  (183.2): 100%|██████████████████████████████████████████████████████████████████████████████████████████████████████████████████████| 50/50 [00:47<00:00,  1.06it/s]"
     ]
    },
    {
     "name": "stdout",
     "output_type": "stream",
     "text": [
      "Faithful: 5\n",
      "Detail: 1\n",
      "Overall: 5\n",
      "Average Metric: 91.59999999999998 / 50  (183.2%)\n"
     ]
    },
    {
     "name": "stderr",
     "output_type": "stream",
     "text": [
      "\n",
      "/Users/derrickmwiti/.env/lib/python3.11/site-packages/dspy/evaluate/evaluate.py:266: FutureWarning: Setting an item of incompatible dtype is deprecated and will raise in a future error of pandas. Value '['1.8' '1.6' '0.8' '2.2' '0.8']' has dtype incompatible with float64, please explicitly cast to a compatible dtype first.\n",
      "  df.loc[:, metric_name] = df[metric_name].apply(\n"
     ]
    },
    {
     "data": {
      "text/html": [
       "<style type=\"text/css\">\n",
       "#T_c9e13 th {\n",
       "  text-align: left;\n",
       "}\n",
       "#T_c9e13 td {\n",
       "  text-align: left;\n",
       "}\n",
       "#T_c9e13_row0_col0, #T_c9e13_row0_col1, #T_c9e13_row0_col2, #T_c9e13_row0_col3, #T_c9e13_row0_col4, #T_c9e13_row0_col5, #T_c9e13_row1_col0, #T_c9e13_row1_col1, #T_c9e13_row1_col2, #T_c9e13_row1_col3, #T_c9e13_row1_col4, #T_c9e13_row1_col5, #T_c9e13_row2_col0, #T_c9e13_row2_col1, #T_c9e13_row2_col2, #T_c9e13_row2_col3, #T_c9e13_row2_col4, #T_c9e13_row2_col5, #T_c9e13_row3_col0, #T_c9e13_row3_col1, #T_c9e13_row3_col2, #T_c9e13_row3_col3, #T_c9e13_row3_col4, #T_c9e13_row3_col5, #T_c9e13_row4_col0, #T_c9e13_row4_col1, #T_c9e13_row4_col2, #T_c9e13_row4_col3, #T_c9e13_row4_col4, #T_c9e13_row4_col5 {\n",
       "  text-align: left;\n",
       "  white-space: pre-wrap;\n",
       "  word-wrap: break-word;\n",
       "  max-width: 400px;\n",
       "}\n",
       "</style>\n",
       "<table id=\"T_c9e13\">\n",
       "  <thead>\n",
       "    <tr>\n",
       "      <th class=\"blank level0\" >&nbsp;</th>\n",
       "      <th id=\"T_c9e13_level0_col0\" class=\"col_heading level0 col0\" >question</th>\n",
       "      <th id=\"T_c9e13_level0_col1\" class=\"col_heading level0 col1\" >example_answer</th>\n",
       "      <th id=\"T_c9e13_level0_col2\" class=\"col_heading level0 col2\" >gold_titles</th>\n",
       "      <th id=\"T_c9e13_level0_col3\" class=\"col_heading level0 col3\" >context</th>\n",
       "      <th id=\"T_c9e13_level0_col4\" class=\"col_heading level0 col4\" >pred_answer</th>\n",
       "      <th id=\"T_c9e13_level0_col5\" class=\"col_heading level0 col5\" >llm_metric</th>\n",
       "    </tr>\n",
       "  </thead>\n",
       "  <tbody>\n",
       "    <tr>\n",
       "      <th id=\"T_c9e13_level0_row0\" class=\"row_heading level0 row0\" >0</th>\n",
       "      <td id=\"T_c9e13_row0_col0\" class=\"data row0 col0\" >Are both Cangzhou and Qionghai in the Hebei province of China?</td>\n",
       "      <td id=\"T_c9e13_row0_col1\" class=\"data row0 col1\" >no</td>\n",
       "      <td id=\"T_c9e13_row0_col2\" class=\"data row0 col2\" >{'Cangzhou', 'Qionghai'}</td>\n",
       "      <td id=\"T_c9e13_row0_col3\" class=\"data row0 col3\" >['Table\\n* indicates \"Cities of COUNTRY or TERRITORY\" links.\\nCountry (or territory)\\tCapital\\tPopulation\\t% of country\\tSource\\n China\\u202f*\\tBeijing\\t21,542,000\\t1.5%\\t[1] 2018\\n Japan\\u202f*\\tTokyo\\t14,094,034\\t11.3%\\t[2] 2023\\n Russia\\u202f*\\tMoscow\\t13,104,177\\t9.0%\\t[3] 2023\\n DR Congo\\u202f*\\tKinshasa\\t12,691,000\\t13.2%\\t[4] 2017\\n Indonesia\\u202f*\\tJakarta\\t10,562,088\\t3.9%\\t[5] 2020\\n Egypt\\u202f*\\tCairo\\t10,107,125\\t9.3%\\t[6] 2022\\n...</td>\n",
       "      <td id=\"T_c9e13_row0_col4\" class=\"data row0 col4\" >No</td>\n",
       "      <td id=\"T_c9e13_row0_col5\" class=\"data row0 col5\" >1.8</td>\n",
       "    </tr>\n",
       "    <tr>\n",
       "      <th id=\"T_c9e13_level0_row1\" class=\"row_heading level0 row1\" >1</th>\n",
       "      <td id=\"T_c9e13_row1_col0\" class=\"data row1 col0\" >Who conducts the draft in which Marc-Andre Fleury was drafted to the Vegas Golden Knights for the 2017-18 season?</td>\n",
       "      <td id=\"T_c9e13_row1_col1\" class=\"data row1 col1\" >National Hockey League</td>\n",
       "      <td id=\"T_c9e13_row1_col2\" class=\"data row1 col2\" >{'2017–18 Pittsburgh Penguins season', '2017 NHL Expansion Draft'}</td>\n",
       "      <td id=\"T_c9e13_row1_col3\" class=\"data row1 col3\" >['Amsterdam holds two American football franchises: the Amsterdam Crusaders and the Amsterdam Panthers. The Amsterdam Pirates baseball team competes in the Dutch Major League. There...</td>\n",
       "      <td id=\"T_c9e13_row1_col4\" class=\"data row1 col4\" >The National Hockey League (NHL) conducted the draft in which Marc-Andre Fleury was drafted to the Vegas Golden Knights for the 2017-18 season.</td>\n",
       "      <td id=\"T_c9e13_row1_col5\" class=\"data row1 col5\" >1.6</td>\n",
       "    </tr>\n",
       "    <tr>\n",
       "      <th id=\"T_c9e13_level0_row2\" class=\"row_heading level0 row2\" >2</th>\n",
       "      <td id=\"T_c9e13_row2_col0\" class=\"data row2 col0\" >The Wings entered a new era, following the retirement of which Canadian retired professional ice hockey player and current general manager of the Tampa Bay...</td>\n",
       "      <td id=\"T_c9e13_row2_col1\" class=\"data row2 col1\" >Steve Yzerman</td>\n",
       "      <td id=\"T_c9e13_row2_col2\" class=\"data row2 col2\" >{'Steve Yzerman', '2006–07 Detroit Red Wings season'}</td>\n",
       "      <td id=\"T_c9e13_row2_col3\" class=\"data row2 col3\" >['city was finally liberated by Canadian forces on 5 May 1945, shortly before the end of the war in Europe.', 'In parallel, the Eastern Question...</td>\n",
       "      <td id=\"T_c9e13_row2_col4\" class=\"data row2 col4\" >Steve Yzerman</td>\n",
       "      <td id=\"T_c9e13_row2_col5\" class=\"data row2 col5\" >0.8</td>\n",
       "    </tr>\n",
       "    <tr>\n",
       "      <th id=\"T_c9e13_level0_row3\" class=\"row_heading level0 row3\" >3</th>\n",
       "      <td id=\"T_c9e13_row3_col0\" class=\"data row3 col0\" >What river is near the Crichton Collegiate Church?</td>\n",
       "      <td id=\"T_c9e13_row3_col1\" class=\"data row3 col1\" >the River Tyne</td>\n",
       "      <td id=\"T_c9e13_row3_col2\" class=\"data row3 col2\" >{'Crichton Castle', 'Crichton Collegiate Church'}</td>\n",
       "      <td id=\"T_c9e13_row3_col3\" class=\"data row3 col3\" >['By the mid-19th century, there were three main conventions, one following the Don, the Volga–Don Canal and the Volga, the other following the Kuma–Manych Depression...</td>\n",
       "      <td id=\"T_c9e13_row3_col4\" class=\"data row3 col4\" >The information provided does not specify the river near the Crichton Collegiate Church.</td>\n",
       "      <td id=\"T_c9e13_row3_col5\" class=\"data row3 col5\" >2.2</td>\n",
       "    </tr>\n",
       "    <tr>\n",
       "      <th id=\"T_c9e13_level0_row4\" class=\"row_heading level0 row4\" >4</th>\n",
       "      <td id=\"T_c9e13_row4_col0\" class=\"data row4 col0\" >In the 10th Century A.D. Ealhswith had a son called Æthelweard by which English king?</td>\n",
       "      <td id=\"T_c9e13_row4_col1\" class=\"data row4 col1\" >King Alfred the Great</td>\n",
       "      <td id=\"T_c9e13_row4_col2\" class=\"data row4 col2\" >{'Ealhswith', 'Æthelweard (son of Alfred)'}</td>\n",
       "      <td id=\"T_c9e13_row4_col3\" class=\"data row4 col3\" >['During the Dark Ages, the Western Roman Empire fell under the control of various tribes. The Germanic and Slav tribes established their domains over Western...</td>\n",
       "      <td id=\"T_c9e13_row4_col4\" class=\"data row4 col4\" >King Alfred the Great</td>\n",
       "      <td id=\"T_c9e13_row4_col5\" class=\"data row4 col5\" >0.8</td>\n",
       "    </tr>\n",
       "  </tbody>\n",
       "</table>\n"
      ],
      "text/plain": [
       "<pandas.io.formats.style.Styler at 0x30d2e8310>"
      ]
     },
     "metadata": {},
     "output_type": "display_data"
    },
    {
     "data": {
      "text/html": [
       "\n",
       "                <div style='\n",
       "                    text-align: center;\n",
       "                    font-size: 16px;\n",
       "                    font-weight: bold;\n",
       "                    color: #555;\n",
       "                    margin: 10px 0;'>\n",
       "                    ... 45 more rows not displayed ...\n",
       "                </div>\n",
       "                "
      ],
      "text/plain": [
       "<IPython.core.display.HTML object>"
      ]
     },
     "metadata": {},
     "output_type": "display_data"
    },
    {
     "data": {
      "text/plain": [
       "183.2"
      ]
     },
     "execution_count": 59,
     "metadata": {},
     "output_type": "execute_result"
    }
   ],
   "source": [
    "evaluate(third_compiled_rag, metric=llm_metric)\n"
   ]
  },
  {
   "cell_type": "code",
   "execution_count": null,
   "id": "3927ee39-41a9-4a9b-8515-0d08a843d408",
   "metadata": {},
   "outputs": [],
   "source": []
  },
  {
   "cell_type": "code",
   "execution_count": null,
   "id": "404e611a-c8d6-4987-944e-e39ebdf6fd69",
   "metadata": {},
   "outputs": [],
   "source": []
  }
 ],
 "metadata": {
  "kernelspec": {
   "display_name": "Python 3 (ipykernel)",
   "language": "python",
   "name": "python3"
  },
  "language_info": {
   "codemirror_mode": {
    "name": "ipython",
    "version": 3
   },
   "file_extension": ".py",
   "mimetype": "text/x-python",
   "name": "python",
   "nbconvert_exporter": "python",
   "pygments_lexer": "ipython3",
   "version": "3.11.5"
  }
 },
 "nbformat": 4,
 "nbformat_minor": 5
}
